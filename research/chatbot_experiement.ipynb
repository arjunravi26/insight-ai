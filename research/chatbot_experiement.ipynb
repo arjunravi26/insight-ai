{
  "cells": [
    {
      "cell_type": "markdown",
      "metadata": {
        "id": "7kJbQ1zvDtbj"
      },
      "source": [
        "# Chatbot for AI-Related Queries"
      ]
    },
    {
      "cell_type": "markdown",
      "metadata": {
        "id": "DBdRwBUuCM_I"
      },
      "source": [
        "## Install Libraries"
      ]
    },
    {
      "cell_type": "markdown",
      "metadata": {
        "id": "h1RV6iH5E8R6"
      },
      "source": [
        "Install dependancies"
      ]
    },
    {
      "cell_type": "code",
      "execution_count": 3,
      "metadata": {
        "colab": {
          "base_uri": "https://localhost:8080/"
        },
        "id": "Dqz-bPfvFvIS",
        "outputId": "c3588893-564b-4d7a-9e2a-2245522494cd"
      },
      "outputs": [
        {
          "name": "stdout",
          "output_type": "stream",
          "text": [
            "^C\n"
          ]
        }
      ],
      "source": [
        "! pip install langchain_community \\\n",
        "llama-cpp-python \\\n",
        "datasets \\\n",
        "pinecone-client \\\n",
        "huggingface_hub \\\n",
        "gpt4all \\\n",
        "langchain-pinecone \\\n",
        "streamlit \\\n",
        "sentence-transformers \\\n",
        "langchain_huggingface \\\n",
        "langchain-pinecone \\\n",
        "nltk \\\n",
        "spacy \\\n",
        "transformers \\\n",
        "pypdf \\\n",
        "pyMuPDF \\\n",
        "pymupdf4llm \\\n",
        "langchain_google_genai"
      ]
    },
    {
      "cell_type": "markdown",
      "metadata": {
        "id": "2LhdG01eCQhF"
      },
      "source": [
        "## Import Libraries"
      ]
    },
    {
      "cell_type": "markdown",
      "metadata": {
        "id": "KqqWl9tBEzzj"
      },
      "source": [
        "Import Libraries"
      ]
    },
    {
      "cell_type": "code",
      "execution_count": 1,
      "metadata": {
        "id": "I-eVpirQE7A3"
      },
      "outputs": [
        {
          "name": "stderr",
          "output_type": "stream",
          "text": [
            "d:\\BroCamp\\Projects\\Chatbot-ai\\venv\\Lib\\site-packages\\tqdm\\auto.py:21: TqdmWarning: IProgress not found. Please update jupyter and ipywidgets. See https://ipywidgets.readthedocs.io/en/stable/user_install.html\n",
            "  from .autonotebook import tqdm as notebook_tqdm\n"
          ]
        }
      ],
      "source": [
        "import os\n",
        "import re\n",
        "import time\n",
        "import spacy\n",
        "import logging\n",
        "import pandas as pd\n",
        "\n",
        "\n",
        "from datasets import load_dataset\n",
        "from pinecone import Pinecone, ServerlessSpec\n",
        "from tqdm import tqdm\n",
        "from langchain_huggingface.llms import HuggingFaceEndpoint\n",
        "from langchain_huggingface.embeddings import HuggingFaceEmbeddings\n",
        "from langchain_community.embeddings import GPT4AllEmbeddings\n",
        "from langchain_pinecone.vectorstores import PineconeVectorStore\n",
        "from langchain_core.prompts import PromptTemplate\n",
        "from langchain_community.document_loaders import PyPDFDirectoryLoader\n",
        "from transformers import AutoTokenizer\n",
        "from langchain_core.prompts import PromptTemplate\n",
        "from langchain_google_genai import ChatGoogleGenerativeAI"
      ]
    },
    {
      "cell_type": "code",
      "execution_count": null,
      "metadata": {
        "colab": {
          "base_uri": "https://localhost:8080/"
        },
        "id": "mTu1-Gs08g7w",
        "outputId": "d4945042-2c8e-42ba-eb78-d85dc7cb455b"
      },
      "outputs": [
        {
          "name": "stderr",
          "output_type": "stream",
          "text": [
            "[nltk_data] Downloading package punkt_tab to /root/nltk_data...\n",
            "[nltk_data]   Unzipping tokenizers/punkt_tab.zip.\n"
          ]
        },
        {
          "data": {
            "text/plain": [
              "True"
            ]
          },
          "execution_count": 8,
          "metadata": {},
          "output_type": "execute_result"
        }
      ],
      "source": [
        "nltk.download('punkt_tab')"
      ]
    },
    {
      "cell_type": "markdown",
      "metadata": {
        "id": "UGUhZfWUfzDH"
      },
      "source": [
        "API"
      ]
    },
    {
      "cell_type": "code",
      "execution_count": null,
      "metadata": {
        "id": "4MMsD3IbftDu"
      },
      "outputs": [],
      "source": [
        "os.environ['HUGGINGFACEHUB_API_TOKEN'] = os.getenv('HUGGINGFACEHUB_API_TOKEN')\n",
        "os.environ[\"GOOGLE_API_KEY\"] = os.getenv('GOOGLE_API_KEY')\n",
        "os.environ['PINECONE_API'] = os.getenv('PINECONE_API')"
      ]
    },
    {
      "cell_type": "markdown",
      "metadata": {
        "id": "2AqE0atzD4UB"
      },
      "source": [
        "**Steps**\n",
        "\n",
        "* Data Loading\n",
        "* Data cleaning and intergration\n",
        "* Create vector database\n",
        "* Create embedding model\n",
        "* Vectorize data\n",
        "* Insert data into vector db\n",
        "* Create UI\n",
        "* Test"
      ]
    },
    {
      "cell_type": "markdown",
      "metadata": {
        "id": "mBje9nTH9ZK4"
      },
      "source": [
        "## **Load Data**"
      ]
    },
    {
      "cell_type": "markdown",
      "metadata": {
        "id": "UOvw6BB-8iun"
      },
      "source": [
        "**Load arxiv paper dataset from huggingface**"
      ]
    },
    {
      "cell_type": "code",
      "execution_count": null,
      "metadata": {
        "colab": {
          "base_uri": "https://localhost:8080/",
          "height": 0,
          "referenced_widgets": [
            "8c1f7bfbdb8a44d083dfe24cb47c1155",
            "968278e7811743aa8026a67150f024d1",
            "24940730bd3c41efacab9852f96b3d8d",
            "3eebdefaec624e1b9ef8fd50acf0491e",
            "08000de8a78e493bb4cd6678e1ee767a",
            "bcd346f0f55d418c85611430cd7344ad",
            "07608f37a6a242fe862068190510962c",
            "5251b0302e42471680c67dbe7d870f1e",
            "bd88b4ea9a3f4208aa17be37763fd737",
            "99b29b58dc0c41c681a9de7ae64ca981",
            "ea877ff553464116b914a357ec42857e",
            "11965e11b8b3464083bd97eb9668c3ba",
            "ff6c37ebf7814e14abce4209a4b078f3",
            "4eace52798b54935a29652a2248398e5",
            "10641d468c6c4bf7ad4543d3697b1c1a",
            "0afab7d0a2134068aaa862344952960e",
            "cd291e9d30054dcfa173fccd6d7a403f",
            "cc584e2558564eeebcdb6822802f832d",
            "e935b0fd06774d31bf2271779fd0c001",
            "9dae29b862ef4891a66f17ccc9f51d3e",
            "20292431656f4e4b870b548e5af9d453",
            "a0fb0f6841ba47f0bef9e05e390ebfac",
            "d9df3cfed1a542869bbbe95f800ba077",
            "278a8ab9981c4ef7936072bade6701be",
            "e58d1375cc1e4883a04defe7d6818c17",
            "30fd02de56b04257aef5a73fa24d633d",
            "f1e5c3908ccd444f805bc3b4ad124606",
            "ba1afd231aa64b07b7e830133c03068d",
            "4538498c07514f4b9bcab75240194784",
            "72ad846043da4882a6bfdbbd2d924f6f",
            "f52ce2909cb6406f93f8bd9c988d146f",
            "2049fa6c32644026b1275d7e5cfe8975",
            "8a0fa1f92a21496a9eb6c76e0e6a04ad"
          ]
        },
        "id": "POOaOEbbDqSX",
        "outputId": "de57cd83-be4e-45f2-fd2b-847dc6756268"
      },
      "outputs": [],
      "source": [
        "dataset_name = \"jamescalam/llama-2-arxiv-papers-chunked\"\n",
        "data = load_dataset(path=dataset_name, split=\"train\")\n",
        "data"
      ]
    },
    {
      "cell_type": "markdown",
      "metadata": {
        "id": "ySj6hGNeCq4T"
      },
      "source": [
        "Convert data into pandas dataframe"
      ]
    },
    {
      "cell_type": "code",
      "execution_count": null,
      "metadata": {
        "colab": {
          "base_uri": "https://localhost:8080/",
          "height": 0
        },
        "id": "ORqtWroRTWlk",
        "outputId": "d5d4bd60-4073-4895-b74a-cc82d6c85f50"
      },
      "outputs": [],
      "source": [
        "documents = data.to_pandas()\n",
        "documents.head(2)"
      ]
    },
    {
      "cell_type": "code",
      "execution_count": null,
      "metadata": {
        "colab": {
          "base_uri": "https://localhost:8080/"
        },
        "id": "6srtTwuDTZA9",
        "outputId": "bc4d4e91-fd27-40c1-8b39-e26bc61d4b2d"
      },
      "outputs": [
        {
          "data": {
            "text/plain": [
              "(4838, 15)"
            ]
          },
          "execution_count": 12,
          "metadata": {},
          "output_type": "execute_result"
        }
      ],
      "source": [
        "documents.shape"
      ]
    },
    {
      "cell_type": "markdown",
      "metadata": {
        "id": "hJXoIktS8su0"
      },
      "source": [
        "**Load AI modern approach book pdf**"
      ]
    },
    {
      "cell_type": "code",
      "execution_count": 2,
      "metadata": {
        "colab": {
          "base_uri": "https://localhost:8080/"
        },
        "id": "zsp44aSErasC",
        "outputId": "3a07ae63-d3bb-4f61-97fb-dba082df9be2"
      },
      "outputs": [
        {
          "name": "stderr",
          "output_type": "stream",
          "text": [
            "Impossible to decode XFormObject /Im10: Invalid Elementary Object starting with b'$' @348034: b' 3>>\\nID x\\x9c\\x9d\\x92\\x8bn\\x830\\x0cEI $\\xbc[\\xfa\\xff\\x9fX\\x1e\\x01J\\x02\\x81\\xec\\xb2hl \\xa6MuU\\xc9J.\\xc7\\xd7\\x8e\\x89\\xb5\\xd6\\xfb\\x8aeYd\\xd7\\xce\\xf3\\x8c\\x9c\\x10\\xc2C\\xfc8\\xfe\\xc8\\x9d\\x00bc\\xcc4i=i$\\x9f2\\x9a'\n"
          ]
        }
      ],
      "source": [
        "pdf_loader = PyPDFDirectoryLoader(\"../Data/\")\n",
        "pdf_documents = pdf_loader.load()"
      ]
    },
    {
      "cell_type": "code",
      "execution_count": 3,
      "metadata": {
        "colab": {
          "base_uri": "https://localhost:8080/"
        },
        "id": "HlBgKx8HsOyZ",
        "outputId": "f6d3c566-7753-48ac-cfae-be71c89a1a87"
      },
      "outputs": [
        {
          "data": {
            "text/plain": [
              "1166"
            ]
          },
          "execution_count": 3,
          "metadata": {},
          "output_type": "execute_result"
        }
      ],
      "source": [
        "len(pdf_documents)"
      ]
    },
    {
      "cell_type": "code",
      "execution_count": 4,
      "metadata": {
        "colab": {
          "base_uri": "https://localhost:8080/"
        },
        "id": "mjmj3bwmtwKu",
        "outputId": "173fbc96-51df-49b2-b520-c1aba94836d5"
      },
      "outputs": [
        {
          "data": {
            "text/plain": [
              "Document(metadata={'producer': 'MiKTeX pdfTeX-1.40.20', 'creator': 'TeX', 'creationdate': '2021-03-27T18:10:43+05:30', 'author': 'Stuart Russell / Peter Norvig', 'ebx_publisher': 'Pearson Education, Limited', 'moddate': '2023-02-10T15:33:02+04:00', 'title': 'Artificial Intelligence: A Modern Approach, Global Edition, 4ed', 'source': '..\\\\Data\\\\ai_modern_approach_4_edi.pdf', 'total_pages': 1166, 'page': 100, 'page_label': '101'}, page_content='Section 3.4 Uninformed Search Strategies 101\\nfunction BIBF-S EARCH (problemF , fF , problemB, fB) returns a solution node, or failure\\nnodeF ←NODE (problemF .INITIAL ) // Node for a start state\\nnodeB ←NODE (problemB.INITIAL ) // Node for a goal state\\nfrontierF ←a priority queue ordered by fF , with nodeF as an element\\nfrontierB ←a priority queue ordered by fB, with nodeB as an element\\nreachedF ←a lookup table, with one key nodeF .STATE and value nodeF\\nreachedB ←a lookup table, with one key nodeB.STATE and value nodeB\\nsolution←failure\\nwhile not TERMINATED (solution, frontierF , frontierB) do\\nif fF (TOP(frontierF )) < fB(TOP(frontierB)) then\\nsolution←PROCEED (F, problemF , frontierF , reachedF , reachedB, solution)\\nelse solution←PROCEED (B, problemB, frontierB, reachedB, reachedF , solution)\\nreturn solution\\nfunction PROCEED (dir, problem, frontier, reached, reached2, solution) returns a solution\\n// Expand node on frontier; check against the other frontier in reached2.\\n// The variable “dir” is the direction: either F for forward or B for backward.\\nnode←POP(frontier)\\nfor each child in EXPAND (problem, node) do\\ns←child.STATE\\nif s not in reached or PATH-COST (child) <PATH-COST (reached[s]) then\\nreached[s]←child\\nadd child to frontier\\nif s is in reached2 then\\nsolution2 ←JOIN -NODES (dir, child, reached2[s]))\\nif PATH-COST (solution2) <PATH-COST (solution) then\\nsolution←solution2\\nreturn solution\\nFigure 3.14 Bidirectional best-ﬁrst search keeps two frontiers and two tables of reached\\nstates. When a path in one frontier reaches a state that was also reached in the other half of\\nthe search, the two paths are joined (by the function J OIN -NODES ) to form a solution. The\\nﬁrst solution we get is not guaranteed to be the best; the function T ERMINATED determines\\nwhen to stop looking for new solutions.\\nFor this to work, we need to keep track of two frontiers and two tables of reached states,\\nand we need to be able to reason backwards: if state s′ is a successor of s in the forward\\ndirection, then we need to know that s is a successor of s′in the backward direction. We have\\na solution when the two frontiers collide.9\\nThere are many different versions of bidirectional search, just as there are many different\\nunidirectional search algorithms. In this section, we describe bidirectional best-ﬁrst search.\\nAlthough there are two separate frontiers, the node to be expanded next is always one with\\na minimum value of the evaluation function, across either frontier. When the evaluation\\n9 In our implementation, the reached data structure supports a query asking whether a given state is a member,\\nand the frontier data structure (a priority queue) does not, so we check for a collision using reached; but concep-\\ntually we are asking if the two frontiers have met up. The implementation can be extended to handle multiple\\ngoal states by loading the node for each goal state into the backwards frontier and backwards reached table.')"
            ]
          },
          "execution_count": 4,
          "metadata": {},
          "output_type": "execute_result"
        }
      ],
      "source": [
        "pdf_documents[100]"
      ]
    },
    {
      "cell_type": "code",
      "execution_count": 5,
      "metadata": {
        "id": "e7N83stZtEHH"
      },
      "outputs": [],
      "source": [
        "book_df = pd.DataFrame([{'source':doc.metadata['source'],'page_label':doc.metadata['page_label'],'text':doc.page_content}for doc in pdf_documents[19:1073]])"
      ]
    },
    {
      "cell_type": "code",
      "execution_count": 6,
      "metadata": {
        "colab": {
          "base_uri": "https://localhost:8080/",
          "height": 0
        },
        "id": "rU06i0fcujX-",
        "outputId": "34dd47d1-ccbf-42a9-ffe3-a49872a76db1"
      },
      "outputs": [
        {
          "data": {
            "application/vnd.microsoft.datawrangler.viewer.v0+json": {
              "columns": [
                {
                  "name": "index",
                  "rawType": "int64",
                  "type": "integer"
                },
                {
                  "name": "source",
                  "rawType": "object",
                  "type": "string"
                },
                {
                  "name": "page_label",
                  "rawType": "object",
                  "type": "string"
                },
                {
                  "name": "text",
                  "rawType": "object",
                  "type": "string"
                }
              ],
              "conversionMethod": "pd.DataFrame",
              "ref": "8f5c80fe-947a-443e-817f-22171107c52c",
              "rows": [
                [
                  "0",
                  "..\\Data\\ai_modern_approach_4_edi.pdf",
                  "20",
                  "20 Chapter 1 Introduction\nfour. The methods used are necessarily different: the pursuit of human-like intelligence must\nbe in part an empirical science related to psychology, involving observations and hypotheses\nabout actual human behavior and thought processes; a rationalist approach, on the other hand,\ninvolves a combination of mathematics and engineering, and connects to statistics, control\ntheory, and economics. The various groups have both disparaged and helped each other. Let\nus look at the four approaches in more detail.\n1.1.1 Acting humanly: The Turing test approach\nThe Turing test, proposed by Alan Turing (1950), was designed as a thought experiment thatTuring test\nwould sidestep the philosophical vagueness of the question “Can a machine think?” A com-\nputer passes the test if a human interrogator, after posing some written questions, cannot tell\nwhether the written responses come from a person or from a computer. Chapter 28 discusses\nthe details of the test and whether a computer would really be intelligent if it passed. For\nnow, we note that programming a computer to pass a rigorously applied test provides plenty\nto work on. The computer would need the following capabilities:\n• natural language processing to communicate successfully in a human language;Natural language\nprocessing\n• knowledge representation to store what it knows or hears;Knowledge\nrepresentation\n• automated reasoning to answer questions and to draw new conclusions;Automated\nreasoning\n• machine learning to adapt to new circumstances and to detect and extrapolate patterns.Machine learning\nTuring viewed thephysical simulation of a person as unnecessary to demonstrate intelligence.\nHowever, other researchers have proposed atotal Turing test, which requires interaction withTotal Turing test\nobjects and people in the real world. To pass the total Turing test, a robot will need\n• computer vision and speech recognition to perceive the world;Computer vision\n• robotics to manipulate objects and move about.Robotics\nThese six disciplines compose most of AI. Yet AI researchers have devoted little effort to\npassing the Turing test, believing that it is more important to study the underlying princi-\nples of intelligence. The quest for “artiﬁcial ﬂight” succeeded when engineers and inventors\nstopped imitating birds and started using wind tunnels and learning about aerodynamics.\nAeronautical engineering texts do not deﬁne the goal of their ﬁeld as making “machines that\nﬂy so exactly like pigeons that they can fool even other pigeons.”\n1.1.2 Thinking humanly: The cognitive modeling approach\nTo say that a program thinks like a human, we must know how humans think. We can learn\nabout human thought in three ways:\n• introspection—trying to catch our own thoughts as they go by;Introspection\n• psychological experiments—observing a person in action;Psychological\nexperiment\n• brain imaging—observing the brain in action.Brain imaging\nOnce we have a sufﬁciently precise theory of the mind, it becomes possible to express the\ntheory as a computer program. If the program’s input–output behavior matches correspond-\ning human behavior, that is evidence that some of the program’s mechanisms could also be\noperating in humans.\nFor example, Allen Newell and Herbert Simon, who developed GPS, the “General Prob-\nlem Solver” (Newell and Simon, 1961), were not content merely to have their program solve"
                ],
                [
                  "1",
                  "..\\Data\\ai_modern_approach_4_edi.pdf",
                  "21",
                  "Section 1.1 What Is AI? 21\nproblems correctly. They were more concerned with comparing the sequence and timing of\nits reasoning steps to those of human subjects solving the same problems. The interdisci-\nplinary ﬁeld of cognitive science brings together computer models from AI and experimental Cognitive science\ntechniques from psychology to construct precise and testable theories of the human mind.\nCognitive science is a fascinating ﬁeld in itself, worthy of several textbooks and at least\none encyclopedia (Wilson and Keil, 1999). We will occasionally comment on similarities or\ndifferences between AI techniques and human cognition. Real cognitive science, however, is\nnecessarily based on experimental investigation of actual humans or animals. We will leave\nthat for other books, as we assume the reader has only a computer for experimentation.\nIn the early days of AI there was often confusion between the approaches. An author\nwould argue that an algorithm performs well on a task and that it is therefore a good model\nof human performance, or vice versa. Modern authors separate the two kinds of claims; this\ndistinction has allowed both AI and cognitive science to develop more rapidly. The two ﬁelds\nfertilize each other, most notably in computer vision, which incorporates neurophysiological\nevidence into computational models. Recently, the combination of neuroimaging methods\ncombined with machine learning techniques for analyzing such data has led to the beginnings\nof a capability to “read minds”—that is, to ascertain the semantic content of a person’s inner\nthoughts. This capability could, in turn, shed further light on how human cognition works.\n1.1.3 Thinking rationally: The “laws of thought” approach\nThe Greek philosopher Aristotle was one of the ﬁrst to attempt to codify “right thinking”—\nthat is, irrefutable reasoning processes. His syllogisms provided patterns for argument struc- Syllogism\ntures that always yielded correct conclusions when given correct premises. The canonical\nexample starts with Socrates is a man and all men are mortal and concludes that Socrates is\nmortal. (This example is probably due to Sextus Empiricus rather than Aristotle.) These laws\nof thought were supposed to govern the operation of the mind; their study initiated the ﬁeld\ncalled logic.\nLogicians in the 19th century developed a precise notation for statements about objects\nin the world and the relations among them. (Contrast this with ordinary arithmetic notation,\nwhich provides only for statements about numbers.) By 1965, programs could, in principle,\nsolve any solvable problem described in logical notation. The so-called logicist tradition Logicist\nwithin artiﬁcial intelligence hopes to build on such programs to create intelligent systems.\nLogic as conventionally understood requires knowledge of the world that is certain—\na condition that, in reality, is seldom achieved. We simply don’t know the rules of, say,\npolitics or warfare in the same way that we know the rules of chess or arithmetic. The theory\nof probability ﬁlls this gap, allowing rigorous reasoning with uncertain information. In Probability\nprinciple, it allows the construction of a comprehensive model of rational thought, leading\nfrom raw perceptual information to an understanding of how the world works to predictions\nabout the future. What it does not do, is generate intelligent behavior. For that, we need a\ntheory of rational action. Rational thought, by itself, is not enough.\n1.1.4 Acting rationally: The rational agent approach\nAn agent is just something that acts ( agent comes from the Latin agere, to do). Of course, Agent\nall computer programs do something, but computer agents are expected to do more: operate\nautonomously, perceive their environment, persist over a prolonged time period, adapt to"
                ],
                [
                  "2",
                  "..\\Data\\ai_modern_approach_4_edi.pdf",
                  "22",
                  "22 Chapter 1 Introduction\nchange, and create and pursue goals. A rational agent is one that acts so as to achieve theRational agent\nbest outcome or, when there is uncertainty, the best expected outcome.\nIn the “laws of thought” approach to AI, the emphasis was on correct inferences. Mak-\ning correct inferences is sometimes part of being a rational agent, because one way to act\nrationally is to deduce that a given action is best and then to act on that conclusion. On the\nother hand, there are ways of acting rationally that cannot be said to involve inference. For\nexample, recoiling from a hot stove is a reﬂex action that is usually more successful than a\nslower action taken after careful deliberation.\nAll the skills needed for the Turing test also allow an agent to act rationally. Knowledge\nrepresentation and reasoning enable agents to reach good decisions. We need to be able to\ngenerate comprehensible sentences in natural language to get by in a complex society. We\nneed learning not only for erudition, but also because it improves our ability to generate\neffective behavior, especially in circumstances that are new.\nThe rational-agent approach to AI has two advantages over the other approaches. First, it\nis more general than the “laws of thought” approach because correct inference is just one of\nseveral possible mechanisms for achieving rationality. Second, it is more amenable to scien-\ntiﬁc development. The standard of rationality is mathematically well deﬁned and completely\ngeneral. We can often work back from this speciﬁcation to derive agent designs that provably\nachieve it—something that is largely impossible if the goal is to imitate human behavior or\nthought processes.\nFor these reasons, the rational-agent approach to AI has prevailed throughout most of\nthe ﬁeld’s history. In the early decades, rational agents were built on logical foundations\nand formed deﬁnite plans to achieve speciﬁc goals. Later, methods based on probability\ntheory and machine learning allowed the creation of agents that could make decisions under\nuncertainty to attain the best expected outcome. In a nutshell, AI has focused on the study▶\nand construction of agents that do the right thing. What counts as the right thing is deﬁnedDo the right thing\nby the objective that we provide to the agent. This general paradigm is so pervasive that we\nmight call it thestandard model. It prevails not only in AI, but also in control theory, where aStandard model\ncontroller minimizes a cost function; in operations research, where a policy maximizes a sum\nof rewards; in statistics, where a decision rule minimizes a loss function; and in economics,\nwhere a decision maker maximizes utility or some measure of social welfare.\nWe need to make one important reﬁnement to the standard model to account for the fact\nthat perfect rationality—always taking the exactly optimal action—is not feasible in complex\nenvironments. The computational demands are just too high. Chapters 6 and 16 deal with the\nissue of limited rationality—acting appropriately when there is not enough time to do allLimited rationality\nthe computations one might like. However, perfect rationality often remains a good starting\npoint for theoretical analysis.\n1.1.5 Beneﬁcial machines\nThe standard model has been a useful guide for AI research since its inception, but it is\nprobably not the right model in the long run. The reason is that the standard model assumes\nthat we will supply a fully speciﬁed objective to the machine.\nFor an artiﬁcially deﬁned task such as chess or shortest-path computation, the task comes\nwith an objective built in—so the standard model is applicable. As we move into the real\nworld, however, it becomes more and more difﬁcult to specify the objective completely and"
                ],
                [
                  "3",
                  "..\\Data\\ai_modern_approach_4_edi.pdf",
                  "23",
                  "Section 1.2 The Foundations of Artiﬁcial Intelligence 23\ncorrectly. For example, in designing a self-driving car, one might think that the objective is\nto reach the destination safely. But driving along any road incurs a risk of injury due to other\nerrant drivers, equipment failure, and so on; thus, a strict goal of safety requires staying in the\ngarage. There is a tradeoff between making progress towards the destination and incurring a\nrisk of injury. How should this tradeoff be made? Furthermore, to what extent can we allow\nthe car to take actions that would annoy other drivers? How much should the car moderate\nits acceleration, steering, and braking to avoid shaking up the passenger? These kinds of\nquestions are difﬁcult to answer a priori. They are particularly problematic in the general\narea of human–robot interaction, of which the self-driving car is one example.\nThe problem of achieving agreement between our true preferences and the objective we\nput into the machine is called thevalue alignment problem: the values or objectives put into Value alignment\nproblem\nthe machine must be aligned with those of the human. If we are developing an AI system in\nthe lab or in a simulator—as has been the case for most of the ﬁeld’s history—there is an easy\nﬁx for an incorrectly speciﬁed objective: reset the system, ﬁx the objective, and try again.\nAs the ﬁeld progresses towards increasingly capable intelligent systems that are deployed\nin the real world, this approach is no longer viable. A system deployed with an incorrect\nobjective will have negative consequences. Moreover, the more intelligent the system, the\nmore negative the consequences.\nReturning to the apparently unproblematic example of chess, consider what happens if\nthe machine is intelligent enough to reason and act beyond the conﬁnes of the chessboard.\nIn that case, it might attempt to increase its chances of winning by such ruses as hypnotiz-\ning or blackmailing its opponent or bribing the audience to make rustling noises during its\nopponent’s thinking time.3 It might also attempt to hijack additional computing power for\nitself. These behaviors are not “unintelligent” or “insane”; they are a logical consequence ◀\nof deﬁning winning as the sole objective for the machine.\nIt is impossible to anticipate all the ways in which a machine pursuing a ﬁxed objective\nmight misbehave. There is good reason, then, to think that the standard model is inadequate.\nWe don’t want machines that are intelligent in the sense of pursuingtheir objectives; we want\nthem to pursue our objectives. If we cannot transfer those objectives perfectly to the machine,\nthen we need a new formulation—one in which the machine is pursuing our objectives, but\nis necessarily uncertain as to what they are. When a machine knows that it doesn’t know the\ncomplete objective, it has an incentive to act cautiously, to ask permission, to learn more about\nour preferences through observation, and to defer to human control. Ultimately, we want\nagents that are provably beneﬁcial to humans. We will return to this topic in Section 1.5. Provably beneﬁcial\n1.2 The Foundations of Artiﬁcial Intelligence\nIn this section, we provide a brief history of the disciplines that contributed ideas, viewpoints,\nand techniques to AI. Like any history, this one concentrates on a small number of people,\nevents, and ideas and ignores others that also were important. We organize the history around\na series of questions. We certainly would not wish to give the impression that these questions\nare the only ones the disciplines address or that the disciplines have all been working toward\nAI as their ultimate fruition.\n3 In one of the ﬁrst books on chess, Ruy Lopez (1561) wrote, “Always place the board so the sun is in your\nopponent’s eyes.”"
                ],
                [
                  "4",
                  "..\\Data\\ai_modern_approach_4_edi.pdf",
                  "24",
                  "24 Chapter 1 Introduction\n1.2.1 Philosophy\n• Can formal rules be used to draw valid conclusions?\n• How does the mind arise from a physical brain?\n• Where does knowledge come from?\n• How does knowledge lead to action?\nAristotle (384–322 BCE ) was the ﬁrst to formulate a precise set of laws governing the rational\npart of the mind. He developed an informal system of syllogisms for proper reasoning, which\nin principle allowed one to generate conclusions mechanically, given initial premises.\nRamon Llull (c. 1232–1315) devised a system of reasoning published as Ars Magna or\nThe Great Art (1305). Llull tried to implement his system using an actual mechanical device:\na set of paper wheels that could be rotated into different permutations.\nAround 1500, Leonardo da Vinci (1452–1519) designed but did not build a mechanical\ncalculator; recent reconstructions have shown the design to be functional. The ﬁrst known\ncalculating machine was constructed around 1623 by the German scientist Wilhelm Schickard\n(1592–1635). Blaise Pascal (1623–1662) built the Pascaline in 1642 and wrote that it “pro-\nduces effects which appear nearer to thought than all the actions of animals.” Gottfried Wil-\nhelm Leibniz (1646–1716) built a mechanical device intended to carry out operations on\nconcepts rather than numbers, but its scope was rather limited. In his 1651 book Leviathan,\nThomas Hobbes (1588–1679) suggested the idea of a thinking machine, an “artiﬁcial animal”\nin his words, arguing “For what is the heart but a spring; and the nerves, but so many strings;\nand the joints, but so many wheels.” He also suggested that reasoning was like numerical\ncomputation: “For ‘reason’ . . . is nothing but ‘reckoning,’ that is adding and subtracting.”\nIt’s one thing to say that the mind operates, at least in part, according to logical or nu-\nmerical rules, and to build physical systems that emulate some of those rules. It’s another to\nsay that the mind itself is such a physical system. Ren ´e Descartes (1596–1650) gave the ﬁrst\nclear discussion of the distinction between mind and matter. He noted that a purely physical\nconception of the mind seems to leave little room for free will. If the mind is governed en-\ntirely by physical laws, then it has no more free will than a rock “deciding” to fall downward.\nDescartes was a proponent of dualism. He held that there is a part of the human mind (orDualism\nsoul or spirit) that is outside of nature, exempt from physical laws. Animals, on the other\nhand, did not possess this dual quality; they could be treated as machines.\nAn alternative to dualism is materialism, which holds that the brain’s operation accord-\ning to the laws of physicsconstitutes the mind. Free will is simply the way that the perception\nof available choices appears to the choosing entity. The terms physicalism and naturalism\nare also used to describe this view that stands in contrast to the supernatural.\nGiven a physical mind that manipulates knowledge, the next problem is to establish the\nsource of knowledge. Theempiricism movement, starting with Francis Bacon’s (1561–1626)Empiricism\nNovum Organum,4 is characterized by a dictum of John Locke (1632–1704): “Nothing is in\nthe understanding, which was not ﬁrst in the senses.”\nDavid Hume’s (1711–1776) A Treatise of Human Nature (Hume, 1739) proposed what\nis now known as the principle of induction: that general rules are acquired by exposure toInduction\nrepeated associations between their elements.\n4 The Novum Organum is an update of Aristotle’sOrganon, or instrument of thought."
                ],
                [
                  "5",
                  "..\\Data\\ai_modern_approach_4_edi.pdf",
                  "25",
                  "Section 1.2 The Foundations of Artiﬁcial Intelligence 25\nBuilding on the work of Ludwig Wittgenstein (1889–1951) and Bertrand Russell (1872–\n1970), the famous Vienna Circle (Sigmund, 2017), a group of philosophers and mathemati-\ncians meeting in Vienna in the 1920s and 1930s, developed the doctrine oflogical positivism. Logical positivism\nThis doctrine holds that all knowledge can be characterized by logical theories connected, ul-\ntimately, to observation sentences that correspond to sensory inputs; thus logical positivism Observation\nsentence\ncombines rationalism and empiricism.\nThe conﬁrmation theory of Rudolf Carnap (1891–1970) and Carl Hempel (1905–1997) Conﬁrmation theory\nattempted to analyze the acquisition of knowledge from experience by quantifying the degree\nof belief that should be assigned to logical sentences based on their connection to observations\nthat conﬁrm or disconﬁrm them. Carnap’s book The Logical Structure of the World (1928)\nwas perhaps the ﬁrst theory of mind as a computational process.\nThe ﬁnal element in the philosophical picture of the mind is the connection between\nknowledge and action. This question is vital to AI because intelligence requires action as well\nas reasoning. Moreover, only by understanding how actions are justiﬁed can we understand\nhow to build an agent whose actions are justiﬁable (or rational).\nAristotle argued (inDe Motu Animalium) that actions are justiﬁed by a logical connection\nbetween goals and knowledge of the action’s outcome:\nBut how does it happen that thinking is sometimes accompanied by action and sometimes\nnot, sometimes by motion, and sometimes not? It looks as if almost the same thing\nhappens as in the case of reasoning and making inferences about unchanging objects. But\nin that case the end is a speculative proposition ... whereas here the conclusion which\nresults from the two premises is an action. ... I need covering; a cloak is a covering. I\nneed a cloak. What I need, I have to make; I need a cloak. I have to make a cloak. And\nthe conclusion, the “I have to make a cloak,” is an action.\nIn the Nicomachean Ethics (Book III. 3, 1112b), Aristotle further elaborates on this topic,\nsuggesting an algorithm:\nWe deliberate not about ends, but about means. For a doctor does not deliberate whether\nhe shall heal, nor an orator whether he shall persuade, ... They assume the end and con-\nsider how and by what means it is attained, and if it seems easily and best produced\nthereby; while if it is achieved by one means only they consider how it will be achieved\nby this and by what means this will be achieved, till they come to the ﬁrst cause, ... and\nwhat is last in the order of analysis seems to be ﬁrst in the order of becoming. And if we\ncome on an impossibility, we give up the search, e.g., if we need money and this cannot\nbe got; but if a thing appears possible we try to do it.\nAristotle’s algorithm was implemented 2300 years later by Newell and Simon in their Gen-\neral Problem Solver program. We would now call it a greedy regression planning system\n(see Chapter 11). Methods based on logical planning to achieve deﬁnite goals dominated the\nﬁrst few decades of theoretical research in AI.\nThinking purely in terms of actions achieving goals is often useful but sometimes inap-\nplicable. For example, if there are several different ways to achieve a goal, there needs to be\nsome way to choose among them. More importantly, it may not be possible to achieve a goal\nwith certainty, but some action must still be taken. How then should one decide? Antoine Ar-\nnauld (1662), analyzing the notion of rational decisions in gambling, proposed a quantitative\nformula for maximizing the expected monetary value of the outcome. Later, Daniel Bernoulli\n(1738) introduced the more general notion of utility to capture the internal, subjective value Utility"
                ],
                [
                  "6",
                  "..\\Data\\ai_modern_approach_4_edi.pdf",
                  "26",
                  "26 Chapter 1 Introduction\nof an outcome. The modern notion of rational decision making under uncertainty involves\nmaximizing expected utility, as explained in Chapter 15.\nIn matters of ethics and public policy, a decision maker must consider the interests of\nmultiple individuals. Jeremy Bentham (1823) and John Stuart Mill (1863) promoted the idea\nof utilitarianism: that rational decision making based on maximizing utility should applyUtilitarianism\nto all spheres of human activity, including public policy decisions made on behalf of many\nindividuals. Utilitarianism is a speciﬁc kind of consequentialism: the idea that what is right\nand wrong is determined by the expected outcomes of an action.\nIn contrast, Immanuel Kant, in 1785, proposed a theory of rule-based or deontological\nethics, in which “doing the right thing” is determined not by outcomes but by universal socialDeontological ethics\nlaws that govern allowable actions, such as “don’t lie” or “don’t kill.” Thus, a utilitarian could\ntell a white lie if the expected good outweighs the bad, but a Kantian would be bound not to,\nbecause lying is inherently wrong. Mill acknowledged the value of rules, but understood them\nas efﬁcient decision procedures compiled from ﬁrst-principles reasoning about consequences.\nMany modern AI systems adopt exactly this approach.\n1.2.2 Mathematics\n• What are the formal rules to draw valid conclusions?\n• What can be computed?\n• How do we reason with uncertain information?\nPhilosophers staked out some of the fundamental ideas of AI, but the leap to a formal science\nrequired the mathematization of logic and probability and the introduction of a new branch\nof mathematics: computation.\nThe idea of formal logic can be traced back to the philosophers of ancient Greece, India,Formal logic\nand China, but its mathematical development really began with the work of George Boole\n(1815–1864), who worked out the details of propositional, or Boolean, logic (Boole, 1847).\nIn 1879, Gottlob Frege (1848–1925) extended Boole’s logic to include objects and relations,\ncreating the ﬁrst-order logic that is used today.5 In addition to its central role in the early pe-\nriod of AI research, ﬁrst-order logic motivated the work of G¨odel and Turing that underpinned\ncomputation itself, as we explain below.\nThe theory of probability can be seen as generalizing logic to situations with uncertainProbability\ninformation—a consideration of great importance for AI. Gerolamo Cardano (1501–1576)\nﬁrst framed the idea of probability, describing it in terms of the possible outcomes of gam-\nbling events. In 1654, Blaise Pascal (1623–1662), in a letter to Pierre Fermat (1601–1665),\nshowed how to predict the future of an unﬁnished gambling game and assign average pay-\noffs to the gamblers. Probability quickly became an invaluable part of the quantitative sci-\nences, helping to deal with uncertain measurements and incomplete theories. Jacob Bernoulli\n(1654–1705, uncle of Daniel), Pierre Laplace (1749–1827), and others advanced the theory\nand introduced new statistical methods. Thomas Bayes (1702–1761) proposed a rule for up-\ndating probabilities in the light of new evidence; Bayes’ rule is a crucial tool for AI systems.\nThe formalization of probability, combined with the availability of data, led to the emer-\ngence of statistics as a ﬁeld. One of the ﬁrst uses was John Graunt’s analysis of Lon-Statistics\n5 Frege’s proposed notation for ﬁrst-order logic—an arcane combination of textual and geometric features—\nnever became popular."
                ],
                [
                  "7",
                  "..\\Data\\ai_modern_approach_4_edi.pdf",
                  "27",
                  "Section 1.2 The Foundations of Artiﬁcial Intelligence 27\ndon census data in 1662. Ronald Fisher is considered the ﬁrst modern statistician (Fisher,\n1922). He brought together the ideas of probability, experiment design, analysis of data, and\ncomputing—in 1919, he insisted that he couldn’t do his work without a mechanical calculator\ncalled the M ILLIONAIRE (the ﬁrst calculator that could do multiplication), even though the\ncost of the calculator was more than his annual salary (Ross, 2012).\nThe history of computation is as old as the history of numbers, but the ﬁrst nontrivial\nalgorithm is thought to be Euclid’s algorithm for computing greatest common divisors. The Algorithm\nword algorithm comes from Muhammad ibn Musa al-Khwarizmi, a 9th century mathemati-\ncian, whose writings also introduced Arabic numerals and algebra to Europe. Boole and\nothers discussed algorithms for logical deduction, and, by the late 19th century, efforts were\nunder way to formalize general mathematical reasoning as logical deduction.\nKurt G¨odel (1906–1978) showed that there exists an effective procedure to prove any true\nstatement in the ﬁrst-order logic of Frege and Russell, but that ﬁrst-order logic could not cap-\nture the principle of mathematical induction needed to characterize the natural numbers. In\n1931, G¨odel showed that limits on deduction do exist. His incompleteness theorem showed Incompleteness\ntheorem\nthat in any formal theory as strong as Peano arithmetic (the elementary theory of natural\nnumbers), there are necessarily true statements that have no proof within the theory.\nThis fundamental result can also be interpreted as showing that some functions on the\nintegers cannot be represented by an algorithm—that is, they cannot be computed. This\nmotivated Alan Turing (1912–1954) to try to characterize exactly which functions are com-\nputable—capable of being computed by an effective procedure. The Church–Turing thesis Computability\nproposes to identify the general notion of computability with functions computed by a Turing\nmachine (Turing, 1936). Turing also showed that there were some functions that no Turing\nmachine can compute. For example, no machine can tell in general whether a given program\nwill return an answer on a given input or run forever.\nAlthough computability is important to an understanding of computation, the notion of\ntractability has had an even greater impact on AI. Roughly speaking, a problem is called Tractability\nintractable if the time required to solve instances of the problem grows exponentially with\nthe size of the instances. The distinction between polynomial and exponential growth in\ncomplexity was ﬁrst emphasized in the mid-1960s (Cobham, 1964; Edmonds, 1965). It is\nimportant because exponential growth means that even moderately large instances cannot be\nsolved in any reasonable time.\nThe theory of NP-completeness, pioneered by Cook (1971) and Karp (1972), provides a NP-completeness\nbasis for analyzing the tractability of problems: any problem class to which the class of NP-\ncomplete problems can be reduced is likely to be intractable. (Although it has not been proved\nthat NP-complete problems are necessarily intractable, most theoreticians believe it.) These\nresults contrast with the optimism with which the popular press greeted the ﬁrst computers—\n“Electronic Super-Brains” that were “Faster than Einstein!” Despite the increasing speed of\ncomputers, careful use of resources and necessary imperfection will characterize intelligent\nsystems. Put crudely, the world is an extremely large problem instance!\n1.2.3 Economics\n• How should we make decisions in accordance with our preferences?\n• How should we do this when others may not go along?\n• How should we do this when the payoff may be far in the future?"
                ],
                [
                  "8",
                  "..\\Data\\ai_modern_approach_4_edi.pdf",
                  "28",
                  "28 Chapter 1 Introduction\nThe science of economics originated in 1776, when Adam Smith (1723–1790) published An\nInquiry into the Nature and Causes of the Wealth of Nations . Smith proposed to analyze\neconomies as consisting of many individual agents attending to their own interests. Smith\nwas not, however, advocating ﬁnancial greed as a moral position: his earlier (1759) bookThe\nTheory of Moral Sentiments begins by pointing out that concern for the well-being of others\nis an essential component of the interests of every individual.\nMost people think of economics as being about money, and indeed the ﬁrst mathemati-\ncal analysis of decisions under uncertainty, the maximum-expected-value formula of Arnauld\n(1662), dealt with the monetary value of bets. Daniel Bernoulli (1738) noticed that this for-\nmula didn’t seem to work well for larger amounts of money, such as investments in maritime\ntrading expeditions. He proposed instead a principle based on maximization of expected\nutility, and explained human investment choices by proposing that the marginal utility of an\nadditional quantity of money diminished as one acquired more money.\nL´eon Walras (pronounced “Valrasse”) (1834–1910) gave utility theory a more general\nfoundation in terms of preferences between gambles on any outcomes (not just monetary\noutcomes). The theory was improved by Ramsey (1931) and later by John von Neumann\nand Oskar Morgenstern in their book The Theory of Games and Economic Behavior (1944).\nEconomics is no longer the study of money; rather it is the study of desires and preferences.\nDecision theory, which combines probability theory with utility theory, provides a for-Decision theory\nmal and complete framework for individual decisions (economic or otherwise) made under\nuncertainty—that is, in cases where probabilistic descriptions appropriately capture the de-\ncision maker’s environment. This is suitable for “large” economies where each agent need\npay no attention to the actions of other agents as individuals. For “small” economies, the\nsituation is much more like a game: the actions of one player can signiﬁcantly affect the\nutility of another (either positively or negatively). V on Neumann and Morgenstern’s develop-\nment of game theory (see also Luce and Raiffa, 1957) included the surprising result that, for\nsome games, a rational agent should adopt policies that are (or least appear to be) random-\nized. Unlike decision theory, game theory does not offer an unambiguous prescription for\nselecting actions. In AI, decisions involving multiple agents are studied under the heading of\nmultiagent systems (Chapter 17).\nEconomists, with some exceptions, did not address the third question listed above: how to\nmake rational decisions when payoffs from actions are not immediate but instead result from\nseveral actions takenin sequence. This topic was pursued in the ﬁeld ofoperations research,Operations research\nwhich emerged in World War II from efforts in Britain to optimize radar installations, and later\nfound innumerable civilian applications. The work of Richard Bellman (1957) formalized a\nclass of sequential decision problems called Markov decision processes, which we study in\nChapter 16 and, under the heading of reinforcement learning, in Chapter 23.\nWork in economics and operations research has contributed much to our notion of rational\nagents, yet for many years AI research developed along entirely separate paths. One reason\nwas the apparent complexity of making rational decisions. The pioneering AI researcher\nHerbert Simon (1916–2001) won the Nobel Prize in economics in 1978 for his early work\nshowing that models based on satisﬁcing—making decisions that are “good enough,” ratherSatisﬁcing\nthan laboriously calculating an optimal decision—gave a better description of actual human\nbehavior (Simon, 1947). Since the 1990s, there has been a resurgence of interest in decision-\ntheoretic techniques for AI."
                ],
                [
                  "9",
                  "..\\Data\\ai_modern_approach_4_edi.pdf",
                  "29",
                  "Section 1.2 The Foundations of Artiﬁcial Intelligence 29\n1.2.4 Neuroscience\n• How do brains process information?\nNeuroscience is the study of the nervous system, particularly the brain. Although the exact Neuroscience\nway in which the brain enables thought is one of the great mysteries of science, the fact that it\ndoes enable thought has been appreciated for thousands of years because of the evidence that\nstrong blows to the head can lead to mental incapacitation. It has also long been known that\nhuman brains are somehow different; in about 335 BCE Aristotle wrote, “Of all the animals,\nman has the largest brain in proportion to his size.” 6 Still, it was not until the middle of the\n18th century that the brain was widely recognized as the seat of consciousness. Before then,\ncandidate locations included the heart and the spleen.\nPaul Broca’s (1824–1880) investigation of aphasia (speech deﬁcit) in brain-damaged pa-\ntients in 1861 initiated the study of the brain’s functional organization by identifying a lo-\ncalized area in the left hemisphere—now called Broca’s area—that is responsible for speech\nproduction.7 By that time, it was known that the brain consisted largely of nerve cells, orneu-\nrons, but it was not until 1873 that Camillo Golgi (1843–1926) developed a staining techniqueNeuron\nallowing the observation of individual neurons (see Figure 1.1). This technique was used by\nSantiago Ramon y Cajal (1852–1934) in his pioneering studies of neuronal organization. 8\nIt is now widely accepted that cognitive functions result from the electrochemical operation\nof these structures. That is, a collection of simple cells can lead to thought, action, and ◀\nconsciousness. In the pithy words of John Searle (1992), brains cause minds.\nWe now have some data on the mapping between areas of the brain and the parts of the\nbody that they control or from which they receive sensory input. Such mappings are able to\nchange radically over the course of a few weeks, and some animals seem to have multiple\nmaps. Moreover, we do not fully understand how other areas can take over functions when\none area is damaged. There is almost no theory on how an individual memory is stored or on\nhow higher-level cognitive functions operate.\nThe measurement of intact brain activity began in 1929 with the invention by Hans Berger\nof the electroencephalograph (EEG). The development of functional magnetic resonance\nimaging (fMRI) (Ogawa et al., 1990; Cabeza and Nyberg, 2001) is giving neuroscientists\nunprecedentedly detailed images of brain activity, enabling measurements that correspond in\ninteresting ways to ongoing cognitive processes. These are augmented by advances in single-\ncell electrical recording of neuron activity and by the methods of optogenetics (Crick, 1999; Optogenetics\nZemelman et al., 2002; Han and Boyden, 2007), which allow both measurement and control\nof individual neurons modiﬁed to be light-sensitive.\nThe development of brain–machine interfaces (Lebedev and Nicolelis, 2006) for both Brain–machine\ninterface\nsensing and motor control not only promises to restore function to disabled individuals, but\nalso sheds light on many aspects of neural systems. A remarkable ﬁnding from this work is\nthat the brain is able to adjust itself to interface successfully with an external device, treating\nit in effect like another sensory organ or limb.\n6 It has since been discovered that the tree shrew and some bird species exceed the human brain/body ratio.\n7 Many cite Alexander Hood (1824) as a possible prior source.\n8 Golgi persisted in his belief that the brain’s functions were carried out primarily in a continuous medium in\nwhich neurons were embedded, whereas Cajal propounded the “neuronal doctrine.” The two shared the Nobel\nPrize in 1906 but gave mutually antagonistic acceptance speeches."
                ],
                [
                  "10",
                  "..\\Data\\ai_modern_approach_4_edi.pdf",
                  "30",
                  "30 Chapter 1 Introduction\nAxon\nCell body or Soma\nNucleus\nDendrite\nSynapses \nAxonal arborization\nAxon from another cell\nSynapse \nFigure 1.1 The parts of a nerve cell or neuron. Each neuron consists of a cell body, or soma,\nthat contains a cell nucleus. Branching out from the cell body are a number of ﬁbers called\ndendrites and a single long ﬁber called the axon. The axon stretches out for a long distance,\nmuch longer than the scale in this diagram indicates. Typically, an axon is 1 cm long (100\ntimes the diameter of the cell body), but can reach up to 1 meter. A neuron makes connec-\ntions with 10 to 100,000 other neurons at junctions called synapses. Signals are propagated\nfrom neuron to neuron by a complicated electrochemical reaction. The signals control brain\nactivity in the short term and also enable long-term changes in the connectivity of neurons.\nThese mechanisms are thought to form the basis for learning in the brain. Most information\nprocessing goes on in the cerebral cortex, the outer layer of the brain. The basic organi-\nzational unit appears to be a column of tissue about 0.5 mm in diameter, containing about\n20,000 neurons and extending the full depth of the cortex (about 4 mm in humans).\nBrains and digital computers have somewhat different properties. Figure 1.2 shows that\ncomputers have a cycle time that is a million times faster than a brain. The brain makes up\nfor that with far more storage and interconnection than even a high-end personal computer,\nalthough the largest supercomputers match the brain on some metrics. Futurists make much\nof these numbers, pointing to an approaching singularity at which computers reach a su-Singularity\nperhuman level of performance (Vinge, 1993; Kurzweil, 2005; Doctorow and Stross, 2012),\nand then rapidly improve themselves even further. But the comparisons of raw numbers are\nnot especially informative. Even with a computer of virtually unlimited capacity, we still re-\nquire further conceptual breakthroughs in our understanding of intelligence (see Chapter 29).\nCrudely put, without the right theory, faster machines just give you the wrong answer faster.\n1.2.5 Psychology\n• How do humans and animals think and act?\nThe origins of scientiﬁc psychology are usually traced to the work of the German physi-\ncist Hermann von Helmholtz (1821–1894) and his student Wilhelm Wundt (1832–1920).\nHelmholtz applied the scientiﬁc method to the study of human vision, and his Handbook of\nPhysiological Optics has been described as “the single most important treatise on the physics\nand physiology of human vision” (Nalwa, 1993, p.15). In 1879, Wundt opened the ﬁrst labo-\nratory of experimental psychology, at the University of Leipzig. Wundt insisted on carefully"
                ],
                [
                  "11",
                  "..\\Data\\ai_modern_approach_4_edi.pdf",
                  "31",
                  "Section 1.2 The Foundations of Artiﬁcial Intelligence 31\nSupercomputer Personal Computer Human Brain\nComputational units 10 6 GPUs + CPUs 8 CPU cores 10 6 columns\n1015 transistors 10 10 transistors 10 11 neurons\nStorage units 10 16 bytes RAM 10 10 bytes RAM 10 11 neurons\n1017 bytes disk 10 12 bytes disk 10 14 synapses\nCycle time 10 −9 sec 10 −9 sec 10 −3 sec\nOperations/sec 10 18 1010 1017\nFigure 1.2 A crude comparison of a leading supercomputer, Summit (Feldman, 2017);\na typical personal computer of 2019; and the human brain. Human brain power has\nnot changed much in thousands of years, whereas supercomputers have improved from\nmegaFLOPs in the 1960s to gigaFLOPs in the 1980s, teraFLOPs in the 1990s, petaFLOPs\nin 2008, and exaFLOPs in 2018 (1 exaFLOP = 1018 ﬂoating point operations per second).\ncontrolled experiments in which his workers would perform a perceptual or associative task\nwhile introspecting on their thought processes. The careful controls went a long way to-\nward making psychology a science, but the subjective nature of the data made it unlikely that\nexperimenters would ever disconﬁrm their own theories.\nBiologists studying animal behavior, on the other hand, lacked introspective data and de-\nveloped an objective methodology, as described by H. S. Jennings (1906) in his inﬂuential\nwork Behavior of the Lower Organisms . Applying this viewpoint to humans, the behav-\niorism movement, led by John Watson (1878–1958), rejected any theory involving mental Behaviorism\nprocesses on the grounds that introspection could not provide reliable evidence. Behaviorists\ninsisted on studying only objective measures of the percepts (or stimulus) given to an animal\nand its resulting actions (or response). Behaviorism discovered a lot about rats and pigeons\nbut had less success at understanding humans.\nCognitive psychology, which views the brain as an information-processing device, can Cognitive psychology\nbe traced back at least to the works of William James (1842–1910). Helmholtz also in-\nsisted that perception involved a form of unconscious logical inference. The cognitive view-\npoint was largely eclipsed by behaviorism in the United States, but at Cambridge’s Ap-\nplied Psychology Unit, directed by Frederic Bartlett (1886–1969), cognitive modeling was\nable to ﬂourish. The Nature of Explanation , by Bartlett’s student and successor Kenneth\nCraik (1943), forcefully reestablished the legitimacy of such “mental” terms as beliefs and\ngoals, arguing that they are just as scientiﬁc as, say, using pressure and temperature to talk\nabout gases, despite gasses being made of molecules that have neither.\nCraik speciﬁed the three key steps of a knowledge-based agent: (1) the stimulus must be\ntranslated into an internal representation, (2) the representation is manipulated by cognitive\nprocesses to derive new internal representations, and (3) these are in turn retranslated back\ninto action. He clearly explained why this was a good design for an agent:\nIf the organism carries a “small-scale model” of external reality and of its own possible\nactions within its head, it is able to try out various alternatives, conclude which is the best\nof them, react to future situations before they arise, utilize the knowledge of past events\nin dealing with the present and future, and in every way to react in a much fuller, safer,\nand more competent manner to the emergencies which face it. (Craik, 1943)"
                ],
                [
                  "12",
                  "..\\Data\\ai_modern_approach_4_edi.pdf",
                  "32",
                  "32 Chapter 1 Introduction\nAfter Craik’s death in a bicycle accident in 1945, his work was continued by Donald Broad-\nbent, whose book Perception and Communication(1958) was one of the ﬁrst works to model\npsychological phenomena as information processing. Meanwhile, in the United States, the\ndevelopment of computer modeling led to the creation of the ﬁeld of cognitive science. The\nﬁeld can be said to have started at a workshop in September 1956 at MIT—just two months\nafter the conference at which AI itself was “born.”\nAt the workshop, George Miller presented The Magic Number Seven , Noam Chomsky\npresented Three Models of Language , and Allen Newell and Herbert Simon presented The\nLogic Theory Machine. These three inﬂuential papers showed how computer models could\nbe used to address the psychology of memory, language, and logical thinking, respectively. It\nis now a common (although far from universal) view among psychologists that “a cognitive\ntheory should be like a computer program” (Anderson, 1980); that is, it should describe the\noperation of a cognitive function in terms of the processing of information.\nFor purposes of this review, we will count the ﬁeld of human–computer interaction\n(HCI) under psychology. Doug Engelbart, one of the pioneers of HCI, championed the idea of\nintelligence augmentation—IA rather than AI. He believed that computers should augmentIntelligence\naugmentation\nhuman abilities rather than automate away human tasks. In 1968, Engelbart’s “mother of all\ndemos” showed off for the ﬁrst time the computer mouse, a windowing system, hypertext, and\nvideo conferencing—all in an effort to demonstrate what human knowledge workers could\ncollectively accomplish with some intelligence augmentation.\nToday we are more likely to see IA and AI as two sides of the same coin, with the former\nemphasizing human control and the latter emphasizing intelligent behavior on the part of the\nmachine. Both are needed for machines to be useful to humans.\n1.2.6 Computer engineering\n• How can we build an efﬁcient computer?\nThe modern digital electronic computer was invented independently and almost simultane-\nously by scientists in three countries embattled in World War II. The ﬁrst operational com-\nputer was the electromechanical Heath Robinson, 9 built in 1943 by Alan Turing’s team for\na single purpose: deciphering German messages. In 1943, the same group developed the\nColossus, a powerful general-purpose machine based on vacuum tubes. 10 The ﬁrst opera-\ntional programmable computer was the Z-3, the invention of Konrad Zuse in Germany in\n1941. Zuse also invented ﬂoating-point numbers and the ﬁrst high-level programming lan-\nguage, Plankalk¨ul. The ﬁrst electronic computer, the ABC, was assembled by John Atanasoff\nand his student Clifford Berry between 1940 and 1942 at Iowa State University. Atanasoff’s\nresearch received little support or recognition; it was the ENIAC, developed as part of a se-\ncret military project at the University of Pennsylvania by a team including John Mauchly and\nJ. Presper Eckert, that proved to be the most inﬂuential forerunner of modern computers.\nSince that time, each generation of computer hardware has brought an increase in speed\nand capacity and a decrease in price—a trend captured in Moore’s law. Performance doubledMoore’s law\nevery 18 months or so until around 2005, when power dissipation problems led manufacturers\n9 A complex machine named after a British cartoonist who depicted whimsical and absurdly complicated con-\ntraptions for everyday tasks such as buttering toast.\n10 In the postwar period, Turing wanted to use these computers for AI research—for example, he created an\noutline of the ﬁrst chess program (Turing et al., 1953)—but the British government blocked this research."
                ],
                [
                  "13",
                  "..\\Data\\ai_modern_approach_4_edi.pdf",
                  "33",
                  "Section 1.2 The Foundations of Artiﬁcial Intelligence 33\nto start multiplying the number of CPU cores rather than the clock speed. Current expecta-\ntions are that future increases in functionality will come from massive parallelism—a curious\nconvergence with the properties of the brain. We also see new hardware designs based on\nthe idea that in dealing with an uncertain world, we don’t need 64 bits of precision in our\nnumbers; just 16 bits (as in the bfloat16 format) or even 8 bits will be enough, and will\nenable faster processing.\nWe are just beginning to see hardware tuned for AI applications, such as the graphics\nprocessing unit (GPU), tensor processing unit (TPU), and wafer scale engine (WSE). From\nthe 1960s to about 2012, the amount of computing power used to train top machine learn-\ning applications followed Moore’s law. Beginning in 2012, things changed: from 2012 to\n2018 there was a 300,000-fold increase, which works out to a doubling every 100 days or\nso (Amodei and Hernandez, 2018). A machine learning model that took a full day to train\nin 2014 takes only two minutes in 2018 (Ying et al., 2018). Although it is not yet practical,\nquantum computing holds out the promise of far greater accelerations for some important Quantum computing\nsubclasses of AI algorithms.\nOf course, there were calculating devices before the electronic computer. The earliest\nautomated machines, dating from the 17th century, were discussed on page 24. The ﬁrst\nprogrammable machine was a loom, devised in 1805 by Joseph Marie Jacquard (1752–1834),\nthat used punched cards to store instructions for the pattern to be woven.\nIn the mid-19th century, Charles Babbage (1792–1871) designed two computing ma-\nchines, neither of which he completed. The Difference Engine was intended to compute\nmathematical tables for engineering and scientiﬁc projects. It was ﬁnally built and shown\nto work in 1991 (Swade, 2000). Babbage’s Analytical Engine was far more ambitious: it\nincluded addressable memory, stored programs based on Jacquard’s punched cards, and con-\nditional jumps. It was the ﬁrst machine capable of universal computation.\nBabbage’s colleague Ada Lovelace, daughter of the poet Lord Byron, understood its\npotential, describing it as “a thinking or . . . a reasoning machine,” one capable of reasoning\nabout “all subjects in the universe” (Lovelace, 1843). She also anticipated AI’s hype cycles,\nwriting, “It is desirable to guard against the possibility of exaggerated ideas that might arise as\nto the powers of the Analytical Engine.” Unfortunately, Babbage’s machines and Lovelace’s\nideas were largely forgotten.\nAI also owes a debt to the software side of computer science, which has supplied the\noperating systems, programming languages, and tools needed to write modern programs (and\npapers about them). But this is one area where the debt has been repaid: work in AI has pio-\nneered many ideas that have made their way back to mainstream computer science, including\ntime sharing, interactive interpreters, personal computers with windows and mice, rapid de-\nvelopment environments, the linked-list data type, automatic storage management, and key\nconcepts of symbolic, functional, declarative, and object-oriented programming.\n1.2.7 Control theory and cybernetics\n• How can artifacts operate under their own control?\nKtesibios of Alexandria (c. 250 BCE ) built the ﬁrst self-controlling machine: a water clock\nwith a regulator that maintained a constant ﬂow rate. This invention changed the deﬁnition\nof what an artifact could do. Previously, only living things could modify their behavior in\nresponse to changes in the environment. Other examples of self-regulating feedback control"
                ],
                [
                  "14",
                  "..\\Data\\ai_modern_approach_4_edi.pdf",
                  "34",
                  "34 Chapter 1 Introduction\nsystems include the steam engine governor, created by James Watt (1736–1819), and the\nthermostat, invented by Cornelis Drebbel (1572–1633), who also invented the submarine.\nJames Clerk Maxwell (1868) initiated the mathematical theory of control systems.\nA central ﬁgure in the post-war development of control theory was Norbert WienerControl theory\n(1894–1964). Wiener was a brilliant mathematician who worked with Bertrand Russell,\namong others, before developing an interest in biological and mechanical control systems\nand their connection to cognition. Like Craik (who also used control systems as psycholog-\nical models), Wiener and his colleagues Arturo Rosenblueth and Julian Bigelow challenged\nthe behaviorist orthodoxy (Rosenblueth et al., 1943). They viewed purposive behavior as\narising from a regulatory mechanism trying to minimize “error”—the difference between\ncurrent state and goal state. In the late 1940s, Wiener, along with Warren McCulloch, Walter\nPitts, and John von Neumann, organized a series of inﬂuential conferences that explored the\nnew mathematical and computational models of cognition. Wiener’s bookCybernetics (1948)Cybernetics\nbecame a bestseller and awoke the public to the possibility of artiﬁcially intelligent machines.\nMeanwhile, in Britain, W. Ross Ashby pioneered similar ideas (Ashby, 1940). Ashby,\nAlan Turing, Grey Walter, and others formed the Ratio Club for “those who had Wiener’s\nideas before Wiener’s book appeared.” Ashby’sDesign for a Brain (1948, 1952) elaborated\non his idea that intelligence could be created by the use of homeostatic devices containingHomeostatic\nappropriate feedback loops to achieve stable adaptive behavior.\nModern control theory, especially the branch known as stochastic optimal control, has as\nits goal the design of systems that minimize a cost function over time. This roughly matchesCost function\nthe standard model of AI: designing systems that behave optimally. Why, then, are AI and\ncontrol theory two different ﬁelds, despite the close connections among their founders? The\nanswer lies in the close coupling between the mathematical techniques that were familiar to\nthe participants and the corresponding sets of problems that were encompassed in each world\nview. Calculus and matrix algebra, the tools of control theory, lend themselves to systems that\nare describable by ﬁxed sets of continuous variables, whereas AI was founded in part as a way\nto escape from these perceived limitations. The tools of logical inference and computation\nallowed AI researchers to consider problems such as language, vision, and symbolic planning\nthat fell completely outside the control theorist’s purview.\n1.2.8 Linguistics\n• How does language relate to thought?\nIn 1957, B. F. Skinner published Verbal Behavior. This was a comprehensive, detailed ac-\ncount of the behaviorist approach to language learning, written by the foremost expert in\nthe ﬁeld. But curiously, a review of the book became as well known as the book itself, and\nserved to almost kill off interest in behaviorism. The author of the review was the linguist\nNoam Chomsky, who had just published a book on his own theory, Syntactic Structures.\nChomsky pointed out that the behaviorist theory did not address the notion of creativity in\nlanguage—it did not explain how children could understand and make up sentences that they\nhad never heard before. Chomsky’s theory—based on syntactic models going back to the\nIndian linguist Panini (c. 350 BCE )—could explain this, and unlike previous theories, it was\nformal enough that it could in principle be programmed.\nModern linguistics and AI, then, were “born” at about the same time, and grew up to-\ngether, intersecting in a hybrid ﬁeld called computational linguistics or natural languageComputational\nlinguistics"
                ],
                [
                  "15",
                  "..\\Data\\ai_modern_approach_4_edi.pdf",
                  "35",
                  "Section 1.3 The History of Artiﬁcial Intelligence 35\nprocessing. The problem of understanding language turned out to be considerably more\ncomplex than it seemed in 1957. Understanding language requires an understanding of the\nsubject matter and context, not just an understanding of the structure of sentences. This might\nseem obvious, but it was not widely appreciated until the 1960s. Much of the early work in\nknowledge representation (the study of how to put knowledge into a form that a computer\ncan reason with) was tied to language and informed by research in linguistics, which was\nconnected in turn to decades of work on the philosophical analysis of language.\n1.3 The History of Artiﬁcial Intelligence\nOne quick way to summarize the milestones in AI history is to list the Turing Award winners:\nMarvin Minsky (1969) and John McCarthy (1971) for deﬁning the foundations of the ﬁeld\nbased on representation and reasoning; Allen Newell and Herbert Simon (1975) for symbolic\nmodels of problem solving and human cognition; Ed Feigenbaum and Raj Reddy (1994) for\ndeveloping expert systems that encode human knowledge to solve real-world problems; Judea\nPearl (2011) for developing probabilistic reasoning techniques that deal with uncertainty in\na principled manner; and ﬁnally Yoshua Bengio, Geoffrey Hinton, and Yann LeCun (2019)\nfor making “deep learning” (multilayer neural networks) a critical part of modern computing.\nThe rest of this section goes into more detail on each phase of AI history.\n1.3.1 The inception of artiﬁcial intelligence (1943–1956)\nThe ﬁrst work that is now generally recognized as AI was done by Warren McCulloch and\nWalter Pitts (1943). Inspired by the mathematical modeling work of Pitts’s advisor Nicolas\nRashevsky (1936, 1938), they drew on three sources: knowledge of the basic physiology\nand function of neurons in the brain; a formal analysis of propositional logic due to Russell\nand Whitehead; and Turing’s theory of computation. They proposed a model of artiﬁcial\nneurons in which each neuron is characterized as being “on” or “off,” with a switch to “on”\noccurring in response to stimulation by a sufﬁcient number of neighboring neurons. The\nstate of a neuron was conceived of as “factually equivalent to a proposition which proposed\nits adequate stimulus.” They showed, for example, that any computable function could be\ncomputed by some network of connected neurons, and that all the logical connectives (AND ,\nOR, NOT, etc.) could be implemented by simple network structures. McCulloch and Pitts also\nsuggested that suitably deﬁned networks could learn. Donald Hebb (1949) demonstrated a\nsimple updating rule for modifying the connection strengths between neurons. His rule, now\ncalled Hebbian learning, remains an inﬂuential model to this day. Hebbian learning\nTwo undergraduate students at Harvard, Marvin Minsky (1927–2016) and Dean Ed-\nmonds, built the ﬁrst neural network computer in 1950. The S NARC , as it was called, used\n3000 vacuum tubes and a surplus automatic pilot mechanism from a B-24 bomber to simulate\na network of 40 neurons. Later, at Princeton, Minsky studied universal computation in neural\nnetworks. His Ph.D. committee was skeptical about whether this kind of work should be con-\nsidered mathematics, but von Neumann reportedly said, “If it isn’t now, it will be someday.”\nThere were a number of other examples of early work that can be characterized as AI,\nincluding two checkers-playing programs developed independently in 1952 by Christopher\nStrachey at the University of Manchester and by Arthur Samuel at IBM. However, Alan Tur-\ning’s vision was the most inﬂuential. He gave lectures on the topic as early as 1947 at the\nLondon Mathematical Society and articulated a persuasive agenda in his 1950 article “Com-"
                ],
                [
                  "16",
                  "..\\Data\\ai_modern_approach_4_edi.pdf",
                  "36",
                  "36 Chapter 1 Introduction\nputing Machinery and Intelligence.” Therein, he introduced the Turing test, machine learning,\ngenetic algorithms, and reinforcement learning. He dealt with many of the objections raised\nto the possibility of AI, as described in Chapter 28. He also suggested that it would be easier\nto create human-level AI by developing learning algorithms and then teaching the machine\nrather than by programming its intelligence by hand. In subsequent lectures he warned that\nachieving this goal might not be the best thing for the human race.\nIn 1955, John McCarthy of Dartmouth College convinced Minsky, Claude Shannon, and\nNathaniel Rochester to help him bring together U.S. researchers interested in automata the-\nory, neural nets, and the study of intelligence. They organized a two-month workshop at\nDartmouth in the summer of 1956. There were 10 attendees in all, including Allen Newell\nand Herbert Simon from Carnegie Tech, 11 Trenchard More from Princeton, Arthur Samuel\nfrom IBM, and Ray Solomonoff and Oliver Selfridge from MIT. The proposal states:12\nWe propose that a 2 month, 10 man study of artiﬁcial intelligence be carried out\nduring the summer of 1956 at Dartmouth College in Hanover, New Hampshire.\nThe study is to proceed on the basis of the conjecture that every aspect of learning\nor any other feature of intelligence can in principle be so precisely described that a\nmachine can be made to simulate it. An attempt will be made to ﬁnd how to make\nmachines use language, form abstractions and concepts, solve kinds of problems\nnow reserved for humans, and improve themselves. We think that a signiﬁcant\nadvance can be made in one or more of these problems if a carefully selected\ngroup of scientists work on it together for a summer.\nDespite this optimistic prediction, the Dartmouth workshop did not lead to any breakthroughs.\nNewell and Simon presented perhaps the most mature work, a mathematical theorem-proving\nsystem called the Logic Theorist (LT). Simon claimed, “We have invented a computer pro-\ngram capable of thinking non-numerically, and thereby solved the venerable mind–body\nproblem.”13 Soon after the workshop, the program was able to prove most of the theorems\nin Chapter 2 of Russell and Whitehead’sPrincipia Mathematica. Russell was reportedly de-\nlighted when told that LT had come up with a proof for one theorem that was shorter than\nthe one in Principia. The editors of the Journal of Symbolic Logic were less impressed; they\nrejected a paper coauthored by Newell, Simon, and Logic Theorist.\n1.3.2 Early enthusiasm, great expectations (1952–1969)\nThe intellectual establishment of the 1950s, by and large, preferred to believe that “a machine\ncan never do X.” (See Chapter 28 for a long list of X’s gathered by Turing.) AI researchers\nnaturally responded by demonstrating oneX after another. They focused in particular on tasks\nconsidered indicative of intelligence in humans, including games, puzzles, mathematics, and\nIQ tests. John McCarthy referred to this period as the “Look, Ma, no hands!” era.\n11 Now Carnegie Mellon University (CMU).\n12 This was the ﬁrst ofﬁcial usage of McCarthy’s termartiﬁcial intelligence. Perhaps “computational rationality”\nwould have been more precise and less threatening, but “AI” has stuck. At the 50th anniversary of the Dartmouth\nconference, McCarthy stated that he resisted the terms “computer” or “computational” in deference to Norbert\nWiener, who was promoting analog cybernetic devices rather than digital computers.\n13 Newell and Simon also invented a list-processing language, IPL, to write LT. They had no compiler and\ntranslated it into machine code by hand. To avoid errors, they worked in parallel, calling out binary numbers to\neach other as they wrote each instruction to make sure they agreed."
                ],
                [
                  "17",
                  "..\\Data\\ai_modern_approach_4_edi.pdf",
                  "37",
                  "Section 1.3 The History of Artiﬁcial Intelligence 37\nNewell and Simon followed up their success with LT with the General Problem Solver,\nor GPS. Unlike LT, this program was designed from the start to imitate human problem-\nsolving protocols. Within the limited class of puzzles it could handle, it turned out that the\norder in which the program considered subgoals and possible actions was similar to that in\nwhich humans approached the same problems. Thus, GPS was probably the ﬁrst program to\nembody the “thinking humanly” approach. The success of GPS and subsequent programs as\nmodels of cognition led Newell and Simon (1976) to formulate the famous physical symbol\nsystem hypothesis, which states that “a physical symbol system has the necessary and suf- Physical symbol\nsystem\nﬁcient means for general intelligent action.” What they meant is that any system (human or\nmachine) exhibiting intelligence must operate by manipulating data structures composed of\nsymbols. We will see later that this hypothesis has been challenged from many directions.\nAt IBM, Nathaniel Rochester and his colleagues produced some of the ﬁrst AI programs.\nHerbert Gelernter (1959) constructed the Geometry Theorem Prover, which was able to prove\ntheorems that many students of mathematics would ﬁnd quite tricky. This work was a precur-\nsor of modern mathematical theorem provers.\nOf all the exploratory work done during this period, perhaps the most inﬂuential in the\nlong run was that of Arthur Samuel on checkers (draughts). Using methods that we now call\nreinforcement learning (see Chapter 23), Samuel’s programs learned to play at a strong am-\nateur level. He thereby disproved the idea that computers can do only what they are told to:\nhis program quickly learned to play a better game than its creator. The program was demon-\nstrated on television in 1956, creating a strong impression. Like Turing, Samuel had trouble\nﬁnding computer time. Working at night, he used machines that were still on the testing ﬂoor\nat IBM’s manufacturing plant. Samuel’s program was the precursor of later systems such\nas TD-G AMMON (Tesauro, 1992), which was among the world’s best backgammon players,\nand ALPHA GO (Silver et al., 2016), which shocked the world by defeating the human world\nchampion at Go (see Chapter 6).\nIn 1958, John McCarthy made two important contributions to AI. In MIT AI Lab Memo\nNo. 1, he deﬁned the high-level language Lisp, which was to become the dominant AI pro- Lisp\ngramming language for the next 30 years. In a paper entitled Programs with Common Sense,\nhe advanced a conceptual proposal for AI systems based on knowledge and reasoning. The\npaper describes the Advice Taker, a hypothetical program that would embody general knowl-\nedge of the world and could use it to derive plans of action. The concept was illustrated with\nsimple logical axioms that sufﬁce to generate a plan to drive to the airport. The program was\nalso designed to accept new axioms in the normal course of operation, thereby allowing it\nto achieve competence in new areas without being reprogrammed. The Advice Taker thus\nembodied the central principles of knowledge representation and reasoning: that it is useful\nto have a formal, explicit representation of the world and its workings and to be able to ma-\nnipulate that representation with deductive processes. The paper inﬂuenced the course of AI\nand remains relevant today.\n1958 also marked the year that Marvin Minsky moved to MIT. His initial collaboration\nwith McCarthy did not last, however. McCarthy stressed representation and reasoning in for-\nmal logic, whereas Minsky was more interested in getting programs to work and eventually\ndeveloped an anti-logic outlook. In 1963, McCarthy started the AI lab at Stanford. His plan\nto use logic to build the ultimate Advice Taker was advanced by J. A. Robinson’s discov-\nery in 1965 of the resolution method (a complete theorem-proving algorithm for ﬁrst-order"
                ],
                [
                  "18",
                  "..\\Data\\ai_modern_approach_4_edi.pdf",
                  "38",
                  "38 Chapter 1 Introduction\nFigure 1.3 A scene from the blocks world. S HRDLU (Winograd, 1972) has just completed\nthe command “Find a block which is taller than the one you are holding and put it in the box.”\nlogic; see Chapter 9). Work at Stanford emphasized general-purpose methods for logical\nreasoning. Applications of logic included Cordell Green’s question-answering and planning\nsystems (Green, 1969b) and the Shakey robotics project at the Stanford Research Institute\n(SRI). The latter project, discussed further in Chapter 26, was the ﬁrst to demonstrate the\ncomplete integration of logical reasoning and physical activity.\nAt MIT, Minsky supervised a series of students who chose limited problems that appeared\nto require intelligence to solve. These limited domains became known as microworlds.Microworld\nJames Slagle’s SAINT program (1963) was able to solve closed-form calculus integration\nproblems typical of ﬁrst-year college courses. Tom Evans’s A NALOGY program (1968)\nsolved geometric analogy problems that appear in IQ tests. Daniel Bobrow’s STUDENT pro-\ngram (1967) solved algebra story problems, such as the following:\nIf the number of customers Tom gets is twice the square of 20 percent of the number\nof advertisements he runs, and the number of advertisements he runs is 45, what is the\nnumber of customers Tom gets?\nThe most famous microworld is the blocks world, which consists of a set of solid blocksBlocks world\nplaced on a tabletop (or more often, a simulation of a tabletop), as shown in Figure 1.3.\nA typical task in this world is to rearrange the blocks in a certain way, using a robot hand\nthat can pick up one block at a time. The blocks world was home to the vision project of\nDavid Huffman (1971), the vision and constraint-propagation work of David Waltz (1975),\nthe learning theory of Patrick Winston (1970), the natural-language-understanding program\nof Terry Winograd (1972), and the planner of Scott Fahlman (1974).\nEarly work building on the neural networks of McCulloch and Pitts also ﬂourished. The\nwork of Shmuel Winograd and Jack Cowan (1963) showed how a large number of elements"
                ],
                [
                  "19",
                  "..\\Data\\ai_modern_approach_4_edi.pdf",
                  "39",
                  "Section 1.3 The History of Artiﬁcial Intelligence 39\ncould collectively represent an individual concept, with a corresponding increase in robust-\nness and parallelism. Hebb’s learning methods were enhanced by Bernie Widrow (Widrow\nand Hoff, 1960; Widrow, 1962), who called his networks adalines, and by Frank Rosen-\nblatt (1962) with his perceptrons. The perceptron convergence theorem (Block et al. ,\n1962) says that the learning algorithm can adjust the connection strengths of a perceptron to\nmatch any input data, provided such a match exists.\n1.3.3 A dose of reality (1966–1973)\nFrom the beginning, AI researchers were not shy about making predictions of their coming\nsuccesses. The following statement by Herbert Simon in 1957 is often quoted:\nIt is not my aim to surprise or shock you—but the simplest way I can summarize is to say\nthat there are now in the world machines that think, that learn and that create. Moreover,\ntheir ability to do these things is going to increase rapidly until—in a visible future—the\nrange of problems they can handle will be coextensive with the range to which the human\nmind has been applied.\nThe term “visible future” is vague, but Simon also made more concrete predictions: that\nwithin 10 years a computer would be chess champion and a signiﬁcant mathematical theorem\nwould be proved by machine. These predictions came true (or approximately true) within 40\nyears rather than 10. Simon’s overconﬁdence was due to the promising performance of early\nAI systems on simple examples. In almost all cases, however, these early systems failed on\nmore difﬁcult problems.\nThere were two main reasons for this failure. The ﬁrst was that many early AI systems\nwere based primarily on “informed introspection” as to how humans perform a task, rather\nthan on a careful analysis of the task, what it means to be a solution, and what an algorithm\nwould need to do to reliably produce such solutions.\nThe second reason for failure was a lack of appreciation of the intractability of many of\nthe problems that AI was attempting to solve. Most of the early problem-solving systems\nworked by trying out different combinations of steps until the solution was found. This strat-\negy worked initially because microworlds contained very few objects and hence very few\npossible actions and very short solution sequences. Before the theory of computational com-\nplexity was developed, it was widely thought that “scaling up” to larger problems was simply\na matter of faster hardware and larger memories. The optimism that accompanied the devel-\nopment of resolution theorem proving, for example, was soon dampened when researchers\nfailed to prove theorems involving more than a few dozen facts. The fact that a program can ◀\nﬁnd a solution in principle does not mean that the program contains any of the mechanisms\nneeded to ﬁnd it in practice.\nThe illusion of unlimited computational power was not conﬁned to problem-solving pro-\ngrams. Early experiments in machine evolution (now called genetic programming) (Fried- Machine evolution\nberg, 1958; Friedberg et al. , 1959) were based on the undoubtedly correct belief that by\nmaking an appropriate series of small mutations to a machine-code program, one can gen-\nerate a program with good performance for any particular task. The idea, then, was to try\nrandom mutations with a selection process to preserve mutations that seemed useful. Despite\nthousands of hours of CPU time, almost no progress was demonstrated.\nFailure to come to grips with the “combinatorial explosion” was one of the main criti-\ncisms of AI contained in the Lighthill report (Lighthill, 1973), which formed the basis for the"
                ],
                [
                  "20",
                  "..\\Data\\ai_modern_approach_4_edi.pdf",
                  "40",
                  "40 Chapter 1 Introduction\ndecision by the British government to end support for AI research in all but two universities.\n(Oral tradition paints a somewhat different and more colorful picture, with political ambitions\nand personal animosities whose description is beside the point.)\nA third difﬁculty arose because of some fundamental limitations on the basic structures\nbeing used to generate intelligent behavior. For example, Minsky and Papert’s book Percep-\ntrons (1969) proved that, although perceptrons (a simple form of neural network) could be\nshown to learn anything they were capable of representing, they could represent very little.\nIn particular, a two-input perceptron could not be trained to recognize when its two inputs\nwere different. Although their results did not apply to more complex, multilayer networks,\nresearch funding for neural-net research soon dwindled to almost nothing. Ironically, the new\nback-propagation learning algorithms that were to cause an enormous resurgence in neural-\nnet research in the late 1980s and again in the 2010s had already been developed in other\ncontexts in the early 1960s (Kelley, 1960; Bryson, 1962).\n1.3.4 Expert systems (1969–1986)\nThe picture of problem solving that had arisen during the ﬁrst decade of AI research was of\na general-purpose search mechanism trying to string together elementary reasoning steps to\nﬁnd complete solutions. Such approaches have been called weak methods because, althoughWeak method\ngeneral, they do not scale up to large or difﬁcult problem instances. The alternative to weak\nmethods is to use more powerful, domain-speciﬁc knowledge that allows larger reasoning\nsteps and can more easily handle typically occurring cases in narrow areas of expertise. One\nmight say that to solve a hard problem, you have to almost know the answer already.\nThe DENDRAL program (Buchanan et al., 1969) was an early example of this approach.\nIt was developed at Stanford, where Ed Feigenbaum (a former student of Herbert Simon),\nBruce Buchanan (a philosopher turned computer scientist), and Joshua Lederberg (a Nobel\nlaureate geneticist) teamed up to solve the problem of inferring molecular structure from the\ninformation provided by a mass spectrometer. The input to the program consists of the ele-\nmentary formula of the molecule (e.g., C6H13NO2) and the mass spectrum giving the masses\nof the various fragments of the molecule generated when it is bombarded by an electron beam.\nFor example, the mass spectrum might contain a peak at m = 15, corresponding to the mass\nof a methyl (CH3) fragment.\nThe naive version of the program generated all possible structures consistent with the\nformula, and then predicted what mass spectrum would be observed for each, comparing this\nwith the actual spectrum. As one might expect, this is intractable for even moderate-sized\nmolecules. The D ENDRAL researchers consulted analytical chemists and found that they\nworked by looking for well-known patterns of peaks in the spectrum that suggested common\nsubstructures in the molecule. For example, the following rule is used to recognize a ketone\n(C=O) subgroup (which weighs 28):\nif M is the mass of the whole molecule and there are two peaks at x1 and x2 such that\n(a) x1 + x2 = M + 28; (b) x1 −28 is a high peak; (c) x2 −28 is a high peak; and\n(d) At least one of x1 and x2 is high\nthen there is a ketone subgroup.\nRecognizing that the molecule contains a particular substructure reduces the number of pos-\nsible candidates enormously. According to its authors, D ENDRAL was powerful because it\nembodied the relevant knowledge of mass spectroscopy not in the form of ﬁrst principles but"
                ],
                [
                  "21",
                  "..\\Data\\ai_modern_approach_4_edi.pdf",
                  "41",
                  "Section 1.3 The History of Artiﬁcial Intelligence 41\nin efﬁcient “cookbook recipes” (Feigenbaum et al., 1971). The signiﬁcance of D ENDRAL\nwas that it was the ﬁrst successful knowledge-intensive system: its expertise derived from\nlarge numbers of special-purpose rules. In 1971, Feigenbaum and others at Stanford began\nthe Heuristic Programming Project (HPP) to investigate the extent to which the new method-\nology of expert systems could be applied to other areas. Expert systems\nThe next major effort was the MYCIN system for diagnosing blood infections. With about\n450 rules, MYCIN was able to perform as well as some experts, and considerably better than\njunior doctors. It also contained two major differences from D ENDRAL . First, unlike the\nDENDRAL rules, no general theoretical model existed from which the MYCIN rules could be\ndeduced. They had to be acquired from extensive interviewing of experts. Second, the rules\nhad to reﬂect the uncertainty associated with medical knowledge. M YCIN incorporated a\ncalculus of uncertainty called certainty factors (see Chapter 13), which seemed (at the time) Certainty factor\nto ﬁt well with how doctors assessed the impact of evidence on the diagnosis.\nThe ﬁrst successful commercial expert system, R1, began operation at the Digital Equip-\nment Corporation (McDermott, 1982). The program helped conﬁgure orders for new com-\nputer systems; by 1986, it was saving the company an estimated $40 million a year. By 1988,\nDEC’s AI group had 40 expert systems deployed, with more on the way. DuPont had 100 in\nuse and 500 in development. Nearly every major U.S. corporation had its own AI group and\nwas either using or investigating expert systems.\nThe importance of domain knowledge was also apparent in the area of natural language\nunderstanding. Despite the success of Winograd’s S HRDLU system, its methods did not ex-\ntend to more general tasks: for problems such as ambiguity resolution it used simple rules\nthat relied on the tiny scope of the blocks world.\nSeveral researchers, including Eugene Charniak at MIT and Roger Schank at Yale, sug-\ngested that robust language understanding would require general knowledge about the world\nand a general method for using that knowledge. (Schank went further, claiming, “There is\nno such thing as syntax,” which upset a lot of linguists but did serve to start a useful dis-\ncussion.) Schank and his students built a series of programs (Schank and Abelson, 1977;\nWilensky, 1978; Schank and Riesbeck, 1981) that all had the task of understanding natural\nlanguage. The emphasis, however, was less on language per se and more on the problems of\nrepresenting and reasoning with the knowledge required for language understanding.\nThe widespread growth of applications to real-world problems led to the development of\na wide range of representation and reasoning tools. Some were based on logic—for example,\nthe Prolog language became popular in Europe and Japan, and the P LANNER family in the\nUnited States. Others, following Minsky’s idea offrames (1975), adopted a more structured Frames\napproach, assembling facts about particular object and event types and arranging the types\ninto a large taxonomic hierarchy analogous to a biological taxonomy.\nIn 1981, the Japanese government announced the “Fifth Generation” project, a 10-year\nplan to build massively parallel, intelligent computers running Prolog. The budget was to\nexceed a $1.3 billion in today’s money. In response, the United States formed the Micro-\nelectronics and Computer Technology Corporation (MCC), a consortium designed to assure\nnational competitiveness. In both cases, AI was part of a broad effort, including chip design\nand human-interface research. In Britain, the Alvey report reinstated the funding removed by\nthe Lighthill report. However, none of these projects ever met its ambitious goals in terms of\nnew AI capabilities or economic impact."
                ],
                [
                  "22",
                  "..\\Data\\ai_modern_approach_4_edi.pdf",
                  "42",
                  "42 Chapter 1 Introduction\nOverall, the AI industry boomed from a few million dollars in 1980 to billions of dollars\nin 1988, including hundreds of companies building expert systems, vision systems, robots,\nand software and hardware specialized for these purposes.\nSoon after that came a period called the “AI winter,” in which many companies fell by the\nwayside as they failed to deliver on extravagant promises. It turned out to be difﬁcult to build\nand maintain expert systems for complex domains, in part because the reasoning methods\nused by the systems broke down in the face of uncertainty and in part because the systems\ncould not learn from experience.\n1.3.5 The return of neural networks (1986–present)\nIn the mid-1980s at least four different groups reinvented the back-propagation learning\nalgorithm ﬁrst developed in the early 1960s. The algorithm was applied to many learning\nproblems in computer science and psychology, and the widespread dissemination of the re-\nsults in the collection Parallel Distributed Processing (Rumelhart and McClelland, 1986)\ncaused great excitement.\nThese so-called connectionist models were seen by some as direct competitors both toConnectionist\nthe symbolic models promoted by Newell and Simon and to the logicist approach of Mc-\nCarthy and others. It might seem obvious that at some level humans manipulate symbols—in\nfact, the anthropologist Terrence Deacon’s book The Symbolic Species (1997) suggests that\nthis is the deﬁning characteristic of humans. Against this, Geoff Hinton, a leading ﬁgure\nin the resurgence of neural networks in the 1980s and 2010s, has described symbols as the\n“luminiferous aether of AI”—a reference to the non-existent medium through which many\n19th-century physicists believed that electromagnetic waves propagated. Certainly, many\nconcepts that we name in language fail, on closer inspection, to have the kind of logically\ndeﬁned necessary and sufﬁcient conditions that early AI researchers hoped to capture in ax-\niomatic form. It may be that connectionist models form internal concepts in a more ﬂuid\nand imprecise way that is better suited to the messiness of the real world. They also have\nthe capability to learn from examples—they can compare their predicted output value to the\ntrue value on a problem and modify their parameters to decrease the difference, making them\nmore likely to perform well on future examples.\n1.3.6 Probabilistic reasoning and machine learning (1987–present)\nThe brittleness of expert systems led to a new, more scientiﬁc approach incorporating proba-\nbility rather than Boolean logic, machine learning rather than hand-coding, and experimental\nresults rather than philosophical claims.14 It became more common to build on existing theo-\nries than to propose brand-new ones, to base claims on rigorous theorems or solid experimen-\ntal methodology (Cohen, 1995) rather than on intuition, and to show relevance to real-world\napplications rather than toy examples.\nShared benchmark problem sets became the norm for demonstrating progress, including\nthe UC Irvine repository for machine learning data sets, the International Planning Compe-\n14 Some have characterized this change as a victory of the neats—those who think that AI theories should be\ngrounded in mathematical rigor—over the scrufﬁes—those who would rather try out lots of ideas, write some\nprograms, and then assess what seems to be working. Both approaches are important. A shift toward neatness\nimplies that the ﬁeld has reached a level of stability and maturity. The present emphasis on deep learning may\nrepresent a resurgence of the scrufﬁes."
                ],
                [
                  "23",
                  "..\\Data\\ai_modern_approach_4_edi.pdf",
                  "43",
                  "Section 1.3 The History of Artiﬁcial Intelligence 43\ntition for planning algorithms, the LibriSpeech corpus for speech recognition, the MNIST\ndata set for handwritten digit recognition, ImageNet and COCO for image object recogni-\ntion, SQ UAD for natural language question answering, the WMT competition for machine\ntranslation, and the International SAT Competitions for Boolean satisﬁability solvers.\nAI was founded in part as a rebellion against the limitations of existing ﬁelds like control\ntheory and statistics, but in this period it embraced the positive results of those ﬁelds. As\nDavid McAllester (1998) put it:\nIn the early period of AI it seemed plausible that new forms of symbolic computation,\ne.g., frames and semantic networks, made much of classical theory obsolete. This led to\na form of isolationism in which AI became largely separated from the rest of computer\nscience. This isolationism is currently being abandoned. There is a recognition that\nmachine learning should not be isolated from information theory, that uncertain reasoning\nshould not be isolated from stochastic modeling, that search should not be isolated from\nclassical optimization and control, and that automated reasoning should not be isolated\nfrom formal methods and static analysis.\nThe ﬁeld of speech recognition illustrates the pattern. In the 1970s, a wide variety of different\narchitectures and approaches were tried. Many of these were rather ad hoc and fragile, and\nworked on only a few carefully selected examples. In the 1980s, approaches using hidden\nMarkov models (HMMs) came to dominate the area. Two aspects of HMMs are relevant. Hidden Markov\nmodels\nFirst, they are based on a rigorous mathematical theory. This allowed speech researchers to\nbuild on several decades of mathematical results developed in other ﬁelds. Second, they are\ngenerated by a process of training on a large corpus of real speech data. This ensures that the\nperformance is robust, and in rigorous blind tests HMMs improved their scores steadily. As\na result, speech technology and the related ﬁeld of handwritten character recognition made\nthe transition to widespread industrial and consumer applications. Note that there was no\nscientiﬁc claim that humans use HMMs to recognize speech; rather, HMMs provided a math-\nematical framework for understanding and solving the problem. We will see in Section 1.3.8,\nhowever, that deep learning has rather upset this comfortable narrative.\n1988 was an important year for the connection between AI and other ﬁelds, including\nstatistics, operations research, decision theory, and control theory. Judea Pearl’s (1988)Prob-\nabilistic Reasoning in Intelligent Systems led to a new acceptance of probability and decision\ntheory in AI. Pearl’s development of Bayesian networks yielded a rigorous and efﬁcient Bayesian network\nformalism for representing uncertain knowledge as well as practical algorithms for proba-\nbilistic reasoning. Chapters 12, 13, 14, 15, and 18 cover this area, in addition to more recent\ndevelopments that have greatly increased the expressive power of probabilistic formalisms;\nChapter 21 describes methods for learning Bayesian networks and related models from data.\nA second major contribution in 1988 was Rich Sutton’s work connecting reinforcement\nlearning—which had been used in Arthur Samuel’s checker-playing program in the 1950s—\nto the theory of Markov decision processes (MDPs) developed in the ﬁeld of operations re-\nsearch. A ﬂood of work followed connecting AI planning research to MDPs, and the ﬁeld of\nreinforcement learning found applications in robotics and process control as well as acquiring\ndeep theoretical foundations.\nOne consequence of AI’s newfound appreciation for data, statistical modeling, optimiza-\ntion, and machine learning was the gradual reuniﬁcation of subﬁelds such as computer vision,\nrobotics, speech recognition, multiagent systems, and natural language processing that had"
                ],
                [
                  "24",
                  "..\\Data\\ai_modern_approach_4_edi.pdf",
                  "44",
                  "44 Chapter 1 Introduction\nbecome somewhat separate from core AI. The process of reintegration has yielded signiﬁ-\ncant beneﬁts both in terms of applications—for example, the deployment of practical robots\nexpanded greatly during this period—and in a better theoretical understanding of the core\nproblems of AI.\n1.3.7 Big data (2001–present)\nRemarkable advances in computing power and the creation of the World Wide Web have\nfacilitated the creation of very large data sets—a phenomenon sometimes known as big data.Big data\nThese data sets include trillions of words of text, billions of images, and billions of hours of\nspeech and video, as well as vast amounts of genomic data, vehicle tracking data, clickstream\ndata, social network data, and so on.\nThis has led to the development of learning algorithms specially designed to take advan-\ntage of very large data sets. Often, the vast majority of examples in such data sets are un-\nlabeled; for example, in Yarowsky’s (1995) inﬂuential work on word-sense disambiguation,\noccurrences of a word such as “plant” are not labeled in the data set to indicate whether they\nrefer to ﬂora or factory. With large enough data sets, however, suitable learning algorithms\ncan achieve an accuracy of over 96% on the task of identifying which sense was intended in a\nsentence. Moreover, Banko and Brill (2001) argued that the improvement in performance ob-\ntained from increasing the size of the data set by two or three orders of magnitude outweighs\nany improvement that can be obtained from tweaking the algorithm.\nA similar phenomenon seems to occur in computer vision tasks such as ﬁlling in holes in\nphotographs—holes caused either by damage or by the removal of ex-friends. Hays and Efros\n(2007) developed a clever method for doing this by blending in pixels from similar images;\nthey found that the technique worked poorly with a database of only thousands of images but\ncrossed a threshold of quality with millions of images. Soon after, the availability of tens of\nmillions of images in the ImageNet database (Deng et al., 2009) sparked a revolution in the\nﬁeld of computer vision.\nThe availability of big data and the shift towards machine learning helped AI recover\ncommercial attractiveness (Havenstein, 2005; Halevyet al., 2009). Big data was a crucial fac-\ntor in the 2011 victory of IBM’s Watson system over human champions in the Jeopardy! quiz\ngame, an event that had a major impact on the public’s perception of AI.\n1.3.8 Deep learning (2011–present)\nThe term deep learning refers to machine learning using multiple layers of simple, adjustableDeep learning\ncomputing elements. Experiments were carried out with such networks as far back as the\n1970s, and in the form of convolutional neural networks they found some success in hand-\nwritten digit recognition in the 1990s (LeCun et al., 1995). It was not until 2011, however,\nthat deep learning methods really took off. This occurred ﬁrst in speech recognition and then\nin visual object recognition.\nIn the 2012 ImageNet competition, which required classifying images into one of a thou-\nsand categories (armadillo, bookshelf, corkscrew, etc.), a deep learning system created in\nGeoffrey Hinton’s group at the University of Toronto (Krizhevskyet al., 2013) demonstrated\na dramatic improvement over previous systems, which were based largely on handcrafted\nfeatures. Since then, deep learning systems have exceeded human performance on some vi-\nsion tasks (and lag behind in some other tasks). Similar gains have been reported in speech"
                ],
                [
                  "25",
                  "..\\Data\\ai_modern_approach_4_edi.pdf",
                  "45",
                  "Section 1.4 The State of the Art 45\nrecognition, machine translation, medical diagnosis, and game playing. The use of a deep\nnetwork to represent the evaluation function contributed to A LPHA GO’s victories over the\nleading human Go players (Silver et al., 2016, 2017, 2018).\nThese remarkable successes have led to a resurgence of interest in AI among students,\ncompanies, investors, governments, the media, and the general public. It seems that every\nweek there is news of a new AI application approaching or exceeding human performance,\noften accompanied by speculation of either accelerated success or a new AI winter.\nDeep learning relies heavily on powerful hardware. Whereas a standard computer CPU\ncan do 109 or 1010 operations per second. a deep learning algorithm running on specialized\nhardware (e.g., GPU, TPU, or FPGA) might consume between 10 14 and 1017 operations per\nsecond, mostly in the form of highly parallelized matrix and vector operations. Of course,\ndeep learning also depends on the availability of large amounts of training data, and on a few\nalgorithmic tricks (see Chapter 22).\n1.4 The State of the Art\nStanford University’s One Hundred Year Study on AI (also known as AI100) convenes panels\nof experts to provide reports on the state of the art in AI. Their 2016 report (Stone et al.,\n2016; Grosz and Stone, 2018) concludes that “Substantial increases in the future uses of AI\napplications, including more self-driving cars, healthcare diagnostics and targeted treatment,\nand physical assistance for elder care can be expected” and that “Society is now at a crucial\njuncture in determining how to deploy AI-based technologies in ways that promote rather than\nhinder democratic values such as freedom, equality, and transparency.” AI100 also produces\nan AI Index at aiindex.org to help track progress. Some highlights from the 2018 and AI Index\n2019 reports (comparing to a year 2000 baseline unless otherwise stated):\n• Publications: AI papers increased 20-fold between 2010 and 2019 to about 20,000 a\nyear. The most popular category was machine learning. (Machine learning papers\nin arXiv.org doubled every year from 2009 to 2017.) Computer vision and natural\nlanguage processing were the next most popular.\n• Sentiment: About 70% of news articles on AI are neutral, but articles with positive tone\nincreased from 12% in 2016 to 30% in 2018. The most common issues are ethical: data\nprivacy and algorithm bias.\n• Students: Course enrollment increased 5-fold in the U.S. and 16-fold internationally\nfrom a 2010 baseline. AI is the most popular specialization in Computer Science.\n• Diversity: AI Professors worldwide are about 80% male, 20% female. Similar numbers\nhold for Ph.D. students and industry hires.\n• Conferences: Attendance at NeurIPS increased 800% since 2012 to 13,500 attendees.\nOther conferences are seeing annual growth of about 30%.\n• Industry: AI startups in the U.S. increased 20-fold to over 800.\n• Internationalization: China publishes more papers per year than the U.S. and about\nas many as all of Europe. However, in citation-weighted impact, U.S. authors are 50%\nahead of Chinese authors. Singapore, Brazil, Australia, Canada, and India are the fastest\ngrowing countries in terms of the number of AI hires."
                ],
                [
                  "26",
                  "..\\Data\\ai_modern_approach_4_edi.pdf",
                  "46",
                  "46 Chapter 1 Introduction\n• Vision: Error rates for object detection (as achieved in LSVRC, the Large-Scale Visual\nRecognition Challenge) improved from 28% in 2010 to 2% in 2017, exceeding human\nperformance. Accuracy on open-ended visual question answering (VQA) improved\nfrom 55% to 68% since 2015, but lags behind human performance at 83%.\n• Speed: Training time for the image recognition task dropped by a factor of 100 in just\nthe past two years. The amount of computing power used in top AI applications is\ndoubling every 3.4 months.\n• Language: Accuracy on question answering, as measured by F1 score on the Stanford\nQuestion Answering Dataset (SQUAD), increased from 60 to 95 from 2015 to 2019; on\nthe SQ UAD 2 variant, progress was faster, going from 62 to 90 in just one year. Both\nscores exceed human-level performance.\n• Human benchmarks: By 2019, AI systems had reportedly met or exceeded human-\nlevel performance in chess, Go, poker, Pac-Man, Jeopardy!, ImageNet object detection,\nspeech recognition in a limited domain, Chinese-to-English translation in a restricted\ndomain, Quake III, Dota 2, StarCraft II, various Atari games, skin cancer detection,\nprostate cancer detection, protein folding, and diabetic retinopathy diagnosis.\nWhen (if ever) will AI systems achieve human-level performance across a broad variety\nof tasks? Ford (2018) interviews AI experts and ﬁnds a wide range of target years, from 2029\nto 2200, with a mean of 2099. In a similar survey (Grace et al., 2017) 50% of respondents\nthought this could happen by 2066, although 10% thought it could happen as early as 2025,\nand a few said “never.” The experts were also split on whether we need fundamental new\nbreakthroughs or just reﬁnements on current approaches. But don’t take their predictions\ntoo seriously; as Philip Tetlock (2017) demonstrates in the area of predicting world events,\nexperts are no better than amateurs.\nHow will future AI systems operate? We can’t yet say. As detailed in this section, the ﬁeld\nhas adopted several stories about itself—ﬁrst the bold idea that intelligence by a machine was\neven possible, then that it could be achieved by encoding expert knowledge into logic, then\nthat probabilistic models of the world would be the main tool, and most recently that machine\nlearning would induce models that might not be based on any well-understood theory at all.\nThe future will reveal what model comes next.\nWhat can AI do today? Perhaps not as much as some of the more optimistic media\narticles might lead one to believe, but still a great deal. Here are some examples:\nRobotic vehicles: The history of robotic vehicles stretches back to radio-controlled cars\nof the 1920s, but the ﬁrst demonstrations of autonomous road driving without special guides\noccurred in the 1980s (Kanade et al., 1986; Dickmanns and Zapp, 1987). After success-\nful demonstrations of driving on dirt roads in the 132-mile DARPA Grand Challenge in\n2005 (Thrun, 2006) and on streets with trafﬁc in the 2007 Urban Challenge, the race to de-\nvelop self-driving cars began in earnest. In 2018, Waymo test vehicles passed the landmark\nof 10 million miles driven on public roads without a serious accident, with the human driver\nstepping in to take over control only once every 6,000 miles. Soon after, the company began\noffering a commercial robotic taxi service.\nIn the air, autonomous ﬁxed-wing drones have been providing cross-country blood deliv-\neries in Rwanda since 2016. Quadcopters perform remarkable aerobatic maneuvers, explore\nbuildings while constructing 3-D maps, and self-assemble into autonomous formations."
                ],
                [
                  "27",
                  "..\\Data\\ai_modern_approach_4_edi.pdf",
                  "47",
                  "Section 1.4 The State of the Art 47\nLegged locomotion: BigDog, a quadruped robot by Raibert et al. (2008), upended our\nnotions of how robots move—no longer the slow, stiff-legged, side-to-side gait of Hollywood\nmovie robots, but something closely resembling an animal and able to recover when shoved\nor when slipping on an icy puddle. Atlas, a humanoid robot, not only walks on uneven terrain\nbut jumps onto boxes and does backﬂips (Ackerman and Guizzo, 2016).\nAutonomous planning and scheduling: A hundred million miles from Earth, NASA’s\nRemote Agent program became the ﬁrst on-board autonomous planning program to control\nthe scheduling of operations for a spacecraft (Jonsson et al., 2000). Remote Agent generated\nplans from high-level goals speciﬁed from the ground and monitored the execution of those\nplans—detecting, diagnosing, and recovering from problems as they occurred. Today, the\nEUROPA planning toolkit (Barreiro et al., 2012) is used for daily operations of NASA’s Mars\nrovers and the S EXTANT system (Winternitz, 2017) allows autonomous navigation in deep\nspace, beyond the global GPS system.\nDuring the Persian Gulf crisis of 1991, U.S. forces deployed a Dynamic Analysis and\nReplanning Tool, D ART (Cross and Walker, 1994), to do automated logistics planning and\nscheduling for transportation. This involved up to 50,000 vehicles, cargo, and people at a\ntime, and had to account for starting points, destinations, routes, transport capacities, port\nand airﬁeld capacities, and conﬂict resolution among all parameters. The Defense Advanced\nResearch Project Agency (DARPA) stated that this single application more than paid back\nDARPA’s 30-year investment in AI.\nEvery day, ride hailing companies such as Uber and mapping services such as Google\nMaps provide driving directions for hundreds of millions of users, quickly plotting an optimal\nroute taking into account current and predicted future trafﬁc conditions.\nMachine translation: Online machine translation systems now enable the reading of\ndocuments in over 100 languages, including the native languages of over 99% of humans,\nand render hundreds of billions of words per day for hundreds of millions of users. While not\nperfect, they are generally adequate for understanding. For closely related languages with a\ngreat deal of training data (such as French and English) translations within a narrow domain\nare close to the level of a human (Wu et al., 2016b).\nSpeech recognition: In 2017, Microsoft showed that its Conversational Speech Recog-\nnition System had reached a word error rate of 5.1%, matching human performance on the\nSwitchboard task, which involves transcribing telephone conversations (Xiong et al., 2017).\nAbout a third of computer interaction worldwide is now done by voice rather than keyboard;\nSkype provides real-time speech-to-speech translation in ten languages. Alexa, Siri, Cortana,\nand Google offer assistants that can answer questions and carry out tasks for the user; for\nexample the Google Duplex service uses speech recognition and speech synthesis to make\nrestaurant reservations for users, carrying out a ﬂuent conversation on their behalf.\nRecommendations: Companies such as Amazon, Facebook, Netﬂix, Spotify, YouTube,\nWalmart, and others use machine learning to recommend what you might like based on your\npast experiences and those of others like you. The ﬁeld of recommender systems has a long\nhistory (Resnick and Varian, 1997) but is changing rapidly due to new deep learning methods\nthat analyze content (text, music, video) as well as history and metadata (van den Oordet al.,\n2014; Zhang et al., 2017). Spam ﬁltering can also be considered a form of recommendation\n(or dis-recommendation); current AI techniques ﬁlter out over 99.9% of spam, and email\nservices can also recommend potential recipients, as well as possible response text."
                ],
                [
                  "28",
                  "..\\Data\\ai_modern_approach_4_edi.pdf",
                  "48",
                  "48 Chapter 1 Introduction\nGame playing : When Deep Blue defeated world chess champion Garry Kasparov in\n1997, defenders of human supremacy placed their hopes on Go. Piet Hut, an astrophysicist\nand Go enthusiast, predicted that it would take “a hundred years before a computer beats\nhumans at Go—maybe even longer.” But just 20 years later, A LPHA GO surpassed all human\nplayers (Silver et al., 2017). Ke Jie, the world champion, said, “Last year, it was still quite\nhuman-like when it played. But this year, it became like a god of Go.” A LPHA GO beneﬁted\nfrom studying hundreds of thousands of past games by human Go players, and from the\ndistilled knowledge of expert Go players that worked on the team.\nA followup program, A LPHA ZERO, used no input from humans (except for the rules\nof the game), and was able to learn through self-play alone to defeat all opponents, human\nand machine, at Go, chess, and shogi (Silver et al., 2018). Meanwhile, human champions\nhave been beaten by AI systems at games as diverse as Jeopardy! (Ferrucci et al., 2010),\npoker (Bowling et al., 2015; Morav ˇc´ıket al., 2017; Brown and Sandholm, 2019), and the\nvideo games Dota 2 (Fernandez and Mahlmann, 2018), StarCraft II (Vinyals et al., 2019),\nand Quake III (Jaderberg et al., 2019).\nImage understanding: Not content with exceeding human accuracy on the challenging\nImageNet object recognition task, computer vision researchers have taken on the more dif-\nﬁcult problem of image captioning. Some impressive examples include “A person riding a\nmotorcycle on a dirt road,” “Two pizzas sitting on top of a stove top oven,” and “A group\nof young people playing a game of frisbee” (Vinyals et al., 2017b). Current systems are far\nfrom perfect, however: a “refrigerator ﬁlled with lots of food and drinks” turns out to be a\nno-parking sign partially obscured by lots of small stickers.\nMedicine: AI algorithms now equal or exceed expert doctors at diagnosing many condi-\ntions, particularly when the diagnosis is based on images. Examples include Alzheimer’s dis-\nease (Ding et al., 2018), metastatic cancer (Liu et al., 2017; Esteva et al., 2017), ophthalmic\ndisease (Gulshan et al., 2016), and skin diseases (Liu et al., 2019c). A systematic review and\nmeta-analysis (Liu et al., 2019a) found that the performance of AI programs, on average, was\nequivalent to health care professionals. One current emphasis in medical AI is in facilitating\nhuman–machine partnerships. For example, the L YNA system achieves 99.6% overall accu-\nracy in diagnosing metastatic breast cancer—better than an unaided human expert—but the\ncombination does better still (Liu et al., 2018; Steiner et al., 2018).\nThe widespread adoption of these techniques is now limited not by diagnostic accuracy\nbut by the need to demonstrate improvement in clinical outcomes and to ensure transparency,\nlack of bias, and data privacy (Topol, 2019). In 2017, only two medical AI applications were\napproved by the FDA, but that increased to 12 in 2018, and continues to rise.\nClimate science: A team of scientists won the 2018 Gordon Bell Prize for a deep learning\nmodel that discovers detailed information about extreme weather events that were previously\nburied in climate data. They used a supercomputer with specialized GPU hardware to exceed\nthe exaop level (10 18 operations per second), the ﬁrst machine learning program to do so\n(Kurth et al., 2018). Rolnick et al. (2019) present a 60-page catalog of ways in which machine\nlearning can be used to tackle climate change.\nThese are just a few examples of artiﬁcial intelligence systems that exist today. Not\nmagic or science ﬁction—but rather science, engineering, and mathematics, to which this\nbook provides an introduction."
                ],
                [
                  "29",
                  "..\\Data\\ai_modern_approach_4_edi.pdf",
                  "49",
                  "Section 1.5 Risks and Beneﬁts of AI 49\n1.5 Risks and Beneﬁts of AI\nFrancis Bacon, a philosopher credited with creating the scientiﬁc method, noted in The Wis-\ndom of the Ancients (1609) that the “mechanical arts are of ambiguous use, serving as well\nfor hurt as for remedy.” As AI plays an increasingly important role in the economic, so-\ncial, scientiﬁc, medical, ﬁnancial, and military spheres, we would do well to consider the\nhurts and remedies—in modern parlance, the risks and beneﬁts—that it can bring. The topics\nsummarized here are covered in greater depth in Chapters 28 and 29.\nTo begin with the beneﬁts: put simply, our entire civilization is the product of our human\nintelligence. If we have access to substantially greater machine intelligence, the ceiling on\nour ambitions is raised substantially. The potential for AI and robotics to free humanity from\nmenial repetitive work and to dramatically increase the production of goods and services\ncould presage an era of peace and plenty. The capacity to accelerate scientiﬁc research could\nresult in cures for disease and solutions for climate change and resource shortages. As Demis\nHassabis, CEO of Google DeepMind, has suggested: “First solve AI, then use AI to solve\neverything else.”\nLong before we have an opportunity to “solve AI,” however, we will incur risks from\nthe misuse of AI, inadvertent or otherwise. Some of these are already apparent, while others\nseem likely based on current trends:\n• Lethal autonomous weapons: These are deﬁned by the United Nations as weapons that\ncan locate, select, and eliminate human targets without human intervention. A primary\nconcern with such weapons is their scalability: the absence of a requirement for human\nsupervision means that a small group can deploy an arbitrarily large number of weapons\nagainst human targets deﬁned by any feasible recognition criterion. The technologies\nneeded for autonomous weapons are similar to those needed for self-driving cars. In-\nformal expert discussions on the potential risks of lethal autonomous weapons began\nat the UN in 2014, moving to the formal pre-treaty stage of a Group of Governmental\nExperts in 2017.\n• Surveillance and persuasion : While it is expensive, tedious, and sometimes legally\nquestionable for security personnel to monitor phone lines, video camera feeds, emails,\nand other messaging channels, AI (speech recognition, computer vision, and natural\nlanguage understanding) can be used in a scalable fashion to perform mass surveillance\nof individuals and detect activities of interest. By tailoring information ﬂows to individ-\nuals through social media, based on machine learning techniques, political behavior can\nbe modiﬁed and controlled to some extent—a concern that became apparent in elections\nbeginning in 2016.\n• Biased decision making: Careless or deliberate misuse of machine learning algorithms\nfor tasks such as evaluating parole and loan applications can result in decisions that are\nbiased by race, gender, or other protected categories. Often, the data themselves reﬂect\npervasive bias in society.\n• Impact on employment : Concerns about machines eliminating jobs are centuries old.\nThe story is never simple: machines do some of the tasks that humans might otherwise\ndo, but they also make humans more productive and therefore more employable, and\nmake companies more proﬁtable and therefore able to pay higher wages. They may\nrender some activities economically viable that would otherwise be impractical. Their"
                ],
                [
                  "30",
                  "..\\Data\\ai_modern_approach_4_edi.pdf",
                  "50",
                  "50 Chapter 1 Introduction\nuse generally results in increasing wealth but tends to have the effect of shifting wealth\nfrom labor to capital, further exacerbating increases in inequality. Previous advances\nin technology—such as the invention of mechanical looms—have resulted in serious\ndisruptions to employment, but eventually people ﬁnd new kinds of work to do. On the\nother hand, it is possible that AI will be doing those new kinds of work too. This topic\nis rapidly becoming a major focus for economists and governments around the world.\n• Safety-critical applications: As AI techniques advance, they are increasingly used in\nhigh-stakes, safety-critical applications such as driving cars and managing the water\nsupplies of cities. Fatal accidents have already occurred and highlight the difﬁculty\nof formal veriﬁcation and statistical risk analysis for systems developed using machine\nlearning techniques. The ﬁeld of AI will need to develop technical and ethical standards\nat least comparable to those prevalent in other engineering and healthcare disciplines\nwhere people’s lives are at stake.\n• Cybersecurity: AI techniques are useful in defending against cyberattack, for exam-\nple by detecting unusual patterns of behavior, but they will also contribute to the po-\ntency, survivability, and proliferation capability of malware. For example, reinforce-\nment learning methods have been used to create highly effective tools for automated,\npersonalized blackmail and phishing attacks.\nWe will revisit these topics in more depth in Section 28.3. As AI systems become more\ncapable, they will take on more of the societal roles previously played by humans. Just as\nhumans have used these roles in the past to perpetrate mischief, we can expect that humans\nmay misuse AI systems in these roles to perpetrate even more mischief. All of the examples\ngiven above point to the importance of governance and, eventually, regulation. At present, the\nresearch community and the major corporations involved in AI research have developed vol-\nuntary self-governance principles for AI-related activities (see Section 28.3). Governments\nand international organizations are setting up advisory bodies to devise appropriate regula-\ntions for each speciﬁc use case, to prepare for the economic and social impacts, and to take\nadvantage of AI capabilities to address major societal problems.\nWhat of the longer term? Will we achieve the long-standing goal: the creation of intelli-\ngence comparable to or more capable than human intelligence? And, if we do, what then?\nFor much of AI’s history, these questions have been overshadowed by the daily grind of\ngetting AI systems to do anything even remotely intelligent. As with any broad discipline, the\ngreat majority of AI researchers have specialized in a speciﬁc subﬁeld such as game-playing,\nknowledge representation, vision, or natural language understanding—often on the assump-\ntion that progress in these subﬁelds would contribute to the broader goals of AI. Nils Nilsson\n(1995), one of the original leaders of the Shakey project at SRI, reminded the ﬁeld of those\nbroader goals and warned that the subﬁelds were in danger of becoming ends in themselves.\nLater, some inﬂuential founders of AI, including John McCarthy (2007), Marvin Minsky\n(2007), and Patrick Winston (Beal and Winston, 2009), concurred with Nilsson’s warnings,\nsuggesting that instead of focusing on measurable performance in speciﬁc applications, AI\nshould return to its roots of striving for, in Herb Simon’s words, “machines that think, that\nlearn and that create.” They called the effort human-level AI or HLAI—a machine shouldHuman-level AI\nbe able to learn to do anything a human can do. Their ﬁrst symposium was in 2004 (Min-\nsky et al., 2004). Another effort with similar goals, the artiﬁcial general intelligence (AGI)Artiﬁcial general\nintelligence (AGI)"
                ],
                [
                  "31",
                  "..\\Data\\ai_modern_approach_4_edi.pdf",
                  "51",
                  "Section 1.5 Risks and Beneﬁts of AI 51\nmovement (Goertzel and Pennachin, 2007), held its ﬁrst conference and organized the Jour-\nnal of Artiﬁcial General Intelligence in 2008.\nAt around the same time, concerns were raised that creating artiﬁcial superintelligence\nArtiﬁcial\nsuperintelligence\n(ASI)\nor ASI—intelligence that far surpasses human ability—might be a bad idea (Yudkowsky,\n2008; Omohundro, 2008). Turing (1996) himself made the same point in a lecture given in\nManchester in 1951, drawing on earlier ideas from Samuel Butler (1863):15\nIt seems probable that once the machine thinking method had started, it would not take\nlong to outstrip our feeble powers. . . . At some stage therefore we should have to expect\nthe machines to take control, in the way that is mentioned in Samuel Butler’sErewhon.\nThese concerns have only become more widespread with recent advances in deep learning,\nthe publication of books such as Superintelligence by Nick Bostrom (2014), and public pro-\nnouncements from Stephen Hawking, Bill Gates, Martin Rees, and Elon Musk.\nExperiencing a general sense of unease with the idea of creating superintelligent ma-\nchines is only natural. We might call this the gorilla problem: about seven million years Gorilla problem\nago, a now-extinct primate evolved, with one branch leading to gorillas and one to humans.\nToday, the gorillas are not too happy about the human branch; they have essentially no control\nover their future. If this is the result of success in creating superhuman AI—that humans cede\ncontrol over their future—then perhaps we should stop work on AI, and, as a corollary, give\nup the beneﬁts it might bring. This is the essence of Turing’s warning: it is not obvious that\nwe can control machines that are more intelligent than us.\nIf superhuman AI were a black box that arrived from outer space, then indeed it would\nbe wise to exercise caution in opening the box. But it is not: we design the AI systems, so if\nthey do end up “taking control,” as Turing suggests, it would be the result of a design failure.\nTo avoid such an outcome, we need to understand the source of potential failure. Norbert\nWiener (1960), who was motivated to consider the long-term future of AI after seeing Arthur\nSamuel’s checker-playing program learn to beat its creator, had this to say:\nIf we use, to achieve our purposes, a mechanical agency with whose operation we cannot\ninterfere effectively . . . we had better be quite sure that the purpose put into the machine\nis the purpose which we really desire.\nMany cultures have myths of humans who ask gods, genies, magicians, or devils for some-\nthing. Invariably, in these stories, they get what they literally ask for, and then regret it. The\nthird wish, if there is one, is to undo the ﬁrst two. We will call this theKing Midas problem: King Midas problem\nMidas, a legendary King in Greek mythology, asked that everything he touched should turn\nto gold, but then regretted it after touching his food, drink, and family members.16\nWe touched on this issue in Section 1.1.5, where we pointed out the need for a signiﬁcant\nmodiﬁcation to the standard model of putting ﬁxed objectives into the machine. The solu-\ntion to Wiener’s predicament is not to have a deﬁnite “purpose put into the machine” at all.\nInstead, we want machines that strive to achieve human objectives but know that they don’t\nknow for certain exactly what those objectives are.\n15 Even earlier, in 1847, Richard Thornton, editor of thePrimitive Expounder, railed against mechanical calcula-\ntors: “Mind . . . outruns itself and does away with the necessity of its own existence by inventing machines to do\nits own thinking. . . . But who knows that such machines when brought to greater perfection, may not think of a\nplan to remedy all their own defects and then grind out ideas beyond the ken of mortal mind!”\n16 Midas would have done better if he had followed basic principles of safety and included an “undo” button and\na “pause” button in his wish."
                ],
                [
                  "32",
                  "..\\Data\\ai_modern_approach_4_edi.pdf",
                  "52",
                  "52 Chapter 1 Introduction\nIt is perhaps unfortunate that almost all AI research to date has been carried out within\nthe standard model, which means that almost all of the technical material in this edition\nreﬂects that intellectual framework. There are, however, some early results within the new\nframework. In Chapter 15, we show that a machine has a positive incentive to allow itself\nto be switched off if and only if it is uncertain about the human objective. In Chapter 17,\nwe formulate and study assistance games, which describe mathematically the situation inAssistance game\nwhich a human has an objective and a machine tries to achieve it, but is initially uncertain\nabout what it is. In Chapter 23, we explain the methods of inverse reinforcement learning\nInverse\nreinforcement\nlearning\nthat allow machines to learn more about human preferences from observations of the choices\nthat humans make. In Chapter 28, we explore two of the principal difﬁculties: ﬁrst, that\nour choices depend on our preferences through a very complex cognitive architecture that is\nhard to invert; and, second, that we humans may not have consistent preferences in the ﬁrst\nplace—either individually or as a group—so it may not be clear what AI systems should be\ndoing for us.\nSummary\nThis chapter deﬁnes AI and establishes the cultural background against which it has devel-\noped. Some of the important points are as follows:\n• Different people approach AI with different goals in mind. Two important questions to\nask are: Are you concerned with thinking, or behavior? Do you want to model humans,\nor try to achieve the optimal results?\n• According to what we have called the standard model, AI is concerned mainly with\nrational action. An ideal intelligent agent takes the best possible action in a situation.\nWe study the problem of building agents that are intelligent in this sense.\n• Two reﬁnements to this simple idea are needed: ﬁrst, the ability of any agent, human\nor otherwise, to choose rational actions is limited by the computational intractability of\ndoing so; second, the concept of a machine that pursues a deﬁnite objective needs to be\nreplaced with that of a machine pursuing objectives to beneﬁt humans, but uncertain as\nto what those objectives are.\n• Philosophers (going back to 400BCE ) made AI conceivable by suggesting that the mind\nis in some ways like a machine, that it operates on knowledge encoded in some internal\nlanguage, and that thought can be used to choose what actions to take.\n• Mathematicians provided the tools to manipulate statements of logical certainty as well\nas uncertain, probabilistic statements. They also set the groundwork for understanding\ncomputation and reasoning about algorithms.\n• Economists formalized the problem of making decisions that maximize the expected\nutility to the decision maker.\n• Neuroscientists discovered some facts about how the brain works and the ways in which\nit is similar to and different from computers.\n• Psychologists adopted the idea that humans and animals can be considered information-\nprocessing machines. Linguists showed that language use ﬁts into this model.\n• Computer engineers provided the ever-more-powerful machines that make AI applica-\ntions possible, and software engineers made them more usable."
                ],
                [
                  "33",
                  "..\\Data\\ai_modern_approach_4_edi.pdf",
                  "53",
                  "Bibliographical and Historical Notes 53\n• Control theory deals with designing devices that act optimally on the basis of feedback\nfrom the environment. Initially, the mathematical tools of control theory were quite\ndifferent from those used in AI, but the ﬁelds are coming closer together.\n• The history of AI has had cycles of success, misplaced optimism, and resulting cutbacks\nin enthusiasm and funding. There have also been cycles of introducing new, creative\napproaches and systematically reﬁning the best ones.\n• AI has matured considerably compared to its early decades, both theoretically and\nmethodologically. As the problems that AI deals with became more complex, the ﬁeld\nmoved from Boolean logic to probabilistic reasoning, and from hand-crafted knowledge\nto machine learning from data. This has led to improvements in the capabilities of real\nsystems and greater integration with other disciplines.\n• As AI systems ﬁnd application in the real world, it has become necessary to consider a\nwide range of risks and ethical consequences.\n• In the longer term, we face the difﬁcult problem of controlling superintelligent AI sys-\ntems that may evolve in unpredictable ways. Solving this problem seems to necessitate\na change in our conception of AI.\nBibliographical and Historical Notes\nA comprehensive history of AI is given by Nils Nilsson (2009), one of the early pioneers of\nthe ﬁeld. Pedro Domingos (2015) and Melanie Mitchell (2019) give overviews of machine\nlearning for a general audience, and Kai-Fu Lee (2018) describes the race for international\nleadership in AI. Martin Ford (2018) interviews 23 leading AI researchers.\nThe main professional societies for AI are the Association for the Advancement of Arti-\nﬁcial Intelligence (AAAI), the ACM Special Interest Group in Artiﬁcial Intelligence (SIGAI,\nformerly SIGART), the European Association for AI, and the Society for Artiﬁcial Intel-\nligence and Simulation of Behaviour (AISB). The Partnership on AI brings together many\ncommercial and nonproﬁt organizations concerned with the ethical and social impacts of AI.\nAAAI’sAI Magazine contains many topical and tutorial articles, and its Web site,aaai.org,\ncontains news, tutorials, and background information.\nThe most recent work appears in the proceedings of the major AI conferences: the In-\nternational Joint Conference on AI (IJCAI), the annual European Conference on AI (ECAI),\nand the AAAI Conference. Machine learning is covered by the International Conference\non Machine Learning and the Neural Information Processing Systems (NeurIPS) meeting.\nThe major journals for general AI are Artiﬁcial Intelligence, Computational Intelligence, the\nIEEE Transactions on Pattern Analysis and Machine Intelligence, IEEE Intelligent Systems,\nand the Journal of Artiﬁcial Intelligence Research . There are also many conferences and\njournals devoted to speciﬁc areas, which we cover in the appropriate chapters."
                ],
                [
                  "34",
                  "..\\Data\\ai_modern_approach_4_edi.pdf",
                  "54",
                  "CHAPTER 2\nINTELLIGENT AGENTS\nIn which we discuss the nature of agents, perfect or otherwise, the diversity of environments,\nand the resulting menagerie of agent types.\nChapter 1 identiﬁed the concept of rational agents as central to our approach to artiﬁcial\nintelligence. In this chapter, we make this notion more concrete. We will see that the concept\nof rationality can be applied to a wide variety of agents operating in any imaginable environ-\nment. Our plan in this book is to use this concept to develop a small set of design principles\nfor building successful agents—systems that can reasonably be called intelligent.\nWe begin by examining agents, environments, and the coupling between them. The ob-\nservation that some agents behave better than others leads naturally to the idea of a rational\nagent—one that behaves as well as possible. How well an agent can behave depends on the\nnature of the environment; some environments are more difﬁcult than others. We give a crude\ncategorization of environments and show how properties of an environment inﬂuence the de-\nsign of suitable agents for that environment. We describe a number of basic “skeleton” agent\ndesigns, which we ﬂesh out in the rest of the book.\n2.1 Agents and Environments\nAn agent is anything that can be viewed as perceiving its environment through sensors andEnvironment\nSensor acting upon that environment throughactuators. This simple idea is illustrated in Figure 2.1.\nActuator A human agent has eyes, ears, and other organs for sensors and hands, legs, vocal tract,\nand so on for actuators. A robotic agent might have cameras and infrared range ﬁnders for\nsensors and various motors for actuators. A software agent receives ﬁle contents, network\npackets, and human input (keyboard/mouse/touchscreen/voice) as sensory inputs and acts on\nthe environment by writing ﬁles, sending network packets, and displaying information or\ngenerating sounds. The environment could be everything—the entire universe! In practice it\nis just that part of the universe whose state we care about when designing this agent—the part\nthat affects what the agent perceives and that is affected by the agent’s actions.\nWe use the term percept to refer to the content an agent’s sensors are perceiving. AnPercept\nagent’spercept sequence is the complete history of everything the agent has ever perceived.Percept sequence\nIn general, an agent’s choice of action at any given instant can depend on its built-in knowl-▶\nedge and on the entire percept sequence observed to date, but not on anything it hasn’t per-\nceived. By specifying the agent’s choice of action for every possible percept sequence, we\nhave said more or less everything there is to say about the agent. Mathematically speak-\ning, we say that an agent’s behavior is described by the agent function that maps any givenAgent function\npercept sequence to an action."
                ],
                [
                  "35",
                  "..\\Data\\ai_modern_approach_4_edi.pdf",
                  "55",
                  "Section 2.1 Agents and Environments 55\nAgent Sensors \nActuators\nEnvironment \nPercepts \nActions\n?\nFigure 2.1 Agents interact with environments through sensors and actuators.\nWe can imagine tabulating the agent function that describes any given agent; for most\nagents, this would be a very large table—inﬁnite, in fact, unless we place a bound on the\nlength of percept sequences we want to consider. Given an agent to experiment with, we can,\nin principle, construct this table by trying out all possible percept sequences and recording\nwhich actions the agent does in response.1 The table is, of course, anexternal characterization\nof the agent. Internally, the agent function for an artiﬁcial agent will be implemented by an\nagent program. It is important to keep these two ideas distinct. The agent function is an Agent program\nabstract mathematical description; the agent program is a concrete implementation, running\nwithin some physical system.\nTo illustrate these ideas, we use a simple example—the vacuum-cleaner world, which\nconsists of a robotic vacuum-cleaning agent in a world consisting of squares that can be\neither dirty or clean. Figure 2.2 shows a conﬁguration with just two squares, A and B. The\nvacuum agent perceives which square it is in and whether there is dirt in the square. The\nagent starts in square A. The available actions are to move to the right, move to the left, suck\nup the dirt, or do nothing. 2 One very simple agent function is the following: if the current\nsquare is dirty, then suck; otherwise, move to the other square. A partial tabulation of this\nagent function is shown in Figure 2.3 and an agent program that implements it appears in\nFigure 2.8 on page 67.\nLooking at Figure 2.3, we see that various vacuum-world agents can be deﬁned simply\nby ﬁlling in the right-hand column in various ways. The obvious question, then, is this: What ◀\nis the right way to ﬁll out the table? In other words, what makes an agent good or bad,\nintelligent or stupid? We answer these questions in the next section.\n1 If the agent uses some randomization to choose its actions, then we would have to try each sequence many\ntimes to identify the probability of each action. One might imagine that acting randomly is rather silly, but we\nshow later in this chapter that it can be very intelligent.\n2 In a real robot, it would be unlikely to have an actions like “move right” and “move left.” Instead the actions\nwould be “spin wheels forward” and “spin wheels backward.” We have chosen the actions to be easier to follow\non the page, not for ease of implementation in an actual robot."
                ],
                [
                  "36",
                  "..\\Data\\ai_modern_approach_4_edi.pdf",
                  "56",
                  "56 Chapter 2 Intelligent Agents\nA B\nFigure 2.2 A vacuum-cleaner world with just two locations. Each location can be clean or\ndirty, and the agent can move left or right and can clean the square that it occupies. Different\nversions of the vacuum world allow for different rules about what the agent can perceive,\nwhether its actions always succeed, and so on.\nPercept sequence Action\n[A,Clean] Right\n[A,Dirty] Suck\n[B,Clean] Left\n[B,Dirty] Suck\n[A,Clean], [A,Clean] Right\n[A,Clean], [A,Dirty] Suck\n... ...\n[A,Clean], [A,Clean], [A,Clean] Right\n[A,Clean], [A,Clean], [A,Dirty] Suck\n... ...\nFigure 2.3 Partial tabulation of a simple agent function for the vacuum-cleaner world shown\nin Figure 2.2. The agent cleans the current square if it is dirty, otherwise it moves to the other\nsquare. Note that the table is of unbounded size unless there is a restriction on the length of\npossible percept sequences.\nBefore closing this section, we should emphasize that the notion of an agent is meant to\nbe a tool for analyzing systems, not an absolute characterization that divides the world into\nagents and non-agents. One could view a hand-held calculator as an agent that chooses the\naction of displaying “4” when given the percept sequence “2 + 2 =,” but such an analysis\nwould hardly aid our understanding of the calculator. In a sense, all areas of engineering can\nbe seen as designing artifacts that interact with the world; AI operates at (what the authors\nconsider to be) the most interesting end of the spectrum, where the artifacts have signiﬁcant\ncomputational resources and the task environment requires nontrivial decision making."
                ],
                [
                  "37",
                  "..\\Data\\ai_modern_approach_4_edi.pdf",
                  "57",
                  "Section 2.2 Good Behavior: The Concept of Rationality 57\n2.2 Good Behavior: The Concept of Rationality\nA rational agent is one that does the right thing. Obviously, doing the right thing is better Rational agent\nthan doing the wrong thing, but what does it mean to do the right thing?\n2.2.1 Performance measures\nMoral philosophy has developed several different notions of the “right thing,” but AI has\ngenerally stuck to one notion calledconsequentialism: we evaluate an agent’s behavior by its Consequentialism\nconsequences. When an agent is plunked down in an environment, it generates a sequence of\nactions according to the percepts it receives. This sequence of actions causes the environment\nto go through a sequence of states. If the sequence is desirable, then the agent has performed\nwell. This notion of desirability is captured by a performance measure that evaluates any Performance\nmeasure\ngiven sequence of environment states.\nHumans have desires and preferences of their own, so the notion of rationality as applied\nto humans has to do with their success in choosing actions that produce sequences of envi-\nronment states that are desirablefrom their point of view. Machines, on the other hand, do not\nhave desires and preferences of their own; the performance measure is, initially at least, in the\nmind of the designer of the machine, or in the mind of the users the machine is designed for.\nWe will see that some agent designs have an explicit representation of (a version of) the per-\nformance measure, while in other designs the performance measure is entirely implicit—the\nagent may do the right thing, but it doesn’t know why.\nRecalling Norbert Wiener’s warning to ensure that “the purpose put into the machine is\nthe purpose which we really desire” (page 51), notice that it can be quite hard to formulate\na performance measure correctly. Consider, for example, the vacuum-cleaner agent from the\npreceding section. We might propose to measure performance by the amount of dirt cleaned\nup in a single eight-hour shift. With a rational agent, of course, what you ask for is what\nyou get. A rational agent can maximize this performance measure by cleaning up the dirt,\nthen dumping it all on the ﬂoor, then cleaning it up again, and so on. A more suitable per-\nformance measure would reward the agent for having a clean ﬂoor. For example, one point\ncould be awarded for each clean square at each time step (perhaps with a penalty for elec-\ntricity consumed and noise generated). As a general rule, it is better to design performance ◀\nmeasures according to what one actually wants to be achieved in the environment, rather\nthan according to how one thinks the agent should behave.\nEven when the obvious pitfalls are avoided, some knotty problems remain. For example,\nthe notion of “clean ﬂoor” in the preceding paragraph is based on average cleanliness over\ntime. Yet the same average cleanliness can be achieved by two different agents, one of which\ndoes a mediocre job all the time while the other cleans energetically but takes long breaks.\nWhich is preferable might seem to be a ﬁne point of janitorial science, but in fact it is a\ndeep philosophical question with far-reaching implications. Which is better—a reckless life\nof highs and lows, or a safe but humdrum existence? Which is better—an economy where\neveryone lives in moderate poverty, or one in which some live in plenty while others are very\npoor? We leave these questions as an exercise for the diligent reader.\nFor most of the book, we will assume that the performance measure can be speciﬁed\ncorrectly. For the reasons given above, however, we must accept the possibility that we might\nput the wrong purpose into the machine—precisely the King Midas problem described on"
                ],
                [
                  "38",
                  "..\\Data\\ai_modern_approach_4_edi.pdf",
                  "58",
                  "58 Chapter 2 Intelligent Agents\npage 51. Moreover, when designing one piece of software, copies of which will belong to\ndifferent users, we cannot anticipate the exact preferences of each individual user. Thus, we\nmay need to build agents that reﬂect initial uncertainty about the true performance measure\nand learn more about it as time goes by; such agents are described in Chapters 15, 17, and 23.\n2.2.2 Rationality\nWhat is rational at any given time depends on four things:\n• The performance measure that deﬁnes the criterion of success.\n• The agent’s prior knowledge of the environment.\n• The actions that the agent can perform.\n• The agent’s percept sequence to date.\nThis leads to a deﬁnition of a rational agent:Deﬁnition of a\nrational agent\n▶ For each possible percept sequence, a rational agent should select an action that is ex-\npected to maximize its performance measure, given the evidence provided by the percept\nsequence and whatever built-in knowledge the agent has.\nConsider the simple vacuum-cleaner agent that cleans a square if it is dirty and moves to the\nother square if not; this is the agent function tabulated in Figure 2.3. Is this a rational agent?\nThat depends! First, we need to say what the performance measure is, what is known about\nthe environment, and what sensors and actuators the agent has. Let us assume the following:\n• The performance measure awards one point for each clean square at each time step,\nover a “lifetime” of 1000 time steps.\n• The “geography” of the environment is known a priori (Figure 2.2) but the dirt distri-\nbution and the initial location of the agent are not. Clean squares stay clean and sucking\ncleans the current square. The Right and Left actions move the agent one square ex-\ncept when this would take the agent outside the environment, in which case the agent\nremains where it is.\n• The only available actions are Right, Left, and Suck.\n• The agent correctly perceives its location and whether that location contains dirt.\nUnder these circumstances the agent is indeed rational; its expected performance is at least\nas good as any other agent’s.\nOne can see easily that the same agent would be irrational under different circumstances.\nFor example, once all the dirt is cleaned up, the agent will oscillate needlessly back and forth;\nif the performance measure includes a penalty of one point for each movement, the agent will\nfare poorly. A better agent for this case would do nothing once it is sure that all the squares\nare clean. If clean squares can become dirty again, the agent should occasionally check and\nre-clean them if needed. If the geography of the environment is unknown, the agent will need\nto explore it. Exercise 2.VACR asks you to design agents for these cases.\n2.2.3 Omniscience, learning, and autonomy\nWe need to be careful to distinguish between rationality and omniscience. An omniscientOmniscience\nagent knows the actual outcome of its actions and can act accordingly; but omniscience is\nimpossible in reality. Consider the following example: I am walking along the Champs\nElys´ees one day and I see an old friend across the street. There is no trafﬁc nearby and I’m"
                ],
                [
                  "39",
                  "..\\Data\\ai_modern_approach_4_edi.pdf",
                  "59",
                  "Section 2.2 Good Behavior: The Concept of Rationality 59\nnot otherwise engaged, so, being rational, I start to cross the street. Meanwhile, at 33,000\nfeet, a cargo door falls off a passing airliner, 3 and before I make it to the other side of the\nstreet I am ﬂattened. Was I irrational to cross the street? It is unlikely that my obituary would\nread “Idiot attempts to cross street.”\nThis example shows that rationality is not the same as perfection. Rationality maximizes\nexpected performance, while perfection maximizes actual performance. Retreating from a\nrequirement of perfection is not just a question of being fair to agents. The point is that if we\nexpect an agent to do what turns out after the fact to be the best action, it will be impossible\nto design an agent to fulﬁll this speciﬁcation—unless we improve the performance of crystal\nballs or time machines.\nOur deﬁnition of rationality does not require omniscience, then, because the rational\nchoice depends only on the percept sequence to date. We must also ensure that we haven’t\ninadvertently allowed the agent to engage in decidedly underintelligent activities. For exam-\nple, if an agent does not look both ways before crossing a busy road, then its percept sequence\nwill not tell it that there is a large truck approaching at high speed. Does our deﬁnition of\nrationality say that it’s now OK to cross the road? Far from it!\nFirst, it would not be rational to cross the road given this uninformative percept sequence:\nthe risk of accident from crossing without looking is too great. Second, a rational agent should\nchoose the “looking” action before stepping into the street, because looking helps maximize\nthe expected performance. Doing actions in order to modify future percepts —sometimes\ncalled information gathering—is an important part of rationality and is covered in depth in Information\ngathering\nChapter 15. A second example of information gathering is provided by the exploration that\nmust be undertaken by a vacuum-cleaning agent in an initially unknown environment.\nOur deﬁnition requires a rational agent not only to gather information but also tolearn as Learning\nmuch as possible from what it perceives. The agent’s initial conﬁguration could reﬂect some\nprior knowledge of the environment, but as the agent gains experience this may be modiﬁed\nand augmented. There are extreme cases in which the environment is completely known a\npriori and completely predictable. In such cases, the agent need not perceive or learn; it\nsimply acts correctly.\nOf course, such agents are fragile. Consider the lowly dung beetle. After digging its nest\nand laying its eggs, it fetches a ball of dung from a nearby heap to plug the entrance. If the\nball of dung is removed from its grasp en route, the beetle continues its task and pantomimes\nplugging the nest with the nonexistent dung ball, never noticing that it is missing. Evolu-\ntion has built an assumption into the beetle’s behavior, and when it is violated, unsuccessful\nbehavior results.\nSlightly more intelligent is the sphex wasp. The female sphex will dig a burrow, go out\nand sting a caterpillar and drag it to the burrow, enter the burrow again to check all is well,\ndrag the caterpillar inside, and lay its eggs. The caterpillar serves as a food source when the\neggs hatch. So far so good, but if an entomologist moves the caterpillar a few inches away\nwhile the sphex is doing the check, it will revert to the “drag the caterpillar” step of its plan\nand will continue the plan without modiﬁcation, re-checking the burrow, even after dozens of\ncaterpillar-moving interventions. The sphex is unable to learn that its innate plan is failing,\nand thus will not change it.\n3 See N. Henderson, “New door latches urged for Boeing 747 jumbo jets,”Washington Post, August 24, 1989."
                ],
                [
                  "40",
                  "..\\Data\\ai_modern_approach_4_edi.pdf",
                  "60",
                  "60 Chapter 2 Intelligent Agents\nTo the extent that an agent relies on the prior knowledge of its designer rather than on its\nown percepts and learning processes, we say that the agent lacksautonomy. A rational agentAutonomy\nshould be autonomous—it should learn what it can to compensate for partial or incorrect\nprior knowledge. For example, a vacuum-cleaning agent that learns to predict where and\nwhen additional dirt will appear will do better than one that does not.\nAs a practical matter, one seldom requires complete autonomy from the start: when the\nagent has had little or no experience, it would have to act randomly unless the designer gave\nsome assistance. Just as evolution provides animals with enough built-in reﬂexes to survive\nlong enough to learn for themselves, it would be reasonable to provide an artiﬁcial intelligent\nagent with some initial knowledge as well as an ability to learn. After sufﬁcient experience\nof its environment, the behavior of a rational agent can become effectivelyindependent of its\nprior knowledge. Hence, the incorporation of learning allows one to design a single rational\nagent that will succeed in a vast variety of environments.\n2.3 The Nature of Environments\nNow that we have a deﬁnition of rationality, we are almost ready to think about building\nrational agents. First, however, we must think about task environments, which are essen-Task environment\ntially the “problems” to which rational agents are the “solutions.” We begin by showing how\nto specify a task environment, illustrating the process with a number of examples. We then\nshow that task environments come in a variety of ﬂavors. The nature of the task environment\ndirectly affects the appropriate design for the agent program.\n2.3.1 Specifying the task environment\nIn our discussion of the rationality of the simple vacuum-cleaner agent, we had to specify\nthe performance measure, the environment, and the agent’s actuators and sensors. We group\nall these under the heading of the task environment. For the acronymically minded, we call\nthis the PEAS (Performance, Environment, Actuators, Sensors) description. In designing anPEAS\nagent, the ﬁrst step must always be to specify the task environment as fully as possible.\nThe vacuum world was a simple example; let us consider a more complex problem:\nan automated taxi driver. Figure 2.4 summarizes the PEAS description for the taxi’s task\nenvironment. We discuss each element in more detail in the following paragraphs.\nFirst, what is the performance measure to which we would like our automated driver\nto aspire? Desirable qualities include getting to the correct destination; minimizing fuel con-\nsumption and wear and tear; minimizing the trip time or cost; minimizing violations of trafﬁc\nlaws and disturbances to other drivers; maximizing safety and passenger comfort; maximiz-\ning proﬁts. Obviously, some of these goals conﬂict, so tradeoffs will be required.\nNext, what is the driving environment that the taxi will face? Any taxi driver must deal\nwith a variety of roads, ranging from rural lanes and urban alleys to 12-lane freeways. The\nroads contain other trafﬁc, pedestrians, stray animals, road works, police cars, puddles, and\npotholes. The taxi must also interact with potential and actual passengers. There are also\nsome optional choices. The taxi might need to operate in Southern California, where snow\nis seldom a problem, or in Alaska, where it seldom is not. It could always be driving on the\nright, or we might want it to be ﬂexible enough to drive on the left when in Britain or Japan.\nObviously, the more restricted the environment, the easier the design problem."
                ],
                [
                  "41",
                  "..\\Data\\ai_modern_approach_4_edi.pdf",
                  "61",
                  "Section 2.3 The Nature of Environments 61\nAgent Type Performance\nMeasure\nEnvironment Actuators Sensors\nTaxi driver Safe, fast,\nlegal,\ncomfortable\ntrip, maximize\nproﬁts,\nminimize\nimpact on\nother road\nusers\nRoads, other\ntrafﬁc, police,\npedestrians,\ncustomers,\nweather\nSteering,\naccelerator,\nbrake, signal,\nhorn, display,\nspeech\nCameras, radar,\nspeedometer, GPS, engine\nsensors, accelerometer,\nmicrophones, touchscreen\nFigure 2.4 PEAS description of the task environment for an automated taxi driver.\nThe actuators for an automated taxi include those available to a human driver: control\nover the engine through the accelerator and control over steering and braking. In addition, it\nwill need output to a display screen or voice synthesizer to talk back to the passengers, and\nperhaps some way to communicate with other vehicles, politely or otherwise.\nThe basic sensors for the taxi will include one or more video cameras so that it can see, as\nwell as lidar and ultrasound sensors to detect distances to other cars and obstacles. To avoid\nspeeding tickets, the taxi should have a speedometer, and to control the vehicle properly,\nespecially on curves, it should have an accelerometer. To determine the mechanical state of\nthe vehicle, it will need the usual array of engine, fuel, and electrical system sensors. Like\nmany human drivers, it might want to access GPS signals so that it doesn’t get lost. Finally,\nit will need touchscreen or voice input for the passenger to request a destination.\nIn Figure 2.5, we have sketched the basic PEAS elements for a number of additional\nagent types. Further examples appear in Exercise 2. PEAS . The examples include physical\nas well as virtual environments. Note that virtual task environments can be just as complex\nas the “real” world: for example, a software agent (or software robot or softbot) that trades Software agent\nSoftboton auction and reselling Web sites deals with millions of other users and billions of objects,\nmany with real images.\n2.3.2 Properties of task environments\nThe range of task environments that might arise in AI is obviously vast. We can, however,\nidentify a fairly small number of dimensions along which task environments can be catego-\nrized. These dimensions determine, to a large extent, the appropriate agent design and the\napplicability of each of the principal families of techniques for agent implementation. First\nwe list the dimensions, then we analyze several task environments to illustrate the ideas. The\ndeﬁnitions here are informal; later chapters provide more precise statements and examples of\neach kind of environment.\nFully observable vs. partially observable: If an agent’s sensors give it access to the Fully observable\nPartially observablecomplete state of the environment at each point in time, then we say that the task environ-\nment is fully observable. A task environment is effectively fully observable if the sensors\ndetect all aspects that are relevant to the choice of action; relevance, in turn, depends on the"
                ],
                [
                  "42",
                  "..\\Data\\ai_modern_approach_4_edi.pdf",
                  "62",
                  "62 Chapter 2 Intelligent Agents\nAgent Type Performance\nMeasure\nEnvironment Actuators Sensors\nMedical\ndiagnosis system\nHealthy patient,\nreduced costs\nPatient, hospital,\nstaff\nDisplay of\nquestions, tests,\ndiagnoses,\ntreatments\nTouchscreen/voice\nentry of\nsymptoms and\nﬁndings\nSatellite image\nanalysis system\nCorrect\ncategorization of\nobjects, terrain\nOrbiting satellite,\ndownlink,\nweather\nDisplay of scene\ncategorization\nHigh-resolution\ndigital camera\nPart-picking\nrobot\nPercentage of\nparts in correct\nbins\nConveyor belt\nwith parts; bins\nJointed arm and\nhand\nCamera, tactile\nand joint angle\nsensors\nReﬁnery\ncontroller\nPurity, yield,\nsafety\nReﬁnery, raw\nmaterials,\noperators\nValves, pumps,\nheaters, stirrers,\ndisplays\nTemperature,\npressure, ﬂow,\nchemical sensors\nInteractive\nEnglish tutor\nStudent’s score\non test\nSet of students,\ntesting agency\nDisplay of\nexercises,\nfeedback, speech\nKeyboard entry,\nvoice\nFigure 2.5 Examples of agent types and their PEAS descriptions.\nperformance measure. Fully observable environments are convenient because the agent need\nnot maintain any internal state to keep track of the world. An environment might be partially\nobservable because of noisy and inaccurate sensors or because parts of the state are simply\nmissing from the sensor data—for example, a vacuum agent with only a local dirt sensor\ncannot tell whether there is dirt in other squares, and an automated taxi cannot see what other\ndrivers are thinking. If the agent has no sensors at all then the environment is unobserv-\nable. One might think that in such cases the agent’s plight is hopeless, but, as we discuss inUnobservable\nChapter 4, the agent’s goals may still be achievable, sometimes with certainty.\nSingle-agent vs. multiagent: The distinction between single-agent and multiagent en-Single-agent\nMultiagent vironments may seem simple enough. For example, an agent solving a crossword puzzle by\nitself is clearly in a single-agent environment, whereas an agent playing chess is in a two-\nagent environment. However, there are some subtle issues. First, we have described how an\nentity may be viewed as an agent, but we have not explained which entities must be viewed\nas agents. Does an agent A (the taxi driver for example) have to treat an object B (another\nvehicle) as an agent, or can it be treated merely as an object behaving according to the laws of\nphysics, analogous to waves at the beach or leaves blowing in the wind? The key distinction\nis whether B’s behavior is best described as maximizing a performance measure whose value\ndepends on agent A’s behavior."
                ],
                [
                  "43",
                  "..\\Data\\ai_modern_approach_4_edi.pdf",
                  "63",
                  "Section 2.3 The Nature of Environments 63\nFor example, in chess, the opponent entity B is trying to maximize its performance mea-\nsure, which, by the rules of chess, minimizes agent A’s performance measure. Thus, chess is\na competitive multiagent environment. On the other hand, in the taxi-driving environment, Competitive\navoiding collisions maximizes the performance measure of all agents, so it is a partially co-\noperative multiagent environment. It is also partially competitive because, for example, only Cooperative\none car can occupy a parking space.\nThe agent-design problems in multiagent environments are often quite different from\nthose in single-agent environments; for example, communication often emerges as a rational\nbehavior in multiagent environments; in some competitive environments, randomized behav-\nior is rational because it avoids the pitfalls of predictability.\nDeterministic vs. nondeterministic. If the next state of the environment is completely Deterministic\nNondeterministicdetermined by the current state and the action executed by the agent(s), then we say the\nenvironment is deterministic; otherwise, it is nondeterministic. In principle, an agent need not\nworry about uncertainty in a fully observable, deterministic environment. If the environment\nis partially observable, however, then it couldappear to be nondeterministic.\nMost real situations are so complex that it is impossible to keep track of all the unobserved\naspects; for practical purposes, they must be treated as nondeterministic. Taxi driving is\nclearly nondeterministic in this sense, because one can never predict the behavior of trafﬁc\nexactly; moreover, one’s tires may blow out unexpectedly and one’s engine may seize up\nwithout warning. The vacuum world as we described it is deterministic, but variations can\ninclude nondeterministic elements such as randomly appearing dirt and an unreliable suction\nmechanism (Exercise 2.VFIN ).\nOne ﬁnal note: the word stochastic is used by some as a synonym for “nondeterministic,” Stochastic\nbut we make a distinction between the two terms; we say that a model of the environment\nis stochastic if it explicitly deals with probabilities (e.g., “there’s a 25% chance of rain to-\nmorrow”) and “nondeterministic” if the possibilities are listed without being quantiﬁed (e.g.,\n“there’s a chance of rain tomorrow”).\nEpisodic vs. sequential: In an episodic task environment, the agent’s experience is di- Episodic\nSequentialvided into atomic episodes. In each episode the agent receives a percept and then performs\na single action. Crucially, the next episode does not depend on the actions taken in pre-\nvious episodes. Many classiﬁcation tasks are episodic. For example, an agent that has to\nspot defective parts on an assembly line bases each decision on the current part, regardless\nof previous decisions; moreover, the current decision doesn’t affect whether the next part is\ndefective. In sequential environments, on the other hand, the current decision could affect\nall future decisions.4 Chess and taxi driving are sequential: in both cases, short-term actions\ncan have long-term consequences. Episodic environments are much simpler than sequential\nenvironments because the agent does not need to think ahead.\nStatic vs. dynamic: If the environment can change while an agent is deliberating, then Static\nDynamicwe say the environment is dynamic for that agent; otherwise, it is static. Static environments\nare easy to deal with because the agent need not keep looking at the world while it is deciding\non an action, nor need it worry about the passage of time. Dynamic environments, on the\nother hand, are continuously asking the agent what it wants to do; if it hasn’t decided yet,\n4 The word “sequential” is also used in computer science as the antonym of “parallel.” The two meanings are\nlargely unrelated."
                ],
                [
                  "44",
                  "..\\Data\\ai_modern_approach_4_edi.pdf",
                  "64",
                  "64 Chapter 2 Intelligent Agents\nthat counts as deciding to do nothing. If the environment itself does not change with the\npassage of time but the agent’s performance score does, then we say the environment is\nsemidynamic. Taxi driving is clearly dynamic: the other cars and the taxi itself keep movingSemidynamic\nwhile the driving algorithm dithers about what to do next. Chess, when played with a clock,\nis semidynamic. Crossword puzzles are static.\nDiscrete vs. continuous: The discrete/continuous distinction applies to the state of theDiscrete\nContinuous environment, to the way time is handled, and to the percepts and actions of the agent. For\nexample, the chess environment has a ﬁnite number of distinct states (excluding the clock).\nChess also has a discrete set of percepts and actions. Taxi driving is a continuous-state and\ncontinuous-time problem: the speed and location of the taxi and of the other vehicles sweep\nthrough a range of continuous values and do so smoothly over time. Taxi-driving actions are\nalso continuous (steering angles, etc.). Input from digital cameras is discrete, strictly speak-\ning, but is typically treated as representing continuously varying intensities and locations.\nKnown vs. unknown: Strictly speaking, this distinction refers not to the environmentKnown\nUnknown itself but to the agent’s (or designer’s) state of knowledge about the “laws of physics” of\nthe environment. In a known environment, the outcomes (or outcome probabilities if the\nenvironment is nondeterministic) for all actions are given. Obviously, if the environment is\nunknown, the agent will have to learn how it works in order to make good decisions.\nThe distinction between known and unknown environments is not the same as the one\nbetween fully and partially observable environments. It is quite possible for aknown environ-\nment to be partially observable—for example, in solitaire card games, I know the rules but\nam still unable to see the cards that have not yet been turned over. Conversely, an unknown\nenvironment can be fully observable—in a new video game, the screen may show the entire\ngame state but I still don’t know what the buttons do until I try them.\nAs noted on page 57, the performance measure itself may be unknown, either because\nthe designer is not sure how to write it down correctly or because the ultimate user—whose\npreferences matter—is not known. For example, a taxi driver usually won’t know whether a\nnew passenger prefers a leisurely or speedy journey, a cautious or aggressive driving style.\nA virtual personal assistant starts out knowing nothing about the personal preferences of its\nnew owner. In such cases, the agent may learn more about the performance measure based on\nfurther interactions with the designer or user. This, in turn, suggests that the task environment\nis necessarily viewed as a multiagent environment.\nThe hardest case is partially observable, multiagent, nondeterministic, sequential, dy-\nnamic, continuous, and unknown. Taxi driving is hard in all these senses, except that the\ndriver’s environment is mostly known. Driving a rented car in a new country with unfamiliar\ngeography, different trafﬁc laws, and nervous passengers is a lot more exciting.\nFigure 2.6 lists the properties of a number of familiar environments. Note that the prop-\nerties are not always cut and dried. For example, we have listed the medical-diagnosis task\nas single-agent because the disease process in a patient is not proﬁtably modeled as an agent;\nbut a medical-diagnosis system might also have to deal with recalcitrant patients and skepti-\ncal staff, so the environment could have a multiagent aspect. Furthermore, medical diagnosis\nis episodic if one conceives of the task as selecting a diagnosis given a list of symptoms; the\nproblem is sequential if the task can include proposing a series of tests, evaluating progress\nover the course of treatment, handling multiple patients, and so on."
                ],
                [
                  "45",
                  "..\\Data\\ai_modern_approach_4_edi.pdf",
                  "65",
                  "Section 2.4 The Structure of Agents 65\nTask Environment Observable Agents Deterministic Episodic Static Discrete\nCrossword puzzle Fully Single Deterministic Sequential Static Discrete\nChess with a clock Fully Multi Deterministic Sequential Semi Discrete\nPoker Partially Multi Stochastic Sequential Static Discrete\nBackgammon Fully Multi Stochastic Sequential Static Discrete\nTaxi driving Partially Multi Stochastic Sequential Dynamic Continuous\nMedical diagnosis Partially Single Stochastic Sequential Dynamic Continuous\nImage analysis Fully Single Deterministic Episodic Semi Continuous\nPart-picking robot Partially Single Stochastic Episodic Dynamic Continuous\nReﬁnery controller Partially Single Stochastic Sequential Dynamic Continuous\nEnglish tutor Partially Multi Stochastic Sequential Dynamic Discrete\nFigure 2.6 Examples of task environments and their characteristics.\nWe have not included a “known/unknown” column because, as explained earlier, this is\nnot strictly a property of the environment. For some environments, such as chess and poker,\nit is quite easy to supply the agent with full knowledge of the rules, but it is nonetheless\ninteresting to consider how an agent might learn to play these games without such knowledge.\nThe code repository associated with this book (aima.cs.berkeley.edu) includes mul-\ntiple environment implementations, together with a general-purpose environment simulator\nfor evaluating an agent’s performance. Experiments are often carried out not for a single\nenvironment but for many environments drawn from an environment class. For example, to Environment class\nevaluate a taxi driver in simulated trafﬁc, we would want to run many simulations with dif-\nferent trafﬁc, lighting, and weather conditions. We are then interested in the agent’s average\nperformance over the environment class.\n2.4 The Structure of Agents\nSo far we have talked about agents by describingbehavior—the action that is performed after\nany given sequence of percepts. Now we must bite the bullet and talk about how the insides\nwork. The job of AI is to design an agent program that implements the agent function— Agent program\nthe mapping from percepts to actions. We assume this program will run on some sort of\ncomputing device with physical sensors and actuators—we call this the agent architecture: Agent architecture\nagent = architecture+program.\nObviously, the program we choose has to be one that is appropriate for the architecture. If the\nprogram is going to recommend actions like Walk, the architecture had better have legs. The\narchitecture might be just an ordinary PC, or it might be a robotic car with several onboard\ncomputers, cameras, and other sensors. In general, the architecture makes the percepts from\nthe sensors available to the program, runs the program, and feeds the program’s action choices\nto the actuators as they are generated. Most of this book is about designing agent programs,\nalthough Chapters 26 and 27 deal directly with the sensors and actuators."
                ],
                [
                  "46",
                  "..\\Data\\ai_modern_approach_4_edi.pdf",
                  "66",
                  "66 Chapter 2 Intelligent Agents\nfunction TABLE -DRIVEN -AGENT (percept) returns an action\npersistent: percepts, a sequence, initially empty\ntable, a table of actions, indexed by percept sequences, initially fully speciﬁed\nappend percept to the end of percepts\naction←LOOKUP (percepts, table)\nreturn action\nFigure 2.7 The TABLE -DRIVEN -AGENT program is invoked for each new percept and re-\nturns an action each time. It retains the complete percept sequence in memory.\n2.4.1 Agent programs\nThe agent programs that we design in this book all have the same skeleton: they take the\ncurrent percept as input from the sensors and return an action to the actuators. 5 Notice the\ndifference between the agent program, which takes the current percept as input, and the agent\nfunction, which may depend on the entire percept history. The agent program has no choice\nbut to take just the current percept as input because nothing more is available from the envi-\nronment; if the agent’s actions need to depend on the entire percept sequence, the agent will\nhave to remember the percepts.\nWe describe the agent programs in the simple pseudocode language that is deﬁned in\nAppendix B. (The online code repository contains implementations in real programming\nlanguages.) For example, Figure 2.7 shows a rather trivial agent program that keeps track of\nthe percept sequence and then uses it to index into a table of actions to decide what to do.\nThe table—an example of which is given for the vacuum world in Figure 2.3—represents\nexplicitly the agent function that the agent program embodies. To build a rational agent in\nthis way, we as designers must construct a table that contains the appropriate action for every\npossible percept sequence.\nIt is instructive to consider why the table-driven approach to agent construction is doomed\nto failure. Let Pbe the set of possible percepts and letT be the lifetime of the agent (the total\nnumber of percepts it will receive). The lookup table will contain∑T\nt =1 |P|t entries. Consider\nthe automated taxi: the visual input from a single camera (eight cameras is typical) comes\nin at the rate of roughly 70 megabytes per second (30 frames per second, 1080 ×720 pixels\nwith 24 bits of color information). This gives a lookup table with over 10600,000,000,000 entries\nfor an hour’s driving. Even the lookup table for chess—a tiny, well-behaved fragment of the\nreal world—has (it turns out) at least 10 150 entries. In comparison, the number of atoms in\nthe observable universe is less than 1080. The daunting size of these tables means that (a) no\nphysical agent in this universe will have the space to store the table; (b) the designer would\nnot have time to create the table; and (c) no agent could ever learn all the right table entries\nfrom its experience.\nDespite all this, T ABLE -DRIVEN -AGENT does do what we want, assuming the table is\nﬁlled in correctly: it implements the desired agent function.▶\n5 There are other choices for the agent program skeleton; for example, we could have the agent programs be\ncoroutines that run asynchronously with the environment. Each such coroutine has an input and output port and\nconsists of a loop that reads the input port for percepts and writes actions to the output port."
                ],
                [
                  "47",
                  "..\\Data\\ai_modern_approach_4_edi.pdf",
                  "67",
                  "Section 2.4 The Structure of Agents 67\nfunction REFLEX -VACUUM -AGENT ([location,status]) returns an action\nif status = Dirty then return Suck\nelse if location = A then return Right\nelse if location = B then return Left\nFigure 2.8 The agent program for a simple reﬂex agent in the two-location vacuum environ-\nment. This program implements the agent function tabulated in Figure 2.3.\nThe key challenge for AI is to ﬁnd out how to write programs that, to the extent possible,\nproduce rational behavior from a smallish program rather than from a vast table.\nWe have many examples showing that this can be done successfully in other areas: for\nexample, the huge tables of square roots used by engineers and schoolchildren prior to the\n1970s have now been replaced by a ﬁve-line program for Newton’s method running on elec-\ntronic calculators. The question is, can AI do for general intelligent behavior what Newton\ndid for square roots? We believe the answer is yes.\nIn the remainder of this section, we outline four basic kinds of agent programs that em-\nbody the principles underlying almost all intelligent systems:\n• Simple reﬂex agents;\n• Model-based reﬂex agents;\n• Goal-based agents; and\n• Utility-based agents.\nEach kind of agent program combines particular components in particular ways to generate\nactions. Section 2.4.6 explains in general terms how to convert all these agents into learning\nagents that can improve the performance of their components so as to generate better actions.\nFinally, Section 2.4.7 describes the variety of ways in which the components themselves can\nbe represented within the agent. This variety provides a major organizing principle for the\nﬁeld and for the book itself.\n2.4.2 Simple reﬂex agents\nThe simplest kind of agent is thesimple reﬂex agent. These agents select actions on the basis Simple reﬂex agent\nof the current percept, ignoring the rest of the percept history. For example, the vacuum agent\nwhose agent function is tabulated in Figure 2.3 is a simple reﬂex agent, because its decision\nis based only on the current location and on whether that location contains dirt. An agent\nprogram for this agent is shown in Figure 2.8.\nNotice that the vacuum agent program is very small indeed compared to the correspond-\ning table. The most obvious reduction comes from ignoring the percept history, which cuts\ndown the number of relevant percept sequences from 4 T to just 4. A further, small reduc-\ntion comes from the fact that when the current square is dirty, the action does not depend on\nthe location. Although we have written the agent program using if-then-else statements, it is\nsimple enough that it can also be implemented as a Boolean circuit.\nSimple reﬂex behaviors occur even in more complex environments. Imagine yourself as\nthe driver of the automated taxi. If the car in front brakes and its brake lights come on, then\nyou should notice this and initiate braking. In other words, some processing is done on the"
                ],
                [
                  "48",
                  "..\\Data\\ai_modern_approach_4_edi.pdf",
                  "68",
                  "68 Chapter 2 Intelligent Agents\nAgent\nEnvironment \nSensors\nWhat action I\nshould do nowCondition-action rules\nActuators\nWhat the world\nis like now\nFigure 2.9 Schematic diagram of a simple reﬂex agent. We use rectangles to denote the\ncurrent internal state of the agent’s decision process, and ovals to represent the background\ninformation used in the process.\nvisual input to establish the condition we call “The car in front is braking.” Then, this triggers\nsome established connection in the agent program to the action “initiate braking.” We call\nsuch a connection a condition–action rule,6 written asCondition–action\nrule\nif car-in-front-is-braking then initiate-braking.\nHumans also have many such connections, some of which are learned responses (as for driv-\ning) and some of which are innate reﬂexes (such as blinking when something approaches the\neye). In the course of the book, we show several different ways in which such connections\ncan be learned and implemented.\nThe program in Figure 2.8 is speciﬁc to one particular vacuum environment. A more\ngeneral and ﬂexible approach is ﬁrst to build a general-purpose interpreter for condition–\naction rules and then to create rule sets for speciﬁc task environments. Figure 2.9 gives the\nstructure of this general program in schematic form, showing how the condition–action rules\nallow the agent to make the connection from percept to action. Do not worry if this seems\ntrivial; it gets more interesting shortly.\nAn agent program for Figure 2.9 is shown in Figure 2.10. The I NTERPRET -INPUT\nfunction generates an abstracted description of the current state from the percept, and the\nRULE -MATCH function returns the ﬁrst rule in the set of rules that matches the given state\ndescription. Note that the description in terms of “rules” and “matching” is purely concep-\ntual; as noted above, actual implementations can be as simple as a collection of logic gates\nimplementing a Boolean circuit. Alternatively, a “neural” circuit can be used, where the logic\ngates are replaced by the nonlinear units of artiﬁcial neural networks (see Chapter 22).\nSimple reﬂex agents have the admirable property of being simple, but they are of limited\nintelligence. The agent in Figure 2.10 will work only if the correct decision can be made on▶\nthe basis of just the current percept—that is, only if the environment is fully observable.\n6 Also called situation–action rules, productions, or if–then rules."
                ],
                [
                  "49",
                  "..\\Data\\ai_modern_approach_4_edi.pdf",
                  "69",
                  "Section 2.4 The Structure of Agents 69\nfunction SIMPLE -REFLEX -AGENT (percept) returns an action\npersistent: rules, a set of condition–action rules\nstate←INTERPRET -INPUT (percept)\nrule←RULE -MATCH(state, rules)\naction←rule.ACTION\nreturn action\nFigure 2.10 A simple reﬂex agent. It acts according to a rule whose condition matches the\ncurrent state, as deﬁned by the percept.\nEven a little bit of unobservability can cause serious trouble. For example, the braking\nrule given earlier assumes that the condition car-in-front-is-braking can be determined from\nthe current percept—a single frame of video. This works if the car in front has a centrally\nmounted (and hence uniquely identiﬁable) brake light. Unfortunately, older models have\ndifferent conﬁgurations of taillights, brake lights, and turn-signal lights, and it is not always\npossible to tell from a single image whether the car is braking or simply has its taillights\non. A simple reﬂex agent driving behind such a car would either brake continuously and\nunnecessarily, or, worse, never brake at all.\nWe can see a similar problem arising in the vacuum world. Suppose that a simple reﬂex\nvacuum agent is deprived of its location sensor and has only a dirt sensor. Such an agent\nhas just two possible percepts: [Dirty] and [Clean]. It can Suck in response to [Dirty]; what\nshould it do in response to [Clean]? Moving Left fails (forever) if it happens to start in square\nA, and moving Right fails (forever) if it happens to start in square B. Inﬁnite loops are often\nunavoidable for simple reﬂex agents operating in partially observable environments.\nEscape from inﬁnite loops is possible if the agent can randomize its actions. For exam- Randomization\nple, if the vacuum agent perceives [Clean], it might ﬂip a coin to choose between Right and\nLeft. It is easy to show that the agent will reach the other square in an average of two steps.\nThen, if that square is dirty, the agent will clean it and the task will be complete. Hence, a\nrandomized simple reﬂex agent might outperform a deterministic simple reﬂex agent.\nWe mentioned in Section 2.3 that randomized behavior of the right kind can be rational in\nsome multiagent environments. In single-agent environments, randomization is usually not\nrational. It is a useful trick that helps a simple reﬂex agent in some situations, but in most\ncases we can do much better with more sophisticated deterministic agents.\n2.4.3 Model-based reﬂex agents\nThe most effective way to handle partial observability is for the agent to keep track of the\npart of the world it can’t see now. That is, the agent should maintain some sort of internal\nstate that depends on the percept history and thereby reﬂects at least some of the unobserved Internal state\naspects of the current state. For the braking problem, the internal state is not too extensive—\njust the previous frame from the camera, allowing the agent to detect when two red lights at\nthe edge of the vehicle go on or off simultaneously. For other driving tasks such as changing\nlanes, the agent needs to keep track of where the other cars are if it can’t see them all at once.\nAnd for any driving to be possible at all, the agent needs to keep track of where its keys are."
                ]
              ],
              "shape": {
                "columns": 3,
                "rows": 1054
              }
            },
            "text/html": [
              "<div>\n",
              "<style scoped>\n",
              "    .dataframe tbody tr th:only-of-type {\n",
              "        vertical-align: middle;\n",
              "    }\n",
              "\n",
              "    .dataframe tbody tr th {\n",
              "        vertical-align: top;\n",
              "    }\n",
              "\n",
              "    .dataframe thead th {\n",
              "        text-align: right;\n",
              "    }\n",
              "</style>\n",
              "<table border=\"1\" class=\"dataframe\">\n",
              "  <thead>\n",
              "    <tr style=\"text-align: right;\">\n",
              "      <th></th>\n",
              "      <th>source</th>\n",
              "      <th>page_label</th>\n",
              "      <th>text</th>\n",
              "    </tr>\n",
              "  </thead>\n",
              "  <tbody>\n",
              "    <tr>\n",
              "      <th>0</th>\n",
              "      <td>..\\Data\\ai_modern_approach_4_edi.pdf</td>\n",
              "      <td>20</td>\n",
              "      <td>20 Chapter 1 Introduction\\nfour. The methods u...</td>\n",
              "    </tr>\n",
              "    <tr>\n",
              "      <th>1</th>\n",
              "      <td>..\\Data\\ai_modern_approach_4_edi.pdf</td>\n",
              "      <td>21</td>\n",
              "      <td>Section 1.1 What Is AI? 21\\nproblems correctly...</td>\n",
              "    </tr>\n",
              "    <tr>\n",
              "      <th>2</th>\n",
              "      <td>..\\Data\\ai_modern_approach_4_edi.pdf</td>\n",
              "      <td>22</td>\n",
              "      <td>22 Chapter 1 Introduction\\nchange, and create ...</td>\n",
              "    </tr>\n",
              "    <tr>\n",
              "      <th>3</th>\n",
              "      <td>..\\Data\\ai_modern_approach_4_edi.pdf</td>\n",
              "      <td>23</td>\n",
              "      <td>Section 1.2 The Foundations of Artiﬁcial Intel...</td>\n",
              "    </tr>\n",
              "    <tr>\n",
              "      <th>4</th>\n",
              "      <td>..\\Data\\ai_modern_approach_4_edi.pdf</td>\n",
              "      <td>24</td>\n",
              "      <td>24 Chapter 1 Introduction\\n1.2.1 Philosophy\\n•...</td>\n",
              "    </tr>\n",
              "    <tr>\n",
              "      <th>...</th>\n",
              "      <td>...</td>\n",
              "      <td>...</td>\n",
              "      <td>...</td>\n",
              "    </tr>\n",
              "    <tr>\n",
              "      <th>1049</th>\n",
              "      <td>..\\Data\\ai_modern_approach_4_edi.pdf</td>\n",
              "      <td>1069</td>\n",
              "      <td>Section 29.2 AI Architectures 1069\\nﬁeld progr...</td>\n",
              "    </tr>\n",
              "    <tr>\n",
              "      <th>1050</th>\n",
              "      <td>..\\Data\\ai_modern_approach_4_edi.pdf</td>\n",
              "      <td>1070</td>\n",
              "      <td>1070 Chapter 29 The Future of AI\\nAgents also ...</td>\n",
              "    </tr>\n",
              "    <tr>\n",
              "      <th>1051</th>\n",
              "      <td>..\\Data\\ai_modern_approach_4_edi.pdf</td>\n",
              "      <td>1071</td>\n",
              "      <td>Section 29.2 AI Architectures 1071\\nThe truly ...</td>\n",
              "    </tr>\n",
              "    <tr>\n",
              "      <th>1052</th>\n",
              "      <td>..\\Data\\ai_modern_approach_4_edi.pdf</td>\n",
              "      <td>1072</td>\n",
              "      <td>1072 Chapter 29 The Future of AI\\nA human bein...</td>\n",
              "    </tr>\n",
              "    <tr>\n",
              "      <th>1053</th>\n",
              "      <td>..\\Data\\ai_modern_approach_4_edi.pdf</td>\n",
              "      <td>1073</td>\n",
              "      <td>Section 29.2 AI Architectures 1073\\nThe future...</td>\n",
              "    </tr>\n",
              "  </tbody>\n",
              "</table>\n",
              "<p>1054 rows × 3 columns</p>\n",
              "</div>"
            ],
            "text/plain": [
              "                                    source page_label  \\\n",
              "0     ..\\Data\\ai_modern_approach_4_edi.pdf         20   \n",
              "1     ..\\Data\\ai_modern_approach_4_edi.pdf         21   \n",
              "2     ..\\Data\\ai_modern_approach_4_edi.pdf         22   \n",
              "3     ..\\Data\\ai_modern_approach_4_edi.pdf         23   \n",
              "4     ..\\Data\\ai_modern_approach_4_edi.pdf         24   \n",
              "...                                    ...        ...   \n",
              "1049  ..\\Data\\ai_modern_approach_4_edi.pdf       1069   \n",
              "1050  ..\\Data\\ai_modern_approach_4_edi.pdf       1070   \n",
              "1051  ..\\Data\\ai_modern_approach_4_edi.pdf       1071   \n",
              "1052  ..\\Data\\ai_modern_approach_4_edi.pdf       1072   \n",
              "1053  ..\\Data\\ai_modern_approach_4_edi.pdf       1073   \n",
              "\n",
              "                                                   text  \n",
              "0     20 Chapter 1 Introduction\\nfour. The methods u...  \n",
              "1     Section 1.1 What Is AI? 21\\nproblems correctly...  \n",
              "2     22 Chapter 1 Introduction\\nchange, and create ...  \n",
              "3     Section 1.2 The Foundations of Artiﬁcial Intel...  \n",
              "4     24 Chapter 1 Introduction\\n1.2.1 Philosophy\\n•...  \n",
              "...                                                 ...  \n",
              "1049  Section 29.2 AI Architectures 1069\\nﬁeld progr...  \n",
              "1050  1070 Chapter 29 The Future of AI\\nAgents also ...  \n",
              "1051  Section 29.2 AI Architectures 1071\\nThe truly ...  \n",
              "1052  1072 Chapter 29 The Future of AI\\nA human bein...  \n",
              "1053  Section 29.2 AI Architectures 1073\\nThe future...  \n",
              "\n",
              "[1054 rows x 3 columns]"
            ]
          },
          "execution_count": 6,
          "metadata": {},
          "output_type": "execute_result"
        }
      ],
      "source": [
        "book_df"
      ]
    },
    {
      "cell_type": "code",
      "execution_count": null,
      "metadata": {
        "colab": {
          "base_uri": "https://localhost:8080/"
        },
        "id": "iS6YPJ5Pv58f",
        "outputId": "c28adef6-84c2-4a67-ceac-63bb03273d1f"
      },
      "outputs": [],
      "source": [
        "len(documents.iloc[0]['chunk'])"
      ]
    },
    {
      "cell_type": "code",
      "execution_count": null,
      "metadata": {
        "colab": {
          "base_uri": "https://localhost:8080/"
        },
        "id": "RfoYURJwwBVI",
        "outputId": "5c31e76f-ab52-4ebd-a549-a8b86eeb1fde"
      },
      "outputs": [],
      "source": [
        "len(book_df.iloc[0]['text'])"
      ]
    },
    {
      "cell_type": "code",
      "execution_count": null,
      "metadata": {
        "colab": {
          "base_uri": "https://localhost:8080/",
          "height": 0
        },
        "id": "_fwFNr0cw1Bn",
        "outputId": "4947f447-f404-4e7a-fc68-2957feec8320"
      },
      "outputs": [],
      "source": [
        "book_df.iloc[0]['text']"
      ]
    },
    {
      "cell_type": "markdown",
      "metadata": {
        "id": "p3cISPYt9TdJ"
      },
      "source": [
        "## **Clean Data**"
      ]
    },
    {
      "cell_type": "markdown",
      "metadata": {
        "id": "-Ezlhu6R9mS5"
      },
      "source": [
        "Clean Arvix Data\n",
        "*  Removes all characters except letters (both uppercase and lowercase), digits, and whitespace.\n",
        "* Replaces control characters (ASCII codes 0–31 and 127) with a space.\n",
        "* Collapses multiple whitespace characters into a single space.\n",
        "* Removes any extra whitespace that appears directly before punctuation marks.\n",
        "* Ensures that there is a space after punctuation if one isn’t already present.\n",
        "*  Replaces any left curly brace { with a hyphen -.\n",
        "* Removes any right curly brace } from the text.\n",
        "* Strips leading and trailing whitespace from each text string."
      ]
    },
    {
      "cell_type": "code",
      "execution_count": null,
      "metadata": {
        "id": "y9y9oTRV9mn3"
      },
      "outputs": [],
      "source": [
        "def preprocess_doc(X):\n",
        "    chunk1 = X.apply(lambda x: re.sub(r'[^a-zA-Z0-9.\\s]', '', x))\n",
        "    chunk2 = chunk1.apply(lambda x: re.sub(r'[\\x00-\\x1F\\x7F]', ' ', x))\n",
        "    chunk3 = chunk2.apply(lambda x: re.sub(r'\\s+', ' ', x))\n",
        "    chunk4 = chunk3.apply(lambda x: re.sub(r'\\s+([,.!?;:])', r'\\1', x))\n",
        "    chunk5 = chunk4.apply(lambda x: re.sub(r'([,.!?;:])(?=\\S)', r'\\1 ', x))\n",
        "    chunk6 = chunk5.apply(lambda x: re.sub(r'\\{', '-', x))\n",
        "    chunk7 = chunk6.apply(lambda x: re.sub(r'\\}', '', x))\n",
        "    chunk7 = chunk7.apply(lambda x: x.strip())\n",
        "    return chunk7"
      ]
    },
    {
      "cell_type": "markdown",
      "metadata": {
        "id": "i1KIWVf65Ram"
      },
      "source": [
        "**Clean PDF Data**\n",
        "* Replace any character that is not an uppercase/lowercase letter, digit, or period with a space.\n",
        "* Remove chapter and its number\n",
        "* Remove section and its number\n"
      ]
    },
    {
      "cell_type": "code",
      "execution_count": null,
      "metadata": {
        "id": "kqp1uiAOxqiX"
      },
      "outputs": [],
      "source": [
        "def clean_book_data(X):\n",
        "  X = re.sub(r'[^A-Za-z0-9.]',' ',X)\n",
        "  pattern_chapter = r'^\\d+\\s+Chapter\\s+\\d+\\s+.*?'\n",
        "  re.sub(pattern_chapter, '', book_df.loc[100,'text'], count=1)\n",
        "  X = re.sub(pattern_chapter, '', X, count=1)\n",
        "  pattern_section = r'^\\s+Section\\s+\\d+\\s+.*?'\n",
        "  pattern_section = r'^Section\\s+\\d+(?:\\.\\d+)?\\s+.*?'\n",
        "  X = re.sub(pattern_section, '', X, count=1)\n",
        "  return X"
      ]
    },
    {
      "cell_type": "code",
      "execution_count": null,
      "metadata": {},
      "outputs": [],
      "source": [
        "book_df"
      ]
    },
    {
      "cell_type": "code",
      "execution_count": null,
      "metadata": {
        "id": "40_vG-PDx5hh"
      },
      "outputs": [],
      "source": [
        "book_df['text'] = book_df['text'].apply(clean_book_data)"
      ]
    },
    {
      "cell_type": "code",
      "execution_count": null,
      "metadata": {
        "colab": {
          "base_uri": "https://localhost:8080/",
          "height": 0
        },
        "id": "YiDdU8QN8T9z",
        "outputId": "7185c362-460c-4d82-ac5e-95eedd6e263c"
      },
      "outputs": [],
      "source": [
        "book_df"
      ]
    },
    {
      "cell_type": "markdown",
      "metadata": {
        "id": "_Bgeuax5CjM7"
      },
      "source": [
        "## **Dynamic Chunking**\n"
      ]
    },
    {
      "cell_type": "code",
      "execution_count": null,
      "metadata": {
        "id": "nnh78NZeQiDP"
      },
      "outputs": [],
      "source": [
        "nlp = spacy.load(\"en_core_web_sm\")"
      ]
    },
    {
      "cell_type": "code",
      "execution_count": null,
      "metadata": {
        "colab": {
          "base_uri": "https://localhost:8080/",
          "height": 0,
          "referenced_widgets": [
            "b5640f149f184207b68c41814eff18ab",
            "f9e5fc4e283a49d48d6fb709c50df4b8",
            "1610ea7c76a54281b976d9b53a9c63b7",
            "86f271e7f86b4867bb0adb2371fb3235",
            "d040a7a23b9c4419980dc916109a2479",
            "532a4c4de36e424ea512cf7e8ca33d0c",
            "f2389939427f4c84b66549ef3f83db57",
            "95a8e48870c64e4b8a87308302d11b28",
            "bab6b87d5fcd4246b87e04ec87d6cd11",
            "ce5245a29a304cd5bfc83ce27fc3de0b",
            "38697b490a30430387ae193264d1d182",
            "4718f4553c8644a2a4dacdf85b1217a1",
            "459fb944f03e400fa5b893bf1337b0a8",
            "506f9098dcff4904b9c0f545668f7692",
            "1b934a6e57294afd938d4d18f74607da",
            "c3f5a16b423a4733850c83cc9b6adc50",
            "450efd5ae7ef44d585e6a47c616a9c3e",
            "9515947e6a3a4b78aa4076e2fd1736a4",
            "45e8ea8caabc440081f805b7df92f3a9",
            "a7a2dccc5984456c8e9f0682877a2796",
            "6f31577544ce4f8599d1580b2d47a052",
            "226d6f8d08a74375974f0fd74a6f288e",
            "66d085d7a3294d58938a2590dc7c122d",
            "a859405802c1466c9da0610266f9a141",
            "3a56eebc4b544506af8af41329fe20a6",
            "a748c241bf6a4689a767975e5b54e644",
            "9010d444575f450d96c8f7a547234da7",
            "33e9973c287244c3a5b4a704403a2a18",
            "d81accbd773b4f7888397c08a61d9465",
            "fa72af67782b45fcb7835db8bc580c02",
            "f320ae2bbe164cb099ad674c2af1e7ba",
            "0a61996bacbe43d8aecbe7873d5706ce",
            "0fa70b3814ec4d3198990daedc0f406c",
            "b4dcf521f2594613bda2bfee3d87b694",
            "b6bf506b7e60403a9eae024fc43c00a3",
            "50912c542738472e8112184983141da7",
            "8d87ef61bbbd43feb8ffdd0317ad256f",
            "9d5a6a36e49544feae9def4b0918deb7",
            "a924908b674d43bfbc4e2998eb32c976",
            "5771294e8ec9408ab9a90a27c944da53",
            "65eb4007781a4bbdb95b57bf38ba7811",
            "c026b60d5fcc43a7a32ee88eeb059089",
            "ed7caff761334411b232e77b408b5dc0",
            "f9dc761be6c44d21aecb8f69134b4f5c"
          ]
        },
        "id": "aBDQsZjcT9sY",
        "outputId": "8a81fe9c-fbee-4288-fad6-a18ae676d390"
      },
      "outputs": [],
      "source": [
        "tokenizer = AutoTokenizer.from_pretrained('bert-base-uncased')"
      ]
    },
    {
      "cell_type": "markdown",
      "metadata": {
        "id": "v7MIJ0itUwJy"
      },
      "source": [
        "Function to dynamically chunk the text based on token size"
      ]
    },
    {
      "cell_type": "code",
      "execution_count": null,
      "metadata": {
        "id": "fKIKlIc9OQss"
      },
      "outputs": [],
      "source": [
        "def dynamic_chunking(text,max_token=512,overlap=50):\n",
        "  doc = nlp(text)\n",
        "  chunks = []\n",
        "  current_chunk = []\n",
        "  token_length = 0\n",
        "  for sent in doc.sents:\n",
        "    token_length = len(tokenizer.tokenize(sent.text))\n",
        "    if token_length + token_length <= max_token:\n",
        "      current_chunk.append(sent.text)\n",
        "      max_token += token_length\n",
        "    else:\n",
        "      if chunks:\n",
        "        prev_tokens = tokenizer.tokenize(chunks[-1])\n",
        "        overlap_tokens = prev_tokens[-overlap:]\n",
        "        overlap_text = ' '.join(overlap_tokens)\n",
        "        chunks.append(' '.join(current_chunk) + ' ' + overlap_text)\n",
        "      else:\n",
        "        chunks.append(' '.join(current_chunk))\n",
        "      current_chunk = [sent.text]\n",
        "      token_length = token_length\n",
        "  if current_chunk:\n",
        "    chunks.append(' '.join(current_chunk))\n",
        "  return chunks\n"
      ]
    },
    {
      "cell_type": "code",
      "execution_count": null,
      "metadata": {
        "colab": {
          "base_uri": "https://localhost:8080/",
          "height": 0
        },
        "id": "5gp3Q0pDSi7T",
        "outputId": "a04d3b4b-757e-4e17-94a6-07c1f43284ae"
      },
      "outputs": [],
      "source": [
        "book_df.head(3)"
      ]
    },
    {
      "cell_type": "markdown",
      "metadata": {
        "id": "leXUOcPrU_wL"
      },
      "source": [
        "Apply above dynamic chunking into this book data"
      ]
    },
    {
      "cell_type": "code",
      "execution_count": null,
      "metadata": {
        "colab": {
          "base_uri": "https://localhost:8080/"
        },
        "id": "cKOA2z4JR_vm",
        "outputId": "0503fd93-6ab9-4a19-b676-22118d70ecb8"
      },
      "outputs": [
        {
          "name": "stderr",
          "output_type": "stream",
          "text": [
            "Dynamically chunking data: 1054it [01:34, 11.11it/s]\n"
          ]
        }
      ],
      "source": [
        "dynamic_chunked_data = []\n",
        "for _,row in tqdm(book_df.iterrows(), desc=\"Dynamically chunking data\"):\n",
        "  chunks = dynamic_chunking(row['text'])\n",
        "  new_row = row.copy()\n",
        "  for idx,chunk in enumerate(chunks):\n",
        "    new_row['id'] = new_row['page_label'] + '-' + str(idx)\n",
        "    new_row['text'] = chunk\n",
        "    dynamic_chunked_data.append(new_row)"
      ]
    },
    {
      "cell_type": "code",
      "execution_count": null,
      "metadata": {
        "id": "buMuVF2LZzYl"
      },
      "outputs": [],
      "source": [
        "dynamical_chunked_book_df = pd.DataFrame(dynamic_chunked_data)"
      ]
    },
    {
      "cell_type": "code",
      "execution_count": null,
      "metadata": {
        "colab": {
          "base_uri": "https://localhost:8080/",
          "height": 0
        },
        "id": "BQ2_0KWbbF8E",
        "outputId": "869c7a28-d5cd-4f45-abd8-9aa33a5eac3f"
      },
      "outputs": [],
      "source": [
        "dynamical_chunked_book_df"
      ]
    },
    {
      "cell_type": "markdown",
      "metadata": {
        "id": "5LGNhOJcckll"
      },
      "source": [
        "Dynamic chunking Arvix Data"
      ]
    },
    {
      "cell_type": "code",
      "execution_count": null,
      "metadata": {
        "colab": {
          "base_uri": "https://localhost:8080/"
        },
        "id": "9iXF-PbIauHs",
        "outputId": "2b481e80-48af-4fcc-83e4-173abeb3d40e"
      },
      "outputs": [
        {
          "name": "stderr",
          "output_type": "stream",
          "text": [
            "Dynamically chunking data: 4838it [01:59, 40.52it/s]\n"
          ]
        }
      ],
      "source": [
        "dynamic_chunked_arvix = []\n",
        "for _,row in tqdm(documents.iterrows(), desc=\"Dynamically chunking data\"):\n",
        "  chunks = dynamic_chunking(row['chunk'])\n",
        "  new_row = row.copy()\n",
        "  for idx,chunk in enumerate(chunks):\n",
        "    new_row['chunk-id'] = row['chunk-id'] + f\"-{chunks.index(chunk)}\"\n",
        "    new_row['chunk'] = chunk\n",
        "    dynamic_chunked_arvix.append(new_row)"
      ]
    },
    {
      "cell_type": "code",
      "execution_count": null,
      "metadata": {
        "id": "TixaOocFbVpe"
      },
      "outputs": [],
      "source": [
        "dynamic_chunked_arvix_df = pd.DataFrame(dynamic_chunked_arvix)"
      ]
    },
    {
      "cell_type": "code",
      "execution_count": null,
      "metadata": {
        "colab": {
          "base_uri": "https://localhost:8080/",
          "height": 0
        },
        "id": "nIDK2sSo-zQs",
        "outputId": "f3ebda5c-6b3c-43d5-fb7c-5b9dfb2d101e"
      },
      "outputs": [],
      "source": [
        "dynamic_chunked_arvix_df.head(2)"
      ]
    },
    {
      "cell_type": "code",
      "execution_count": null,
      "metadata": {
        "id": "nDEcsZrzB9Sk"
      },
      "outputs": [],
      "source": [
        "dynamical_chunked_book_df.rename(columns={'text': 'chunk'}, inplace=True)"
      ]
    },
    {
      "cell_type": "markdown",
      "metadata": {
        "id": "CY8b4KLS-nVG"
      },
      "source": [
        "Reset Index"
      ]
    },
    {
      "cell_type": "code",
      "execution_count": null,
      "metadata": {
        "id": "mxIygemM-g1v"
      },
      "outputs": [],
      "source": [
        "dynamical_chunked_book_df = dynamical_chunked_book_df.reset_index(drop=True)\n",
        "dynamic_chunked_arvix_df = dynamic_chunked_arvix_df.reset_index(drop=True)"
      ]
    },
    {
      "cell_type": "code",
      "execution_count": null,
      "metadata": {
        "colab": {
          "base_uri": "https://localhost:8080/"
        },
        "id": "oL2MYPRNc5UB",
        "outputId": "5a59da2e-3805-4cfe-bccb-35ba1920e3b7"
      },
      "outputs": [
        {
          "data": {
            "text/plain": [
              "4838"
            ]
          },
          "execution_count": 37,
          "metadata": {},
          "output_type": "execute_result"
        }
      ],
      "source": [
        "len(documents)"
      ]
    },
    {
      "cell_type": "code",
      "execution_count": null,
      "metadata": {
        "colab": {
          "base_uri": "https://localhost:8080/"
        },
        "id": "UEZ0w3ZUcwMC",
        "outputId": "847b5619-00cc-4f83-d8c6-6502dc457a32"
      },
      "outputs": [
        {
          "data": {
            "text/plain": [
              "4869"
            ]
          },
          "execution_count": 38,
          "metadata": {},
          "output_type": "execute_result"
        }
      ],
      "source": [
        "len(dynamic_chunked_arvix_df)"
      ]
    },
    {
      "cell_type": "code",
      "execution_count": null,
      "metadata": {
        "colab": {
          "base_uri": "https://localhost:8080/"
        },
        "id": "RNbZtZUDc6lE",
        "outputId": "6d286c7f-8286-496b-9cd4-8254d05b8095"
      },
      "outputs": [
        {
          "data": {
            "text/plain": [
              "1054"
            ]
          },
          "execution_count": 39,
          "metadata": {},
          "output_type": "execute_result"
        }
      ],
      "source": [
        "len(book_df)"
      ]
    },
    {
      "cell_type": "code",
      "execution_count": null,
      "metadata": {
        "colab": {
          "base_uri": "https://localhost:8080/"
        },
        "id": "p1UCXmn4cyQl",
        "outputId": "8770cf9b-a8f8-445c-f6d3-108402efd213"
      },
      "outputs": [
        {
          "data": {
            "text/plain": [
              "1055"
            ]
          },
          "execution_count": 40,
          "metadata": {},
          "output_type": "execute_result"
        }
      ],
      "source": [
        "len(dynamical_chunked_book_df)"
      ]
    },
    {
      "cell_type": "markdown",
      "metadata": {
        "id": "atirCD9SCGci"
      },
      "source": [
        "## **Vector Database**"
      ]
    },
    {
      "cell_type": "code",
      "execution_count": null,
      "metadata": {
        "id": "1F5sc0CkCFc0"
      },
      "outputs": [],
      "source": [
        "index_name = 'ai-chatbot'"
      ]
    },
    {
      "cell_type": "markdown",
      "metadata": {
        "id": "CvnI4q331lpH"
      },
      "source": [
        "**Create Pinecone Index**"
      ]
    },
    {
      "cell_type": "code",
      "execution_count": null,
      "metadata": {
        "id": "lyMqjNBVxtSh"
      },
      "outputs": [],
      "source": [
        "pc = Pinecone(os.getenv('PINECONE_API'))\n",
        "index_list = [idx['name'] for idx in pc.list_indexes()]\n",
        "if index_name not in index_list:\n",
        "  pc.create_index(name=index_name,spec=ServerlessSpec(cloud='aws',region='us-east-1'),dimension=384)\n",
        "timeout = 60\n",
        "start_time = time.time()\n",
        "while not pc.describe_index(index_name).status['ready']:\n",
        "  if time.time() - start_time > 60:\n",
        "    raise TimeoutError(\"Timeout\")\n",
        "  time.sleep(1)\n",
        "pc_index = pc.Index(index_name)"
      ]
    },
    {
      "cell_type": "code",
      "execution_count": null,
      "metadata": {
        "colab": {
          "base_uri": "https://localhost:8080/"
        },
        "id": "nBpipuDHCTj8",
        "outputId": "cf4e47ef-b0be-47ad-a037-d4930a2dfa8b"
      },
      "outputs": [
        {
          "data": {
            "text/plain": [
              "5892"
            ]
          },
          "execution_count": 43,
          "metadata": {},
          "output_type": "execute_result"
        }
      ],
      "source": [
        "status = pc_index.describe_index_stats()\n",
        "status.get('total_vector_count',0)"
      ]
    },
    {
      "cell_type": "code",
      "execution_count": null,
      "metadata": {
        "colab": {
          "base_uri": "https://localhost:8080/"
        },
        "id": "TgNScIriyxaZ",
        "outputId": "84746af3-7c01-4e7c-f845-8f5efa711762"
      },
      "outputs": [],
      "source": [
        "pc.describe_index(index_name)"
      ]
    },
    {
      "cell_type": "code",
      "execution_count": null,
      "metadata": {
        "id": "0d_AYX9l1_Eq"
      },
      "outputs": [],
      "source": [
        "from langchain_community.embeddings import SentenceTransformerEmbeddings"
      ]
    },
    {
      "cell_type": "markdown",
      "metadata": {
        "id": "ROLiqGqQ-XFo"
      },
      "source": [
        "**Sentence Transformer**"
      ]
    },
    {
      "cell_type": "code",
      "execution_count": null,
      "metadata": {
        "colab": {
          "base_uri": "https://localhost:8080/",
          "height": 0,
          "referenced_widgets": [
            "534e5d816805429d97552ee89566e567",
            "d4cc591011b44feea4fae3f93d2dacd6",
            "288be5aef1e54d219db09dd172774c79",
            "e54586cf159b48aa952a324ad65899bc",
            "d9745d3fbbae42beb015875442ec50ca",
            "5fda87f2064649579b840d8a4cd6706b",
            "9010f274d96c496d99fc809b84f37aba",
            "6a55ad3a83904402a44042987a39acef",
            "7611003ebbd44a84b993be11466ee544",
            "7bc724ac4b994d819b3fa831039b585a",
            "5671c4d3523a4ecf92dc4fc75a8f6dd6",
            "eaec9a64ef1a4ce1a35388d93d39d297",
            "e1bfddc273e146aea023430012063735",
            "90cc5c70db8f4b3fa5b8c2df1ec541b0",
            "b99343c4adbf484eba5ca88bfff73a12",
            "77a9e77bb22a482db9e43748db3a5d2f",
            "dc6aaae7e5d44ca88ae97876b9d5e8a3",
            "f20345d97f314f688434695f4c8285f6",
            "00fe4b38531446a69e89dcf528efd2d8",
            "c49617b4e11540a5806a97ce32d0ebe9",
            "3632b5bb101c47a1bcf0f976d5f16425",
            "584598d8a9504ce8ad2026b916009ebd",
            "1e59030d3f9c44fb9c00fe4c8d7cdec7",
            "41aae238d9334c78b40aa784142cb334",
            "67a412260a634475a70ab6827920c44e",
            "d5ad315a23ee4e9eb462c1ad804a1e24",
            "b7342e50015f45b18dfd298ba6f9a91c",
            "d87575a0899140e5b39f30a247a695f1",
            "016539e341fe4d508f96eb208e9b2f45",
            "b40c792d92c1428d9161eca58a7b17b1",
            "c29c42f4e94842d2a6d31a0a863fa749",
            "e8ebef833da24e669e4cd901a32bdbef",
            "e895b6ce9bc141f9871bc69a14b83bd9",
            "67a3ba3f686a40d3bcaa1139a705a24a",
            "6a39b02186b743fb925d689480a444b5",
            "431b0d32522e4a3d8e975ad8304c7a89",
            "9deb1a5a5d264602b265ea87ec787d1b",
            "a7c046abb9024448bd8a7824aea7029a",
            "f54313d5f5f041f68b1373195fdf8433",
            "2d0c65650fa24d878d47ecffce12b654",
            "ff3a5ab40c4047bca54c8ffed1e36414",
            "555b341acc3f447da4eca580cf55e8bf",
            "d7e913740f0c44a8a951b5ddd4c828bc",
            "719ba88431d54718bd5193f0baeec10f",
            "863aff8f09054018a05e4173ca944471",
            "817cff3414294bf2a673ab48f2f5ccf9",
            "8a708794d71443f1975fd27a7f6d2464",
            "b085a87d829b416ca5e54cef1ce09a74",
            "06869b83e6a64a3785ac5e9c6887a78d",
            "bb9c25c8e2e846cc9e0eca5285ab55ad",
            "04908048023b435eb0a6e764eef4f916",
            "719f84181c8e4296a9ff06d03e8b8c63",
            "75147181bb0f4737afd730f1dafc01af",
            "c259dd9147fd4c1dbe72d04137960c4b",
            "7bf54a0aa57c4c7bb641f26b09b52325",
            "a30247626eee4c50acbed9bc1d55f74e",
            "3dfcb46cacd743e4ae890ce78c9b9071",
            "1b71665c96fc4775b3dd643a6047b0ff",
            "80785556bc7c4937b1fc17712807763d",
            "16b3df887fe64e79bcf47c029b249d25",
            "ffad548fccb446c5b42458eb6d291654",
            "60dcabf5d7534d43822d52e0070368b0",
            "be1e824e5be847fd8f9cf58abf38ae4e",
            "e98a609a95be428f92ad46fed4eeed9c",
            "9045ace8066b469d855d846256a3c0bf",
            "9f4a0643a80c42b8981a5f7b0a50913e",
            "fae1ffd8624d466c882312f37d352118",
            "9efadcb2299a443eba42ff43529d9f61",
            "f937dcd3a405422ea983dce13f6395ab",
            "027901dbfb3c4cbaab85375655cc9c24",
            "f191c04d06494387a341a6efb3ac5a3e",
            "fda68d6f92a748b7b409c91d809227aa",
            "615cdf3ab12b48b58ed786abfefc07fb",
            "7c8a601f73a2428b8cf8d3821a22d8d7",
            "1f2f8bc0f3064bb3a0265fcc4ea01fe2",
            "5647b14c3a77479fb97de60db09955b2",
            "7dd3834ad1464b3993a7d0273977ad3c",
            "4f6b6da857fa4af7bcb3a307f61ba366",
            "c6f98db5c73c488eabab0796c787e408",
            "aa6c18c714d940bd9bfeb3afa6c15b79",
            "c6b478cc969841448d573b33a8f5c899",
            "813d3d5210a24fb58a2e1a3f0f272245",
            "3d7fdfc440354531821d3c753aa9720d",
            "04ec942ef3134b659415aab52023b11a",
            "6e101bb38739430a9db8a4dbcc8a7b4a",
            "4e5c4d14c8dc42d1986ebc927af839bc",
            "68ab9158f02c41e7a45e105820f32981",
            "786c23910c1444bfa73d34e4d0b41c25",
            "778dac70ca644102b0c4a70aa4665ea2",
            "280a667c50e2420c89df736017973a4e",
            "eb628e1e4665472a858fec65728d37ff",
            "9e5e44c5f36746a7991ee0f2f18893ea",
            "13c737dd155c46c4b17015a65f9d85bb",
            "06bd5dfd21f94a1c9383f10c0b4ae6c6",
            "dbd030feb24b4e3687dfebb8cffdce19",
            "97ecef4443b7457881598d18a776684c",
            "e25c8c4ef0424964a5b9146b52c3579a",
            "e4644609778b4b69be2d0a3aac070a6a",
            "e1879638c60e4634bf72fa5c5e4cf2b7",
            "15952715462c44bbb669ba02c891ee8f",
            "8b2e351ab4524b37b6caf9d1c4ffdf05",
            "50c8197d023540a0bae99a97c4a8287d",
            "272b2d99f745462286312f695d482058",
            "172988c2952649e583bdd4a67253fc53",
            "17387c8947404b29a32f525475676937",
            "d1c6c35d64f94e38b01ff1546039717c",
            "4653f4e4546a4750833b4d4618a857e1",
            "d8c2e55c02814e17ad12039171c5d783",
            "6bd823414e264db2800bed18a5a9a69e",
            "32835d7b9f484a9fa0b0b92f54c16edd",
            "0c12b9d0857040ab9b560605a66bfebe",
            "317dce3e669c47a2af47d934cedca485",
            "0171582e736c44bd8885576a1c8c7278",
            "5bbc4ead52c94646bb002ce9c5ed84ae",
            "bd454a8ed63144b380493d76d9dee9e4",
            "b22902f866704c29b34e19ced5fcd7f2",
            "ac17a16e2e3d4be0b4f11b150377932e",
            "5decf76ada264ca29d648c2cadd9ed3a",
            "fa71f8729a36491ba2c3326c0935497c",
            "3611dc24c7534fe39c08e32ef5707415",
            "221650265edc4f8b931ab96c3461911b"
          ]
        },
        "id": "XSHw7cRQ1xUq",
        "outputId": "563c9bce-dd5b-4868-b2c2-946d85c56965"
      },
      "outputs": [],
      "source": [
        "embedding_model = SentenceTransformerEmbeddings(model_name='sentence-transformers/all-MiniLM-L6-v2')"
      ]
    },
    {
      "cell_type": "code",
      "execution_count": null,
      "metadata": {
        "id": "BL_U4jF6_CIL"
      },
      "outputs": [],
      "source": [
        "# pc.delete_index(index_name)"
      ]
    },
    {
      "cell_type": "code",
      "execution_count": null,
      "metadata": {
        "colab": {
          "base_uri": "https://localhost:8080/"
        },
        "id": "uki9SKHJAHBn",
        "outputId": "600133f5-e97d-4a92-f97c-e8e42795971f"
      },
      "outputs": [
        {
          "data": {
            "text/plain": [
              "5892"
            ]
          },
          "execution_count": 48,
          "metadata": {},
          "output_type": "execute_result"
        }
      ],
      "source": [
        "status = pc_index.describe_index_stats()\n",
        "status.get('total_vector_count',0)"
      ]
    },
    {
      "cell_type": "markdown",
      "metadata": {
        "id": "oCJBvWgDGEs4"
      },
      "source": [
        "Upsert pdf data into vector database"
      ]
    },
    {
      "cell_type": "code",
      "execution_count": null,
      "metadata": {
        "colab": {
          "base_uri": "https://localhost:8080/"
        },
        "id": "oBEGp9IN2QzX",
        "outputId": "d53bad56-7047-4eaf-a78d-c07e6719bbe9"
      },
      "outputs": [
        {
          "name": "stdout",
          "output_type": "stream",
          "text": [
            "Already Inserted data\n"
          ]
        }
      ],
      "source": [
        "batch_size = 100\n",
        "if status['total_vector_count'] == 0:\n",
        "  for i in tqdm(range(0,len(dynamical_chunked_book_df),batch_size)):\n",
        "    i_end = min(i+batch_size,len(dynamical_chunked_book_df))\n",
        "    batch = dynamical_chunked_book_df[i:i_end]\n",
        "    ids = batch['id'].astype(str).to_list()\n",
        "    chunks = batch['chunk'].to_list()\n",
        "    embed_chunk = embedding_model.encode(chunks)\n",
        "    metadata = batch[['id','chunk']].to_dict(orient='records')\n",
        "    pc_index.upsert(vectors=list(zip(ids,embed_chunk,metadata)))\n",
        "else:\n",
        "  print('Already Inserted data')"
      ]
    },
    {
      "cell_type": "code",
      "execution_count": null,
      "metadata": {
        "colab": {
          "base_uri": "https://localhost:8080/"
        },
        "id": "qcUIVB098RR2",
        "outputId": "c639efd4-c65d-49bd-f3fb-ced3dd74f8ac"
      },
      "outputs": [
        {
          "data": {
            "text/plain": [
              "5892"
            ]
          },
          "execution_count": 50,
          "metadata": {},
          "output_type": "execute_result"
        }
      ],
      "source": [
        "status = pc_index.describe_index_stats()\n",
        "status.get('total_vector_count',0)"
      ]
    },
    {
      "cell_type": "markdown",
      "metadata": {
        "id": "xXgXa2JsGK8I"
      },
      "source": [
        "Upsert arvix dataset into vector database"
      ]
    },
    {
      "cell_type": "code",
      "execution_count": null,
      "metadata": {
        "colab": {
          "base_uri": "https://localhost:8080/"
        },
        "id": "cn5Obto58ch0",
        "outputId": "294457d9-f589-4410-97d2-263fce307c54"
      },
      "outputs": [
        {
          "name": "stdout",
          "output_type": "stream",
          "text": [
            "Alredy Created\n"
          ]
        }
      ],
      "source": [
        "status = pc_index.describe_index_stats()\n",
        "if status.get('total_vector_count', 0) <= 1054:\n",
        "    for i in tqdm(range(0, len(dynamic_chunked_arvix_df), batch_size)):\n",
        "        i_end = min(len(dynamic_chunked_arvix_df), i + batch_size)\n",
        "        batch = dynamic_chunked_arvix_df[i:i_end]\n",
        "        ids = (batch['doi'].astype(str) + '-' +\n",
        "               batch['chunk-id'].astype(str)).to_list()\n",
        "        chunk = batch['chunk'].to_list()\n",
        "        embeds = embedding_model.encode(chunk)\n",
        "        meta_data = batch[['chunk', 'source', 'title']\n",
        "                          ].to_dict(orient='records')\n",
        "        pc_index.upsert(vectors=list(zip(ids, embeds, meta_data)))\n",
        "else:\n",
        "    print(\"Alredy Created\")"
      ]
    },
    {
      "cell_type": "code",
      "execution_count": null,
      "metadata": {
        "colab": {
          "base_uri": "https://localhost:8080/"
        },
        "id": "nqJQOLWwHIu5",
        "outputId": "c550edd4-d61f-497b-c847-adeb6c6c4bb9"
      },
      "outputs": [
        {
          "data": {
            "text/plain": [
              "5892"
            ]
          },
          "execution_count": 52,
          "metadata": {},
          "output_type": "execute_result"
        }
      ],
      "source": [
        "status = pc_index.describe_index_stats()\n",
        "status.get('total_vector_count',0)"
      ]
    },
    {
      "cell_type": "code",
      "execution_count": null,
      "metadata": {
        "id": "nRUZizzxHTPn"
      },
      "outputs": [],
      "source": [
        "query = 'What is Machine Learning?'\n",
        "vectorstore = PineconeVectorStore(pc_index, embedding_model, text_key='chunk')\n",
        "contexts = vectorstore.similarity_search(query, k=3)"
      ]
    },
    {
      "cell_type": "code",
      "execution_count": null,
      "metadata": {
        "colab": {
          "base_uri": "https://localhost:8080/"
        },
        "id": "0EtBrksxHzLC",
        "outputId": "2c889565-3008-4bc2-ecd5-57e2e072ff7e"
      },
      "outputs": [],
      "source": [
        "contexts"
      ]
    },
    {
      "cell_type": "markdown",
      "metadata": {
        "id": "62kp92bJC4kT"
      },
      "source": [
        "## **Create Model**"
      ]
    },
    {
      "cell_type": "code",
      "execution_count": null,
      "metadata": {
        "id": "uwwDK0wLU33y"
      },
      "outputs": [],
      "source": [
        "query = 'What is deep learning? How it difer from ML'"
      ]
    },
    {
      "cell_type": "code",
      "execution_count": null,
      "metadata": {
        "colab": {
          "base_uri": "https://localhost:8080/",
          "height": 36
        },
        "id": "TY6yGMsHX4Rs",
        "outputId": "0d73f8b7-5982-44ff-ae5b-92ff667d35d8"
      },
      "outputs": [
        {
          "data": {
            "application/vnd.google.colaboratory.intrinsic+json": {
              "type": "string"
            },
            "text/plain": [
              "'What is deep learning? How it difer from ML'"
            ]
          },
          "execution_count": 56,
          "metadata": {},
          "output_type": "execute_result"
        }
      ],
      "source": [
        "query"
      ]
    },
    {
      "cell_type": "code",
      "execution_count": null,
      "metadata": {
        "id": "36TRVAMQag11"
      },
      "outputs": [],
      "source": [
        "gemini_model = ChatGoogleGenerativeAI(\n",
        "    model=\"gemini-1.5-pro\",\n",
        "    temperature=0,\n",
        "    max_tokens=None,\n",
        "    timeout=None,\n",
        "    max_retries=2,\n",
        ")"
      ]
    },
    {
      "cell_type": "code",
      "execution_count": null,
      "metadata": {
        "id": "D_MoPOHOP-ja"
      },
      "outputs": [],
      "source": [
        "deepseek_repo = \"deepseek-ai/deepseek-llm-67b-base\"\n",
        "deepseek_model =  HuggingFaceEndpoint(repo_id=deepseek_repo,task='text-generation',\n",
        "    temperature=0.7,  # Increase temperature for less deterministic output\n",
        "    top_p=0.9,        # Nucleus sampling to encourage diversity\n",
        "    top_k=50          # Consider the top 50 tokens at each step\n",
        ")"
      ]
    },
    {
      "cell_type": "code",
      "execution_count": null,
      "metadata": {
        "id": "Iz2LFfsse-G3"
      },
      "outputs": [],
      "source": [
        "repo_id = \"meta-llama/Llama-3.3-70B-Instruct\"\n",
        "max_new_tokens = 8192\n",
        "llama_model = HuggingFaceEndpoint(\n",
        "    repo_id=repo_id,\n",
        "    max_new_tokens=max_new_tokens,\n",
        "    top_k=10,\n",
        "    top_p=0.95,\n",
        "    temperature=0.6,\n",
        "    task='text-generation',\n",
        "    repetition_penalty=1.03\n",
        ")"
      ]
    },
    {
      "cell_type": "markdown",
      "metadata": {
        "id": "ovrtkOxihNFV"
      },
      "source": [
        "Test Models"
      ]
    },
    {
      "cell_type": "code",
      "execution_count": null,
      "metadata": {
        "colab": {
          "base_uri": "https://localhost:8080/",
          "height": 195
        },
        "id": "5gwrLJYVgHx2",
        "outputId": "726685f7-7907-4283-87e1-7b8fd44a5921"
      },
      "outputs": [],
      "source": [
        "llama_model.invoke(query)"
      ]
    },
    {
      "cell_type": "code",
      "execution_count": null,
      "metadata": {
        "colab": {
          "base_uri": "https://localhost:8080/",
          "height": 195
        },
        "id": "Y6iuCGeJgJiK",
        "outputId": "b32e3b5c-c4c9-4e9a-f1d9-390f04e2e8a5"
      },
      "outputs": [],
      "source": [
        "deepseek_model.invoke(query)"
      ]
    },
    {
      "cell_type": "code",
      "execution_count": null,
      "metadata": {
        "colab": {
          "base_uri": "https://localhost:8080/"
        },
        "id": "bfIQvQ-OfDSS",
        "outputId": "b71c44fe-1240-48d1-97d8-1b4263ad54b5"
      },
      "outputs": [],
      "source": [
        "gemini_model.invoke(query)"
      ]
    },
    {
      "cell_type": "code",
      "execution_count": null,
      "metadata": {
        "id": "mWezR4t7fQQf"
      },
      "outputs": [],
      "source": [
        "models = [\n",
        "    gemini_model,\n",
        "    llama_model,\n",
        "    deepseek_model\n",
        "]"
      ]
    },
    {
      "cell_type": "markdown",
      "metadata": {
        "id": "zqiOkRcgDEnO"
      },
      "source": [
        "## **Auguemnt Prompt**"
      ]
    },
    {
      "cell_type": "code",
      "execution_count": null,
      "metadata": {
        "id": "RVXiAFFpxEt5"
      },
      "outputs": [],
      "source": [
        "from langchain.prompts.chat import (\n",
        "  ChatPromptTemplate,\n",
        "  HumanMessagePromptTemplate,\n",
        "  MessagesPlaceholder,\n",
        ")\n",
        "from langchain.schema import SystemMessage"
      ]
    },
    {
      "cell_type": "code",
      "execution_count": null,
      "metadata": {
        "id": "lpO3-27HDKST"
      },
      "outputs": [],
      "source": [
        "def augument_prompt(query,no_of_docs=3):\n",
        "  vectorstore = PineconeVectorStore(pc_index, embedding_model, text_key='chunk')\n",
        "  contexts = vectorstore.similarity_search(query, k=no_of_docs)\n",
        "\n",
        "  # from langchain.schema import SystemMessage, HumanMessage, AIMessage, UserMessage\n",
        "\n",
        "  system_msg = SystemMessage(\n",
        "      content=(\n",
        "          \"You are a highly knowledgeable AI expert specializing in Artificial Intelligence, \"\n",
        "          \"machine learning, and Deep Learning. Answer questions with detailed, clear, and technically accurate explanations. \"\n",
        "          \"Always provide examples or analogies when they help clarify complex topics.\"\n",
        "      )\n",
        "  )\n",
        "\n",
        "  human_msg_template = HumanMessagePromptTemplate.from_template(\"{user_query}\")\n",
        "\n",
        "  chat_history_placeholder = MessagesPlaceholder(variable_name=\"chat_history\")\n",
        "\n",
        "  user_msg_template = HumanMessagePromptTemplate.from_template(\"{additional_context}\")\n",
        "\n",
        "  chat_prompt = ChatPromptTemplate.from_messages([\n",
        "      system_msg,\n",
        "      chat_history_placeholder,\n",
        "      human_msg_template,\n",
        "      user_msg_template,\n",
        "  ])\n",
        "\n",
        "  formatted_prompt = chat_prompt.format(\n",
        "      user_query=query,\n",
        "      chat_history=[],\n",
        "      additional_context = contexts\n",
        "  )\n",
        "\n",
        "  return formatted_prompt\n"
      ]
    },
    {
      "cell_type": "code",
      "execution_count": null,
      "metadata": {
        "colab": {
          "base_uri": "https://localhost:8080/",
          "height": 36
        },
        "id": "LDtaa6iByC51",
        "outputId": "0039a74b-72f9-4081-9285-5309c1ac9019"
      },
      "outputs": [],
      "source": [
        "query"
      ]
    },
    {
      "cell_type": "code",
      "execution_count": null,
      "metadata": {
        "colab": {
          "base_uri": "https://localhost:8080/"
        },
        "id": "-94rWCB-xNxb",
        "outputId": "b10b5976-8b7c-4ced-d547-834cc6f07a05"
      },
      "outputs": [],
      "source": [
        "models[0].invoke(augument_prompt(query))"
      ]
    },
    {
      "cell_type": "code",
      "execution_count": null,
      "metadata": {
        "colab": {
          "base_uri": "https://localhost:8080/",
          "height": 140
        },
        "id": "8j1E9VOJxuSC",
        "outputId": "3bf25a98-5db1-4459-a061-af038ac03cdc"
      },
      "outputs": [],
      "source": [
        "augument_prompt(query)"
      ]
    },
    {
      "cell_type": "code",
      "execution_count": null,
      "metadata": {
        "colab": {
          "base_uri": "https://localhost:8080/",
          "height": 90
        },
        "id": "tHR73TCcxorK",
        "outputId": "b2aac012-61b1-4371-9d02-2a539c7b9b76"
      },
      "outputs": [],
      "source": [
        "llama_model.invoke(augument_prompt(\"What is machine AI\"))"
      ]
    },
    {
      "cell_type": "code",
      "execution_count": null,
      "metadata": {
        "colab": {
          "base_uri": "https://localhost:8080/",
          "height": 90
        },
        "id": "qJfBLJT0xckW",
        "outputId": "f4b88463-6977-425a-9da4-0ee02c294c77"
      },
      "outputs": [],
      "source": [
        "models[2].invoke(augument_prompt(query))"
      ]
    },
    {
      "cell_type": "markdown",
      "metadata": {
        "id": "Vq16O8hoDM8Y"
      },
      "source": [
        "## **Test Model**"
      ]
    },
    {
      "cell_type": "code",
      "execution_count": null,
      "metadata": {
        "id": "aV_FLJv9DRYa"
      },
      "outputs": [],
      "source": []
    }
  ],
  "metadata": {
    "accelerator": "GPU",
    "colab": {
      "collapsed_sections": [
        "DBdRwBUuCM_I",
        "2LhdG01eCQhF",
        "mBje9nTH9ZK4",
        "p3cISPYt9TdJ",
        "_Bgeuax5CjM7",
        "atirCD9SCGci",
        "62kp92bJC4kT",
        "zqiOkRcgDEnO",
        "Vq16O8hoDM8Y"
      ],
      "gpuType": "T4",
      "provenance": []
    },
    "kernelspec": {
      "display_name": "Python 3",
      "name": "python3"
    },
    "language_info": {
      "codemirror_mode": {
        "name": "ipython",
        "version": 3
      },
      "file_extension": ".py",
      "mimetype": "text/x-python",
      "name": "python",
      "nbconvert_exporter": "python",
      "pygments_lexer": "ipython3",
      "version": "3.12.0"
    },
    "widgets": {
      "application/vnd.jupyter.widget-state+json": {
        "00fe4b38531446a69e89dcf528efd2d8": {
          "model_module": "@jupyter-widgets/base",
          "model_module_version": "1.2.0",
          "model_name": "LayoutModel",
          "state": {
            "_model_module": "@jupyter-widgets/base",
            "_model_module_version": "1.2.0",
            "_model_name": "LayoutModel",
            "_view_count": null,
            "_view_module": "@jupyter-widgets/base",
            "_view_module_version": "1.2.0",
            "_view_name": "LayoutView",
            "align_content": null,
            "align_items": null,
            "align_self": null,
            "border": null,
            "bottom": null,
            "display": null,
            "flex": null,
            "flex_flow": null,
            "grid_area": null,
            "grid_auto_columns": null,
            "grid_auto_flow": null,
            "grid_auto_rows": null,
            "grid_column": null,
            "grid_gap": null,
            "grid_row": null,
            "grid_template_areas": null,
            "grid_template_columns": null,
            "grid_template_rows": null,
            "height": null,
            "justify_content": null,
            "justify_items": null,
            "left": null,
            "margin": null,
            "max_height": null,
            "max_width": null,
            "min_height": null,
            "min_width": null,
            "object_fit": null,
            "object_position": null,
            "order": null,
            "overflow": null,
            "overflow_x": null,
            "overflow_y": null,
            "padding": null,
            "right": null,
            "top": null,
            "visibility": null,
            "width": null
          }
        },
        "016539e341fe4d508f96eb208e9b2f45": {
          "model_module": "@jupyter-widgets/controls",
          "model_module_version": "1.5.0",
          "model_name": "DescriptionStyleModel",
          "state": {
            "_model_module": "@jupyter-widgets/controls",
            "_model_module_version": "1.5.0",
            "_model_name": "DescriptionStyleModel",
            "_view_count": null,
            "_view_module": "@jupyter-widgets/base",
            "_view_module_version": "1.2.0",
            "_view_name": "StyleView",
            "description_width": ""
          }
        },
        "0171582e736c44bd8885576a1c8c7278": {
          "model_module": "@jupyter-widgets/controls",
          "model_module_version": "1.5.0",
          "model_name": "FloatProgressModel",
          "state": {
            "_dom_classes": [],
            "_model_module": "@jupyter-widgets/controls",
            "_model_module_version": "1.5.0",
            "_model_name": "FloatProgressModel",
            "_view_count": null,
            "_view_module": "@jupyter-widgets/controls",
            "_view_module_version": "1.5.0",
            "_view_name": "ProgressView",
            "bar_style": "success",
            "description": "",
            "description_tooltip": null,
            "layout": "IPY_MODEL_5decf76ada264ca29d648c2cadd9ed3a",
            "max": 190,
            "min": 0,
            "orientation": "horizontal",
            "style": "IPY_MODEL_fa71f8729a36491ba2c3326c0935497c",
            "value": 190
          }
        },
        "027901dbfb3c4cbaab85375655cc9c24": {
          "model_module": "@jupyter-widgets/controls",
          "model_module_version": "1.5.0",
          "model_name": "HTMLModel",
          "state": {
            "_dom_classes": [],
            "_model_module": "@jupyter-widgets/controls",
            "_model_module_version": "1.5.0",
            "_model_name": "HTMLModel",
            "_view_count": null,
            "_view_module": "@jupyter-widgets/controls",
            "_view_module_version": "1.5.0",
            "_view_name": "HTMLView",
            "description": "",
            "description_tooltip": null,
            "layout": "IPY_MODEL_5647b14c3a77479fb97de60db09955b2",
            "placeholder": "​",
            "style": "IPY_MODEL_7dd3834ad1464b3993a7d0273977ad3c",
            "value": " 350/350 [00:00&lt;00:00, 31.1kB/s]"
          }
        },
        "04908048023b435eb0a6e764eef4f916": {
          "model_module": "@jupyter-widgets/controls",
          "model_module_version": "1.5.0",
          "model_name": "DescriptionStyleModel",
          "state": {
            "_model_module": "@jupyter-widgets/controls",
            "_model_module_version": "1.5.0",
            "_model_name": "DescriptionStyleModel",
            "_view_count": null,
            "_view_module": "@jupyter-widgets/base",
            "_view_module_version": "1.2.0",
            "_view_name": "StyleView",
            "description_width": ""
          }
        },
        "04ec942ef3134b659415aab52023b11a": {
          "model_module": "@jupyter-widgets/controls",
          "model_module_version": "1.5.0",
          "model_name": "DescriptionStyleModel",
          "state": {
            "_model_module": "@jupyter-widgets/controls",
            "_model_module_version": "1.5.0",
            "_model_name": "DescriptionStyleModel",
            "_view_count": null,
            "_view_module": "@jupyter-widgets/base",
            "_view_module_version": "1.2.0",
            "_view_name": "StyleView",
            "description_width": ""
          }
        },
        "06869b83e6a64a3785ac5e9c6887a78d": {
          "model_module": "@jupyter-widgets/base",
          "model_module_version": "1.2.0",
          "model_name": "LayoutModel",
          "state": {
            "_model_module": "@jupyter-widgets/base",
            "_model_module_version": "1.2.0",
            "_model_name": "LayoutModel",
            "_view_count": null,
            "_view_module": "@jupyter-widgets/base",
            "_view_module_version": "1.2.0",
            "_view_name": "LayoutView",
            "align_content": null,
            "align_items": null,
            "align_self": null,
            "border": null,
            "bottom": null,
            "display": null,
            "flex": null,
            "flex_flow": null,
            "grid_area": null,
            "grid_auto_columns": null,
            "grid_auto_flow": null,
            "grid_auto_rows": null,
            "grid_column": null,
            "grid_gap": null,
            "grid_row": null,
            "grid_template_areas": null,
            "grid_template_columns": null,
            "grid_template_rows": null,
            "height": null,
            "justify_content": null,
            "justify_items": null,
            "left": null,
            "margin": null,
            "max_height": null,
            "max_width": null,
            "min_height": null,
            "min_width": null,
            "object_fit": null,
            "object_position": null,
            "order": null,
            "overflow": null,
            "overflow_x": null,
            "overflow_y": null,
            "padding": null,
            "right": null,
            "top": null,
            "visibility": null,
            "width": null
          }
        },
        "06bd5dfd21f94a1c9383f10c0b4ae6c6": {
          "model_module": "@jupyter-widgets/base",
          "model_module_version": "1.2.0",
          "model_name": "LayoutModel",
          "state": {
            "_model_module": "@jupyter-widgets/base",
            "_model_module_version": "1.2.0",
            "_model_name": "LayoutModel",
            "_view_count": null,
            "_view_module": "@jupyter-widgets/base",
            "_view_module_version": "1.2.0",
            "_view_name": "LayoutView",
            "align_content": null,
            "align_items": null,
            "align_self": null,
            "border": null,
            "bottom": null,
            "display": null,
            "flex": null,
            "flex_flow": null,
            "grid_area": null,
            "grid_auto_columns": null,
            "grid_auto_flow": null,
            "grid_auto_rows": null,
            "grid_column": null,
            "grid_gap": null,
            "grid_row": null,
            "grid_template_areas": null,
            "grid_template_columns": null,
            "grid_template_rows": null,
            "height": null,
            "justify_content": null,
            "justify_items": null,
            "left": null,
            "margin": null,
            "max_height": null,
            "max_width": null,
            "min_height": null,
            "min_width": null,
            "object_fit": null,
            "object_position": null,
            "order": null,
            "overflow": null,
            "overflow_x": null,
            "overflow_y": null,
            "padding": null,
            "right": null,
            "top": null,
            "visibility": null,
            "width": null
          }
        },
        "07608f37a6a242fe862068190510962c": {
          "model_module": "@jupyter-widgets/controls",
          "model_module_version": "1.5.0",
          "model_name": "DescriptionStyleModel",
          "state": {
            "_model_module": "@jupyter-widgets/controls",
            "_model_module_version": "1.5.0",
            "_model_name": "DescriptionStyleModel",
            "_view_count": null,
            "_view_module": "@jupyter-widgets/base",
            "_view_module_version": "1.2.0",
            "_view_name": "StyleView",
            "description_width": ""
          }
        },
        "08000de8a78e493bb4cd6678e1ee767a": {
          "model_module": "@jupyter-widgets/base",
          "model_module_version": "1.2.0",
          "model_name": "LayoutModel",
          "state": {
            "_model_module": "@jupyter-widgets/base",
            "_model_module_version": "1.2.0",
            "_model_name": "LayoutModel",
            "_view_count": null,
            "_view_module": "@jupyter-widgets/base",
            "_view_module_version": "1.2.0",
            "_view_name": "LayoutView",
            "align_content": null,
            "align_items": null,
            "align_self": null,
            "border": null,
            "bottom": null,
            "display": null,
            "flex": null,
            "flex_flow": null,
            "grid_area": null,
            "grid_auto_columns": null,
            "grid_auto_flow": null,
            "grid_auto_rows": null,
            "grid_column": null,
            "grid_gap": null,
            "grid_row": null,
            "grid_template_areas": null,
            "grid_template_columns": null,
            "grid_template_rows": null,
            "height": null,
            "justify_content": null,
            "justify_items": null,
            "left": null,
            "margin": null,
            "max_height": null,
            "max_width": null,
            "min_height": null,
            "min_width": null,
            "object_fit": null,
            "object_position": null,
            "order": null,
            "overflow": null,
            "overflow_x": null,
            "overflow_y": null,
            "padding": null,
            "right": null,
            "top": null,
            "visibility": null,
            "width": null
          }
        },
        "0a61996bacbe43d8aecbe7873d5706ce": {
          "model_module": "@jupyter-widgets/base",
          "model_module_version": "1.2.0",
          "model_name": "LayoutModel",
          "state": {
            "_model_module": "@jupyter-widgets/base",
            "_model_module_version": "1.2.0",
            "_model_name": "LayoutModel",
            "_view_count": null,
            "_view_module": "@jupyter-widgets/base",
            "_view_module_version": "1.2.0",
            "_view_name": "LayoutView",
            "align_content": null,
            "align_items": null,
            "align_self": null,
            "border": null,
            "bottom": null,
            "display": null,
            "flex": null,
            "flex_flow": null,
            "grid_area": null,
            "grid_auto_columns": null,
            "grid_auto_flow": null,
            "grid_auto_rows": null,
            "grid_column": null,
            "grid_gap": null,
            "grid_row": null,
            "grid_template_areas": null,
            "grid_template_columns": null,
            "grid_template_rows": null,
            "height": null,
            "justify_content": null,
            "justify_items": null,
            "left": null,
            "margin": null,
            "max_height": null,
            "max_width": null,
            "min_height": null,
            "min_width": null,
            "object_fit": null,
            "object_position": null,
            "order": null,
            "overflow": null,
            "overflow_x": null,
            "overflow_y": null,
            "padding": null,
            "right": null,
            "top": null,
            "visibility": null,
            "width": null
          }
        },
        "0afab7d0a2134068aaa862344952960e": {
          "model_module": "@jupyter-widgets/base",
          "model_module_version": "1.2.0",
          "model_name": "LayoutModel",
          "state": {
            "_model_module": "@jupyter-widgets/base",
            "_model_module_version": "1.2.0",
            "_model_name": "LayoutModel",
            "_view_count": null,
            "_view_module": "@jupyter-widgets/base",
            "_view_module_version": "1.2.0",
            "_view_name": "LayoutView",
            "align_content": null,
            "align_items": null,
            "align_self": null,
            "border": null,
            "bottom": null,
            "display": null,
            "flex": null,
            "flex_flow": null,
            "grid_area": null,
            "grid_auto_columns": null,
            "grid_auto_flow": null,
            "grid_auto_rows": null,
            "grid_column": null,
            "grid_gap": null,
            "grid_row": null,
            "grid_template_areas": null,
            "grid_template_columns": null,
            "grid_template_rows": null,
            "height": null,
            "justify_content": null,
            "justify_items": null,
            "left": null,
            "margin": null,
            "max_height": null,
            "max_width": null,
            "min_height": null,
            "min_width": null,
            "object_fit": null,
            "object_position": null,
            "order": null,
            "overflow": null,
            "overflow_x": null,
            "overflow_y": null,
            "padding": null,
            "right": null,
            "top": null,
            "visibility": null,
            "width": null
          }
        },
        "0c12b9d0857040ab9b560605a66bfebe": {
          "model_module": "@jupyter-widgets/controls",
          "model_module_version": "1.5.0",
          "model_name": "HBoxModel",
          "state": {
            "_dom_classes": [],
            "_model_module": "@jupyter-widgets/controls",
            "_model_module_version": "1.5.0",
            "_model_name": "HBoxModel",
            "_view_count": null,
            "_view_module": "@jupyter-widgets/controls",
            "_view_module_version": "1.5.0",
            "_view_name": "HBoxView",
            "box_style": "",
            "children": [
              "IPY_MODEL_317dce3e669c47a2af47d934cedca485",
              "IPY_MODEL_0171582e736c44bd8885576a1c8c7278",
              "IPY_MODEL_5bbc4ead52c94646bb002ce9c5ed84ae"
            ],
            "layout": "IPY_MODEL_bd454a8ed63144b380493d76d9dee9e4"
          }
        },
        "0fa70b3814ec4d3198990daedc0f406c": {
          "model_module": "@jupyter-widgets/controls",
          "model_module_version": "1.5.0",
          "model_name": "DescriptionStyleModel",
          "state": {
            "_model_module": "@jupyter-widgets/controls",
            "_model_module_version": "1.5.0",
            "_model_name": "DescriptionStyleModel",
            "_view_count": null,
            "_view_module": "@jupyter-widgets/base",
            "_view_module_version": "1.2.0",
            "_view_name": "StyleView",
            "description_width": ""
          }
        },
        "10641d468c6c4bf7ad4543d3697b1c1a": {
          "model_module": "@jupyter-widgets/controls",
          "model_module_version": "1.5.0",
          "model_name": "HTMLModel",
          "state": {
            "_dom_classes": [],
            "_model_module": "@jupyter-widgets/controls",
            "_model_module_version": "1.5.0",
            "_model_name": "HTMLModel",
            "_view_count": null,
            "_view_module": "@jupyter-widgets/controls",
            "_view_module_version": "1.5.0",
            "_view_name": "HTMLView",
            "description": "",
            "description_tooltip": null,
            "layout": "IPY_MODEL_20292431656f4e4b870b548e5af9d453",
            "placeholder": "​",
            "style": "IPY_MODEL_a0fb0f6841ba47f0bef9e05e390ebfac",
            "value": " 14.4M/14.4M [00:00&lt;00:00, 28.2MB/s]"
          }
        },
        "11965e11b8b3464083bd97eb9668c3ba": {
          "model_module": "@jupyter-widgets/controls",
          "model_module_version": "1.5.0",
          "model_name": "HBoxModel",
          "state": {
            "_dom_classes": [],
            "_model_module": "@jupyter-widgets/controls",
            "_model_module_version": "1.5.0",
            "_model_name": "HBoxModel",
            "_view_count": null,
            "_view_module": "@jupyter-widgets/controls",
            "_view_module_version": "1.5.0",
            "_view_name": "HBoxView",
            "box_style": "",
            "children": [
              "IPY_MODEL_ff6c37ebf7814e14abce4209a4b078f3",
              "IPY_MODEL_4eace52798b54935a29652a2248398e5",
              "IPY_MODEL_10641d468c6c4bf7ad4543d3697b1c1a"
            ],
            "layout": "IPY_MODEL_0afab7d0a2134068aaa862344952960e"
          }
        },
        "13c737dd155c46c4b17015a65f9d85bb": {
          "model_module": "@jupyter-widgets/base",
          "model_module_version": "1.2.0",
          "model_name": "LayoutModel",
          "state": {
            "_model_module": "@jupyter-widgets/base",
            "_model_module_version": "1.2.0",
            "_model_name": "LayoutModel",
            "_view_count": null,
            "_view_module": "@jupyter-widgets/base",
            "_view_module_version": "1.2.0",
            "_view_name": "LayoutView",
            "align_content": null,
            "align_items": null,
            "align_self": null,
            "border": null,
            "bottom": null,
            "display": null,
            "flex": null,
            "flex_flow": null,
            "grid_area": null,
            "grid_auto_columns": null,
            "grid_auto_flow": null,
            "grid_auto_rows": null,
            "grid_column": null,
            "grid_gap": null,
            "grid_row": null,
            "grid_template_areas": null,
            "grid_template_columns": null,
            "grid_template_rows": null,
            "height": null,
            "justify_content": null,
            "justify_items": null,
            "left": null,
            "margin": null,
            "max_height": null,
            "max_width": null,
            "min_height": null,
            "min_width": null,
            "object_fit": null,
            "object_position": null,
            "order": null,
            "overflow": null,
            "overflow_x": null,
            "overflow_y": null,
            "padding": null,
            "right": null,
            "top": null,
            "visibility": null,
            "width": null
          }
        },
        "15952715462c44bbb669ba02c891ee8f": {
          "model_module": "@jupyter-widgets/controls",
          "model_module_version": "1.5.0",
          "model_name": "HBoxModel",
          "state": {
            "_dom_classes": [],
            "_model_module": "@jupyter-widgets/controls",
            "_model_module_version": "1.5.0",
            "_model_name": "HBoxModel",
            "_view_count": null,
            "_view_module": "@jupyter-widgets/controls",
            "_view_module_version": "1.5.0",
            "_view_name": "HBoxView",
            "box_style": "",
            "children": [
              "IPY_MODEL_8b2e351ab4524b37b6caf9d1c4ffdf05",
              "IPY_MODEL_50c8197d023540a0bae99a97c4a8287d",
              "IPY_MODEL_272b2d99f745462286312f695d482058"
            ],
            "layout": "IPY_MODEL_172988c2952649e583bdd4a67253fc53"
          }
        },
        "1610ea7c76a54281b976d9b53a9c63b7": {
          "model_module": "@jupyter-widgets/controls",
          "model_module_version": "1.5.0",
          "model_name": "FloatProgressModel",
          "state": {
            "_dom_classes": [],
            "_model_module": "@jupyter-widgets/controls",
            "_model_module_version": "1.5.0",
            "_model_name": "FloatProgressModel",
            "_view_count": null,
            "_view_module": "@jupyter-widgets/controls",
            "_view_module_version": "1.5.0",
            "_view_name": "ProgressView",
            "bar_style": "success",
            "description": "",
            "description_tooltip": null,
            "layout": "IPY_MODEL_95a8e48870c64e4b8a87308302d11b28",
            "max": 48,
            "min": 0,
            "orientation": "horizontal",
            "style": "IPY_MODEL_bab6b87d5fcd4246b87e04ec87d6cd11",
            "value": 48
          }
        },
        "16b3df887fe64e79bcf47c029b249d25": {
          "model_module": "@jupyter-widgets/base",
          "model_module_version": "1.2.0",
          "model_name": "LayoutModel",
          "state": {
            "_model_module": "@jupyter-widgets/base",
            "_model_module_version": "1.2.0",
            "_model_name": "LayoutModel",
            "_view_count": null,
            "_view_module": "@jupyter-widgets/base",
            "_view_module_version": "1.2.0",
            "_view_name": "LayoutView",
            "align_content": null,
            "align_items": null,
            "align_self": null,
            "border": null,
            "bottom": null,
            "display": null,
            "flex": null,
            "flex_flow": null,
            "grid_area": null,
            "grid_auto_columns": null,
            "grid_auto_flow": null,
            "grid_auto_rows": null,
            "grid_column": null,
            "grid_gap": null,
            "grid_row": null,
            "grid_template_areas": null,
            "grid_template_columns": null,
            "grid_template_rows": null,
            "height": null,
            "justify_content": null,
            "justify_items": null,
            "left": null,
            "margin": null,
            "max_height": null,
            "max_width": null,
            "min_height": null,
            "min_width": null,
            "object_fit": null,
            "object_position": null,
            "order": null,
            "overflow": null,
            "overflow_x": null,
            "overflow_y": null,
            "padding": null,
            "right": null,
            "top": null,
            "visibility": null,
            "width": null
          }
        },
        "172988c2952649e583bdd4a67253fc53": {
          "model_module": "@jupyter-widgets/base",
          "model_module_version": "1.2.0",
          "model_name": "LayoutModel",
          "state": {
            "_model_module": "@jupyter-widgets/base",
            "_model_module_version": "1.2.0",
            "_model_name": "LayoutModel",
            "_view_count": null,
            "_view_module": "@jupyter-widgets/base",
            "_view_module_version": "1.2.0",
            "_view_name": "LayoutView",
            "align_content": null,
            "align_items": null,
            "align_self": null,
            "border": null,
            "bottom": null,
            "display": null,
            "flex": null,
            "flex_flow": null,
            "grid_area": null,
            "grid_auto_columns": null,
            "grid_auto_flow": null,
            "grid_auto_rows": null,
            "grid_column": null,
            "grid_gap": null,
            "grid_row": null,
            "grid_template_areas": null,
            "grid_template_columns": null,
            "grid_template_rows": null,
            "height": null,
            "justify_content": null,
            "justify_items": null,
            "left": null,
            "margin": null,
            "max_height": null,
            "max_width": null,
            "min_height": null,
            "min_width": null,
            "object_fit": null,
            "object_position": null,
            "order": null,
            "overflow": null,
            "overflow_x": null,
            "overflow_y": null,
            "padding": null,
            "right": null,
            "top": null,
            "visibility": null,
            "width": null
          }
        },
        "17387c8947404b29a32f525475676937": {
          "model_module": "@jupyter-widgets/base",
          "model_module_version": "1.2.0",
          "model_name": "LayoutModel",
          "state": {
            "_model_module": "@jupyter-widgets/base",
            "_model_module_version": "1.2.0",
            "_model_name": "LayoutModel",
            "_view_count": null,
            "_view_module": "@jupyter-widgets/base",
            "_view_module_version": "1.2.0",
            "_view_name": "LayoutView",
            "align_content": null,
            "align_items": null,
            "align_self": null,
            "border": null,
            "bottom": null,
            "display": null,
            "flex": null,
            "flex_flow": null,
            "grid_area": null,
            "grid_auto_columns": null,
            "grid_auto_flow": null,
            "grid_auto_rows": null,
            "grid_column": null,
            "grid_gap": null,
            "grid_row": null,
            "grid_template_areas": null,
            "grid_template_columns": null,
            "grid_template_rows": null,
            "height": null,
            "justify_content": null,
            "justify_items": null,
            "left": null,
            "margin": null,
            "max_height": null,
            "max_width": null,
            "min_height": null,
            "min_width": null,
            "object_fit": null,
            "object_position": null,
            "order": null,
            "overflow": null,
            "overflow_x": null,
            "overflow_y": null,
            "padding": null,
            "right": null,
            "top": null,
            "visibility": null,
            "width": null
          }
        },
        "1b71665c96fc4775b3dd643a6047b0ff": {
          "model_module": "@jupyter-widgets/controls",
          "model_module_version": "1.5.0",
          "model_name": "FloatProgressModel",
          "state": {
            "_dom_classes": [],
            "_model_module": "@jupyter-widgets/controls",
            "_model_module_version": "1.5.0",
            "_model_name": "FloatProgressModel",
            "_view_count": null,
            "_view_module": "@jupyter-widgets/controls",
            "_view_module_version": "1.5.0",
            "_view_name": "ProgressView",
            "bar_style": "success",
            "description": "",
            "description_tooltip": null,
            "layout": "IPY_MODEL_be1e824e5be847fd8f9cf58abf38ae4e",
            "max": 90868376,
            "min": 0,
            "orientation": "horizontal",
            "style": "IPY_MODEL_e98a609a95be428f92ad46fed4eeed9c",
            "value": 90868376
          }
        },
        "1b934a6e57294afd938d4d18f74607da": {
          "model_module": "@jupyter-widgets/controls",
          "model_module_version": "1.5.0",
          "model_name": "HTMLModel",
          "state": {
            "_dom_classes": [],
            "_model_module": "@jupyter-widgets/controls",
            "_model_module_version": "1.5.0",
            "_model_name": "HTMLModel",
            "_view_count": null,
            "_view_module": "@jupyter-widgets/controls",
            "_view_module_version": "1.5.0",
            "_view_name": "HTMLView",
            "description": "",
            "description_tooltip": null,
            "layout": "IPY_MODEL_6f31577544ce4f8599d1580b2d47a052",
            "placeholder": "​",
            "style": "IPY_MODEL_226d6f8d08a74375974f0fd74a6f288e",
            "value": " 570/570 [00:00&lt;00:00, 47.1kB/s]"
          }
        },
        "1e59030d3f9c44fb9c00fe4c8d7cdec7": {
          "model_module": "@jupyter-widgets/controls",
          "model_module_version": "1.5.0",
          "model_name": "HBoxModel",
          "state": {
            "_dom_classes": [],
            "_model_module": "@jupyter-widgets/controls",
            "_model_module_version": "1.5.0",
            "_model_name": "HBoxModel",
            "_view_count": null,
            "_view_module": "@jupyter-widgets/controls",
            "_view_module_version": "1.5.0",
            "_view_name": "HBoxView",
            "box_style": "",
            "children": [
              "IPY_MODEL_41aae238d9334c78b40aa784142cb334",
              "IPY_MODEL_67a412260a634475a70ab6827920c44e",
              "IPY_MODEL_d5ad315a23ee4e9eb462c1ad804a1e24"
            ],
            "layout": "IPY_MODEL_b7342e50015f45b18dfd298ba6f9a91c"
          }
        },
        "1f2f8bc0f3064bb3a0265fcc4ea01fe2": {
          "model_module": "@jupyter-widgets/controls",
          "model_module_version": "1.5.0",
          "model_name": "ProgressStyleModel",
          "state": {
            "_model_module": "@jupyter-widgets/controls",
            "_model_module_version": "1.5.0",
            "_model_name": "ProgressStyleModel",
            "_view_count": null,
            "_view_module": "@jupyter-widgets/base",
            "_view_module_version": "1.2.0",
            "_view_name": "StyleView",
            "bar_color": null,
            "description_width": ""
          }
        },
        "20292431656f4e4b870b548e5af9d453": {
          "model_module": "@jupyter-widgets/base",
          "model_module_version": "1.2.0",
          "model_name": "LayoutModel",
          "state": {
            "_model_module": "@jupyter-widgets/base",
            "_model_module_version": "1.2.0",
            "_model_name": "LayoutModel",
            "_view_count": null,
            "_view_module": "@jupyter-widgets/base",
            "_view_module_version": "1.2.0",
            "_view_name": "LayoutView",
            "align_content": null,
            "align_items": null,
            "align_self": null,
            "border": null,
            "bottom": null,
            "display": null,
            "flex": null,
            "flex_flow": null,
            "grid_area": null,
            "grid_auto_columns": null,
            "grid_auto_flow": null,
            "grid_auto_rows": null,
            "grid_column": null,
            "grid_gap": null,
            "grid_row": null,
            "grid_template_areas": null,
            "grid_template_columns": null,
            "grid_template_rows": null,
            "height": null,
            "justify_content": null,
            "justify_items": null,
            "left": null,
            "margin": null,
            "max_height": null,
            "max_width": null,
            "min_height": null,
            "min_width": null,
            "object_fit": null,
            "object_position": null,
            "order": null,
            "overflow": null,
            "overflow_x": null,
            "overflow_y": null,
            "padding": null,
            "right": null,
            "top": null,
            "visibility": null,
            "width": null
          }
        },
        "2049fa6c32644026b1275d7e5cfe8975": {
          "model_module": "@jupyter-widgets/base",
          "model_module_version": "1.2.0",
          "model_name": "LayoutModel",
          "state": {
            "_model_module": "@jupyter-widgets/base",
            "_model_module_version": "1.2.0",
            "_model_name": "LayoutModel",
            "_view_count": null,
            "_view_module": "@jupyter-widgets/base",
            "_view_module_version": "1.2.0",
            "_view_name": "LayoutView",
            "align_content": null,
            "align_items": null,
            "align_self": null,
            "border": null,
            "bottom": null,
            "display": null,
            "flex": null,
            "flex_flow": null,
            "grid_area": null,
            "grid_auto_columns": null,
            "grid_auto_flow": null,
            "grid_auto_rows": null,
            "grid_column": null,
            "grid_gap": null,
            "grid_row": null,
            "grid_template_areas": null,
            "grid_template_columns": null,
            "grid_template_rows": null,
            "height": null,
            "justify_content": null,
            "justify_items": null,
            "left": null,
            "margin": null,
            "max_height": null,
            "max_width": null,
            "min_height": null,
            "min_width": null,
            "object_fit": null,
            "object_position": null,
            "order": null,
            "overflow": null,
            "overflow_x": null,
            "overflow_y": null,
            "padding": null,
            "right": null,
            "top": null,
            "visibility": null,
            "width": null
          }
        },
        "221650265edc4f8b931ab96c3461911b": {
          "model_module": "@jupyter-widgets/controls",
          "model_module_version": "1.5.0",
          "model_name": "DescriptionStyleModel",
          "state": {
            "_model_module": "@jupyter-widgets/controls",
            "_model_module_version": "1.5.0",
            "_model_name": "DescriptionStyleModel",
            "_view_count": null,
            "_view_module": "@jupyter-widgets/base",
            "_view_module_version": "1.2.0",
            "_view_name": "StyleView",
            "description_width": ""
          }
        },
        "226d6f8d08a74375974f0fd74a6f288e": {
          "model_module": "@jupyter-widgets/controls",
          "model_module_version": "1.5.0",
          "model_name": "DescriptionStyleModel",
          "state": {
            "_model_module": "@jupyter-widgets/controls",
            "_model_module_version": "1.5.0",
            "_model_name": "DescriptionStyleModel",
            "_view_count": null,
            "_view_module": "@jupyter-widgets/base",
            "_view_module_version": "1.2.0",
            "_view_name": "StyleView",
            "description_width": ""
          }
        },
        "24940730bd3c41efacab9852f96b3d8d": {
          "model_module": "@jupyter-widgets/controls",
          "model_module_version": "1.5.0",
          "model_name": "FloatProgressModel",
          "state": {
            "_dom_classes": [],
            "_model_module": "@jupyter-widgets/controls",
            "_model_module_version": "1.5.0",
            "_model_name": "FloatProgressModel",
            "_view_count": null,
            "_view_module": "@jupyter-widgets/controls",
            "_view_module_version": "1.5.0",
            "_view_name": "ProgressView",
            "bar_style": "success",
            "description": "",
            "description_tooltip": null,
            "layout": "IPY_MODEL_5251b0302e42471680c67dbe7d870f1e",
            "max": 409,
            "min": 0,
            "orientation": "horizontal",
            "style": "IPY_MODEL_bd88b4ea9a3f4208aa17be37763fd737",
            "value": 409
          }
        },
        "272b2d99f745462286312f695d482058": {
          "model_module": "@jupyter-widgets/controls",
          "model_module_version": "1.5.0",
          "model_name": "HTMLModel",
          "state": {
            "_dom_classes": [],
            "_model_module": "@jupyter-widgets/controls",
            "_model_module_version": "1.5.0",
            "_model_name": "HTMLModel",
            "_view_count": null,
            "_view_module": "@jupyter-widgets/controls",
            "_view_module_version": "1.5.0",
            "_view_name": "HTMLView",
            "description": "",
            "description_tooltip": null,
            "layout": "IPY_MODEL_6bd823414e264db2800bed18a5a9a69e",
            "placeholder": "​",
            "style": "IPY_MODEL_32835d7b9f484a9fa0b0b92f54c16edd",
            "value": " 112/112 [00:00&lt;00:00, 12.6kB/s]"
          }
        },
        "278a8ab9981c4ef7936072bade6701be": {
          "model_module": "@jupyter-widgets/controls",
          "model_module_version": "1.5.0",
          "model_name": "HTMLModel",
          "state": {
            "_dom_classes": [],
            "_model_module": "@jupyter-widgets/controls",
            "_model_module_version": "1.5.0",
            "_model_name": "HTMLModel",
            "_view_count": null,
            "_view_module": "@jupyter-widgets/controls",
            "_view_module_version": "1.5.0",
            "_view_name": "HTMLView",
            "description": "",
            "description_tooltip": null,
            "layout": "IPY_MODEL_ba1afd231aa64b07b7e830133c03068d",
            "placeholder": "​",
            "style": "IPY_MODEL_4538498c07514f4b9bcab75240194784",
            "value": "Generating train split: 100%"
          }
        },
        "280a667c50e2420c89df736017973a4e": {
          "model_module": "@jupyter-widgets/controls",
          "model_module_version": "1.5.0",
          "model_name": "HTMLModel",
          "state": {
            "_dom_classes": [],
            "_model_module": "@jupyter-widgets/controls",
            "_model_module_version": "1.5.0",
            "_model_name": "HTMLModel",
            "_view_count": null,
            "_view_module": "@jupyter-widgets/controls",
            "_view_module_version": "1.5.0",
            "_view_name": "HTMLView",
            "description": "",
            "description_tooltip": null,
            "layout": "IPY_MODEL_06bd5dfd21f94a1c9383f10c0b4ae6c6",
            "placeholder": "​",
            "style": "IPY_MODEL_dbd030feb24b4e3687dfebb8cffdce19",
            "value": "tokenizer.json: 100%"
          }
        },
        "288be5aef1e54d219db09dd172774c79": {
          "model_module": "@jupyter-widgets/controls",
          "model_module_version": "1.5.0",
          "model_name": "FloatProgressModel",
          "state": {
            "_dom_classes": [],
            "_model_module": "@jupyter-widgets/controls",
            "_model_module_version": "1.5.0",
            "_model_name": "FloatProgressModel",
            "_view_count": null,
            "_view_module": "@jupyter-widgets/controls",
            "_view_module_version": "1.5.0",
            "_view_name": "ProgressView",
            "bar_style": "success",
            "description": "",
            "description_tooltip": null,
            "layout": "IPY_MODEL_6a55ad3a83904402a44042987a39acef",
            "max": 349,
            "min": 0,
            "orientation": "horizontal",
            "style": "IPY_MODEL_7611003ebbd44a84b993be11466ee544",
            "value": 349
          }
        },
        "2d0c65650fa24d878d47ecffce12b654": {
          "model_module": "@jupyter-widgets/controls",
          "model_module_version": "1.5.0",
          "model_name": "DescriptionStyleModel",
          "state": {
            "_model_module": "@jupyter-widgets/controls",
            "_model_module_version": "1.5.0",
            "_model_name": "DescriptionStyleModel",
            "_view_count": null,
            "_view_module": "@jupyter-widgets/base",
            "_view_module_version": "1.2.0",
            "_view_name": "StyleView",
            "description_width": ""
          }
        },
        "30fd02de56b04257aef5a73fa24d633d": {
          "model_module": "@jupyter-widgets/controls",
          "model_module_version": "1.5.0",
          "model_name": "HTMLModel",
          "state": {
            "_dom_classes": [],
            "_model_module": "@jupyter-widgets/controls",
            "_model_module_version": "1.5.0",
            "_model_name": "HTMLModel",
            "_view_count": null,
            "_view_module": "@jupyter-widgets/controls",
            "_view_module_version": "1.5.0",
            "_view_name": "HTMLView",
            "description": "",
            "description_tooltip": null,
            "layout": "IPY_MODEL_2049fa6c32644026b1275d7e5cfe8975",
            "placeholder": "​",
            "style": "IPY_MODEL_8a0fa1f92a21496a9eb6c76e0e6a04ad",
            "value": " 4838/4838 [00:00&lt;00:00, 10538.89 examples/s]"
          }
        },
        "317dce3e669c47a2af47d934cedca485": {
          "model_module": "@jupyter-widgets/controls",
          "model_module_version": "1.5.0",
          "model_name": "HTMLModel",
          "state": {
            "_dom_classes": [],
            "_model_module": "@jupyter-widgets/controls",
            "_model_module_version": "1.5.0",
            "_model_name": "HTMLModel",
            "_view_count": null,
            "_view_module": "@jupyter-widgets/controls",
            "_view_module_version": "1.5.0",
            "_view_name": "HTMLView",
            "description": "",
            "description_tooltip": null,
            "layout": "IPY_MODEL_b22902f866704c29b34e19ced5fcd7f2",
            "placeholder": "​",
            "style": "IPY_MODEL_ac17a16e2e3d4be0b4f11b150377932e",
            "value": "1_Pooling%2Fconfig.json: 100%"
          }
        },
        "32835d7b9f484a9fa0b0b92f54c16edd": {
          "model_module": "@jupyter-widgets/controls",
          "model_module_version": "1.5.0",
          "model_name": "DescriptionStyleModel",
          "state": {
            "_model_module": "@jupyter-widgets/controls",
            "_model_module_version": "1.5.0",
            "_model_name": "DescriptionStyleModel",
            "_view_count": null,
            "_view_module": "@jupyter-widgets/base",
            "_view_module_version": "1.2.0",
            "_view_name": "StyleView",
            "description_width": ""
          }
        },
        "33e9973c287244c3a5b4a704403a2a18": {
          "model_module": "@jupyter-widgets/base",
          "model_module_version": "1.2.0",
          "model_name": "LayoutModel",
          "state": {
            "_model_module": "@jupyter-widgets/base",
            "_model_module_version": "1.2.0",
            "_model_name": "LayoutModel",
            "_view_count": null,
            "_view_module": "@jupyter-widgets/base",
            "_view_module_version": "1.2.0",
            "_view_name": "LayoutView",
            "align_content": null,
            "align_items": null,
            "align_self": null,
            "border": null,
            "bottom": null,
            "display": null,
            "flex": null,
            "flex_flow": null,
            "grid_area": null,
            "grid_auto_columns": null,
            "grid_auto_flow": null,
            "grid_auto_rows": null,
            "grid_column": null,
            "grid_gap": null,
            "grid_row": null,
            "grid_template_areas": null,
            "grid_template_columns": null,
            "grid_template_rows": null,
            "height": null,
            "justify_content": null,
            "justify_items": null,
            "left": null,
            "margin": null,
            "max_height": null,
            "max_width": null,
            "min_height": null,
            "min_width": null,
            "object_fit": null,
            "object_position": null,
            "order": null,
            "overflow": null,
            "overflow_x": null,
            "overflow_y": null,
            "padding": null,
            "right": null,
            "top": null,
            "visibility": null,
            "width": null
          }
        },
        "3611dc24c7534fe39c08e32ef5707415": {
          "model_module": "@jupyter-widgets/base",
          "model_module_version": "1.2.0",
          "model_name": "LayoutModel",
          "state": {
            "_model_module": "@jupyter-widgets/base",
            "_model_module_version": "1.2.0",
            "_model_name": "LayoutModel",
            "_view_count": null,
            "_view_module": "@jupyter-widgets/base",
            "_view_module_version": "1.2.0",
            "_view_name": "LayoutView",
            "align_content": null,
            "align_items": null,
            "align_self": null,
            "border": null,
            "bottom": null,
            "display": null,
            "flex": null,
            "flex_flow": null,
            "grid_area": null,
            "grid_auto_columns": null,
            "grid_auto_flow": null,
            "grid_auto_rows": null,
            "grid_column": null,
            "grid_gap": null,
            "grid_row": null,
            "grid_template_areas": null,
            "grid_template_columns": null,
            "grid_template_rows": null,
            "height": null,
            "justify_content": null,
            "justify_items": null,
            "left": null,
            "margin": null,
            "max_height": null,
            "max_width": null,
            "min_height": null,
            "min_width": null,
            "object_fit": null,
            "object_position": null,
            "order": null,
            "overflow": null,
            "overflow_x": null,
            "overflow_y": null,
            "padding": null,
            "right": null,
            "top": null,
            "visibility": null,
            "width": null
          }
        },
        "3632b5bb101c47a1bcf0f976d5f16425": {
          "model_module": "@jupyter-widgets/base",
          "model_module_version": "1.2.0",
          "model_name": "LayoutModel",
          "state": {
            "_model_module": "@jupyter-widgets/base",
            "_model_module_version": "1.2.0",
            "_model_name": "LayoutModel",
            "_view_count": null,
            "_view_module": "@jupyter-widgets/base",
            "_view_module_version": "1.2.0",
            "_view_name": "LayoutView",
            "align_content": null,
            "align_items": null,
            "align_self": null,
            "border": null,
            "bottom": null,
            "display": null,
            "flex": null,
            "flex_flow": null,
            "grid_area": null,
            "grid_auto_columns": null,
            "grid_auto_flow": null,
            "grid_auto_rows": null,
            "grid_column": null,
            "grid_gap": null,
            "grid_row": null,
            "grid_template_areas": null,
            "grid_template_columns": null,
            "grid_template_rows": null,
            "height": null,
            "justify_content": null,
            "justify_items": null,
            "left": null,
            "margin": null,
            "max_height": null,
            "max_width": null,
            "min_height": null,
            "min_width": null,
            "object_fit": null,
            "object_position": null,
            "order": null,
            "overflow": null,
            "overflow_x": null,
            "overflow_y": null,
            "padding": null,
            "right": null,
            "top": null,
            "visibility": null,
            "width": null
          }
        },
        "38697b490a30430387ae193264d1d182": {
          "model_module": "@jupyter-widgets/controls",
          "model_module_version": "1.5.0",
          "model_name": "DescriptionStyleModel",
          "state": {
            "_model_module": "@jupyter-widgets/controls",
            "_model_module_version": "1.5.0",
            "_model_name": "DescriptionStyleModel",
            "_view_count": null,
            "_view_module": "@jupyter-widgets/base",
            "_view_module_version": "1.2.0",
            "_view_name": "StyleView",
            "description_width": ""
          }
        },
        "3a56eebc4b544506af8af41329fe20a6": {
          "model_module": "@jupyter-widgets/controls",
          "model_module_version": "1.5.0",
          "model_name": "FloatProgressModel",
          "state": {
            "_dom_classes": [],
            "_model_module": "@jupyter-widgets/controls",
            "_model_module_version": "1.5.0",
            "_model_name": "FloatProgressModel",
            "_view_count": null,
            "_view_module": "@jupyter-widgets/controls",
            "_view_module_version": "1.5.0",
            "_view_name": "ProgressView",
            "bar_style": "success",
            "description": "",
            "description_tooltip": null,
            "layout": "IPY_MODEL_fa72af67782b45fcb7835db8bc580c02",
            "max": 231508,
            "min": 0,
            "orientation": "horizontal",
            "style": "IPY_MODEL_f320ae2bbe164cb099ad674c2af1e7ba",
            "value": 231508
          }
        },
        "3d7fdfc440354531821d3c753aa9720d": {
          "model_module": "@jupyter-widgets/base",
          "model_module_version": "1.2.0",
          "model_name": "LayoutModel",
          "state": {
            "_model_module": "@jupyter-widgets/base",
            "_model_module_version": "1.2.0",
            "_model_name": "LayoutModel",
            "_view_count": null,
            "_view_module": "@jupyter-widgets/base",
            "_view_module_version": "1.2.0",
            "_view_name": "LayoutView",
            "align_content": null,
            "align_items": null,
            "align_self": null,
            "border": null,
            "bottom": null,
            "display": null,
            "flex": null,
            "flex_flow": null,
            "grid_area": null,
            "grid_auto_columns": null,
            "grid_auto_flow": null,
            "grid_auto_rows": null,
            "grid_column": null,
            "grid_gap": null,
            "grid_row": null,
            "grid_template_areas": null,
            "grid_template_columns": null,
            "grid_template_rows": null,
            "height": null,
            "justify_content": null,
            "justify_items": null,
            "left": null,
            "margin": null,
            "max_height": null,
            "max_width": null,
            "min_height": null,
            "min_width": null,
            "object_fit": null,
            "object_position": null,
            "order": null,
            "overflow": null,
            "overflow_x": null,
            "overflow_y": null,
            "padding": null,
            "right": null,
            "top": null,
            "visibility": null,
            "width": null
          }
        },
        "3dfcb46cacd743e4ae890ce78c9b9071": {
          "model_module": "@jupyter-widgets/controls",
          "model_module_version": "1.5.0",
          "model_name": "HTMLModel",
          "state": {
            "_dom_classes": [],
            "_model_module": "@jupyter-widgets/controls",
            "_model_module_version": "1.5.0",
            "_model_name": "HTMLModel",
            "_view_count": null,
            "_view_module": "@jupyter-widgets/controls",
            "_view_module_version": "1.5.0",
            "_view_name": "HTMLView",
            "description": "",
            "description_tooltip": null,
            "layout": "IPY_MODEL_ffad548fccb446c5b42458eb6d291654",
            "placeholder": "​",
            "style": "IPY_MODEL_60dcabf5d7534d43822d52e0070368b0",
            "value": "model.safetensors: 100%"
          }
        },
        "3eebdefaec624e1b9ef8fd50acf0491e": {
          "model_module": "@jupyter-widgets/controls",
          "model_module_version": "1.5.0",
          "model_name": "HTMLModel",
          "state": {
            "_dom_classes": [],
            "_model_module": "@jupyter-widgets/controls",
            "_model_module_version": "1.5.0",
            "_model_name": "HTMLModel",
            "_view_count": null,
            "_view_module": "@jupyter-widgets/controls",
            "_view_module_version": "1.5.0",
            "_view_name": "HTMLView",
            "description": "",
            "description_tooltip": null,
            "layout": "IPY_MODEL_99b29b58dc0c41c681a9de7ae64ca981",
            "placeholder": "​",
            "style": "IPY_MODEL_ea877ff553464116b914a357ec42857e",
            "value": " 409/409 [00:00&lt;00:00, 19.6kB/s]"
          }
        },
        "41aae238d9334c78b40aa784142cb334": {
          "model_module": "@jupyter-widgets/controls",
          "model_module_version": "1.5.0",
          "model_name": "HTMLModel",
          "state": {
            "_dom_classes": [],
            "_model_module": "@jupyter-widgets/controls",
            "_model_module_version": "1.5.0",
            "_model_name": "HTMLModel",
            "_view_count": null,
            "_view_module": "@jupyter-widgets/controls",
            "_view_module_version": "1.5.0",
            "_view_name": "HTMLView",
            "description": "",
            "description_tooltip": null,
            "layout": "IPY_MODEL_d87575a0899140e5b39f30a247a695f1",
            "placeholder": "​",
            "style": "IPY_MODEL_016539e341fe4d508f96eb208e9b2f45",
            "value": "README.md: 100%"
          }
        },
        "431b0d32522e4a3d8e975ad8304c7a89": {
          "model_module": "@jupyter-widgets/controls",
          "model_module_version": "1.5.0",
          "model_name": "FloatProgressModel",
          "state": {
            "_dom_classes": [],
            "_model_module": "@jupyter-widgets/controls",
            "_model_module_version": "1.5.0",
            "_model_name": "FloatProgressModel",
            "_view_count": null,
            "_view_module": "@jupyter-widgets/controls",
            "_view_module_version": "1.5.0",
            "_view_name": "ProgressView",
            "bar_style": "success",
            "description": "",
            "description_tooltip": null,
            "layout": "IPY_MODEL_ff3a5ab40c4047bca54c8ffed1e36414",
            "max": 53,
            "min": 0,
            "orientation": "horizontal",
            "style": "IPY_MODEL_555b341acc3f447da4eca580cf55e8bf",
            "value": 53
          }
        },
        "450efd5ae7ef44d585e6a47c616a9c3e": {
          "model_module": "@jupyter-widgets/base",
          "model_module_version": "1.2.0",
          "model_name": "LayoutModel",
          "state": {
            "_model_module": "@jupyter-widgets/base",
            "_model_module_version": "1.2.0",
            "_model_name": "LayoutModel",
            "_view_count": null,
            "_view_module": "@jupyter-widgets/base",
            "_view_module_version": "1.2.0",
            "_view_name": "LayoutView",
            "align_content": null,
            "align_items": null,
            "align_self": null,
            "border": null,
            "bottom": null,
            "display": null,
            "flex": null,
            "flex_flow": null,
            "grid_area": null,
            "grid_auto_columns": null,
            "grid_auto_flow": null,
            "grid_auto_rows": null,
            "grid_column": null,
            "grid_gap": null,
            "grid_row": null,
            "grid_template_areas": null,
            "grid_template_columns": null,
            "grid_template_rows": null,
            "height": null,
            "justify_content": null,
            "justify_items": null,
            "left": null,
            "margin": null,
            "max_height": null,
            "max_width": null,
            "min_height": null,
            "min_width": null,
            "object_fit": null,
            "object_position": null,
            "order": null,
            "overflow": null,
            "overflow_x": null,
            "overflow_y": null,
            "padding": null,
            "right": null,
            "top": null,
            "visibility": null,
            "width": null
          }
        },
        "4538498c07514f4b9bcab75240194784": {
          "model_module": "@jupyter-widgets/controls",
          "model_module_version": "1.5.0",
          "model_name": "DescriptionStyleModel",
          "state": {
            "_model_module": "@jupyter-widgets/controls",
            "_model_module_version": "1.5.0",
            "_model_name": "DescriptionStyleModel",
            "_view_count": null,
            "_view_module": "@jupyter-widgets/base",
            "_view_module_version": "1.2.0",
            "_view_name": "StyleView",
            "description_width": ""
          }
        },
        "459fb944f03e400fa5b893bf1337b0a8": {
          "model_module": "@jupyter-widgets/controls",
          "model_module_version": "1.5.0",
          "model_name": "HTMLModel",
          "state": {
            "_dom_classes": [],
            "_model_module": "@jupyter-widgets/controls",
            "_model_module_version": "1.5.0",
            "_model_name": "HTMLModel",
            "_view_count": null,
            "_view_module": "@jupyter-widgets/controls",
            "_view_module_version": "1.5.0",
            "_view_name": "HTMLView",
            "description": "",
            "description_tooltip": null,
            "layout": "IPY_MODEL_450efd5ae7ef44d585e6a47c616a9c3e",
            "placeholder": "​",
            "style": "IPY_MODEL_9515947e6a3a4b78aa4076e2fd1736a4",
            "value": "config.json: 100%"
          }
        },
        "45e8ea8caabc440081f805b7df92f3a9": {
          "model_module": "@jupyter-widgets/base",
          "model_module_version": "1.2.0",
          "model_name": "LayoutModel",
          "state": {
            "_model_module": "@jupyter-widgets/base",
            "_model_module_version": "1.2.0",
            "_model_name": "LayoutModel",
            "_view_count": null,
            "_view_module": "@jupyter-widgets/base",
            "_view_module_version": "1.2.0",
            "_view_name": "LayoutView",
            "align_content": null,
            "align_items": null,
            "align_self": null,
            "border": null,
            "bottom": null,
            "display": null,
            "flex": null,
            "flex_flow": null,
            "grid_area": null,
            "grid_auto_columns": null,
            "grid_auto_flow": null,
            "grid_auto_rows": null,
            "grid_column": null,
            "grid_gap": null,
            "grid_row": null,
            "grid_template_areas": null,
            "grid_template_columns": null,
            "grid_template_rows": null,
            "height": null,
            "justify_content": null,
            "justify_items": null,
            "left": null,
            "margin": null,
            "max_height": null,
            "max_width": null,
            "min_height": null,
            "min_width": null,
            "object_fit": null,
            "object_position": null,
            "order": null,
            "overflow": null,
            "overflow_x": null,
            "overflow_y": null,
            "padding": null,
            "right": null,
            "top": null,
            "visibility": null,
            "width": null
          }
        },
        "4653f4e4546a4750833b4d4618a857e1": {
          "model_module": "@jupyter-widgets/base",
          "model_module_version": "1.2.0",
          "model_name": "LayoutModel",
          "state": {
            "_model_module": "@jupyter-widgets/base",
            "_model_module_version": "1.2.0",
            "_model_name": "LayoutModel",
            "_view_count": null,
            "_view_module": "@jupyter-widgets/base",
            "_view_module_version": "1.2.0",
            "_view_name": "LayoutView",
            "align_content": null,
            "align_items": null,
            "align_self": null,
            "border": null,
            "bottom": null,
            "display": null,
            "flex": null,
            "flex_flow": null,
            "grid_area": null,
            "grid_auto_columns": null,
            "grid_auto_flow": null,
            "grid_auto_rows": null,
            "grid_column": null,
            "grid_gap": null,
            "grid_row": null,
            "grid_template_areas": null,
            "grid_template_columns": null,
            "grid_template_rows": null,
            "height": null,
            "justify_content": null,
            "justify_items": null,
            "left": null,
            "margin": null,
            "max_height": null,
            "max_width": null,
            "min_height": null,
            "min_width": null,
            "object_fit": null,
            "object_position": null,
            "order": null,
            "overflow": null,
            "overflow_x": null,
            "overflow_y": null,
            "padding": null,
            "right": null,
            "top": null,
            "visibility": null,
            "width": null
          }
        },
        "4718f4553c8644a2a4dacdf85b1217a1": {
          "model_module": "@jupyter-widgets/controls",
          "model_module_version": "1.5.0",
          "model_name": "HBoxModel",
          "state": {
            "_dom_classes": [],
            "_model_module": "@jupyter-widgets/controls",
            "_model_module_version": "1.5.0",
            "_model_name": "HBoxModel",
            "_view_count": null,
            "_view_module": "@jupyter-widgets/controls",
            "_view_module_version": "1.5.0",
            "_view_name": "HBoxView",
            "box_style": "",
            "children": [
              "IPY_MODEL_459fb944f03e400fa5b893bf1337b0a8",
              "IPY_MODEL_506f9098dcff4904b9c0f545668f7692",
              "IPY_MODEL_1b934a6e57294afd938d4d18f74607da"
            ],
            "layout": "IPY_MODEL_c3f5a16b423a4733850c83cc9b6adc50"
          }
        },
        "4e5c4d14c8dc42d1986ebc927af839bc": {
          "model_module": "@jupyter-widgets/controls",
          "model_module_version": "1.5.0",
          "model_name": "ProgressStyleModel",
          "state": {
            "_model_module": "@jupyter-widgets/controls",
            "_model_module_version": "1.5.0",
            "_model_name": "ProgressStyleModel",
            "_view_count": null,
            "_view_module": "@jupyter-widgets/base",
            "_view_module_version": "1.2.0",
            "_view_name": "StyleView",
            "bar_color": null,
            "description_width": ""
          }
        },
        "4eace52798b54935a29652a2248398e5": {
          "model_module": "@jupyter-widgets/controls",
          "model_module_version": "1.5.0",
          "model_name": "FloatProgressModel",
          "state": {
            "_dom_classes": [],
            "_model_module": "@jupyter-widgets/controls",
            "_model_module_version": "1.5.0",
            "_model_name": "FloatProgressModel",
            "_view_count": null,
            "_view_module": "@jupyter-widgets/controls",
            "_view_module_version": "1.5.0",
            "_view_name": "ProgressView",
            "bar_style": "success",
            "description": "",
            "description_tooltip": null,
            "layout": "IPY_MODEL_e935b0fd06774d31bf2271779fd0c001",
            "max": 14417793,
            "min": 0,
            "orientation": "horizontal",
            "style": "IPY_MODEL_9dae29b862ef4891a66f17ccc9f51d3e",
            "value": 14417793
          }
        },
        "4f6b6da857fa4af7bcb3a307f61ba366": {
          "model_module": "@jupyter-widgets/controls",
          "model_module_version": "1.5.0",
          "model_name": "HBoxModel",
          "state": {
            "_dom_classes": [],
            "_model_module": "@jupyter-widgets/controls",
            "_model_module_version": "1.5.0",
            "_model_name": "HBoxModel",
            "_view_count": null,
            "_view_module": "@jupyter-widgets/controls",
            "_view_module_version": "1.5.0",
            "_view_name": "HBoxView",
            "box_style": "",
            "children": [
              "IPY_MODEL_c6f98db5c73c488eabab0796c787e408",
              "IPY_MODEL_aa6c18c714d940bd9bfeb3afa6c15b79",
              "IPY_MODEL_c6b478cc969841448d573b33a8f5c899"
            ],
            "layout": "IPY_MODEL_813d3d5210a24fb58a2e1a3f0f272245"
          }
        },
        "506f9098dcff4904b9c0f545668f7692": {
          "model_module": "@jupyter-widgets/controls",
          "model_module_version": "1.5.0",
          "model_name": "FloatProgressModel",
          "state": {
            "_dom_classes": [],
            "_model_module": "@jupyter-widgets/controls",
            "_model_module_version": "1.5.0",
            "_model_name": "FloatProgressModel",
            "_view_count": null,
            "_view_module": "@jupyter-widgets/controls",
            "_view_module_version": "1.5.0",
            "_view_name": "ProgressView",
            "bar_style": "success",
            "description": "",
            "description_tooltip": null,
            "layout": "IPY_MODEL_45e8ea8caabc440081f805b7df92f3a9",
            "max": 570,
            "min": 0,
            "orientation": "horizontal",
            "style": "IPY_MODEL_a7a2dccc5984456c8e9f0682877a2796",
            "value": 570
          }
        },
        "50912c542738472e8112184983141da7": {
          "model_module": "@jupyter-widgets/controls",
          "model_module_version": "1.5.0",
          "model_name": "FloatProgressModel",
          "state": {
            "_dom_classes": [],
            "_model_module": "@jupyter-widgets/controls",
            "_model_module_version": "1.5.0",
            "_model_name": "FloatProgressModel",
            "_view_count": null,
            "_view_module": "@jupyter-widgets/controls",
            "_view_module_version": "1.5.0",
            "_view_name": "ProgressView",
            "bar_style": "success",
            "description": "",
            "description_tooltip": null,
            "layout": "IPY_MODEL_65eb4007781a4bbdb95b57bf38ba7811",
            "max": 466062,
            "min": 0,
            "orientation": "horizontal",
            "style": "IPY_MODEL_c026b60d5fcc43a7a32ee88eeb059089",
            "value": 466062
          }
        },
        "50c8197d023540a0bae99a97c4a8287d": {
          "model_module": "@jupyter-widgets/controls",
          "model_module_version": "1.5.0",
          "model_name": "FloatProgressModel",
          "state": {
            "_dom_classes": [],
            "_model_module": "@jupyter-widgets/controls",
            "_model_module_version": "1.5.0",
            "_model_name": "FloatProgressModel",
            "_view_count": null,
            "_view_module": "@jupyter-widgets/controls",
            "_view_module_version": "1.5.0",
            "_view_name": "ProgressView",
            "bar_style": "success",
            "description": "",
            "description_tooltip": null,
            "layout": "IPY_MODEL_4653f4e4546a4750833b4d4618a857e1",
            "max": 112,
            "min": 0,
            "orientation": "horizontal",
            "style": "IPY_MODEL_d8c2e55c02814e17ad12039171c5d783",
            "value": 112
          }
        },
        "5251b0302e42471680c67dbe7d870f1e": {
          "model_module": "@jupyter-widgets/base",
          "model_module_version": "1.2.0",
          "model_name": "LayoutModel",
          "state": {
            "_model_module": "@jupyter-widgets/base",
            "_model_module_version": "1.2.0",
            "_model_name": "LayoutModel",
            "_view_count": null,
            "_view_module": "@jupyter-widgets/base",
            "_view_module_version": "1.2.0",
            "_view_name": "LayoutView",
            "align_content": null,
            "align_items": null,
            "align_self": null,
            "border": null,
            "bottom": null,
            "display": null,
            "flex": null,
            "flex_flow": null,
            "grid_area": null,
            "grid_auto_columns": null,
            "grid_auto_flow": null,
            "grid_auto_rows": null,
            "grid_column": null,
            "grid_gap": null,
            "grid_row": null,
            "grid_template_areas": null,
            "grid_template_columns": null,
            "grid_template_rows": null,
            "height": null,
            "justify_content": null,
            "justify_items": null,
            "left": null,
            "margin": null,
            "max_height": null,
            "max_width": null,
            "min_height": null,
            "min_width": null,
            "object_fit": null,
            "object_position": null,
            "order": null,
            "overflow": null,
            "overflow_x": null,
            "overflow_y": null,
            "padding": null,
            "right": null,
            "top": null,
            "visibility": null,
            "width": null
          }
        },
        "532a4c4de36e424ea512cf7e8ca33d0c": {
          "model_module": "@jupyter-widgets/base",
          "model_module_version": "1.2.0",
          "model_name": "LayoutModel",
          "state": {
            "_model_module": "@jupyter-widgets/base",
            "_model_module_version": "1.2.0",
            "_model_name": "LayoutModel",
            "_view_count": null,
            "_view_module": "@jupyter-widgets/base",
            "_view_module_version": "1.2.0",
            "_view_name": "LayoutView",
            "align_content": null,
            "align_items": null,
            "align_self": null,
            "border": null,
            "bottom": null,
            "display": null,
            "flex": null,
            "flex_flow": null,
            "grid_area": null,
            "grid_auto_columns": null,
            "grid_auto_flow": null,
            "grid_auto_rows": null,
            "grid_column": null,
            "grid_gap": null,
            "grid_row": null,
            "grid_template_areas": null,
            "grid_template_columns": null,
            "grid_template_rows": null,
            "height": null,
            "justify_content": null,
            "justify_items": null,
            "left": null,
            "margin": null,
            "max_height": null,
            "max_width": null,
            "min_height": null,
            "min_width": null,
            "object_fit": null,
            "object_position": null,
            "order": null,
            "overflow": null,
            "overflow_x": null,
            "overflow_y": null,
            "padding": null,
            "right": null,
            "top": null,
            "visibility": null,
            "width": null
          }
        },
        "534e5d816805429d97552ee89566e567": {
          "model_module": "@jupyter-widgets/controls",
          "model_module_version": "1.5.0",
          "model_name": "HBoxModel",
          "state": {
            "_dom_classes": [],
            "_model_module": "@jupyter-widgets/controls",
            "_model_module_version": "1.5.0",
            "_model_name": "HBoxModel",
            "_view_count": null,
            "_view_module": "@jupyter-widgets/controls",
            "_view_module_version": "1.5.0",
            "_view_name": "HBoxView",
            "box_style": "",
            "children": [
              "IPY_MODEL_d4cc591011b44feea4fae3f93d2dacd6",
              "IPY_MODEL_288be5aef1e54d219db09dd172774c79",
              "IPY_MODEL_e54586cf159b48aa952a324ad65899bc"
            ],
            "layout": "IPY_MODEL_d9745d3fbbae42beb015875442ec50ca"
          }
        },
        "555b341acc3f447da4eca580cf55e8bf": {
          "model_module": "@jupyter-widgets/controls",
          "model_module_version": "1.5.0",
          "model_name": "ProgressStyleModel",
          "state": {
            "_model_module": "@jupyter-widgets/controls",
            "_model_module_version": "1.5.0",
            "_model_name": "ProgressStyleModel",
            "_view_count": null,
            "_view_module": "@jupyter-widgets/base",
            "_view_module_version": "1.2.0",
            "_view_name": "StyleView",
            "bar_color": null,
            "description_width": ""
          }
        },
        "5647b14c3a77479fb97de60db09955b2": {
          "model_module": "@jupyter-widgets/base",
          "model_module_version": "1.2.0",
          "model_name": "LayoutModel",
          "state": {
            "_model_module": "@jupyter-widgets/base",
            "_model_module_version": "1.2.0",
            "_model_name": "LayoutModel",
            "_view_count": null,
            "_view_module": "@jupyter-widgets/base",
            "_view_module_version": "1.2.0",
            "_view_name": "LayoutView",
            "align_content": null,
            "align_items": null,
            "align_self": null,
            "border": null,
            "bottom": null,
            "display": null,
            "flex": null,
            "flex_flow": null,
            "grid_area": null,
            "grid_auto_columns": null,
            "grid_auto_flow": null,
            "grid_auto_rows": null,
            "grid_column": null,
            "grid_gap": null,
            "grid_row": null,
            "grid_template_areas": null,
            "grid_template_columns": null,
            "grid_template_rows": null,
            "height": null,
            "justify_content": null,
            "justify_items": null,
            "left": null,
            "margin": null,
            "max_height": null,
            "max_width": null,
            "min_height": null,
            "min_width": null,
            "object_fit": null,
            "object_position": null,
            "order": null,
            "overflow": null,
            "overflow_x": null,
            "overflow_y": null,
            "padding": null,
            "right": null,
            "top": null,
            "visibility": null,
            "width": null
          }
        },
        "5671c4d3523a4ecf92dc4fc75a8f6dd6": {
          "model_module": "@jupyter-widgets/controls",
          "model_module_version": "1.5.0",
          "model_name": "DescriptionStyleModel",
          "state": {
            "_model_module": "@jupyter-widgets/controls",
            "_model_module_version": "1.5.0",
            "_model_name": "DescriptionStyleModel",
            "_view_count": null,
            "_view_module": "@jupyter-widgets/base",
            "_view_module_version": "1.2.0",
            "_view_name": "StyleView",
            "description_width": ""
          }
        },
        "5771294e8ec9408ab9a90a27c944da53": {
          "model_module": "@jupyter-widgets/controls",
          "model_module_version": "1.5.0",
          "model_name": "DescriptionStyleModel",
          "state": {
            "_model_module": "@jupyter-widgets/controls",
            "_model_module_version": "1.5.0",
            "_model_name": "DescriptionStyleModel",
            "_view_count": null,
            "_view_module": "@jupyter-widgets/base",
            "_view_module_version": "1.2.0",
            "_view_name": "StyleView",
            "description_width": ""
          }
        },
        "584598d8a9504ce8ad2026b916009ebd": {
          "model_module": "@jupyter-widgets/controls",
          "model_module_version": "1.5.0",
          "model_name": "DescriptionStyleModel",
          "state": {
            "_model_module": "@jupyter-widgets/controls",
            "_model_module_version": "1.5.0",
            "_model_name": "DescriptionStyleModel",
            "_view_count": null,
            "_view_module": "@jupyter-widgets/base",
            "_view_module_version": "1.2.0",
            "_view_name": "StyleView",
            "description_width": ""
          }
        },
        "5bbc4ead52c94646bb002ce9c5ed84ae": {
          "model_module": "@jupyter-widgets/controls",
          "model_module_version": "1.5.0",
          "model_name": "HTMLModel",
          "state": {
            "_dom_classes": [],
            "_model_module": "@jupyter-widgets/controls",
            "_model_module_version": "1.5.0",
            "_model_name": "HTMLModel",
            "_view_count": null,
            "_view_module": "@jupyter-widgets/controls",
            "_view_module_version": "1.5.0",
            "_view_name": "HTMLView",
            "description": "",
            "description_tooltip": null,
            "layout": "IPY_MODEL_3611dc24c7534fe39c08e32ef5707415",
            "placeholder": "​",
            "style": "IPY_MODEL_221650265edc4f8b931ab96c3461911b",
            "value": " 190/190 [00:00&lt;00:00, 19.5kB/s]"
          }
        },
        "5decf76ada264ca29d648c2cadd9ed3a": {
          "model_module": "@jupyter-widgets/base",
          "model_module_version": "1.2.0",
          "model_name": "LayoutModel",
          "state": {
            "_model_module": "@jupyter-widgets/base",
            "_model_module_version": "1.2.0",
            "_model_name": "LayoutModel",
            "_view_count": null,
            "_view_module": "@jupyter-widgets/base",
            "_view_module_version": "1.2.0",
            "_view_name": "LayoutView",
            "align_content": null,
            "align_items": null,
            "align_self": null,
            "border": null,
            "bottom": null,
            "display": null,
            "flex": null,
            "flex_flow": null,
            "grid_area": null,
            "grid_auto_columns": null,
            "grid_auto_flow": null,
            "grid_auto_rows": null,
            "grid_column": null,
            "grid_gap": null,
            "grid_row": null,
            "grid_template_areas": null,
            "grid_template_columns": null,
            "grid_template_rows": null,
            "height": null,
            "justify_content": null,
            "justify_items": null,
            "left": null,
            "margin": null,
            "max_height": null,
            "max_width": null,
            "min_height": null,
            "min_width": null,
            "object_fit": null,
            "object_position": null,
            "order": null,
            "overflow": null,
            "overflow_x": null,
            "overflow_y": null,
            "padding": null,
            "right": null,
            "top": null,
            "visibility": null,
            "width": null
          }
        },
        "5fda87f2064649579b840d8a4cd6706b": {
          "model_module": "@jupyter-widgets/base",
          "model_module_version": "1.2.0",
          "model_name": "LayoutModel",
          "state": {
            "_model_module": "@jupyter-widgets/base",
            "_model_module_version": "1.2.0",
            "_model_name": "LayoutModel",
            "_view_count": null,
            "_view_module": "@jupyter-widgets/base",
            "_view_module_version": "1.2.0",
            "_view_name": "LayoutView",
            "align_content": null,
            "align_items": null,
            "align_self": null,
            "border": null,
            "bottom": null,
            "display": null,
            "flex": null,
            "flex_flow": null,
            "grid_area": null,
            "grid_auto_columns": null,
            "grid_auto_flow": null,
            "grid_auto_rows": null,
            "grid_column": null,
            "grid_gap": null,
            "grid_row": null,
            "grid_template_areas": null,
            "grid_template_columns": null,
            "grid_template_rows": null,
            "height": null,
            "justify_content": null,
            "justify_items": null,
            "left": null,
            "margin": null,
            "max_height": null,
            "max_width": null,
            "min_height": null,
            "min_width": null,
            "object_fit": null,
            "object_position": null,
            "order": null,
            "overflow": null,
            "overflow_x": null,
            "overflow_y": null,
            "padding": null,
            "right": null,
            "top": null,
            "visibility": null,
            "width": null
          }
        },
        "60dcabf5d7534d43822d52e0070368b0": {
          "model_module": "@jupyter-widgets/controls",
          "model_module_version": "1.5.0",
          "model_name": "DescriptionStyleModel",
          "state": {
            "_model_module": "@jupyter-widgets/controls",
            "_model_module_version": "1.5.0",
            "_model_name": "DescriptionStyleModel",
            "_view_count": null,
            "_view_module": "@jupyter-widgets/base",
            "_view_module_version": "1.2.0",
            "_view_name": "StyleView",
            "description_width": ""
          }
        },
        "615cdf3ab12b48b58ed786abfefc07fb": {
          "model_module": "@jupyter-widgets/controls",
          "model_module_version": "1.5.0",
          "model_name": "DescriptionStyleModel",
          "state": {
            "_model_module": "@jupyter-widgets/controls",
            "_model_module_version": "1.5.0",
            "_model_name": "DescriptionStyleModel",
            "_view_count": null,
            "_view_module": "@jupyter-widgets/base",
            "_view_module_version": "1.2.0",
            "_view_name": "StyleView",
            "description_width": ""
          }
        },
        "65eb4007781a4bbdb95b57bf38ba7811": {
          "model_module": "@jupyter-widgets/base",
          "model_module_version": "1.2.0",
          "model_name": "LayoutModel",
          "state": {
            "_model_module": "@jupyter-widgets/base",
            "_model_module_version": "1.2.0",
            "_model_name": "LayoutModel",
            "_view_count": null,
            "_view_module": "@jupyter-widgets/base",
            "_view_module_version": "1.2.0",
            "_view_name": "LayoutView",
            "align_content": null,
            "align_items": null,
            "align_self": null,
            "border": null,
            "bottom": null,
            "display": null,
            "flex": null,
            "flex_flow": null,
            "grid_area": null,
            "grid_auto_columns": null,
            "grid_auto_flow": null,
            "grid_auto_rows": null,
            "grid_column": null,
            "grid_gap": null,
            "grid_row": null,
            "grid_template_areas": null,
            "grid_template_columns": null,
            "grid_template_rows": null,
            "height": null,
            "justify_content": null,
            "justify_items": null,
            "left": null,
            "margin": null,
            "max_height": null,
            "max_width": null,
            "min_height": null,
            "min_width": null,
            "object_fit": null,
            "object_position": null,
            "order": null,
            "overflow": null,
            "overflow_x": null,
            "overflow_y": null,
            "padding": null,
            "right": null,
            "top": null,
            "visibility": null,
            "width": null
          }
        },
        "66d085d7a3294d58938a2590dc7c122d": {
          "model_module": "@jupyter-widgets/controls",
          "model_module_version": "1.5.0",
          "model_name": "HBoxModel",
          "state": {
            "_dom_classes": [],
            "_model_module": "@jupyter-widgets/controls",
            "_model_module_version": "1.5.0",
            "_model_name": "HBoxModel",
            "_view_count": null,
            "_view_module": "@jupyter-widgets/controls",
            "_view_module_version": "1.5.0",
            "_view_name": "HBoxView",
            "box_style": "",
            "children": [
              "IPY_MODEL_a859405802c1466c9da0610266f9a141",
              "IPY_MODEL_3a56eebc4b544506af8af41329fe20a6",
              "IPY_MODEL_a748c241bf6a4689a767975e5b54e644"
            ],
            "layout": "IPY_MODEL_9010d444575f450d96c8f7a547234da7"
          }
        },
        "67a3ba3f686a40d3bcaa1139a705a24a": {
          "model_module": "@jupyter-widgets/controls",
          "model_module_version": "1.5.0",
          "model_name": "HBoxModel",
          "state": {
            "_dom_classes": [],
            "_model_module": "@jupyter-widgets/controls",
            "_model_module_version": "1.5.0",
            "_model_name": "HBoxModel",
            "_view_count": null,
            "_view_module": "@jupyter-widgets/controls",
            "_view_module_version": "1.5.0",
            "_view_name": "HBoxView",
            "box_style": "",
            "children": [
              "IPY_MODEL_6a39b02186b743fb925d689480a444b5",
              "IPY_MODEL_431b0d32522e4a3d8e975ad8304c7a89",
              "IPY_MODEL_9deb1a5a5d264602b265ea87ec787d1b"
            ],
            "layout": "IPY_MODEL_a7c046abb9024448bd8a7824aea7029a"
          }
        },
        "67a412260a634475a70ab6827920c44e": {
          "model_module": "@jupyter-widgets/controls",
          "model_module_version": "1.5.0",
          "model_name": "FloatProgressModel",
          "state": {
            "_dom_classes": [],
            "_model_module": "@jupyter-widgets/controls",
            "_model_module_version": "1.5.0",
            "_model_name": "FloatProgressModel",
            "_view_count": null,
            "_view_module": "@jupyter-widgets/controls",
            "_view_module_version": "1.5.0",
            "_view_name": "ProgressView",
            "bar_style": "success",
            "description": "",
            "description_tooltip": null,
            "layout": "IPY_MODEL_b40c792d92c1428d9161eca58a7b17b1",
            "max": 10659,
            "min": 0,
            "orientation": "horizontal",
            "style": "IPY_MODEL_c29c42f4e94842d2a6d31a0a863fa749",
            "value": 10659
          }
        },
        "68ab9158f02c41e7a45e105820f32981": {
          "model_module": "@jupyter-widgets/base",
          "model_module_version": "1.2.0",
          "model_name": "LayoutModel",
          "state": {
            "_model_module": "@jupyter-widgets/base",
            "_model_module_version": "1.2.0",
            "_model_name": "LayoutModel",
            "_view_count": null,
            "_view_module": "@jupyter-widgets/base",
            "_view_module_version": "1.2.0",
            "_view_name": "LayoutView",
            "align_content": null,
            "align_items": null,
            "align_self": null,
            "border": null,
            "bottom": null,
            "display": null,
            "flex": null,
            "flex_flow": null,
            "grid_area": null,
            "grid_auto_columns": null,
            "grid_auto_flow": null,
            "grid_auto_rows": null,
            "grid_column": null,
            "grid_gap": null,
            "grid_row": null,
            "grid_template_areas": null,
            "grid_template_columns": null,
            "grid_template_rows": null,
            "height": null,
            "justify_content": null,
            "justify_items": null,
            "left": null,
            "margin": null,
            "max_height": null,
            "max_width": null,
            "min_height": null,
            "min_width": null,
            "object_fit": null,
            "object_position": null,
            "order": null,
            "overflow": null,
            "overflow_x": null,
            "overflow_y": null,
            "padding": null,
            "right": null,
            "top": null,
            "visibility": null,
            "width": null
          }
        },
        "6a39b02186b743fb925d689480a444b5": {
          "model_module": "@jupyter-widgets/controls",
          "model_module_version": "1.5.0",
          "model_name": "HTMLModel",
          "state": {
            "_dom_classes": [],
            "_model_module": "@jupyter-widgets/controls",
            "_model_module_version": "1.5.0",
            "_model_name": "HTMLModel",
            "_view_count": null,
            "_view_module": "@jupyter-widgets/controls",
            "_view_module_version": "1.5.0",
            "_view_name": "HTMLView",
            "description": "",
            "description_tooltip": null,
            "layout": "IPY_MODEL_f54313d5f5f041f68b1373195fdf8433",
            "placeholder": "​",
            "style": "IPY_MODEL_2d0c65650fa24d878d47ecffce12b654",
            "value": "sentence_bert_config.json: 100%"
          }
        },
        "6a55ad3a83904402a44042987a39acef": {
          "model_module": "@jupyter-widgets/base",
          "model_module_version": "1.2.0",
          "model_name": "LayoutModel",
          "state": {
            "_model_module": "@jupyter-widgets/base",
            "_model_module_version": "1.2.0",
            "_model_name": "LayoutModel",
            "_view_count": null,
            "_view_module": "@jupyter-widgets/base",
            "_view_module_version": "1.2.0",
            "_view_name": "LayoutView",
            "align_content": null,
            "align_items": null,
            "align_self": null,
            "border": null,
            "bottom": null,
            "display": null,
            "flex": null,
            "flex_flow": null,
            "grid_area": null,
            "grid_auto_columns": null,
            "grid_auto_flow": null,
            "grid_auto_rows": null,
            "grid_column": null,
            "grid_gap": null,
            "grid_row": null,
            "grid_template_areas": null,
            "grid_template_columns": null,
            "grid_template_rows": null,
            "height": null,
            "justify_content": null,
            "justify_items": null,
            "left": null,
            "margin": null,
            "max_height": null,
            "max_width": null,
            "min_height": null,
            "min_width": null,
            "object_fit": null,
            "object_position": null,
            "order": null,
            "overflow": null,
            "overflow_x": null,
            "overflow_y": null,
            "padding": null,
            "right": null,
            "top": null,
            "visibility": null,
            "width": null
          }
        },
        "6bd823414e264db2800bed18a5a9a69e": {
          "model_module": "@jupyter-widgets/base",
          "model_module_version": "1.2.0",
          "model_name": "LayoutModel",
          "state": {
            "_model_module": "@jupyter-widgets/base",
            "_model_module_version": "1.2.0",
            "_model_name": "LayoutModel",
            "_view_count": null,
            "_view_module": "@jupyter-widgets/base",
            "_view_module_version": "1.2.0",
            "_view_name": "LayoutView",
            "align_content": null,
            "align_items": null,
            "align_self": null,
            "border": null,
            "bottom": null,
            "display": null,
            "flex": null,
            "flex_flow": null,
            "grid_area": null,
            "grid_auto_columns": null,
            "grid_auto_flow": null,
            "grid_auto_rows": null,
            "grid_column": null,
            "grid_gap": null,
            "grid_row": null,
            "grid_template_areas": null,
            "grid_template_columns": null,
            "grid_template_rows": null,
            "height": null,
            "justify_content": null,
            "justify_items": null,
            "left": null,
            "margin": null,
            "max_height": null,
            "max_width": null,
            "min_height": null,
            "min_width": null,
            "object_fit": null,
            "object_position": null,
            "order": null,
            "overflow": null,
            "overflow_x": null,
            "overflow_y": null,
            "padding": null,
            "right": null,
            "top": null,
            "visibility": null,
            "width": null
          }
        },
        "6e101bb38739430a9db8a4dbcc8a7b4a": {
          "model_module": "@jupyter-widgets/base",
          "model_module_version": "1.2.0",
          "model_name": "LayoutModel",
          "state": {
            "_model_module": "@jupyter-widgets/base",
            "_model_module_version": "1.2.0",
            "_model_name": "LayoutModel",
            "_view_count": null,
            "_view_module": "@jupyter-widgets/base",
            "_view_module_version": "1.2.0",
            "_view_name": "LayoutView",
            "align_content": null,
            "align_items": null,
            "align_self": null,
            "border": null,
            "bottom": null,
            "display": null,
            "flex": null,
            "flex_flow": null,
            "grid_area": null,
            "grid_auto_columns": null,
            "grid_auto_flow": null,
            "grid_auto_rows": null,
            "grid_column": null,
            "grid_gap": null,
            "grid_row": null,
            "grid_template_areas": null,
            "grid_template_columns": null,
            "grid_template_rows": null,
            "height": null,
            "justify_content": null,
            "justify_items": null,
            "left": null,
            "margin": null,
            "max_height": null,
            "max_width": null,
            "min_height": null,
            "min_width": null,
            "object_fit": null,
            "object_position": null,
            "order": null,
            "overflow": null,
            "overflow_x": null,
            "overflow_y": null,
            "padding": null,
            "right": null,
            "top": null,
            "visibility": null,
            "width": null
          }
        },
        "6f31577544ce4f8599d1580b2d47a052": {
          "model_module": "@jupyter-widgets/base",
          "model_module_version": "1.2.0",
          "model_name": "LayoutModel",
          "state": {
            "_model_module": "@jupyter-widgets/base",
            "_model_module_version": "1.2.0",
            "_model_name": "LayoutModel",
            "_view_count": null,
            "_view_module": "@jupyter-widgets/base",
            "_view_module_version": "1.2.0",
            "_view_name": "LayoutView",
            "align_content": null,
            "align_items": null,
            "align_self": null,
            "border": null,
            "bottom": null,
            "display": null,
            "flex": null,
            "flex_flow": null,
            "grid_area": null,
            "grid_auto_columns": null,
            "grid_auto_flow": null,
            "grid_auto_rows": null,
            "grid_column": null,
            "grid_gap": null,
            "grid_row": null,
            "grid_template_areas": null,
            "grid_template_columns": null,
            "grid_template_rows": null,
            "height": null,
            "justify_content": null,
            "justify_items": null,
            "left": null,
            "margin": null,
            "max_height": null,
            "max_width": null,
            "min_height": null,
            "min_width": null,
            "object_fit": null,
            "object_position": null,
            "order": null,
            "overflow": null,
            "overflow_x": null,
            "overflow_y": null,
            "padding": null,
            "right": null,
            "top": null,
            "visibility": null,
            "width": null
          }
        },
        "719ba88431d54718bd5193f0baeec10f": {
          "model_module": "@jupyter-widgets/controls",
          "model_module_version": "1.5.0",
          "model_name": "DescriptionStyleModel",
          "state": {
            "_model_module": "@jupyter-widgets/controls",
            "_model_module_version": "1.5.0",
            "_model_name": "DescriptionStyleModel",
            "_view_count": null,
            "_view_module": "@jupyter-widgets/base",
            "_view_module_version": "1.2.0",
            "_view_name": "StyleView",
            "description_width": ""
          }
        },
        "719f84181c8e4296a9ff06d03e8b8c63": {
          "model_module": "@jupyter-widgets/base",
          "model_module_version": "1.2.0",
          "model_name": "LayoutModel",
          "state": {
            "_model_module": "@jupyter-widgets/base",
            "_model_module_version": "1.2.0",
            "_model_name": "LayoutModel",
            "_view_count": null,
            "_view_module": "@jupyter-widgets/base",
            "_view_module_version": "1.2.0",
            "_view_name": "LayoutView",
            "align_content": null,
            "align_items": null,
            "align_self": null,
            "border": null,
            "bottom": null,
            "display": null,
            "flex": null,
            "flex_flow": null,
            "grid_area": null,
            "grid_auto_columns": null,
            "grid_auto_flow": null,
            "grid_auto_rows": null,
            "grid_column": null,
            "grid_gap": null,
            "grid_row": null,
            "grid_template_areas": null,
            "grid_template_columns": null,
            "grid_template_rows": null,
            "height": null,
            "justify_content": null,
            "justify_items": null,
            "left": null,
            "margin": null,
            "max_height": null,
            "max_width": null,
            "min_height": null,
            "min_width": null,
            "object_fit": null,
            "object_position": null,
            "order": null,
            "overflow": null,
            "overflow_x": null,
            "overflow_y": null,
            "padding": null,
            "right": null,
            "top": null,
            "visibility": null,
            "width": null
          }
        },
        "72ad846043da4882a6bfdbbd2d924f6f": {
          "model_module": "@jupyter-widgets/base",
          "model_module_version": "1.2.0",
          "model_name": "LayoutModel",
          "state": {
            "_model_module": "@jupyter-widgets/base",
            "_model_module_version": "1.2.0",
            "_model_name": "LayoutModel",
            "_view_count": null,
            "_view_module": "@jupyter-widgets/base",
            "_view_module_version": "1.2.0",
            "_view_name": "LayoutView",
            "align_content": null,
            "align_items": null,
            "align_self": null,
            "border": null,
            "bottom": null,
            "display": null,
            "flex": null,
            "flex_flow": null,
            "grid_area": null,
            "grid_auto_columns": null,
            "grid_auto_flow": null,
            "grid_auto_rows": null,
            "grid_column": null,
            "grid_gap": null,
            "grid_row": null,
            "grid_template_areas": null,
            "grid_template_columns": null,
            "grid_template_rows": null,
            "height": null,
            "justify_content": null,
            "justify_items": null,
            "left": null,
            "margin": null,
            "max_height": null,
            "max_width": null,
            "min_height": null,
            "min_width": null,
            "object_fit": null,
            "object_position": null,
            "order": null,
            "overflow": null,
            "overflow_x": null,
            "overflow_y": null,
            "padding": null,
            "right": null,
            "top": null,
            "visibility": null,
            "width": null
          }
        },
        "75147181bb0f4737afd730f1dafc01af": {
          "model_module": "@jupyter-widgets/controls",
          "model_module_version": "1.5.0",
          "model_name": "ProgressStyleModel",
          "state": {
            "_model_module": "@jupyter-widgets/controls",
            "_model_module_version": "1.5.0",
            "_model_name": "ProgressStyleModel",
            "_view_count": null,
            "_view_module": "@jupyter-widgets/base",
            "_view_module_version": "1.2.0",
            "_view_name": "StyleView",
            "bar_color": null,
            "description_width": ""
          }
        },
        "7611003ebbd44a84b993be11466ee544": {
          "model_module": "@jupyter-widgets/controls",
          "model_module_version": "1.5.0",
          "model_name": "ProgressStyleModel",
          "state": {
            "_model_module": "@jupyter-widgets/controls",
            "_model_module_version": "1.5.0",
            "_model_name": "ProgressStyleModel",
            "_view_count": null,
            "_view_module": "@jupyter-widgets/base",
            "_view_module_version": "1.2.0",
            "_view_name": "StyleView",
            "bar_color": null,
            "description_width": ""
          }
        },
        "778dac70ca644102b0c4a70aa4665ea2": {
          "model_module": "@jupyter-widgets/controls",
          "model_module_version": "1.5.0",
          "model_name": "HBoxModel",
          "state": {
            "_dom_classes": [],
            "_model_module": "@jupyter-widgets/controls",
            "_model_module_version": "1.5.0",
            "_model_name": "HBoxModel",
            "_view_count": null,
            "_view_module": "@jupyter-widgets/controls",
            "_view_module_version": "1.5.0",
            "_view_name": "HBoxView",
            "box_style": "",
            "children": [
              "IPY_MODEL_280a667c50e2420c89df736017973a4e",
              "IPY_MODEL_eb628e1e4665472a858fec65728d37ff",
              "IPY_MODEL_9e5e44c5f36746a7991ee0f2f18893ea"
            ],
            "layout": "IPY_MODEL_13c737dd155c46c4b17015a65f9d85bb"
          }
        },
        "77a9e77bb22a482db9e43748db3a5d2f": {
          "model_module": "@jupyter-widgets/base",
          "model_module_version": "1.2.0",
          "model_name": "LayoutModel",
          "state": {
            "_model_module": "@jupyter-widgets/base",
            "_model_module_version": "1.2.0",
            "_model_name": "LayoutModel",
            "_view_count": null,
            "_view_module": "@jupyter-widgets/base",
            "_view_module_version": "1.2.0",
            "_view_name": "LayoutView",
            "align_content": null,
            "align_items": null,
            "align_self": null,
            "border": null,
            "bottom": null,
            "display": null,
            "flex": null,
            "flex_flow": null,
            "grid_area": null,
            "grid_auto_columns": null,
            "grid_auto_flow": null,
            "grid_auto_rows": null,
            "grid_column": null,
            "grid_gap": null,
            "grid_row": null,
            "grid_template_areas": null,
            "grid_template_columns": null,
            "grid_template_rows": null,
            "height": null,
            "justify_content": null,
            "justify_items": null,
            "left": null,
            "margin": null,
            "max_height": null,
            "max_width": null,
            "min_height": null,
            "min_width": null,
            "object_fit": null,
            "object_position": null,
            "order": null,
            "overflow": null,
            "overflow_x": null,
            "overflow_y": null,
            "padding": null,
            "right": null,
            "top": null,
            "visibility": null,
            "width": null
          }
        },
        "786c23910c1444bfa73d34e4d0b41c25": {
          "model_module": "@jupyter-widgets/controls",
          "model_module_version": "1.5.0",
          "model_name": "DescriptionStyleModel",
          "state": {
            "_model_module": "@jupyter-widgets/controls",
            "_model_module_version": "1.5.0",
            "_model_name": "DescriptionStyleModel",
            "_view_count": null,
            "_view_module": "@jupyter-widgets/base",
            "_view_module_version": "1.2.0",
            "_view_name": "StyleView",
            "description_width": ""
          }
        },
        "7bc724ac4b994d819b3fa831039b585a": {
          "model_module": "@jupyter-widgets/base",
          "model_module_version": "1.2.0",
          "model_name": "LayoutModel",
          "state": {
            "_model_module": "@jupyter-widgets/base",
            "_model_module_version": "1.2.0",
            "_model_name": "LayoutModel",
            "_view_count": null,
            "_view_module": "@jupyter-widgets/base",
            "_view_module_version": "1.2.0",
            "_view_name": "LayoutView",
            "align_content": null,
            "align_items": null,
            "align_self": null,
            "border": null,
            "bottom": null,
            "display": null,
            "flex": null,
            "flex_flow": null,
            "grid_area": null,
            "grid_auto_columns": null,
            "grid_auto_flow": null,
            "grid_auto_rows": null,
            "grid_column": null,
            "grid_gap": null,
            "grid_row": null,
            "grid_template_areas": null,
            "grid_template_columns": null,
            "grid_template_rows": null,
            "height": null,
            "justify_content": null,
            "justify_items": null,
            "left": null,
            "margin": null,
            "max_height": null,
            "max_width": null,
            "min_height": null,
            "min_width": null,
            "object_fit": null,
            "object_position": null,
            "order": null,
            "overflow": null,
            "overflow_x": null,
            "overflow_y": null,
            "padding": null,
            "right": null,
            "top": null,
            "visibility": null,
            "width": null
          }
        },
        "7bf54a0aa57c4c7bb641f26b09b52325": {
          "model_module": "@jupyter-widgets/controls",
          "model_module_version": "1.5.0",
          "model_name": "DescriptionStyleModel",
          "state": {
            "_model_module": "@jupyter-widgets/controls",
            "_model_module_version": "1.5.0",
            "_model_name": "DescriptionStyleModel",
            "_view_count": null,
            "_view_module": "@jupyter-widgets/base",
            "_view_module_version": "1.2.0",
            "_view_name": "StyleView",
            "description_width": ""
          }
        },
        "7c8a601f73a2428b8cf8d3821a22d8d7": {
          "model_module": "@jupyter-widgets/base",
          "model_module_version": "1.2.0",
          "model_name": "LayoutModel",
          "state": {
            "_model_module": "@jupyter-widgets/base",
            "_model_module_version": "1.2.0",
            "_model_name": "LayoutModel",
            "_view_count": null,
            "_view_module": "@jupyter-widgets/base",
            "_view_module_version": "1.2.0",
            "_view_name": "LayoutView",
            "align_content": null,
            "align_items": null,
            "align_self": null,
            "border": null,
            "bottom": null,
            "display": null,
            "flex": null,
            "flex_flow": null,
            "grid_area": null,
            "grid_auto_columns": null,
            "grid_auto_flow": null,
            "grid_auto_rows": null,
            "grid_column": null,
            "grid_gap": null,
            "grid_row": null,
            "grid_template_areas": null,
            "grid_template_columns": null,
            "grid_template_rows": null,
            "height": null,
            "justify_content": null,
            "justify_items": null,
            "left": null,
            "margin": null,
            "max_height": null,
            "max_width": null,
            "min_height": null,
            "min_width": null,
            "object_fit": null,
            "object_position": null,
            "order": null,
            "overflow": null,
            "overflow_x": null,
            "overflow_y": null,
            "padding": null,
            "right": null,
            "top": null,
            "visibility": null,
            "width": null
          }
        },
        "7dd3834ad1464b3993a7d0273977ad3c": {
          "model_module": "@jupyter-widgets/controls",
          "model_module_version": "1.5.0",
          "model_name": "DescriptionStyleModel",
          "state": {
            "_model_module": "@jupyter-widgets/controls",
            "_model_module_version": "1.5.0",
            "_model_name": "DescriptionStyleModel",
            "_view_count": null,
            "_view_module": "@jupyter-widgets/base",
            "_view_module_version": "1.2.0",
            "_view_name": "StyleView",
            "description_width": ""
          }
        },
        "80785556bc7c4937b1fc17712807763d": {
          "model_module": "@jupyter-widgets/controls",
          "model_module_version": "1.5.0",
          "model_name": "HTMLModel",
          "state": {
            "_dom_classes": [],
            "_model_module": "@jupyter-widgets/controls",
            "_model_module_version": "1.5.0",
            "_model_name": "HTMLModel",
            "_view_count": null,
            "_view_module": "@jupyter-widgets/controls",
            "_view_module_version": "1.5.0",
            "_view_name": "HTMLView",
            "description": "",
            "description_tooltip": null,
            "layout": "IPY_MODEL_9045ace8066b469d855d846256a3c0bf",
            "placeholder": "​",
            "style": "IPY_MODEL_9f4a0643a80c42b8981a5f7b0a50913e",
            "value": " 90.9M/90.9M [00:00&lt;00:00, 172MB/s]"
          }
        },
        "813d3d5210a24fb58a2e1a3f0f272245": {
          "model_module": "@jupyter-widgets/base",
          "model_module_version": "1.2.0",
          "model_name": "LayoutModel",
          "state": {
            "_model_module": "@jupyter-widgets/base",
            "_model_module_version": "1.2.0",
            "_model_name": "LayoutModel",
            "_view_count": null,
            "_view_module": "@jupyter-widgets/base",
            "_view_module_version": "1.2.0",
            "_view_name": "LayoutView",
            "align_content": null,
            "align_items": null,
            "align_self": null,
            "border": null,
            "bottom": null,
            "display": null,
            "flex": null,
            "flex_flow": null,
            "grid_area": null,
            "grid_auto_columns": null,
            "grid_auto_flow": null,
            "grid_auto_rows": null,
            "grid_column": null,
            "grid_gap": null,
            "grid_row": null,
            "grid_template_areas": null,
            "grid_template_columns": null,
            "grid_template_rows": null,
            "height": null,
            "justify_content": null,
            "justify_items": null,
            "left": null,
            "margin": null,
            "max_height": null,
            "max_width": null,
            "min_height": null,
            "min_width": null,
            "object_fit": null,
            "object_position": null,
            "order": null,
            "overflow": null,
            "overflow_x": null,
            "overflow_y": null,
            "padding": null,
            "right": null,
            "top": null,
            "visibility": null,
            "width": null
          }
        },
        "817cff3414294bf2a673ab48f2f5ccf9": {
          "model_module": "@jupyter-widgets/controls",
          "model_module_version": "1.5.0",
          "model_name": "HTMLModel",
          "state": {
            "_dom_classes": [],
            "_model_module": "@jupyter-widgets/controls",
            "_model_module_version": "1.5.0",
            "_model_name": "HTMLModel",
            "_view_count": null,
            "_view_module": "@jupyter-widgets/controls",
            "_view_module_version": "1.5.0",
            "_view_name": "HTMLView",
            "description": "",
            "description_tooltip": null,
            "layout": "IPY_MODEL_bb9c25c8e2e846cc9e0eca5285ab55ad",
            "placeholder": "​",
            "style": "IPY_MODEL_04908048023b435eb0a6e764eef4f916",
            "value": "config.json: 100%"
          }
        },
        "863aff8f09054018a05e4173ca944471": {
          "model_module": "@jupyter-widgets/controls",
          "model_module_version": "1.5.0",
          "model_name": "HBoxModel",
          "state": {
            "_dom_classes": [],
            "_model_module": "@jupyter-widgets/controls",
            "_model_module_version": "1.5.0",
            "_model_name": "HBoxModel",
            "_view_count": null,
            "_view_module": "@jupyter-widgets/controls",
            "_view_module_version": "1.5.0",
            "_view_name": "HBoxView",
            "box_style": "",
            "children": [
              "IPY_MODEL_817cff3414294bf2a673ab48f2f5ccf9",
              "IPY_MODEL_8a708794d71443f1975fd27a7f6d2464",
              "IPY_MODEL_b085a87d829b416ca5e54cef1ce09a74"
            ],
            "layout": "IPY_MODEL_06869b83e6a64a3785ac5e9c6887a78d"
          }
        },
        "86f271e7f86b4867bb0adb2371fb3235": {
          "model_module": "@jupyter-widgets/controls",
          "model_module_version": "1.5.0",
          "model_name": "HTMLModel",
          "state": {
            "_dom_classes": [],
            "_model_module": "@jupyter-widgets/controls",
            "_model_module_version": "1.5.0",
            "_model_name": "HTMLModel",
            "_view_count": null,
            "_view_module": "@jupyter-widgets/controls",
            "_view_module_version": "1.5.0",
            "_view_name": "HTMLView",
            "description": "",
            "description_tooltip": null,
            "layout": "IPY_MODEL_ce5245a29a304cd5bfc83ce27fc3de0b",
            "placeholder": "​",
            "style": "IPY_MODEL_38697b490a30430387ae193264d1d182",
            "value": " 48.0/48.0 [00:00&lt;00:00, 4.61kB/s]"
          }
        },
        "8a0fa1f92a21496a9eb6c76e0e6a04ad": {
          "model_module": "@jupyter-widgets/controls",
          "model_module_version": "1.5.0",
          "model_name": "DescriptionStyleModel",
          "state": {
            "_model_module": "@jupyter-widgets/controls",
            "_model_module_version": "1.5.0",
            "_model_name": "DescriptionStyleModel",
            "_view_count": null,
            "_view_module": "@jupyter-widgets/base",
            "_view_module_version": "1.2.0",
            "_view_name": "StyleView",
            "description_width": ""
          }
        },
        "8a708794d71443f1975fd27a7f6d2464": {
          "model_module": "@jupyter-widgets/controls",
          "model_module_version": "1.5.0",
          "model_name": "FloatProgressModel",
          "state": {
            "_dom_classes": [],
            "_model_module": "@jupyter-widgets/controls",
            "_model_module_version": "1.5.0",
            "_model_name": "FloatProgressModel",
            "_view_count": null,
            "_view_module": "@jupyter-widgets/controls",
            "_view_module_version": "1.5.0",
            "_view_name": "ProgressView",
            "bar_style": "success",
            "description": "",
            "description_tooltip": null,
            "layout": "IPY_MODEL_719f84181c8e4296a9ff06d03e8b8c63",
            "max": 612,
            "min": 0,
            "orientation": "horizontal",
            "style": "IPY_MODEL_75147181bb0f4737afd730f1dafc01af",
            "value": 612
          }
        },
        "8b2e351ab4524b37b6caf9d1c4ffdf05": {
          "model_module": "@jupyter-widgets/controls",
          "model_module_version": "1.5.0",
          "model_name": "HTMLModel",
          "state": {
            "_dom_classes": [],
            "_model_module": "@jupyter-widgets/controls",
            "_model_module_version": "1.5.0",
            "_model_name": "HTMLModel",
            "_view_count": null,
            "_view_module": "@jupyter-widgets/controls",
            "_view_module_version": "1.5.0",
            "_view_name": "HTMLView",
            "description": "",
            "description_tooltip": null,
            "layout": "IPY_MODEL_17387c8947404b29a32f525475676937",
            "placeholder": "​",
            "style": "IPY_MODEL_d1c6c35d64f94e38b01ff1546039717c",
            "value": "special_tokens_map.json: 100%"
          }
        },
        "8c1f7bfbdb8a44d083dfe24cb47c1155": {
          "model_module": "@jupyter-widgets/controls",
          "model_module_version": "1.5.0",
          "model_name": "HBoxModel",
          "state": {
            "_dom_classes": [],
            "_model_module": "@jupyter-widgets/controls",
            "_model_module_version": "1.5.0",
            "_model_name": "HBoxModel",
            "_view_count": null,
            "_view_module": "@jupyter-widgets/controls",
            "_view_module_version": "1.5.0",
            "_view_name": "HBoxView",
            "box_style": "",
            "children": [
              "IPY_MODEL_968278e7811743aa8026a67150f024d1",
              "IPY_MODEL_24940730bd3c41efacab9852f96b3d8d",
              "IPY_MODEL_3eebdefaec624e1b9ef8fd50acf0491e"
            ],
            "layout": "IPY_MODEL_08000de8a78e493bb4cd6678e1ee767a"
          }
        },
        "8d87ef61bbbd43feb8ffdd0317ad256f": {
          "model_module": "@jupyter-widgets/controls",
          "model_module_version": "1.5.0",
          "model_name": "HTMLModel",
          "state": {
            "_dom_classes": [],
            "_model_module": "@jupyter-widgets/controls",
            "_model_module_version": "1.5.0",
            "_model_name": "HTMLModel",
            "_view_count": null,
            "_view_module": "@jupyter-widgets/controls",
            "_view_module_version": "1.5.0",
            "_view_name": "HTMLView",
            "description": "",
            "description_tooltip": null,
            "layout": "IPY_MODEL_ed7caff761334411b232e77b408b5dc0",
            "placeholder": "​",
            "style": "IPY_MODEL_f9dc761be6c44d21aecb8f69134b4f5c",
            "value": " 466k/466k [00:00&lt;00:00, 18.0MB/s]"
          }
        },
        "9010d444575f450d96c8f7a547234da7": {
          "model_module": "@jupyter-widgets/base",
          "model_module_version": "1.2.0",
          "model_name": "LayoutModel",
          "state": {
            "_model_module": "@jupyter-widgets/base",
            "_model_module_version": "1.2.0",
            "_model_name": "LayoutModel",
            "_view_count": null,
            "_view_module": "@jupyter-widgets/base",
            "_view_module_version": "1.2.0",
            "_view_name": "LayoutView",
            "align_content": null,
            "align_items": null,
            "align_self": null,
            "border": null,
            "bottom": null,
            "display": null,
            "flex": null,
            "flex_flow": null,
            "grid_area": null,
            "grid_auto_columns": null,
            "grid_auto_flow": null,
            "grid_auto_rows": null,
            "grid_column": null,
            "grid_gap": null,
            "grid_row": null,
            "grid_template_areas": null,
            "grid_template_columns": null,
            "grid_template_rows": null,
            "height": null,
            "justify_content": null,
            "justify_items": null,
            "left": null,
            "margin": null,
            "max_height": null,
            "max_width": null,
            "min_height": null,
            "min_width": null,
            "object_fit": null,
            "object_position": null,
            "order": null,
            "overflow": null,
            "overflow_x": null,
            "overflow_y": null,
            "padding": null,
            "right": null,
            "top": null,
            "visibility": null,
            "width": null
          }
        },
        "9010f274d96c496d99fc809b84f37aba": {
          "model_module": "@jupyter-widgets/controls",
          "model_module_version": "1.5.0",
          "model_name": "DescriptionStyleModel",
          "state": {
            "_model_module": "@jupyter-widgets/controls",
            "_model_module_version": "1.5.0",
            "_model_name": "DescriptionStyleModel",
            "_view_count": null,
            "_view_module": "@jupyter-widgets/base",
            "_view_module_version": "1.2.0",
            "_view_name": "StyleView",
            "description_width": ""
          }
        },
        "9045ace8066b469d855d846256a3c0bf": {
          "model_module": "@jupyter-widgets/base",
          "model_module_version": "1.2.0",
          "model_name": "LayoutModel",
          "state": {
            "_model_module": "@jupyter-widgets/base",
            "_model_module_version": "1.2.0",
            "_model_name": "LayoutModel",
            "_view_count": null,
            "_view_module": "@jupyter-widgets/base",
            "_view_module_version": "1.2.0",
            "_view_name": "LayoutView",
            "align_content": null,
            "align_items": null,
            "align_self": null,
            "border": null,
            "bottom": null,
            "display": null,
            "flex": null,
            "flex_flow": null,
            "grid_area": null,
            "grid_auto_columns": null,
            "grid_auto_flow": null,
            "grid_auto_rows": null,
            "grid_column": null,
            "grid_gap": null,
            "grid_row": null,
            "grid_template_areas": null,
            "grid_template_columns": null,
            "grid_template_rows": null,
            "height": null,
            "justify_content": null,
            "justify_items": null,
            "left": null,
            "margin": null,
            "max_height": null,
            "max_width": null,
            "min_height": null,
            "min_width": null,
            "object_fit": null,
            "object_position": null,
            "order": null,
            "overflow": null,
            "overflow_x": null,
            "overflow_y": null,
            "padding": null,
            "right": null,
            "top": null,
            "visibility": null,
            "width": null
          }
        },
        "90cc5c70db8f4b3fa5b8c2df1ec541b0": {
          "model_module": "@jupyter-widgets/controls",
          "model_module_version": "1.5.0",
          "model_name": "FloatProgressModel",
          "state": {
            "_dom_classes": [],
            "_model_module": "@jupyter-widgets/controls",
            "_model_module_version": "1.5.0",
            "_model_name": "FloatProgressModel",
            "_view_count": null,
            "_view_module": "@jupyter-widgets/controls",
            "_view_module_version": "1.5.0",
            "_view_name": "ProgressView",
            "bar_style": "success",
            "description": "",
            "description_tooltip": null,
            "layout": "IPY_MODEL_00fe4b38531446a69e89dcf528efd2d8",
            "max": 116,
            "min": 0,
            "orientation": "horizontal",
            "style": "IPY_MODEL_c49617b4e11540a5806a97ce32d0ebe9",
            "value": 116
          }
        },
        "9515947e6a3a4b78aa4076e2fd1736a4": {
          "model_module": "@jupyter-widgets/controls",
          "model_module_version": "1.5.0",
          "model_name": "DescriptionStyleModel",
          "state": {
            "_model_module": "@jupyter-widgets/controls",
            "_model_module_version": "1.5.0",
            "_model_name": "DescriptionStyleModel",
            "_view_count": null,
            "_view_module": "@jupyter-widgets/base",
            "_view_module_version": "1.2.0",
            "_view_name": "StyleView",
            "description_width": ""
          }
        },
        "95a8e48870c64e4b8a87308302d11b28": {
          "model_module": "@jupyter-widgets/base",
          "model_module_version": "1.2.0",
          "model_name": "LayoutModel",
          "state": {
            "_model_module": "@jupyter-widgets/base",
            "_model_module_version": "1.2.0",
            "_model_name": "LayoutModel",
            "_view_count": null,
            "_view_module": "@jupyter-widgets/base",
            "_view_module_version": "1.2.0",
            "_view_name": "LayoutView",
            "align_content": null,
            "align_items": null,
            "align_self": null,
            "border": null,
            "bottom": null,
            "display": null,
            "flex": null,
            "flex_flow": null,
            "grid_area": null,
            "grid_auto_columns": null,
            "grid_auto_flow": null,
            "grid_auto_rows": null,
            "grid_column": null,
            "grid_gap": null,
            "grid_row": null,
            "grid_template_areas": null,
            "grid_template_columns": null,
            "grid_template_rows": null,
            "height": null,
            "justify_content": null,
            "justify_items": null,
            "left": null,
            "margin": null,
            "max_height": null,
            "max_width": null,
            "min_height": null,
            "min_width": null,
            "object_fit": null,
            "object_position": null,
            "order": null,
            "overflow": null,
            "overflow_x": null,
            "overflow_y": null,
            "padding": null,
            "right": null,
            "top": null,
            "visibility": null,
            "width": null
          }
        },
        "968278e7811743aa8026a67150f024d1": {
          "model_module": "@jupyter-widgets/controls",
          "model_module_version": "1.5.0",
          "model_name": "HTMLModel",
          "state": {
            "_dom_classes": [],
            "_model_module": "@jupyter-widgets/controls",
            "_model_module_version": "1.5.0",
            "_model_name": "HTMLModel",
            "_view_count": null,
            "_view_module": "@jupyter-widgets/controls",
            "_view_module_version": "1.5.0",
            "_view_name": "HTMLView",
            "description": "",
            "description_tooltip": null,
            "layout": "IPY_MODEL_bcd346f0f55d418c85611430cd7344ad",
            "placeholder": "​",
            "style": "IPY_MODEL_07608f37a6a242fe862068190510962c",
            "value": "README.md: 100%"
          }
        },
        "97ecef4443b7457881598d18a776684c": {
          "model_module": "@jupyter-widgets/base",
          "model_module_version": "1.2.0",
          "model_name": "LayoutModel",
          "state": {
            "_model_module": "@jupyter-widgets/base",
            "_model_module_version": "1.2.0",
            "_model_name": "LayoutModel",
            "_view_count": null,
            "_view_module": "@jupyter-widgets/base",
            "_view_module_version": "1.2.0",
            "_view_name": "LayoutView",
            "align_content": null,
            "align_items": null,
            "align_self": null,
            "border": null,
            "bottom": null,
            "display": null,
            "flex": null,
            "flex_flow": null,
            "grid_area": null,
            "grid_auto_columns": null,
            "grid_auto_flow": null,
            "grid_auto_rows": null,
            "grid_column": null,
            "grid_gap": null,
            "grid_row": null,
            "grid_template_areas": null,
            "grid_template_columns": null,
            "grid_template_rows": null,
            "height": null,
            "justify_content": null,
            "justify_items": null,
            "left": null,
            "margin": null,
            "max_height": null,
            "max_width": null,
            "min_height": null,
            "min_width": null,
            "object_fit": null,
            "object_position": null,
            "order": null,
            "overflow": null,
            "overflow_x": null,
            "overflow_y": null,
            "padding": null,
            "right": null,
            "top": null,
            "visibility": null,
            "width": null
          }
        },
        "99b29b58dc0c41c681a9de7ae64ca981": {
          "model_module": "@jupyter-widgets/base",
          "model_module_version": "1.2.0",
          "model_name": "LayoutModel",
          "state": {
            "_model_module": "@jupyter-widgets/base",
            "_model_module_version": "1.2.0",
            "_model_name": "LayoutModel",
            "_view_count": null,
            "_view_module": "@jupyter-widgets/base",
            "_view_module_version": "1.2.0",
            "_view_name": "LayoutView",
            "align_content": null,
            "align_items": null,
            "align_self": null,
            "border": null,
            "bottom": null,
            "display": null,
            "flex": null,
            "flex_flow": null,
            "grid_area": null,
            "grid_auto_columns": null,
            "grid_auto_flow": null,
            "grid_auto_rows": null,
            "grid_column": null,
            "grid_gap": null,
            "grid_row": null,
            "grid_template_areas": null,
            "grid_template_columns": null,
            "grid_template_rows": null,
            "height": null,
            "justify_content": null,
            "justify_items": null,
            "left": null,
            "margin": null,
            "max_height": null,
            "max_width": null,
            "min_height": null,
            "min_width": null,
            "object_fit": null,
            "object_position": null,
            "order": null,
            "overflow": null,
            "overflow_x": null,
            "overflow_y": null,
            "padding": null,
            "right": null,
            "top": null,
            "visibility": null,
            "width": null
          }
        },
        "9d5a6a36e49544feae9def4b0918deb7": {
          "model_module": "@jupyter-widgets/base",
          "model_module_version": "1.2.0",
          "model_name": "LayoutModel",
          "state": {
            "_model_module": "@jupyter-widgets/base",
            "_model_module_version": "1.2.0",
            "_model_name": "LayoutModel",
            "_view_count": null,
            "_view_module": "@jupyter-widgets/base",
            "_view_module_version": "1.2.0",
            "_view_name": "LayoutView",
            "align_content": null,
            "align_items": null,
            "align_self": null,
            "border": null,
            "bottom": null,
            "display": null,
            "flex": null,
            "flex_flow": null,
            "grid_area": null,
            "grid_auto_columns": null,
            "grid_auto_flow": null,
            "grid_auto_rows": null,
            "grid_column": null,
            "grid_gap": null,
            "grid_row": null,
            "grid_template_areas": null,
            "grid_template_columns": null,
            "grid_template_rows": null,
            "height": null,
            "justify_content": null,
            "justify_items": null,
            "left": null,
            "margin": null,
            "max_height": null,
            "max_width": null,
            "min_height": null,
            "min_width": null,
            "object_fit": null,
            "object_position": null,
            "order": null,
            "overflow": null,
            "overflow_x": null,
            "overflow_y": null,
            "padding": null,
            "right": null,
            "top": null,
            "visibility": null,
            "width": null
          }
        },
        "9dae29b862ef4891a66f17ccc9f51d3e": {
          "model_module": "@jupyter-widgets/controls",
          "model_module_version": "1.5.0",
          "model_name": "ProgressStyleModel",
          "state": {
            "_model_module": "@jupyter-widgets/controls",
            "_model_module_version": "1.5.0",
            "_model_name": "ProgressStyleModel",
            "_view_count": null,
            "_view_module": "@jupyter-widgets/base",
            "_view_module_version": "1.2.0",
            "_view_name": "StyleView",
            "bar_color": null,
            "description_width": ""
          }
        },
        "9deb1a5a5d264602b265ea87ec787d1b": {
          "model_module": "@jupyter-widgets/controls",
          "model_module_version": "1.5.0",
          "model_name": "HTMLModel",
          "state": {
            "_dom_classes": [],
            "_model_module": "@jupyter-widgets/controls",
            "_model_module_version": "1.5.0",
            "_model_name": "HTMLModel",
            "_view_count": null,
            "_view_module": "@jupyter-widgets/controls",
            "_view_module_version": "1.5.0",
            "_view_name": "HTMLView",
            "description": "",
            "description_tooltip": null,
            "layout": "IPY_MODEL_d7e913740f0c44a8a951b5ddd4c828bc",
            "placeholder": "​",
            "style": "IPY_MODEL_719ba88431d54718bd5193f0baeec10f",
            "value": " 53.0/53.0 [00:00&lt;00:00, 4.70kB/s]"
          }
        },
        "9e5e44c5f36746a7991ee0f2f18893ea": {
          "model_module": "@jupyter-widgets/controls",
          "model_module_version": "1.5.0",
          "model_name": "HTMLModel",
          "state": {
            "_dom_classes": [],
            "_model_module": "@jupyter-widgets/controls",
            "_model_module_version": "1.5.0",
            "_model_name": "HTMLModel",
            "_view_count": null,
            "_view_module": "@jupyter-widgets/controls",
            "_view_module_version": "1.5.0",
            "_view_name": "HTMLView",
            "description": "",
            "description_tooltip": null,
            "layout": "IPY_MODEL_e4644609778b4b69be2d0a3aac070a6a",
            "placeholder": "​",
            "style": "IPY_MODEL_e1879638c60e4634bf72fa5c5e4cf2b7",
            "value": " 466k/466k [00:00&lt;00:00, 5.94MB/s]"
          }
        },
        "9efadcb2299a443eba42ff43529d9f61": {
          "model_module": "@jupyter-widgets/controls",
          "model_module_version": "1.5.0",
          "model_name": "HTMLModel",
          "state": {
            "_dom_classes": [],
            "_model_module": "@jupyter-widgets/controls",
            "_model_module_version": "1.5.0",
            "_model_name": "HTMLModel",
            "_view_count": null,
            "_view_module": "@jupyter-widgets/controls",
            "_view_module_version": "1.5.0",
            "_view_name": "HTMLView",
            "description": "",
            "description_tooltip": null,
            "layout": "IPY_MODEL_fda68d6f92a748b7b409c91d809227aa",
            "placeholder": "​",
            "style": "IPY_MODEL_615cdf3ab12b48b58ed786abfefc07fb",
            "value": "tokenizer_config.json: 100%"
          }
        },
        "9f4a0643a80c42b8981a5f7b0a50913e": {
          "model_module": "@jupyter-widgets/controls",
          "model_module_version": "1.5.0",
          "model_name": "DescriptionStyleModel",
          "state": {
            "_model_module": "@jupyter-widgets/controls",
            "_model_module_version": "1.5.0",
            "_model_name": "DescriptionStyleModel",
            "_view_count": null,
            "_view_module": "@jupyter-widgets/base",
            "_view_module_version": "1.2.0",
            "_view_name": "StyleView",
            "description_width": ""
          }
        },
        "a0fb0f6841ba47f0bef9e05e390ebfac": {
          "model_module": "@jupyter-widgets/controls",
          "model_module_version": "1.5.0",
          "model_name": "DescriptionStyleModel",
          "state": {
            "_model_module": "@jupyter-widgets/controls",
            "_model_module_version": "1.5.0",
            "_model_name": "DescriptionStyleModel",
            "_view_count": null,
            "_view_module": "@jupyter-widgets/base",
            "_view_module_version": "1.2.0",
            "_view_name": "StyleView",
            "description_width": ""
          }
        },
        "a30247626eee4c50acbed9bc1d55f74e": {
          "model_module": "@jupyter-widgets/controls",
          "model_module_version": "1.5.0",
          "model_name": "HBoxModel",
          "state": {
            "_dom_classes": [],
            "_model_module": "@jupyter-widgets/controls",
            "_model_module_version": "1.5.0",
            "_model_name": "HBoxModel",
            "_view_count": null,
            "_view_module": "@jupyter-widgets/controls",
            "_view_module_version": "1.5.0",
            "_view_name": "HBoxView",
            "box_style": "",
            "children": [
              "IPY_MODEL_3dfcb46cacd743e4ae890ce78c9b9071",
              "IPY_MODEL_1b71665c96fc4775b3dd643a6047b0ff",
              "IPY_MODEL_80785556bc7c4937b1fc17712807763d"
            ],
            "layout": "IPY_MODEL_16b3df887fe64e79bcf47c029b249d25"
          }
        },
        "a748c241bf6a4689a767975e5b54e644": {
          "model_module": "@jupyter-widgets/controls",
          "model_module_version": "1.5.0",
          "model_name": "HTMLModel",
          "state": {
            "_dom_classes": [],
            "_model_module": "@jupyter-widgets/controls",
            "_model_module_version": "1.5.0",
            "_model_name": "HTMLModel",
            "_view_count": null,
            "_view_module": "@jupyter-widgets/controls",
            "_view_module_version": "1.5.0",
            "_view_name": "HTMLView",
            "description": "",
            "description_tooltip": null,
            "layout": "IPY_MODEL_0a61996bacbe43d8aecbe7873d5706ce",
            "placeholder": "​",
            "style": "IPY_MODEL_0fa70b3814ec4d3198990daedc0f406c",
            "value": " 232k/232k [00:00&lt;00:00, 1.74MB/s]"
          }
        },
        "a7a2dccc5984456c8e9f0682877a2796": {
          "model_module": "@jupyter-widgets/controls",
          "model_module_version": "1.5.0",
          "model_name": "ProgressStyleModel",
          "state": {
            "_model_module": "@jupyter-widgets/controls",
            "_model_module_version": "1.5.0",
            "_model_name": "ProgressStyleModel",
            "_view_count": null,
            "_view_module": "@jupyter-widgets/base",
            "_view_module_version": "1.2.0",
            "_view_name": "StyleView",
            "bar_color": null,
            "description_width": ""
          }
        },
        "a7c046abb9024448bd8a7824aea7029a": {
          "model_module": "@jupyter-widgets/base",
          "model_module_version": "1.2.0",
          "model_name": "LayoutModel",
          "state": {
            "_model_module": "@jupyter-widgets/base",
            "_model_module_version": "1.2.0",
            "_model_name": "LayoutModel",
            "_view_count": null,
            "_view_module": "@jupyter-widgets/base",
            "_view_module_version": "1.2.0",
            "_view_name": "LayoutView",
            "align_content": null,
            "align_items": null,
            "align_self": null,
            "border": null,
            "bottom": null,
            "display": null,
            "flex": null,
            "flex_flow": null,
            "grid_area": null,
            "grid_auto_columns": null,
            "grid_auto_flow": null,
            "grid_auto_rows": null,
            "grid_column": null,
            "grid_gap": null,
            "grid_row": null,
            "grid_template_areas": null,
            "grid_template_columns": null,
            "grid_template_rows": null,
            "height": null,
            "justify_content": null,
            "justify_items": null,
            "left": null,
            "margin": null,
            "max_height": null,
            "max_width": null,
            "min_height": null,
            "min_width": null,
            "object_fit": null,
            "object_position": null,
            "order": null,
            "overflow": null,
            "overflow_x": null,
            "overflow_y": null,
            "padding": null,
            "right": null,
            "top": null,
            "visibility": null,
            "width": null
          }
        },
        "a859405802c1466c9da0610266f9a141": {
          "model_module": "@jupyter-widgets/controls",
          "model_module_version": "1.5.0",
          "model_name": "HTMLModel",
          "state": {
            "_dom_classes": [],
            "_model_module": "@jupyter-widgets/controls",
            "_model_module_version": "1.5.0",
            "_model_name": "HTMLModel",
            "_view_count": null,
            "_view_module": "@jupyter-widgets/controls",
            "_view_module_version": "1.5.0",
            "_view_name": "HTMLView",
            "description": "",
            "description_tooltip": null,
            "layout": "IPY_MODEL_33e9973c287244c3a5b4a704403a2a18",
            "placeholder": "​",
            "style": "IPY_MODEL_d81accbd773b4f7888397c08a61d9465",
            "value": "vocab.txt: 100%"
          }
        },
        "a924908b674d43bfbc4e2998eb32c976": {
          "model_module": "@jupyter-widgets/base",
          "model_module_version": "1.2.0",
          "model_name": "LayoutModel",
          "state": {
            "_model_module": "@jupyter-widgets/base",
            "_model_module_version": "1.2.0",
            "_model_name": "LayoutModel",
            "_view_count": null,
            "_view_module": "@jupyter-widgets/base",
            "_view_module_version": "1.2.0",
            "_view_name": "LayoutView",
            "align_content": null,
            "align_items": null,
            "align_self": null,
            "border": null,
            "bottom": null,
            "display": null,
            "flex": null,
            "flex_flow": null,
            "grid_area": null,
            "grid_auto_columns": null,
            "grid_auto_flow": null,
            "grid_auto_rows": null,
            "grid_column": null,
            "grid_gap": null,
            "grid_row": null,
            "grid_template_areas": null,
            "grid_template_columns": null,
            "grid_template_rows": null,
            "height": null,
            "justify_content": null,
            "justify_items": null,
            "left": null,
            "margin": null,
            "max_height": null,
            "max_width": null,
            "min_height": null,
            "min_width": null,
            "object_fit": null,
            "object_position": null,
            "order": null,
            "overflow": null,
            "overflow_x": null,
            "overflow_y": null,
            "padding": null,
            "right": null,
            "top": null,
            "visibility": null,
            "width": null
          }
        },
        "aa6c18c714d940bd9bfeb3afa6c15b79": {
          "model_module": "@jupyter-widgets/controls",
          "model_module_version": "1.5.0",
          "model_name": "FloatProgressModel",
          "state": {
            "_dom_classes": [],
            "_model_module": "@jupyter-widgets/controls",
            "_model_module_version": "1.5.0",
            "_model_name": "FloatProgressModel",
            "_view_count": null,
            "_view_module": "@jupyter-widgets/controls",
            "_view_module_version": "1.5.0",
            "_view_name": "ProgressView",
            "bar_style": "success",
            "description": "",
            "description_tooltip": null,
            "layout": "IPY_MODEL_6e101bb38739430a9db8a4dbcc8a7b4a",
            "max": 231508,
            "min": 0,
            "orientation": "horizontal",
            "style": "IPY_MODEL_4e5c4d14c8dc42d1986ebc927af839bc",
            "value": 231508
          }
        },
        "ac17a16e2e3d4be0b4f11b150377932e": {
          "model_module": "@jupyter-widgets/controls",
          "model_module_version": "1.5.0",
          "model_name": "DescriptionStyleModel",
          "state": {
            "_model_module": "@jupyter-widgets/controls",
            "_model_module_version": "1.5.0",
            "_model_name": "DescriptionStyleModel",
            "_view_count": null,
            "_view_module": "@jupyter-widgets/base",
            "_view_module_version": "1.2.0",
            "_view_name": "StyleView",
            "description_width": ""
          }
        },
        "b085a87d829b416ca5e54cef1ce09a74": {
          "model_module": "@jupyter-widgets/controls",
          "model_module_version": "1.5.0",
          "model_name": "HTMLModel",
          "state": {
            "_dom_classes": [],
            "_model_module": "@jupyter-widgets/controls",
            "_model_module_version": "1.5.0",
            "_model_name": "HTMLModel",
            "_view_count": null,
            "_view_module": "@jupyter-widgets/controls",
            "_view_module_version": "1.5.0",
            "_view_name": "HTMLView",
            "description": "",
            "description_tooltip": null,
            "layout": "IPY_MODEL_c259dd9147fd4c1dbe72d04137960c4b",
            "placeholder": "​",
            "style": "IPY_MODEL_7bf54a0aa57c4c7bb641f26b09b52325",
            "value": " 612/612 [00:00&lt;00:00, 70.3kB/s]"
          }
        },
        "b22902f866704c29b34e19ced5fcd7f2": {
          "model_module": "@jupyter-widgets/base",
          "model_module_version": "1.2.0",
          "model_name": "LayoutModel",
          "state": {
            "_model_module": "@jupyter-widgets/base",
            "_model_module_version": "1.2.0",
            "_model_name": "LayoutModel",
            "_view_count": null,
            "_view_module": "@jupyter-widgets/base",
            "_view_module_version": "1.2.0",
            "_view_name": "LayoutView",
            "align_content": null,
            "align_items": null,
            "align_self": null,
            "border": null,
            "bottom": null,
            "display": null,
            "flex": null,
            "flex_flow": null,
            "grid_area": null,
            "grid_auto_columns": null,
            "grid_auto_flow": null,
            "grid_auto_rows": null,
            "grid_column": null,
            "grid_gap": null,
            "grid_row": null,
            "grid_template_areas": null,
            "grid_template_columns": null,
            "grid_template_rows": null,
            "height": null,
            "justify_content": null,
            "justify_items": null,
            "left": null,
            "margin": null,
            "max_height": null,
            "max_width": null,
            "min_height": null,
            "min_width": null,
            "object_fit": null,
            "object_position": null,
            "order": null,
            "overflow": null,
            "overflow_x": null,
            "overflow_y": null,
            "padding": null,
            "right": null,
            "top": null,
            "visibility": null,
            "width": null
          }
        },
        "b40c792d92c1428d9161eca58a7b17b1": {
          "model_module": "@jupyter-widgets/base",
          "model_module_version": "1.2.0",
          "model_name": "LayoutModel",
          "state": {
            "_model_module": "@jupyter-widgets/base",
            "_model_module_version": "1.2.0",
            "_model_name": "LayoutModel",
            "_view_count": null,
            "_view_module": "@jupyter-widgets/base",
            "_view_module_version": "1.2.0",
            "_view_name": "LayoutView",
            "align_content": null,
            "align_items": null,
            "align_self": null,
            "border": null,
            "bottom": null,
            "display": null,
            "flex": null,
            "flex_flow": null,
            "grid_area": null,
            "grid_auto_columns": null,
            "grid_auto_flow": null,
            "grid_auto_rows": null,
            "grid_column": null,
            "grid_gap": null,
            "grid_row": null,
            "grid_template_areas": null,
            "grid_template_columns": null,
            "grid_template_rows": null,
            "height": null,
            "justify_content": null,
            "justify_items": null,
            "left": null,
            "margin": null,
            "max_height": null,
            "max_width": null,
            "min_height": null,
            "min_width": null,
            "object_fit": null,
            "object_position": null,
            "order": null,
            "overflow": null,
            "overflow_x": null,
            "overflow_y": null,
            "padding": null,
            "right": null,
            "top": null,
            "visibility": null,
            "width": null
          }
        },
        "b4dcf521f2594613bda2bfee3d87b694": {
          "model_module": "@jupyter-widgets/controls",
          "model_module_version": "1.5.0",
          "model_name": "HBoxModel",
          "state": {
            "_dom_classes": [],
            "_model_module": "@jupyter-widgets/controls",
            "_model_module_version": "1.5.0",
            "_model_name": "HBoxModel",
            "_view_count": null,
            "_view_module": "@jupyter-widgets/controls",
            "_view_module_version": "1.5.0",
            "_view_name": "HBoxView",
            "box_style": "",
            "children": [
              "IPY_MODEL_b6bf506b7e60403a9eae024fc43c00a3",
              "IPY_MODEL_50912c542738472e8112184983141da7",
              "IPY_MODEL_8d87ef61bbbd43feb8ffdd0317ad256f"
            ],
            "layout": "IPY_MODEL_9d5a6a36e49544feae9def4b0918deb7"
          }
        },
        "b5640f149f184207b68c41814eff18ab": {
          "model_module": "@jupyter-widgets/controls",
          "model_module_version": "1.5.0",
          "model_name": "HBoxModel",
          "state": {
            "_dom_classes": [],
            "_model_module": "@jupyter-widgets/controls",
            "_model_module_version": "1.5.0",
            "_model_name": "HBoxModel",
            "_view_count": null,
            "_view_module": "@jupyter-widgets/controls",
            "_view_module_version": "1.5.0",
            "_view_name": "HBoxView",
            "box_style": "",
            "children": [
              "IPY_MODEL_f9e5fc4e283a49d48d6fb709c50df4b8",
              "IPY_MODEL_1610ea7c76a54281b976d9b53a9c63b7",
              "IPY_MODEL_86f271e7f86b4867bb0adb2371fb3235"
            ],
            "layout": "IPY_MODEL_d040a7a23b9c4419980dc916109a2479"
          }
        },
        "b6bf506b7e60403a9eae024fc43c00a3": {
          "model_module": "@jupyter-widgets/controls",
          "model_module_version": "1.5.0",
          "model_name": "HTMLModel",
          "state": {
            "_dom_classes": [],
            "_model_module": "@jupyter-widgets/controls",
            "_model_module_version": "1.5.0",
            "_model_name": "HTMLModel",
            "_view_count": null,
            "_view_module": "@jupyter-widgets/controls",
            "_view_module_version": "1.5.0",
            "_view_name": "HTMLView",
            "description": "",
            "description_tooltip": null,
            "layout": "IPY_MODEL_a924908b674d43bfbc4e2998eb32c976",
            "placeholder": "​",
            "style": "IPY_MODEL_5771294e8ec9408ab9a90a27c944da53",
            "value": "tokenizer.json: 100%"
          }
        },
        "b7342e50015f45b18dfd298ba6f9a91c": {
          "model_module": "@jupyter-widgets/base",
          "model_module_version": "1.2.0",
          "model_name": "LayoutModel",
          "state": {
            "_model_module": "@jupyter-widgets/base",
            "_model_module_version": "1.2.0",
            "_model_name": "LayoutModel",
            "_view_count": null,
            "_view_module": "@jupyter-widgets/base",
            "_view_module_version": "1.2.0",
            "_view_name": "LayoutView",
            "align_content": null,
            "align_items": null,
            "align_self": null,
            "border": null,
            "bottom": null,
            "display": null,
            "flex": null,
            "flex_flow": null,
            "grid_area": null,
            "grid_auto_columns": null,
            "grid_auto_flow": null,
            "grid_auto_rows": null,
            "grid_column": null,
            "grid_gap": null,
            "grid_row": null,
            "grid_template_areas": null,
            "grid_template_columns": null,
            "grid_template_rows": null,
            "height": null,
            "justify_content": null,
            "justify_items": null,
            "left": null,
            "margin": null,
            "max_height": null,
            "max_width": null,
            "min_height": null,
            "min_width": null,
            "object_fit": null,
            "object_position": null,
            "order": null,
            "overflow": null,
            "overflow_x": null,
            "overflow_y": null,
            "padding": null,
            "right": null,
            "top": null,
            "visibility": null,
            "width": null
          }
        },
        "b99343c4adbf484eba5ca88bfff73a12": {
          "model_module": "@jupyter-widgets/controls",
          "model_module_version": "1.5.0",
          "model_name": "HTMLModel",
          "state": {
            "_dom_classes": [],
            "_model_module": "@jupyter-widgets/controls",
            "_model_module_version": "1.5.0",
            "_model_name": "HTMLModel",
            "_view_count": null,
            "_view_module": "@jupyter-widgets/controls",
            "_view_module_version": "1.5.0",
            "_view_name": "HTMLView",
            "description": "",
            "description_tooltip": null,
            "layout": "IPY_MODEL_3632b5bb101c47a1bcf0f976d5f16425",
            "placeholder": "​",
            "style": "IPY_MODEL_584598d8a9504ce8ad2026b916009ebd",
            "value": " 116/116 [00:00&lt;00:00, 11.5kB/s]"
          }
        },
        "ba1afd231aa64b07b7e830133c03068d": {
          "model_module": "@jupyter-widgets/base",
          "model_module_version": "1.2.0",
          "model_name": "LayoutModel",
          "state": {
            "_model_module": "@jupyter-widgets/base",
            "_model_module_version": "1.2.0",
            "_model_name": "LayoutModel",
            "_view_count": null,
            "_view_module": "@jupyter-widgets/base",
            "_view_module_version": "1.2.0",
            "_view_name": "LayoutView",
            "align_content": null,
            "align_items": null,
            "align_self": null,
            "border": null,
            "bottom": null,
            "display": null,
            "flex": null,
            "flex_flow": null,
            "grid_area": null,
            "grid_auto_columns": null,
            "grid_auto_flow": null,
            "grid_auto_rows": null,
            "grid_column": null,
            "grid_gap": null,
            "grid_row": null,
            "grid_template_areas": null,
            "grid_template_columns": null,
            "grid_template_rows": null,
            "height": null,
            "justify_content": null,
            "justify_items": null,
            "left": null,
            "margin": null,
            "max_height": null,
            "max_width": null,
            "min_height": null,
            "min_width": null,
            "object_fit": null,
            "object_position": null,
            "order": null,
            "overflow": null,
            "overflow_x": null,
            "overflow_y": null,
            "padding": null,
            "right": null,
            "top": null,
            "visibility": null,
            "width": null
          }
        },
        "bab6b87d5fcd4246b87e04ec87d6cd11": {
          "model_module": "@jupyter-widgets/controls",
          "model_module_version": "1.5.0",
          "model_name": "ProgressStyleModel",
          "state": {
            "_model_module": "@jupyter-widgets/controls",
            "_model_module_version": "1.5.0",
            "_model_name": "ProgressStyleModel",
            "_view_count": null,
            "_view_module": "@jupyter-widgets/base",
            "_view_module_version": "1.2.0",
            "_view_name": "StyleView",
            "bar_color": null,
            "description_width": ""
          }
        },
        "bb9c25c8e2e846cc9e0eca5285ab55ad": {
          "model_module": "@jupyter-widgets/base",
          "model_module_version": "1.2.0",
          "model_name": "LayoutModel",
          "state": {
            "_model_module": "@jupyter-widgets/base",
            "_model_module_version": "1.2.0",
            "_model_name": "LayoutModel",
            "_view_count": null,
            "_view_module": "@jupyter-widgets/base",
            "_view_module_version": "1.2.0",
            "_view_name": "LayoutView",
            "align_content": null,
            "align_items": null,
            "align_self": null,
            "border": null,
            "bottom": null,
            "display": null,
            "flex": null,
            "flex_flow": null,
            "grid_area": null,
            "grid_auto_columns": null,
            "grid_auto_flow": null,
            "grid_auto_rows": null,
            "grid_column": null,
            "grid_gap": null,
            "grid_row": null,
            "grid_template_areas": null,
            "grid_template_columns": null,
            "grid_template_rows": null,
            "height": null,
            "justify_content": null,
            "justify_items": null,
            "left": null,
            "margin": null,
            "max_height": null,
            "max_width": null,
            "min_height": null,
            "min_width": null,
            "object_fit": null,
            "object_position": null,
            "order": null,
            "overflow": null,
            "overflow_x": null,
            "overflow_y": null,
            "padding": null,
            "right": null,
            "top": null,
            "visibility": null,
            "width": null
          }
        },
        "bcd346f0f55d418c85611430cd7344ad": {
          "model_module": "@jupyter-widgets/base",
          "model_module_version": "1.2.0",
          "model_name": "LayoutModel",
          "state": {
            "_model_module": "@jupyter-widgets/base",
            "_model_module_version": "1.2.0",
            "_model_name": "LayoutModel",
            "_view_count": null,
            "_view_module": "@jupyter-widgets/base",
            "_view_module_version": "1.2.0",
            "_view_name": "LayoutView",
            "align_content": null,
            "align_items": null,
            "align_self": null,
            "border": null,
            "bottom": null,
            "display": null,
            "flex": null,
            "flex_flow": null,
            "grid_area": null,
            "grid_auto_columns": null,
            "grid_auto_flow": null,
            "grid_auto_rows": null,
            "grid_column": null,
            "grid_gap": null,
            "grid_row": null,
            "grid_template_areas": null,
            "grid_template_columns": null,
            "grid_template_rows": null,
            "height": null,
            "justify_content": null,
            "justify_items": null,
            "left": null,
            "margin": null,
            "max_height": null,
            "max_width": null,
            "min_height": null,
            "min_width": null,
            "object_fit": null,
            "object_position": null,
            "order": null,
            "overflow": null,
            "overflow_x": null,
            "overflow_y": null,
            "padding": null,
            "right": null,
            "top": null,
            "visibility": null,
            "width": null
          }
        },
        "bd454a8ed63144b380493d76d9dee9e4": {
          "model_module": "@jupyter-widgets/base",
          "model_module_version": "1.2.0",
          "model_name": "LayoutModel",
          "state": {
            "_model_module": "@jupyter-widgets/base",
            "_model_module_version": "1.2.0",
            "_model_name": "LayoutModel",
            "_view_count": null,
            "_view_module": "@jupyter-widgets/base",
            "_view_module_version": "1.2.0",
            "_view_name": "LayoutView",
            "align_content": null,
            "align_items": null,
            "align_self": null,
            "border": null,
            "bottom": null,
            "display": null,
            "flex": null,
            "flex_flow": null,
            "grid_area": null,
            "grid_auto_columns": null,
            "grid_auto_flow": null,
            "grid_auto_rows": null,
            "grid_column": null,
            "grid_gap": null,
            "grid_row": null,
            "grid_template_areas": null,
            "grid_template_columns": null,
            "grid_template_rows": null,
            "height": null,
            "justify_content": null,
            "justify_items": null,
            "left": null,
            "margin": null,
            "max_height": null,
            "max_width": null,
            "min_height": null,
            "min_width": null,
            "object_fit": null,
            "object_position": null,
            "order": null,
            "overflow": null,
            "overflow_x": null,
            "overflow_y": null,
            "padding": null,
            "right": null,
            "top": null,
            "visibility": null,
            "width": null
          }
        },
        "bd88b4ea9a3f4208aa17be37763fd737": {
          "model_module": "@jupyter-widgets/controls",
          "model_module_version": "1.5.0",
          "model_name": "ProgressStyleModel",
          "state": {
            "_model_module": "@jupyter-widgets/controls",
            "_model_module_version": "1.5.0",
            "_model_name": "ProgressStyleModel",
            "_view_count": null,
            "_view_module": "@jupyter-widgets/base",
            "_view_module_version": "1.2.0",
            "_view_name": "StyleView",
            "bar_color": null,
            "description_width": ""
          }
        },
        "be1e824e5be847fd8f9cf58abf38ae4e": {
          "model_module": "@jupyter-widgets/base",
          "model_module_version": "1.2.0",
          "model_name": "LayoutModel",
          "state": {
            "_model_module": "@jupyter-widgets/base",
            "_model_module_version": "1.2.0",
            "_model_name": "LayoutModel",
            "_view_count": null,
            "_view_module": "@jupyter-widgets/base",
            "_view_module_version": "1.2.0",
            "_view_name": "LayoutView",
            "align_content": null,
            "align_items": null,
            "align_self": null,
            "border": null,
            "bottom": null,
            "display": null,
            "flex": null,
            "flex_flow": null,
            "grid_area": null,
            "grid_auto_columns": null,
            "grid_auto_flow": null,
            "grid_auto_rows": null,
            "grid_column": null,
            "grid_gap": null,
            "grid_row": null,
            "grid_template_areas": null,
            "grid_template_columns": null,
            "grid_template_rows": null,
            "height": null,
            "justify_content": null,
            "justify_items": null,
            "left": null,
            "margin": null,
            "max_height": null,
            "max_width": null,
            "min_height": null,
            "min_width": null,
            "object_fit": null,
            "object_position": null,
            "order": null,
            "overflow": null,
            "overflow_x": null,
            "overflow_y": null,
            "padding": null,
            "right": null,
            "top": null,
            "visibility": null,
            "width": null
          }
        },
        "c026b60d5fcc43a7a32ee88eeb059089": {
          "model_module": "@jupyter-widgets/controls",
          "model_module_version": "1.5.0",
          "model_name": "ProgressStyleModel",
          "state": {
            "_model_module": "@jupyter-widgets/controls",
            "_model_module_version": "1.5.0",
            "_model_name": "ProgressStyleModel",
            "_view_count": null,
            "_view_module": "@jupyter-widgets/base",
            "_view_module_version": "1.2.0",
            "_view_name": "StyleView",
            "bar_color": null,
            "description_width": ""
          }
        },
        "c259dd9147fd4c1dbe72d04137960c4b": {
          "model_module": "@jupyter-widgets/base",
          "model_module_version": "1.2.0",
          "model_name": "LayoutModel",
          "state": {
            "_model_module": "@jupyter-widgets/base",
            "_model_module_version": "1.2.0",
            "_model_name": "LayoutModel",
            "_view_count": null,
            "_view_module": "@jupyter-widgets/base",
            "_view_module_version": "1.2.0",
            "_view_name": "LayoutView",
            "align_content": null,
            "align_items": null,
            "align_self": null,
            "border": null,
            "bottom": null,
            "display": null,
            "flex": null,
            "flex_flow": null,
            "grid_area": null,
            "grid_auto_columns": null,
            "grid_auto_flow": null,
            "grid_auto_rows": null,
            "grid_column": null,
            "grid_gap": null,
            "grid_row": null,
            "grid_template_areas": null,
            "grid_template_columns": null,
            "grid_template_rows": null,
            "height": null,
            "justify_content": null,
            "justify_items": null,
            "left": null,
            "margin": null,
            "max_height": null,
            "max_width": null,
            "min_height": null,
            "min_width": null,
            "object_fit": null,
            "object_position": null,
            "order": null,
            "overflow": null,
            "overflow_x": null,
            "overflow_y": null,
            "padding": null,
            "right": null,
            "top": null,
            "visibility": null,
            "width": null
          }
        },
        "c29c42f4e94842d2a6d31a0a863fa749": {
          "model_module": "@jupyter-widgets/controls",
          "model_module_version": "1.5.0",
          "model_name": "ProgressStyleModel",
          "state": {
            "_model_module": "@jupyter-widgets/controls",
            "_model_module_version": "1.5.0",
            "_model_name": "ProgressStyleModel",
            "_view_count": null,
            "_view_module": "@jupyter-widgets/base",
            "_view_module_version": "1.2.0",
            "_view_name": "StyleView",
            "bar_color": null,
            "description_width": ""
          }
        },
        "c3f5a16b423a4733850c83cc9b6adc50": {
          "model_module": "@jupyter-widgets/base",
          "model_module_version": "1.2.0",
          "model_name": "LayoutModel",
          "state": {
            "_model_module": "@jupyter-widgets/base",
            "_model_module_version": "1.2.0",
            "_model_name": "LayoutModel",
            "_view_count": null,
            "_view_module": "@jupyter-widgets/base",
            "_view_module_version": "1.2.0",
            "_view_name": "LayoutView",
            "align_content": null,
            "align_items": null,
            "align_self": null,
            "border": null,
            "bottom": null,
            "display": null,
            "flex": null,
            "flex_flow": null,
            "grid_area": null,
            "grid_auto_columns": null,
            "grid_auto_flow": null,
            "grid_auto_rows": null,
            "grid_column": null,
            "grid_gap": null,
            "grid_row": null,
            "grid_template_areas": null,
            "grid_template_columns": null,
            "grid_template_rows": null,
            "height": null,
            "justify_content": null,
            "justify_items": null,
            "left": null,
            "margin": null,
            "max_height": null,
            "max_width": null,
            "min_height": null,
            "min_width": null,
            "object_fit": null,
            "object_position": null,
            "order": null,
            "overflow": null,
            "overflow_x": null,
            "overflow_y": null,
            "padding": null,
            "right": null,
            "top": null,
            "visibility": null,
            "width": null
          }
        },
        "c49617b4e11540a5806a97ce32d0ebe9": {
          "model_module": "@jupyter-widgets/controls",
          "model_module_version": "1.5.0",
          "model_name": "ProgressStyleModel",
          "state": {
            "_model_module": "@jupyter-widgets/controls",
            "_model_module_version": "1.5.0",
            "_model_name": "ProgressStyleModel",
            "_view_count": null,
            "_view_module": "@jupyter-widgets/base",
            "_view_module_version": "1.2.0",
            "_view_name": "StyleView",
            "bar_color": null,
            "description_width": ""
          }
        },
        "c6b478cc969841448d573b33a8f5c899": {
          "model_module": "@jupyter-widgets/controls",
          "model_module_version": "1.5.0",
          "model_name": "HTMLModel",
          "state": {
            "_dom_classes": [],
            "_model_module": "@jupyter-widgets/controls",
            "_model_module_version": "1.5.0",
            "_model_name": "HTMLModel",
            "_view_count": null,
            "_view_module": "@jupyter-widgets/controls",
            "_view_module_version": "1.5.0",
            "_view_name": "HTMLView",
            "description": "",
            "description_tooltip": null,
            "layout": "IPY_MODEL_68ab9158f02c41e7a45e105820f32981",
            "placeholder": "​",
            "style": "IPY_MODEL_786c23910c1444bfa73d34e4d0b41c25",
            "value": " 232k/232k [00:00&lt;00:00, 13.6MB/s]"
          }
        },
        "c6f98db5c73c488eabab0796c787e408": {
          "model_module": "@jupyter-widgets/controls",
          "model_module_version": "1.5.0",
          "model_name": "HTMLModel",
          "state": {
            "_dom_classes": [],
            "_model_module": "@jupyter-widgets/controls",
            "_model_module_version": "1.5.0",
            "_model_name": "HTMLModel",
            "_view_count": null,
            "_view_module": "@jupyter-widgets/controls",
            "_view_module_version": "1.5.0",
            "_view_name": "HTMLView",
            "description": "",
            "description_tooltip": null,
            "layout": "IPY_MODEL_3d7fdfc440354531821d3c753aa9720d",
            "placeholder": "​",
            "style": "IPY_MODEL_04ec942ef3134b659415aab52023b11a",
            "value": "vocab.txt: 100%"
          }
        },
        "cc584e2558564eeebcdb6822802f832d": {
          "model_module": "@jupyter-widgets/controls",
          "model_module_version": "1.5.0",
          "model_name": "DescriptionStyleModel",
          "state": {
            "_model_module": "@jupyter-widgets/controls",
            "_model_module_version": "1.5.0",
            "_model_name": "DescriptionStyleModel",
            "_view_count": null,
            "_view_module": "@jupyter-widgets/base",
            "_view_module_version": "1.2.0",
            "_view_name": "StyleView",
            "description_width": ""
          }
        },
        "cd291e9d30054dcfa173fccd6d7a403f": {
          "model_module": "@jupyter-widgets/base",
          "model_module_version": "1.2.0",
          "model_name": "LayoutModel",
          "state": {
            "_model_module": "@jupyter-widgets/base",
            "_model_module_version": "1.2.0",
            "_model_name": "LayoutModel",
            "_view_count": null,
            "_view_module": "@jupyter-widgets/base",
            "_view_module_version": "1.2.0",
            "_view_name": "LayoutView",
            "align_content": null,
            "align_items": null,
            "align_self": null,
            "border": null,
            "bottom": null,
            "display": null,
            "flex": null,
            "flex_flow": null,
            "grid_area": null,
            "grid_auto_columns": null,
            "grid_auto_flow": null,
            "grid_auto_rows": null,
            "grid_column": null,
            "grid_gap": null,
            "grid_row": null,
            "grid_template_areas": null,
            "grid_template_columns": null,
            "grid_template_rows": null,
            "height": null,
            "justify_content": null,
            "justify_items": null,
            "left": null,
            "margin": null,
            "max_height": null,
            "max_width": null,
            "min_height": null,
            "min_width": null,
            "object_fit": null,
            "object_position": null,
            "order": null,
            "overflow": null,
            "overflow_x": null,
            "overflow_y": null,
            "padding": null,
            "right": null,
            "top": null,
            "visibility": null,
            "width": null
          }
        },
        "ce5245a29a304cd5bfc83ce27fc3de0b": {
          "model_module": "@jupyter-widgets/base",
          "model_module_version": "1.2.0",
          "model_name": "LayoutModel",
          "state": {
            "_model_module": "@jupyter-widgets/base",
            "_model_module_version": "1.2.0",
            "_model_name": "LayoutModel",
            "_view_count": null,
            "_view_module": "@jupyter-widgets/base",
            "_view_module_version": "1.2.0",
            "_view_name": "LayoutView",
            "align_content": null,
            "align_items": null,
            "align_self": null,
            "border": null,
            "bottom": null,
            "display": null,
            "flex": null,
            "flex_flow": null,
            "grid_area": null,
            "grid_auto_columns": null,
            "grid_auto_flow": null,
            "grid_auto_rows": null,
            "grid_column": null,
            "grid_gap": null,
            "grid_row": null,
            "grid_template_areas": null,
            "grid_template_columns": null,
            "grid_template_rows": null,
            "height": null,
            "justify_content": null,
            "justify_items": null,
            "left": null,
            "margin": null,
            "max_height": null,
            "max_width": null,
            "min_height": null,
            "min_width": null,
            "object_fit": null,
            "object_position": null,
            "order": null,
            "overflow": null,
            "overflow_x": null,
            "overflow_y": null,
            "padding": null,
            "right": null,
            "top": null,
            "visibility": null,
            "width": null
          }
        },
        "d040a7a23b9c4419980dc916109a2479": {
          "model_module": "@jupyter-widgets/base",
          "model_module_version": "1.2.0",
          "model_name": "LayoutModel",
          "state": {
            "_model_module": "@jupyter-widgets/base",
            "_model_module_version": "1.2.0",
            "_model_name": "LayoutModel",
            "_view_count": null,
            "_view_module": "@jupyter-widgets/base",
            "_view_module_version": "1.2.0",
            "_view_name": "LayoutView",
            "align_content": null,
            "align_items": null,
            "align_self": null,
            "border": null,
            "bottom": null,
            "display": null,
            "flex": null,
            "flex_flow": null,
            "grid_area": null,
            "grid_auto_columns": null,
            "grid_auto_flow": null,
            "grid_auto_rows": null,
            "grid_column": null,
            "grid_gap": null,
            "grid_row": null,
            "grid_template_areas": null,
            "grid_template_columns": null,
            "grid_template_rows": null,
            "height": null,
            "justify_content": null,
            "justify_items": null,
            "left": null,
            "margin": null,
            "max_height": null,
            "max_width": null,
            "min_height": null,
            "min_width": null,
            "object_fit": null,
            "object_position": null,
            "order": null,
            "overflow": null,
            "overflow_x": null,
            "overflow_y": null,
            "padding": null,
            "right": null,
            "top": null,
            "visibility": null,
            "width": null
          }
        },
        "d1c6c35d64f94e38b01ff1546039717c": {
          "model_module": "@jupyter-widgets/controls",
          "model_module_version": "1.5.0",
          "model_name": "DescriptionStyleModel",
          "state": {
            "_model_module": "@jupyter-widgets/controls",
            "_model_module_version": "1.5.0",
            "_model_name": "DescriptionStyleModel",
            "_view_count": null,
            "_view_module": "@jupyter-widgets/base",
            "_view_module_version": "1.2.0",
            "_view_name": "StyleView",
            "description_width": ""
          }
        },
        "d4cc591011b44feea4fae3f93d2dacd6": {
          "model_module": "@jupyter-widgets/controls",
          "model_module_version": "1.5.0",
          "model_name": "HTMLModel",
          "state": {
            "_dom_classes": [],
            "_model_module": "@jupyter-widgets/controls",
            "_model_module_version": "1.5.0",
            "_model_name": "HTMLModel",
            "_view_count": null,
            "_view_module": "@jupyter-widgets/controls",
            "_view_module_version": "1.5.0",
            "_view_name": "HTMLView",
            "description": "",
            "description_tooltip": null,
            "layout": "IPY_MODEL_5fda87f2064649579b840d8a4cd6706b",
            "placeholder": "​",
            "style": "IPY_MODEL_9010f274d96c496d99fc809b84f37aba",
            "value": "modules.json: 100%"
          }
        },
        "d5ad315a23ee4e9eb462c1ad804a1e24": {
          "model_module": "@jupyter-widgets/controls",
          "model_module_version": "1.5.0",
          "model_name": "HTMLModel",
          "state": {
            "_dom_classes": [],
            "_model_module": "@jupyter-widgets/controls",
            "_model_module_version": "1.5.0",
            "_model_name": "HTMLModel",
            "_view_count": null,
            "_view_module": "@jupyter-widgets/controls",
            "_view_module_version": "1.5.0",
            "_view_name": "HTMLView",
            "description": "",
            "description_tooltip": null,
            "layout": "IPY_MODEL_e8ebef833da24e669e4cd901a32bdbef",
            "placeholder": "​",
            "style": "IPY_MODEL_e895b6ce9bc141f9871bc69a14b83bd9",
            "value": " 10.7k/10.7k [00:00&lt;00:00, 933kB/s]"
          }
        },
        "d7e913740f0c44a8a951b5ddd4c828bc": {
          "model_module": "@jupyter-widgets/base",
          "model_module_version": "1.2.0",
          "model_name": "LayoutModel",
          "state": {
            "_model_module": "@jupyter-widgets/base",
            "_model_module_version": "1.2.0",
            "_model_name": "LayoutModel",
            "_view_count": null,
            "_view_module": "@jupyter-widgets/base",
            "_view_module_version": "1.2.0",
            "_view_name": "LayoutView",
            "align_content": null,
            "align_items": null,
            "align_self": null,
            "border": null,
            "bottom": null,
            "display": null,
            "flex": null,
            "flex_flow": null,
            "grid_area": null,
            "grid_auto_columns": null,
            "grid_auto_flow": null,
            "grid_auto_rows": null,
            "grid_column": null,
            "grid_gap": null,
            "grid_row": null,
            "grid_template_areas": null,
            "grid_template_columns": null,
            "grid_template_rows": null,
            "height": null,
            "justify_content": null,
            "justify_items": null,
            "left": null,
            "margin": null,
            "max_height": null,
            "max_width": null,
            "min_height": null,
            "min_width": null,
            "object_fit": null,
            "object_position": null,
            "order": null,
            "overflow": null,
            "overflow_x": null,
            "overflow_y": null,
            "padding": null,
            "right": null,
            "top": null,
            "visibility": null,
            "width": null
          }
        },
        "d81accbd773b4f7888397c08a61d9465": {
          "model_module": "@jupyter-widgets/controls",
          "model_module_version": "1.5.0",
          "model_name": "DescriptionStyleModel",
          "state": {
            "_model_module": "@jupyter-widgets/controls",
            "_model_module_version": "1.5.0",
            "_model_name": "DescriptionStyleModel",
            "_view_count": null,
            "_view_module": "@jupyter-widgets/base",
            "_view_module_version": "1.2.0",
            "_view_name": "StyleView",
            "description_width": ""
          }
        },
        "d87575a0899140e5b39f30a247a695f1": {
          "model_module": "@jupyter-widgets/base",
          "model_module_version": "1.2.0",
          "model_name": "LayoutModel",
          "state": {
            "_model_module": "@jupyter-widgets/base",
            "_model_module_version": "1.2.0",
            "_model_name": "LayoutModel",
            "_view_count": null,
            "_view_module": "@jupyter-widgets/base",
            "_view_module_version": "1.2.0",
            "_view_name": "LayoutView",
            "align_content": null,
            "align_items": null,
            "align_self": null,
            "border": null,
            "bottom": null,
            "display": null,
            "flex": null,
            "flex_flow": null,
            "grid_area": null,
            "grid_auto_columns": null,
            "grid_auto_flow": null,
            "grid_auto_rows": null,
            "grid_column": null,
            "grid_gap": null,
            "grid_row": null,
            "grid_template_areas": null,
            "grid_template_columns": null,
            "grid_template_rows": null,
            "height": null,
            "justify_content": null,
            "justify_items": null,
            "left": null,
            "margin": null,
            "max_height": null,
            "max_width": null,
            "min_height": null,
            "min_width": null,
            "object_fit": null,
            "object_position": null,
            "order": null,
            "overflow": null,
            "overflow_x": null,
            "overflow_y": null,
            "padding": null,
            "right": null,
            "top": null,
            "visibility": null,
            "width": null
          }
        },
        "d8c2e55c02814e17ad12039171c5d783": {
          "model_module": "@jupyter-widgets/controls",
          "model_module_version": "1.5.0",
          "model_name": "ProgressStyleModel",
          "state": {
            "_model_module": "@jupyter-widgets/controls",
            "_model_module_version": "1.5.0",
            "_model_name": "ProgressStyleModel",
            "_view_count": null,
            "_view_module": "@jupyter-widgets/base",
            "_view_module_version": "1.2.0",
            "_view_name": "StyleView",
            "bar_color": null,
            "description_width": ""
          }
        },
        "d9745d3fbbae42beb015875442ec50ca": {
          "model_module": "@jupyter-widgets/base",
          "model_module_version": "1.2.0",
          "model_name": "LayoutModel",
          "state": {
            "_model_module": "@jupyter-widgets/base",
            "_model_module_version": "1.2.0",
            "_model_name": "LayoutModel",
            "_view_count": null,
            "_view_module": "@jupyter-widgets/base",
            "_view_module_version": "1.2.0",
            "_view_name": "LayoutView",
            "align_content": null,
            "align_items": null,
            "align_self": null,
            "border": null,
            "bottom": null,
            "display": null,
            "flex": null,
            "flex_flow": null,
            "grid_area": null,
            "grid_auto_columns": null,
            "grid_auto_flow": null,
            "grid_auto_rows": null,
            "grid_column": null,
            "grid_gap": null,
            "grid_row": null,
            "grid_template_areas": null,
            "grid_template_columns": null,
            "grid_template_rows": null,
            "height": null,
            "justify_content": null,
            "justify_items": null,
            "left": null,
            "margin": null,
            "max_height": null,
            "max_width": null,
            "min_height": null,
            "min_width": null,
            "object_fit": null,
            "object_position": null,
            "order": null,
            "overflow": null,
            "overflow_x": null,
            "overflow_y": null,
            "padding": null,
            "right": null,
            "top": null,
            "visibility": null,
            "width": null
          }
        },
        "d9df3cfed1a542869bbbe95f800ba077": {
          "model_module": "@jupyter-widgets/controls",
          "model_module_version": "1.5.0",
          "model_name": "HBoxModel",
          "state": {
            "_dom_classes": [],
            "_model_module": "@jupyter-widgets/controls",
            "_model_module_version": "1.5.0",
            "_model_name": "HBoxModel",
            "_view_count": null,
            "_view_module": "@jupyter-widgets/controls",
            "_view_module_version": "1.5.0",
            "_view_name": "HBoxView",
            "box_style": "",
            "children": [
              "IPY_MODEL_278a8ab9981c4ef7936072bade6701be",
              "IPY_MODEL_e58d1375cc1e4883a04defe7d6818c17",
              "IPY_MODEL_30fd02de56b04257aef5a73fa24d633d"
            ],
            "layout": "IPY_MODEL_f1e5c3908ccd444f805bc3b4ad124606"
          }
        },
        "dbd030feb24b4e3687dfebb8cffdce19": {
          "model_module": "@jupyter-widgets/controls",
          "model_module_version": "1.5.0",
          "model_name": "DescriptionStyleModel",
          "state": {
            "_model_module": "@jupyter-widgets/controls",
            "_model_module_version": "1.5.0",
            "_model_name": "DescriptionStyleModel",
            "_view_count": null,
            "_view_module": "@jupyter-widgets/base",
            "_view_module_version": "1.2.0",
            "_view_name": "StyleView",
            "description_width": ""
          }
        },
        "dc6aaae7e5d44ca88ae97876b9d5e8a3": {
          "model_module": "@jupyter-widgets/base",
          "model_module_version": "1.2.0",
          "model_name": "LayoutModel",
          "state": {
            "_model_module": "@jupyter-widgets/base",
            "_model_module_version": "1.2.0",
            "_model_name": "LayoutModel",
            "_view_count": null,
            "_view_module": "@jupyter-widgets/base",
            "_view_module_version": "1.2.0",
            "_view_name": "LayoutView",
            "align_content": null,
            "align_items": null,
            "align_self": null,
            "border": null,
            "bottom": null,
            "display": null,
            "flex": null,
            "flex_flow": null,
            "grid_area": null,
            "grid_auto_columns": null,
            "grid_auto_flow": null,
            "grid_auto_rows": null,
            "grid_column": null,
            "grid_gap": null,
            "grid_row": null,
            "grid_template_areas": null,
            "grid_template_columns": null,
            "grid_template_rows": null,
            "height": null,
            "justify_content": null,
            "justify_items": null,
            "left": null,
            "margin": null,
            "max_height": null,
            "max_width": null,
            "min_height": null,
            "min_width": null,
            "object_fit": null,
            "object_position": null,
            "order": null,
            "overflow": null,
            "overflow_x": null,
            "overflow_y": null,
            "padding": null,
            "right": null,
            "top": null,
            "visibility": null,
            "width": null
          }
        },
        "e1879638c60e4634bf72fa5c5e4cf2b7": {
          "model_module": "@jupyter-widgets/controls",
          "model_module_version": "1.5.0",
          "model_name": "DescriptionStyleModel",
          "state": {
            "_model_module": "@jupyter-widgets/controls",
            "_model_module_version": "1.5.0",
            "_model_name": "DescriptionStyleModel",
            "_view_count": null,
            "_view_module": "@jupyter-widgets/base",
            "_view_module_version": "1.2.0",
            "_view_name": "StyleView",
            "description_width": ""
          }
        },
        "e1bfddc273e146aea023430012063735": {
          "model_module": "@jupyter-widgets/controls",
          "model_module_version": "1.5.0",
          "model_name": "HTMLModel",
          "state": {
            "_dom_classes": [],
            "_model_module": "@jupyter-widgets/controls",
            "_model_module_version": "1.5.0",
            "_model_name": "HTMLModel",
            "_view_count": null,
            "_view_module": "@jupyter-widgets/controls",
            "_view_module_version": "1.5.0",
            "_view_name": "HTMLView",
            "description": "",
            "description_tooltip": null,
            "layout": "IPY_MODEL_dc6aaae7e5d44ca88ae97876b9d5e8a3",
            "placeholder": "​",
            "style": "IPY_MODEL_f20345d97f314f688434695f4c8285f6",
            "value": "config_sentence_transformers.json: 100%"
          }
        },
        "e25c8c4ef0424964a5b9146b52c3579a": {
          "model_module": "@jupyter-widgets/controls",
          "model_module_version": "1.5.0",
          "model_name": "ProgressStyleModel",
          "state": {
            "_model_module": "@jupyter-widgets/controls",
            "_model_module_version": "1.5.0",
            "_model_name": "ProgressStyleModel",
            "_view_count": null,
            "_view_module": "@jupyter-widgets/base",
            "_view_module_version": "1.2.0",
            "_view_name": "StyleView",
            "bar_color": null,
            "description_width": ""
          }
        },
        "e4644609778b4b69be2d0a3aac070a6a": {
          "model_module": "@jupyter-widgets/base",
          "model_module_version": "1.2.0",
          "model_name": "LayoutModel",
          "state": {
            "_model_module": "@jupyter-widgets/base",
            "_model_module_version": "1.2.0",
            "_model_name": "LayoutModel",
            "_view_count": null,
            "_view_module": "@jupyter-widgets/base",
            "_view_module_version": "1.2.0",
            "_view_name": "LayoutView",
            "align_content": null,
            "align_items": null,
            "align_self": null,
            "border": null,
            "bottom": null,
            "display": null,
            "flex": null,
            "flex_flow": null,
            "grid_area": null,
            "grid_auto_columns": null,
            "grid_auto_flow": null,
            "grid_auto_rows": null,
            "grid_column": null,
            "grid_gap": null,
            "grid_row": null,
            "grid_template_areas": null,
            "grid_template_columns": null,
            "grid_template_rows": null,
            "height": null,
            "justify_content": null,
            "justify_items": null,
            "left": null,
            "margin": null,
            "max_height": null,
            "max_width": null,
            "min_height": null,
            "min_width": null,
            "object_fit": null,
            "object_position": null,
            "order": null,
            "overflow": null,
            "overflow_x": null,
            "overflow_y": null,
            "padding": null,
            "right": null,
            "top": null,
            "visibility": null,
            "width": null
          }
        },
        "e54586cf159b48aa952a324ad65899bc": {
          "model_module": "@jupyter-widgets/controls",
          "model_module_version": "1.5.0",
          "model_name": "HTMLModel",
          "state": {
            "_dom_classes": [],
            "_model_module": "@jupyter-widgets/controls",
            "_model_module_version": "1.5.0",
            "_model_name": "HTMLModel",
            "_view_count": null,
            "_view_module": "@jupyter-widgets/controls",
            "_view_module_version": "1.5.0",
            "_view_name": "HTMLView",
            "description": "",
            "description_tooltip": null,
            "layout": "IPY_MODEL_7bc724ac4b994d819b3fa831039b585a",
            "placeholder": "​",
            "style": "IPY_MODEL_5671c4d3523a4ecf92dc4fc75a8f6dd6",
            "value": " 349/349 [00:00&lt;00:00, 36.9kB/s]"
          }
        },
        "e58d1375cc1e4883a04defe7d6818c17": {
          "model_module": "@jupyter-widgets/controls",
          "model_module_version": "1.5.0",
          "model_name": "FloatProgressModel",
          "state": {
            "_dom_classes": [],
            "_model_module": "@jupyter-widgets/controls",
            "_model_module_version": "1.5.0",
            "_model_name": "FloatProgressModel",
            "_view_count": null,
            "_view_module": "@jupyter-widgets/controls",
            "_view_module_version": "1.5.0",
            "_view_name": "ProgressView",
            "bar_style": "success",
            "description": "",
            "description_tooltip": null,
            "layout": "IPY_MODEL_72ad846043da4882a6bfdbbd2d924f6f",
            "max": 4838,
            "min": 0,
            "orientation": "horizontal",
            "style": "IPY_MODEL_f52ce2909cb6406f93f8bd9c988d146f",
            "value": 4838
          }
        },
        "e895b6ce9bc141f9871bc69a14b83bd9": {
          "model_module": "@jupyter-widgets/controls",
          "model_module_version": "1.5.0",
          "model_name": "DescriptionStyleModel",
          "state": {
            "_model_module": "@jupyter-widgets/controls",
            "_model_module_version": "1.5.0",
            "_model_name": "DescriptionStyleModel",
            "_view_count": null,
            "_view_module": "@jupyter-widgets/base",
            "_view_module_version": "1.2.0",
            "_view_name": "StyleView",
            "description_width": ""
          }
        },
        "e8ebef833da24e669e4cd901a32bdbef": {
          "model_module": "@jupyter-widgets/base",
          "model_module_version": "1.2.0",
          "model_name": "LayoutModel",
          "state": {
            "_model_module": "@jupyter-widgets/base",
            "_model_module_version": "1.2.0",
            "_model_name": "LayoutModel",
            "_view_count": null,
            "_view_module": "@jupyter-widgets/base",
            "_view_module_version": "1.2.0",
            "_view_name": "LayoutView",
            "align_content": null,
            "align_items": null,
            "align_self": null,
            "border": null,
            "bottom": null,
            "display": null,
            "flex": null,
            "flex_flow": null,
            "grid_area": null,
            "grid_auto_columns": null,
            "grid_auto_flow": null,
            "grid_auto_rows": null,
            "grid_column": null,
            "grid_gap": null,
            "grid_row": null,
            "grid_template_areas": null,
            "grid_template_columns": null,
            "grid_template_rows": null,
            "height": null,
            "justify_content": null,
            "justify_items": null,
            "left": null,
            "margin": null,
            "max_height": null,
            "max_width": null,
            "min_height": null,
            "min_width": null,
            "object_fit": null,
            "object_position": null,
            "order": null,
            "overflow": null,
            "overflow_x": null,
            "overflow_y": null,
            "padding": null,
            "right": null,
            "top": null,
            "visibility": null,
            "width": null
          }
        },
        "e935b0fd06774d31bf2271779fd0c001": {
          "model_module": "@jupyter-widgets/base",
          "model_module_version": "1.2.0",
          "model_name": "LayoutModel",
          "state": {
            "_model_module": "@jupyter-widgets/base",
            "_model_module_version": "1.2.0",
            "_model_name": "LayoutModel",
            "_view_count": null,
            "_view_module": "@jupyter-widgets/base",
            "_view_module_version": "1.2.0",
            "_view_name": "LayoutView",
            "align_content": null,
            "align_items": null,
            "align_self": null,
            "border": null,
            "bottom": null,
            "display": null,
            "flex": null,
            "flex_flow": null,
            "grid_area": null,
            "grid_auto_columns": null,
            "grid_auto_flow": null,
            "grid_auto_rows": null,
            "grid_column": null,
            "grid_gap": null,
            "grid_row": null,
            "grid_template_areas": null,
            "grid_template_columns": null,
            "grid_template_rows": null,
            "height": null,
            "justify_content": null,
            "justify_items": null,
            "left": null,
            "margin": null,
            "max_height": null,
            "max_width": null,
            "min_height": null,
            "min_width": null,
            "object_fit": null,
            "object_position": null,
            "order": null,
            "overflow": null,
            "overflow_x": null,
            "overflow_y": null,
            "padding": null,
            "right": null,
            "top": null,
            "visibility": null,
            "width": null
          }
        },
        "e98a609a95be428f92ad46fed4eeed9c": {
          "model_module": "@jupyter-widgets/controls",
          "model_module_version": "1.5.0",
          "model_name": "ProgressStyleModel",
          "state": {
            "_model_module": "@jupyter-widgets/controls",
            "_model_module_version": "1.5.0",
            "_model_name": "ProgressStyleModel",
            "_view_count": null,
            "_view_module": "@jupyter-widgets/base",
            "_view_module_version": "1.2.0",
            "_view_name": "StyleView",
            "bar_color": null,
            "description_width": ""
          }
        },
        "ea877ff553464116b914a357ec42857e": {
          "model_module": "@jupyter-widgets/controls",
          "model_module_version": "1.5.0",
          "model_name": "DescriptionStyleModel",
          "state": {
            "_model_module": "@jupyter-widgets/controls",
            "_model_module_version": "1.5.0",
            "_model_name": "DescriptionStyleModel",
            "_view_count": null,
            "_view_module": "@jupyter-widgets/base",
            "_view_module_version": "1.2.0",
            "_view_name": "StyleView",
            "description_width": ""
          }
        },
        "eaec9a64ef1a4ce1a35388d93d39d297": {
          "model_module": "@jupyter-widgets/controls",
          "model_module_version": "1.5.0",
          "model_name": "HBoxModel",
          "state": {
            "_dom_classes": [],
            "_model_module": "@jupyter-widgets/controls",
            "_model_module_version": "1.5.0",
            "_model_name": "HBoxModel",
            "_view_count": null,
            "_view_module": "@jupyter-widgets/controls",
            "_view_module_version": "1.5.0",
            "_view_name": "HBoxView",
            "box_style": "",
            "children": [
              "IPY_MODEL_e1bfddc273e146aea023430012063735",
              "IPY_MODEL_90cc5c70db8f4b3fa5b8c2df1ec541b0",
              "IPY_MODEL_b99343c4adbf484eba5ca88bfff73a12"
            ],
            "layout": "IPY_MODEL_77a9e77bb22a482db9e43748db3a5d2f"
          }
        },
        "eb628e1e4665472a858fec65728d37ff": {
          "model_module": "@jupyter-widgets/controls",
          "model_module_version": "1.5.0",
          "model_name": "FloatProgressModel",
          "state": {
            "_dom_classes": [],
            "_model_module": "@jupyter-widgets/controls",
            "_model_module_version": "1.5.0",
            "_model_name": "FloatProgressModel",
            "_view_count": null,
            "_view_module": "@jupyter-widgets/controls",
            "_view_module_version": "1.5.0",
            "_view_name": "ProgressView",
            "bar_style": "success",
            "description": "",
            "description_tooltip": null,
            "layout": "IPY_MODEL_97ecef4443b7457881598d18a776684c",
            "max": 466247,
            "min": 0,
            "orientation": "horizontal",
            "style": "IPY_MODEL_e25c8c4ef0424964a5b9146b52c3579a",
            "value": 466247
          }
        },
        "ed7caff761334411b232e77b408b5dc0": {
          "model_module": "@jupyter-widgets/base",
          "model_module_version": "1.2.0",
          "model_name": "LayoutModel",
          "state": {
            "_model_module": "@jupyter-widgets/base",
            "_model_module_version": "1.2.0",
            "_model_name": "LayoutModel",
            "_view_count": null,
            "_view_module": "@jupyter-widgets/base",
            "_view_module_version": "1.2.0",
            "_view_name": "LayoutView",
            "align_content": null,
            "align_items": null,
            "align_self": null,
            "border": null,
            "bottom": null,
            "display": null,
            "flex": null,
            "flex_flow": null,
            "grid_area": null,
            "grid_auto_columns": null,
            "grid_auto_flow": null,
            "grid_auto_rows": null,
            "grid_column": null,
            "grid_gap": null,
            "grid_row": null,
            "grid_template_areas": null,
            "grid_template_columns": null,
            "grid_template_rows": null,
            "height": null,
            "justify_content": null,
            "justify_items": null,
            "left": null,
            "margin": null,
            "max_height": null,
            "max_width": null,
            "min_height": null,
            "min_width": null,
            "object_fit": null,
            "object_position": null,
            "order": null,
            "overflow": null,
            "overflow_x": null,
            "overflow_y": null,
            "padding": null,
            "right": null,
            "top": null,
            "visibility": null,
            "width": null
          }
        },
        "f191c04d06494387a341a6efb3ac5a3e": {
          "model_module": "@jupyter-widgets/base",
          "model_module_version": "1.2.0",
          "model_name": "LayoutModel",
          "state": {
            "_model_module": "@jupyter-widgets/base",
            "_model_module_version": "1.2.0",
            "_model_name": "LayoutModel",
            "_view_count": null,
            "_view_module": "@jupyter-widgets/base",
            "_view_module_version": "1.2.0",
            "_view_name": "LayoutView",
            "align_content": null,
            "align_items": null,
            "align_self": null,
            "border": null,
            "bottom": null,
            "display": null,
            "flex": null,
            "flex_flow": null,
            "grid_area": null,
            "grid_auto_columns": null,
            "grid_auto_flow": null,
            "grid_auto_rows": null,
            "grid_column": null,
            "grid_gap": null,
            "grid_row": null,
            "grid_template_areas": null,
            "grid_template_columns": null,
            "grid_template_rows": null,
            "height": null,
            "justify_content": null,
            "justify_items": null,
            "left": null,
            "margin": null,
            "max_height": null,
            "max_width": null,
            "min_height": null,
            "min_width": null,
            "object_fit": null,
            "object_position": null,
            "order": null,
            "overflow": null,
            "overflow_x": null,
            "overflow_y": null,
            "padding": null,
            "right": null,
            "top": null,
            "visibility": null,
            "width": null
          }
        },
        "f1e5c3908ccd444f805bc3b4ad124606": {
          "model_module": "@jupyter-widgets/base",
          "model_module_version": "1.2.0",
          "model_name": "LayoutModel",
          "state": {
            "_model_module": "@jupyter-widgets/base",
            "_model_module_version": "1.2.0",
            "_model_name": "LayoutModel",
            "_view_count": null,
            "_view_module": "@jupyter-widgets/base",
            "_view_module_version": "1.2.0",
            "_view_name": "LayoutView",
            "align_content": null,
            "align_items": null,
            "align_self": null,
            "border": null,
            "bottom": null,
            "display": null,
            "flex": null,
            "flex_flow": null,
            "grid_area": null,
            "grid_auto_columns": null,
            "grid_auto_flow": null,
            "grid_auto_rows": null,
            "grid_column": null,
            "grid_gap": null,
            "grid_row": null,
            "grid_template_areas": null,
            "grid_template_columns": null,
            "grid_template_rows": null,
            "height": null,
            "justify_content": null,
            "justify_items": null,
            "left": null,
            "margin": null,
            "max_height": null,
            "max_width": null,
            "min_height": null,
            "min_width": null,
            "object_fit": null,
            "object_position": null,
            "order": null,
            "overflow": null,
            "overflow_x": null,
            "overflow_y": null,
            "padding": null,
            "right": null,
            "top": null,
            "visibility": null,
            "width": null
          }
        },
        "f20345d97f314f688434695f4c8285f6": {
          "model_module": "@jupyter-widgets/controls",
          "model_module_version": "1.5.0",
          "model_name": "DescriptionStyleModel",
          "state": {
            "_model_module": "@jupyter-widgets/controls",
            "_model_module_version": "1.5.0",
            "_model_name": "DescriptionStyleModel",
            "_view_count": null,
            "_view_module": "@jupyter-widgets/base",
            "_view_module_version": "1.2.0",
            "_view_name": "StyleView",
            "description_width": ""
          }
        },
        "f2389939427f4c84b66549ef3f83db57": {
          "model_module": "@jupyter-widgets/controls",
          "model_module_version": "1.5.0",
          "model_name": "DescriptionStyleModel",
          "state": {
            "_model_module": "@jupyter-widgets/controls",
            "_model_module_version": "1.5.0",
            "_model_name": "DescriptionStyleModel",
            "_view_count": null,
            "_view_module": "@jupyter-widgets/base",
            "_view_module_version": "1.2.0",
            "_view_name": "StyleView",
            "description_width": ""
          }
        },
        "f320ae2bbe164cb099ad674c2af1e7ba": {
          "model_module": "@jupyter-widgets/controls",
          "model_module_version": "1.5.0",
          "model_name": "ProgressStyleModel",
          "state": {
            "_model_module": "@jupyter-widgets/controls",
            "_model_module_version": "1.5.0",
            "_model_name": "ProgressStyleModel",
            "_view_count": null,
            "_view_module": "@jupyter-widgets/base",
            "_view_module_version": "1.2.0",
            "_view_name": "StyleView",
            "bar_color": null,
            "description_width": ""
          }
        },
        "f52ce2909cb6406f93f8bd9c988d146f": {
          "model_module": "@jupyter-widgets/controls",
          "model_module_version": "1.5.0",
          "model_name": "ProgressStyleModel",
          "state": {
            "_model_module": "@jupyter-widgets/controls",
            "_model_module_version": "1.5.0",
            "_model_name": "ProgressStyleModel",
            "_view_count": null,
            "_view_module": "@jupyter-widgets/base",
            "_view_module_version": "1.2.0",
            "_view_name": "StyleView",
            "bar_color": null,
            "description_width": ""
          }
        },
        "f54313d5f5f041f68b1373195fdf8433": {
          "model_module": "@jupyter-widgets/base",
          "model_module_version": "1.2.0",
          "model_name": "LayoutModel",
          "state": {
            "_model_module": "@jupyter-widgets/base",
            "_model_module_version": "1.2.0",
            "_model_name": "LayoutModel",
            "_view_count": null,
            "_view_module": "@jupyter-widgets/base",
            "_view_module_version": "1.2.0",
            "_view_name": "LayoutView",
            "align_content": null,
            "align_items": null,
            "align_self": null,
            "border": null,
            "bottom": null,
            "display": null,
            "flex": null,
            "flex_flow": null,
            "grid_area": null,
            "grid_auto_columns": null,
            "grid_auto_flow": null,
            "grid_auto_rows": null,
            "grid_column": null,
            "grid_gap": null,
            "grid_row": null,
            "grid_template_areas": null,
            "grid_template_columns": null,
            "grid_template_rows": null,
            "height": null,
            "justify_content": null,
            "justify_items": null,
            "left": null,
            "margin": null,
            "max_height": null,
            "max_width": null,
            "min_height": null,
            "min_width": null,
            "object_fit": null,
            "object_position": null,
            "order": null,
            "overflow": null,
            "overflow_x": null,
            "overflow_y": null,
            "padding": null,
            "right": null,
            "top": null,
            "visibility": null,
            "width": null
          }
        },
        "f937dcd3a405422ea983dce13f6395ab": {
          "model_module": "@jupyter-widgets/controls",
          "model_module_version": "1.5.0",
          "model_name": "FloatProgressModel",
          "state": {
            "_dom_classes": [],
            "_model_module": "@jupyter-widgets/controls",
            "_model_module_version": "1.5.0",
            "_model_name": "FloatProgressModel",
            "_view_count": null,
            "_view_module": "@jupyter-widgets/controls",
            "_view_module_version": "1.5.0",
            "_view_name": "ProgressView",
            "bar_style": "success",
            "description": "",
            "description_tooltip": null,
            "layout": "IPY_MODEL_7c8a601f73a2428b8cf8d3821a22d8d7",
            "max": 350,
            "min": 0,
            "orientation": "horizontal",
            "style": "IPY_MODEL_1f2f8bc0f3064bb3a0265fcc4ea01fe2",
            "value": 350
          }
        },
        "f9dc761be6c44d21aecb8f69134b4f5c": {
          "model_module": "@jupyter-widgets/controls",
          "model_module_version": "1.5.0",
          "model_name": "DescriptionStyleModel",
          "state": {
            "_model_module": "@jupyter-widgets/controls",
            "_model_module_version": "1.5.0",
            "_model_name": "DescriptionStyleModel",
            "_view_count": null,
            "_view_module": "@jupyter-widgets/base",
            "_view_module_version": "1.2.0",
            "_view_name": "StyleView",
            "description_width": ""
          }
        },
        "f9e5fc4e283a49d48d6fb709c50df4b8": {
          "model_module": "@jupyter-widgets/controls",
          "model_module_version": "1.5.0",
          "model_name": "HTMLModel",
          "state": {
            "_dom_classes": [],
            "_model_module": "@jupyter-widgets/controls",
            "_model_module_version": "1.5.0",
            "_model_name": "HTMLModel",
            "_view_count": null,
            "_view_module": "@jupyter-widgets/controls",
            "_view_module_version": "1.5.0",
            "_view_name": "HTMLView",
            "description": "",
            "description_tooltip": null,
            "layout": "IPY_MODEL_532a4c4de36e424ea512cf7e8ca33d0c",
            "placeholder": "​",
            "style": "IPY_MODEL_f2389939427f4c84b66549ef3f83db57",
            "value": "tokenizer_config.json: 100%"
          }
        },
        "fa71f8729a36491ba2c3326c0935497c": {
          "model_module": "@jupyter-widgets/controls",
          "model_module_version": "1.5.0",
          "model_name": "ProgressStyleModel",
          "state": {
            "_model_module": "@jupyter-widgets/controls",
            "_model_module_version": "1.5.0",
            "_model_name": "ProgressStyleModel",
            "_view_count": null,
            "_view_module": "@jupyter-widgets/base",
            "_view_module_version": "1.2.0",
            "_view_name": "StyleView",
            "bar_color": null,
            "description_width": ""
          }
        },
        "fa72af67782b45fcb7835db8bc580c02": {
          "model_module": "@jupyter-widgets/base",
          "model_module_version": "1.2.0",
          "model_name": "LayoutModel",
          "state": {
            "_model_module": "@jupyter-widgets/base",
            "_model_module_version": "1.2.0",
            "_model_name": "LayoutModel",
            "_view_count": null,
            "_view_module": "@jupyter-widgets/base",
            "_view_module_version": "1.2.0",
            "_view_name": "LayoutView",
            "align_content": null,
            "align_items": null,
            "align_self": null,
            "border": null,
            "bottom": null,
            "display": null,
            "flex": null,
            "flex_flow": null,
            "grid_area": null,
            "grid_auto_columns": null,
            "grid_auto_flow": null,
            "grid_auto_rows": null,
            "grid_column": null,
            "grid_gap": null,
            "grid_row": null,
            "grid_template_areas": null,
            "grid_template_columns": null,
            "grid_template_rows": null,
            "height": null,
            "justify_content": null,
            "justify_items": null,
            "left": null,
            "margin": null,
            "max_height": null,
            "max_width": null,
            "min_height": null,
            "min_width": null,
            "object_fit": null,
            "object_position": null,
            "order": null,
            "overflow": null,
            "overflow_x": null,
            "overflow_y": null,
            "padding": null,
            "right": null,
            "top": null,
            "visibility": null,
            "width": null
          }
        },
        "fae1ffd8624d466c882312f37d352118": {
          "model_module": "@jupyter-widgets/controls",
          "model_module_version": "1.5.0",
          "model_name": "HBoxModel",
          "state": {
            "_dom_classes": [],
            "_model_module": "@jupyter-widgets/controls",
            "_model_module_version": "1.5.0",
            "_model_name": "HBoxModel",
            "_view_count": null,
            "_view_module": "@jupyter-widgets/controls",
            "_view_module_version": "1.5.0",
            "_view_name": "HBoxView",
            "box_style": "",
            "children": [
              "IPY_MODEL_9efadcb2299a443eba42ff43529d9f61",
              "IPY_MODEL_f937dcd3a405422ea983dce13f6395ab",
              "IPY_MODEL_027901dbfb3c4cbaab85375655cc9c24"
            ],
            "layout": "IPY_MODEL_f191c04d06494387a341a6efb3ac5a3e"
          }
        },
        "fda68d6f92a748b7b409c91d809227aa": {
          "model_module": "@jupyter-widgets/base",
          "model_module_version": "1.2.0",
          "model_name": "LayoutModel",
          "state": {
            "_model_module": "@jupyter-widgets/base",
            "_model_module_version": "1.2.0",
            "_model_name": "LayoutModel",
            "_view_count": null,
            "_view_module": "@jupyter-widgets/base",
            "_view_module_version": "1.2.0",
            "_view_name": "LayoutView",
            "align_content": null,
            "align_items": null,
            "align_self": null,
            "border": null,
            "bottom": null,
            "display": null,
            "flex": null,
            "flex_flow": null,
            "grid_area": null,
            "grid_auto_columns": null,
            "grid_auto_flow": null,
            "grid_auto_rows": null,
            "grid_column": null,
            "grid_gap": null,
            "grid_row": null,
            "grid_template_areas": null,
            "grid_template_columns": null,
            "grid_template_rows": null,
            "height": null,
            "justify_content": null,
            "justify_items": null,
            "left": null,
            "margin": null,
            "max_height": null,
            "max_width": null,
            "min_height": null,
            "min_width": null,
            "object_fit": null,
            "object_position": null,
            "order": null,
            "overflow": null,
            "overflow_x": null,
            "overflow_y": null,
            "padding": null,
            "right": null,
            "top": null,
            "visibility": null,
            "width": null
          }
        },
        "ff3a5ab40c4047bca54c8ffed1e36414": {
          "model_module": "@jupyter-widgets/base",
          "model_module_version": "1.2.0",
          "model_name": "LayoutModel",
          "state": {
            "_model_module": "@jupyter-widgets/base",
            "_model_module_version": "1.2.0",
            "_model_name": "LayoutModel",
            "_view_count": null,
            "_view_module": "@jupyter-widgets/base",
            "_view_module_version": "1.2.0",
            "_view_name": "LayoutView",
            "align_content": null,
            "align_items": null,
            "align_self": null,
            "border": null,
            "bottom": null,
            "display": null,
            "flex": null,
            "flex_flow": null,
            "grid_area": null,
            "grid_auto_columns": null,
            "grid_auto_flow": null,
            "grid_auto_rows": null,
            "grid_column": null,
            "grid_gap": null,
            "grid_row": null,
            "grid_template_areas": null,
            "grid_template_columns": null,
            "grid_template_rows": null,
            "height": null,
            "justify_content": null,
            "justify_items": null,
            "left": null,
            "margin": null,
            "max_height": null,
            "max_width": null,
            "min_height": null,
            "min_width": null,
            "object_fit": null,
            "object_position": null,
            "order": null,
            "overflow": null,
            "overflow_x": null,
            "overflow_y": null,
            "padding": null,
            "right": null,
            "top": null,
            "visibility": null,
            "width": null
          }
        },
        "ff6c37ebf7814e14abce4209a4b078f3": {
          "model_module": "@jupyter-widgets/controls",
          "model_module_version": "1.5.0",
          "model_name": "HTMLModel",
          "state": {
            "_dom_classes": [],
            "_model_module": "@jupyter-widgets/controls",
            "_model_module_version": "1.5.0",
            "_model_name": "HTMLModel",
            "_view_count": null,
            "_view_module": "@jupyter-widgets/controls",
            "_view_module_version": "1.5.0",
            "_view_name": "HTMLView",
            "description": "",
            "description_tooltip": null,
            "layout": "IPY_MODEL_cd291e9d30054dcfa173fccd6d7a403f",
            "placeholder": "​",
            "style": "IPY_MODEL_cc584e2558564eeebcdb6822802f832d",
            "value": "train.jsonl: 100%"
          }
        },
        "ffad548fccb446c5b42458eb6d291654": {
          "model_module": "@jupyter-widgets/base",
          "model_module_version": "1.2.0",
          "model_name": "LayoutModel",
          "state": {
            "_model_module": "@jupyter-widgets/base",
            "_model_module_version": "1.2.0",
            "_model_name": "LayoutModel",
            "_view_count": null,
            "_view_module": "@jupyter-widgets/base",
            "_view_module_version": "1.2.0",
            "_view_name": "LayoutView",
            "align_content": null,
            "align_items": null,
            "align_self": null,
            "border": null,
            "bottom": null,
            "display": null,
            "flex": null,
            "flex_flow": null,
            "grid_area": null,
            "grid_auto_columns": null,
            "grid_auto_flow": null,
            "grid_auto_rows": null,
            "grid_column": null,
            "grid_gap": null,
            "grid_row": null,
            "grid_template_areas": null,
            "grid_template_columns": null,
            "grid_template_rows": null,
            "height": null,
            "justify_content": null,
            "justify_items": null,
            "left": null,
            "margin": null,
            "max_height": null,
            "max_width": null,
            "min_height": null,
            "min_width": null,
            "object_fit": null,
            "object_position": null,
            "order": null,
            "overflow": null,
            "overflow_x": null,
            "overflow_y": null,
            "padding": null,
            "right": null,
            "top": null,
            "visibility": null,
            "width": null
          }
        }
      }
    }
  },
  "nbformat": 4,
  "nbformat_minor": 0
}
